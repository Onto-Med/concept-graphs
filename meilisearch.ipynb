{
 "cells": [
  {
   "cell_type": "code",
   "id": "initial_id",
   "metadata": {
    "collapsed": true,
    "ExecuteTime": {
     "end_time": "2025-04-14T07:24:29.410271Z",
     "start_time": "2025-04-14T07:24:27.921192Z"
    }
   },
   "source": [
    "import meilisearch\n",
    "import json\n",
    "import sys\n",
    "import pathlib\n",
    "import pickle\n",
    "import ollama\n",
    "import uuid\n",
    "\n",
    "import networkx as nx\n",
    "import numpy as np\n",
    "\n",
    "from typing import List\n",
    "from collections import defaultdict"
   ],
   "outputs": [],
   "execution_count": 6
  },
  {
   "metadata": {
    "ExecuteTime": {
     "end_time": "2025-04-15T10:23:17.558842Z",
     "start_time": "2025-04-15T10:23:17.510173Z"
    }
   },
   "cell_type": "code",
   "source": [
    "# pip install langchain-huggingface sentence_transformers\n",
    "from langchain_huggingface import HuggingFaceEmbeddings\n",
    "# pip install langchain-community\n",
    "from langchain_community.vectorstores import Meilisearch\n",
    "# pip install langchain-ollama\n",
    "from langchain_ollama.llms import OllamaLLM"
   ],
   "id": "f05e5c0020a2eb61",
   "outputs": [],
   "execution_count": 114
  },
  {
   "metadata": {
    "ExecuteTime": {
     "end_time": "2025-04-14T07:25:03.011596Z",
     "start_time": "2025-04-14T07:24:31.816248Z"
    }
   },
   "cell_type": "code",
   "source": [
    "sys.path.insert(0, \"src\")\n",
    "from data_functions import DataProcessingFactory\n",
    "from cluster_functions import PhraseClusterFactory, WordEmbeddingClustering\n",
    "from embedding_functions import SentenceEmbeddingsFactory, cosine"
   ],
   "id": "9b82910e3ef26013",
   "outputs": [
    {
     "name": "stderr",
     "output_type": "stream",
     "text": [
      "C:\\Users\\fra3066mat\\PycharmProjects\\concept-graphs\\src\\data_functions.py:14: TqdmWarning: IProgress not found. Please update jupyter and ipywidgets. See https://ipywidgets.readthedocs.io/en/stable/user_install.html\n",
      "  from tqdm.autonotebook import tqdm\n"
     ]
    },
    {
     "name": "stdout",
     "output_type": "stream",
     "text": [
      "WARNING:tensorflow:From C:\\Users\\fra3066mat\\.conda\\envs\\concept-graphs\\lib\\site-packages\\keras\\src\\losses.py:2976: The name tf.losses.sparse_softmax_cross_entropy is deprecated. Please use tf.compat.v1.losses.sparse_softmax_cross_entropy instead.\n",
      "\n"
     ]
    }
   ],
   "execution_count": 7
  },
  {
   "metadata": {},
   "cell_type": "markdown",
   "source": [
    "---\n",
    "#### Meilisearch Configuration"
   ],
   "id": "ad2bc7eebbe792b9"
  },
  {
   "metadata": {
    "ExecuteTime": {
     "end_time": "2025-04-17T07:41:52.739136Z",
     "start_time": "2025-04-17T07:41:52.719239Z"
    }
   },
   "cell_type": "code",
   "source": [
    "master_key = 'f8_g29iWsZn9334ofVKeDJ5qPbTHggrVAoJpHnhsyqs'\n",
    "client = meilisearch.Client('http://localhost:7700', master_key)\n",
    "index_grascco = client.index('grascco')\n",
    "index_grascco_manual = client.index('grascco_manual')"
   ],
   "id": "9571a2441fe3f590",
   "outputs": [],
   "execution_count": 147
  },
  {
   "metadata": {
    "ExecuteTime": {
     "end_time": "2025-04-17T07:41:09.279061Z",
     "start_time": "2025-04-17T07:41:09.248881Z"
    }
   },
   "cell_type": "code",
   "source": "index_grascco_manual.delete()",
   "id": "e182a4851f697599",
   "outputs": [
    {
     "data": {
      "text/plain": [
       "TaskInfo(task_uid=154, index_uid='grascco_manual', status='enqueued', type='indexDeletion', enqueued_at=datetime.datetime(2025, 4, 17, 7, 41, 9, 292369))"
      ]
     },
     "execution_count": 146,
     "metadata": {},
     "output_type": "execute_result"
    }
   ],
   "execution_count": 146
  },
  {
   "metadata": {
    "ExecuteTime": {
     "end_time": "2025-04-17T07:41:57.319595Z",
     "start_time": "2025-04-17T07:41:57.298620Z"
    }
   },
   "cell_type": "code",
   "source": [
    "index_grascco_manual.update_filterable_attributes(\n",
    "    [\"metadata\"]\n",
    ")"
   ],
   "id": "e938093b831425ea",
   "outputs": [
    {
     "data": {
      "text/plain": [
       "TaskInfo(task_uid=155, index_uid='grascco_manual', status='enqueued', type='settingsUpdate', enqueued_at=datetime.datetime(2025, 4, 17, 7, 41, 57, 342196))"
      ]
     },
     "execution_count": 148,
     "metadata": {},
     "output_type": "execute_result"
    }
   ],
   "execution_count": 148
  },
  {
   "metadata": {
    "ExecuteTime": {
     "end_time": "2025-04-17T07:42:44.409576Z",
     "start_time": "2025-04-17T07:42:44.380532Z"
    }
   },
   "cell_type": "code",
   "source": [
    "index_grascco_manual.update_distinct_attribute(\n",
    "    \"metadata.document_id\"\n",
    ")"
   ],
   "id": "b74a946fade2fd32",
   "outputs": [
    {
     "data": {
      "text/plain": [
       "TaskInfo(task_uid=156, index_uid='grascco_manual', status='enqueued', type='settingsUpdate', enqueued_at=datetime.datetime(2025, 4, 17, 7, 42, 44, 422423))"
      ]
     },
     "execution_count": 149,
     "metadata": {},
     "output_type": "execute_result"
    }
   ],
   "execution_count": 149
  },
  {
   "metadata": {
    "ExecuteTime": {
     "end_time": "2025-04-11T13:57:01.246889Z",
     "start_time": "2025-04-11T13:57:01.225258Z"
    }
   },
   "cell_type": "code",
   "source": [
    "index_grascco.update_settings(\n",
    "    {\n",
    "        \"distinctAttribute\": \"document_id\",\n",
    "        \"searchableAttributes\": [\n",
    "            \"text\"\n",
    "        ],\n",
    "    }\n",
    ")"
   ],
   "id": "bab850e3b8a01b1",
   "outputs": [
    {
     "data": {
      "text/plain": [
       "TaskInfo(task_uid=128, index_uid='grascco', status='enqueued', type='settingsUpdate', enqueued_at=datetime.datetime(2025, 4, 11, 13, 57, 1, 251390))"
      ]
     },
     "execution_count": 90,
     "metadata": {},
     "output_type": "execute_result"
    }
   ],
   "execution_count": 90
  },
  {
   "metadata": {
    "ExecuteTime": {
     "end_time": "2025-04-11T13:25:29.447279Z",
     "start_time": "2025-04-11T13:25:29.417161Z"
    }
   },
   "cell_type": "code",
   "source": [
    "index_grascco.update_embedders(\n",
    "    {\n",
    "        \"grascco_ollama\": {\n",
    "            \"source\": \"ollama\",\n",
    "            \"url\": \"http://172.25.0.2:11434/api/embed\",\n",
    "            \"model\": \"nomic-embed-text\",\n",
    "            \"documentTemplate\": \"{{doc.phrases}}\"\n",
    "        }\n",
    "    }\n",
    ")"
   ],
   "id": "914a7057a7eca3a",
   "outputs": [
    {
     "data": {
      "text/plain": [
       "TaskInfo(task_uid=125, index_uid='grascco', status='enqueued', type='settingsUpdate', enqueued_at=datetime.datetime(2025, 4, 11, 13, 25, 29, 448550))"
      ]
     },
     "execution_count": 78,
     "metadata": {},
     "output_type": "execute_result"
    }
   ],
   "execution_count": 78
  },
  {
   "metadata": {},
   "cell_type": "markdown",
   "source": "---",
   "id": "8abd30792ad86360"
  },
  {
   "metadata": {
    "ExecuteTime": {
     "end_time": "2025-04-14T07:39:38.911172Z",
     "start_time": "2025-04-14T07:39:35.148510Z"
    }
   },
   "cell_type": "code",
   "source": [
    "meili_embeddings = HuggingFaceEmbeddings(\n",
    "    model_name=\"Sahajtomar/German-semantic\",\n",
    "    model_kwargs={\n",
    "        'device': 'cpu'\n",
    "    },\n",
    "    encode_kwargs={\n",
    "        'normalize_embeddings': False\n",
    "    },\n",
    ")"
   ],
   "id": "edf03ae72d7eb655",
   "outputs": [
    {
     "name": "stderr",
     "output_type": "stream",
     "text": [
      "INFO:sentence_transformers.SentenceTransformer:Load pretrained SentenceTransformer: Sahajtomar/German-semantic\n"
     ]
    }
   ],
   "execution_count": 10
  },
  {
   "metadata": {
    "ExecuteTime": {
     "end_time": "2025-04-14T08:20:13.204402Z",
     "start_time": "2025-04-14T08:20:13.179802Z"
    }
   },
   "cell_type": "code",
   "source": [
    "embedder_name = \"grascco_german_semantic\"\n",
    "meili_embedders = {\n",
    "    embedder_name: {\n",
    "        \"source\": \"userProvided\",\n",
    "        \"dimensions\": 1024\n",
    "    }\n",
    "}"
   ],
   "id": "86490d93e9354580",
   "outputs": [],
   "execution_count": 23
  },
  {
   "metadata": {},
   "cell_type": "markdown",
   "source": [
    "---\n",
    "#### Concept Graphs Load Objects & Build Meilisearch Documents"
   ],
   "id": "1453e60a3325d459"
  },
  {
   "metadata": {
    "ExecuteTime": {
     "end_time": "2025-04-15T08:11:58.853618Z",
     "start_time": "2025-04-15T08:11:58.810265Z"
    }
   },
   "cell_type": "code",
   "source": [
    "def meili_doc_generator(data_obj: DataProcessingFactory.DataProcessing, graph_list: List[nx.Graph], language: str = 'de', phrases_as_list: bool = False, exclude_graphs: list = None):\n",
    "    _format_dict = lambda p,l:  {'de': f'Die relevanten Phrasen in diesem Dokument sind {\" und \".join(p)}.'}.get(l if len(p) > 0 else \"unknown\", \"Es gibt keine relevanten Phrasen in diesem Dokument.\")\n",
    "    doc_id_2_phrases = defaultdict(dict)\n",
    "    doc_id_2_graphs = defaultdict(set)\n",
    "    for i in range(len(graph_list)):\n",
    "        if (i is not None) and (i in exclude_graphs): continue\n",
    "        for n, n_dict in graphs[i].nodes(data=True):\n",
    "            _label = n_dict['label']\n",
    "            for doc_dict in n_dict['documents']:\n",
    "                _id = doc_dict['id']\n",
    "                for offset in doc_dict['offsets']:\n",
    "                    doc_id_2_phrases[_id][offset] = _label\n",
    "                doc_id_2_graphs[_id].add(i)\n",
    "    _doc_id = None\n",
    "    _db_doc_id = None\n",
    "    _part = 0\n",
    "    for i, doc_part in enumerate(data_obj.processed_docs):\n",
    "        _current_doc_id = doc_part._.doc_id\n",
    "        _offset = (doc_part._.offset_in_doc, doc_part._.offset_in_doc + len(str(doc_part)),)\n",
    "        _phrases = []\n",
    "        for o, label in doc_id_2_phrases[_current_doc_id].items():\n",
    "            if o[0] >= _offset[0] and o[1] <= _offset[1]:\n",
    "                _phrases.append(label)\n",
    "        if _doc_id != _current_doc_id:\n",
    "            _doc_id = _current_doc_id\n",
    "            _db_doc_id = str(uuid.uuid4())\n",
    "            _part = 0\n",
    "        _json = {\n",
    "            \"document_id\": _db_doc_id,\n",
    "            \"id\": f\"{_db_doc_id}-{_part}\",\n",
    "            \"name\": doc_part._.doc_name,\n",
    "            \"text\": str(doc_part),\n",
    "            \"graphs\": list(doc_id_2_graphs[_doc_id]),\n",
    "        }\n",
    "        _part += 1\n",
    "        if phrases_as_list:\n",
    "            _json[\"phrases\"] = _phrases\n",
    "        else:\n",
    "            _json[\"phrases\"] = _format_dict(['\"' + p + '\"' for p in _phrases], language)\n",
    "        yield _json"
   ],
   "id": "f7353cfb91b44c0a",
   "outputs": [],
   "execution_count": 65
  },
  {
   "metadata": {
    "ExecuteTime": {
     "end_time": "2025-04-14T08:15:26.536364Z",
     "start_time": "2025-04-14T08:15:26.505099Z"
    }
   },
   "cell_type": "code",
   "source": [
    "# process_name = \"top_default_text_source_stem\"\n",
    "process_name = \"grascco_lokal\"\n",
    "base_path = pathlib.Path(\"tmp\") / pathlib.Path(process_name)"
   ],
   "id": "ffe14446112d7158",
   "outputs": [],
   "execution_count": 15
  },
  {
   "metadata": {
    "ExecuteTime": {
     "end_time": "2025-04-14T08:15:30.547767Z",
     "start_time": "2025-04-14T08:15:27.656590Z"
    }
   },
   "cell_type": "code",
   "source": [
    "data_path = base_path / pathlib.Path(f\"{process_name}_data\")\n",
    "data: DataProcessingFactory.DataProcessing = DataProcessingFactory.load(data_path)"
   ],
   "id": "d1a8213d54d45d98",
   "outputs": [],
   "execution_count": 16
  },
  {
   "metadata": {
    "ExecuteTime": {
     "end_time": "2025-04-14T08:15:36.712154Z",
     "start_time": "2025-04-14T08:15:30.547767Z"
    }
   },
   "cell_type": "code",
   "source": [
    "embedding_path = base_path / pathlib.Path(f\"{process_name}_embedding\")\n",
    "embeddings: SentenceEmbeddingsFactory.SentenceEmbeddings = SentenceEmbeddingsFactory.load(data_path, embedding_path)"
   ],
   "id": "ecb7843b6e9400a3",
   "outputs": [],
   "execution_count": 17
  },
  {
   "metadata": {
    "ExecuteTime": {
     "end_time": "2025-04-14T08:15:40.470923Z",
     "start_time": "2025-04-14T08:15:36.732434Z"
    }
   },
   "cell_type": "code",
   "source": [
    "clustering_path = base_path / pathlib.Path(f\"{process_name}_clustering\")\n",
    "clustering: PhraseClusterFactory.PhraseCluster = PhraseClusterFactory.load(clustering_path)"
   ],
   "id": "edd3444a9167afdb",
   "outputs": [],
   "execution_count": 18
  },
  {
   "metadata": {
    "ExecuteTime": {
     "end_time": "2025-04-14T08:15:40.502180Z",
     "start_time": "2025-04-14T08:15:40.486549Z"
    }
   },
   "cell_type": "code",
   "source": [
    "# top_default_text_source_stem exclude graphs: 1, 2, 9, 12, 18, 20\n",
    "graph_path = base_path / pathlib.Path(f\"{process_name}_graph.pickle\")\n",
    "graphs: List[nx.Graph] = pickle.load(open(graph_path, \"rb\"))"
   ],
   "id": "eea858bf18c1cfdd",
   "outputs": [],
   "execution_count": 19
  },
  {
   "metadata": {},
   "cell_type": "markdown",
   "source": "---",
   "id": "a27b554a1a90eac7"
  },
  {
   "metadata": {
    "ExecuteTime": {
     "end_time": "2025-04-15T08:11:26.753118Z",
     "start_time": "2025-04-15T08:11:26.726088Z"
    }
   },
   "cell_type": "code",
   "source": "index_grascco_manual.delete()",
   "id": "6a52e615d3423a29",
   "outputs": [
    {
     "data": {
      "text/plain": [
       "TaskInfo(task_uid=149, index_uid='grascco_manual', status='enqueued', type='indexDeletion', enqueued_at=datetime.datetime(2025, 4, 15, 8, 11, 26, 749985))"
      ]
     },
     "execution_count": 64,
     "metadata": {},
     "output_type": "execute_result"
    }
   ],
   "execution_count": 64
  },
  {
   "metadata": {
    "ExecuteTime": {
     "end_time": "2025-04-17T07:49:43.111943Z",
     "start_time": "2025-04-17T07:46:40.090989Z"
    }
   },
   "cell_type": "code",
   "source": [
    "from itertools import tee\n",
    "iters = tee(meili_doc_generator(data, graphs, exclude_graphs=[1, 2, 9, 12, 18, 20], phrases_as_list=True), 3)\n",
    "vectorstore = Meilisearch.from_texts(\n",
    "    texts=[(\" AND \".join(d[\"phrases\"]) if d[\"phrases\"] else d[\"text\"]) for d in iters[0]],\n",
    "    metadatas=[\n",
    "        {\n",
    "            \"document_id\": d[\"document_id\"],\n",
    "            \"name\": d[\"name\"],\n",
    "            \"original_text\": d[\"text\"],\n",
    "            \"graphs\": d[\"graphs\"],\n",
    "        } for d in iters[1]\n",
    "    ],\n",
    "    ids=[d[\"id\"] for d in iters[2]],\n",
    "    embedding=meili_embeddings,\n",
    "    embedders=meili_embedders,\n",
    "    embedder_name=embedder_name,\n",
    "    client=client,\n",
    "    index_name=\"grascco_manual\"\n",
    ")"
   ],
   "id": "5a6248b90d33bce9",
   "outputs": [],
   "execution_count": 150
  },
  {
   "metadata": {},
   "cell_type": "code",
   "outputs": [],
   "execution_count": null,
   "source": "",
   "id": "1e257a9eb4a3e589"
  },
  {
   "metadata": {
    "ExecuteTime": {
     "end_time": "2025-04-17T07:51:09.058143Z",
     "start_time": "2025-04-17T07:51:08.892532Z"
    }
   },
   "cell_type": "code",
   "source": [
    "# query = \"Welche Krankheit korreliert oft mit einer Psychose?\"\n",
    "query = \"Welche Verbrennung hat Frau Albers?\"\n",
    "result = vectorstore.similarity_search_with_score(\n",
    "    query=query,\n",
    "    embedder_name=embedder_name,\n",
    "    k=5\n",
    ")\n",
    "doc_ids = set(d[0].metadata[\"document_id\"] for d in result)"
   ],
   "id": "a33e9dd06ed9286c",
   "outputs": [],
   "execution_count": 151
  },
  {
   "metadata": {
    "ExecuteTime": {
     "end_time": "2025-04-17T07:51:15.492542Z",
     "start_time": "2025-04-17T07:51:15.392308Z"
    }
   },
   "cell_type": "code",
   "source": [
    "doc_results = []\n",
    "_offset = 0\n",
    "while True:\n",
    "    doc_result = index_grascco_manual.get_documents(\n",
    "        {\n",
    "            \"filter\": f\"metadata.document_id IN {list(doc_ids)}\",\n",
    "            \"offset\": _offset,\n",
    "        }\n",
    "    )\n",
    "    doc_results.extend(doc_result.results)\n",
    "    _offset += doc_result.limit\n",
    "    if _offset >= doc_result.total:\n",
    "        break"
   ],
   "id": "45a23374f0f04a15",
   "outputs": [],
   "execution_count": 152
  },
  {
   "metadata": {
    "ExecuteTime": {
     "end_time": "2025-04-17T07:51:22.067932Z",
     "start_time": "2025-04-17T07:51:22.052325Z"
    }
   },
   "cell_type": "code",
   "source": [
    "_running_id = None\n",
    "_first_doc_part = True\n",
    "_contexts = []\n",
    "for d in doc_results:\n",
    "    _doc_id = d.metadata[\"document_id\"]\n",
    "    if _running_id is not None and _running_id != _doc_id:\n",
    "        _contexts.append(\"\\n\\n---\\n\\n\")\n",
    "        _first_doc_part = True\n",
    "    if _first_doc_part:\n",
    "        _contexts.append(f\"Dokument-Name: {d.metadata['name']}\")\n",
    "        _first_doc_part = False\n",
    "    _running_id = _doc_id\n",
    "    if d.metadata[\"text\"] != '':\n",
    "        # _contexts.append(\"Wichtiger Absatz:\")\n",
    "        _contexts.append(d.metadata[\"original_text\"])\n",
    "context = \"\\n\".join(_contexts)"
   ],
   "id": "baf547c8747f00f7",
   "outputs": [],
   "execution_count": 153
  },
  {
   "metadata": {
    "ExecuteTime": {
     "end_time": "2025-04-17T08:00:33.105059Z",
     "start_time": "2025-04-17T07:51:24.632305Z"
    }
   },
   "cell_type": "code",
   "source": [
    "from langchain.chains import RetrievalQA\n",
    "from langchain.chains.llm import LLMChain\n",
    "from langchain.prompts import PromptTemplate\n",
    "\n",
    "llm = OllamaLLM(model=\"mistral\", base_url=\"http://localhost:7701\", num_ctx=4096)\n",
    "\n",
    "prompt = \"\"\"\n",
    "1. Benutze den folgenden Kontext um die Antwort auf die Frage am Ende zu finden.\n",
    "2. Bitte erfinde keine Antworten wenn du etwas nicht weißt, sondern antworte mit 'Das kann ich aus den Texten nicht herausfinden.'\n",
    "3. Du kannst wenn notwendig den Dokument-Namen mit ausgeben, der nach 'Dokument-Name' steht.\n",
    "4. Halte die Antwort kurz und präzise mit etwa 3,4 Sätzen.\n",
    "\n",
    "Kontext: {context}\n",
    "\n",
    "Frage: {question}\n",
    "\n",
    "Hilfreiche Antwort:\"\"\"\n",
    "\n",
    "PROMPT_FROM_TEMPLATE = PromptTemplate.from_template(prompt)\n",
    "\n",
    "llm_chain = LLMChain(\n",
    "    llm=llm,\n",
    "    prompt=PROMPT_FROM_TEMPLATE,\n",
    "    callbacks=None,\n",
    "    verbose=True,\n",
    ")\n",
    "response = llm_chain.run(context=context, question=query)"
   ],
   "id": "6b17d438ac70f775",
   "outputs": [
    {
     "name": "stdout",
     "output_type": "stream",
     "text": [
      "\n",
      "\n",
      "\u001B[1m> Entering new LLMChain chain...\u001B[0m\n",
      "Prompt after formatting:\n",
      "\u001B[32;1m\u001B[1;3m\n",
      "1. Benutze den folgenden Kontext um die Antwort auf die Frage am Ende zu finden.\n",
      "2. Bitte erfinde keine Antworten wenn du etwas nicht weißt, sondern antworte mit 'Das kann ich aus den Texten nicht herausfinden.'\n",
      "3. Du kannst wenn notwendig den Dokument-Namen mit ausgeben, der nach 'Dokument-Name' steht.\n",
      "4. Halte die Antwort kurz und präzise mit etwa 3,4 Sätzen.\n",
      "\n",
      "Kontext: Dokument-Name: Albers\n",
      "Werte Frau Kollegin, werter geehrter Herr Kollege!\n",
      "Wir berichten über lhre Patientin Beate Albers (* 4.4.1997), die sich vom 19.3. bis zum 7.5.2029 in unserer stat. Behandlung befand.\n",
      "Vorgeschichte Befund\n",
      "•\tVerbrennung 1. – 3. Grades, Kopf I Hals,5% v KOF \n",
      "•\tHandamputation LI\n",
      "•\tAkute Psychose aus dem schizophrenen Formenkreis \n",
      "•\tSelbstschädigung  \n",
      "•\tBlutungsanamie  \n",
      "•\tHypokaliämie  \n",
      "•\tArterieller Hypertonus\n",
      "•\tSymptomatisches Anfallsleiden seit 2007\n",
      "•\tSt.p.  Aneurysmablutung  \n",
      "•\tPassagerer Diabetes mellitus  \n",
      "19.03.2029: Handreplantaticm\n",
      "25.03.2029:  Revision \n",
      "27.03.2029: Nekrosektomie Kopf / Hals\n",
      "30.03.2029: Jet-Lavage, Debridement und VAG Wechsel linken Hand \n",
      "01.04.2029: Jet-Lavage, Debridement und VAG-Wechsel linke Hand \n",
      "6.04.2029: Nachdebridement am Kopf, VAG-Wechsel linke Hand\n",
      "07.04.2029: Weicliteildeckung mit Spalthautsheet und Keratinozytensprühsuspension\n",
      "15.04.2029: Debridement, Jet Lavage Lind VAC Wechsel linke Hand\n",
      "23.04.2029 Restdefektdeckung Kopf u. Hals (Sheets), Defektdeckung Handrücken\n",
      "06.05.2029 K-Draht-Entfernung Ii. Handgelenk\n",
      "Bei Frau Albers ist psychiatrischerseits eine Wahnvorstellung bekannt. Sie hatte sich zuhause die Ii. Hand selbst amputiert und sich das Haupthaar angezündet. Sie informierte telefonfach eine Freundin, die direkt den Rettungsdienst alarmierte. Lt. Protokoll öffnete die Patientin selbst die Tür und hielt die abgetrennte Hand. Sie wurde darauf umgehend in die Rettungsstelle unseres Zentrums verbracht. Bei Aufnahme zeigte sich klinisch und radiologisch eine komplette Amputation der linken Hand. Beide Ohren sowie insbesondere die re. Hals-/Nackenregion waren ll bis Ill gradig verbrannt. Das Kopf-CT zeigte keinen Nachweis frischer intrakranieller Traumafolgen bei Zustand nach osteoplastischer Trepanation der hinteren Schädelgrube links sowie rechts frontotemporal und nachweisbare  Gefa-Clips links infratentoriell im Bereich der linken A. vertebralis sowie im Bereich der A . cerebri media rechts.\n",
      "Verlauf\n",
      "Frau Albers wurde durch die Kollegen der Hand- u. Mikrochirurgischen Abteilung umgehend operativ versorgt. Die Hand konnte in einem die ganze Nacht dauerndem Eingriff replantiert werden. Ein streckseitiger WT-Defekt wurde temporär mit Vacuseal gedeckt. Die verbrannten Areale wurden zunächst antiseptisch mit Lavaseptgelverbänden versorgt. Anschließend wurde Frau Albers intuobiert und beatmet auf die lntensivstation des Brandverletztenzentrums aufgenommen.\n",
      "Am 25.03.2029 erfolgte eine Wundrevision mil Vacusealwechsel. Das Verbandsregime am Kopf wurde auf ein enzymatisches Debridement mit lruxolsalbe umgestellt. Ein erster debridierender Eingriff erfolgte am 27.03.2029.\n",
      "Ein erneutes Debridement  erfolgte bei weitgehend  sauberen Wunden am Kopf am 06.04.2029. Daraufhin konnte am 08.04.2029 die Defektdeckung am Kopf mit Keratinozytensprühsuspension und Spalthautsheets vorn linken Überschenkel erfolgen. Insgesamt sahen wir eine problemlose Einheilung der Transplantate. Lediglich am rechten retroauriculären Hals und an kleineren Arealen am Kopf musste im Verlauf am 23.04 2029 nochmals nachtransplantiert werden. Der Kopf mit Gesicht zeigt sich gegenwärtig bis auf kleinere Defekte abgeheilt. Die Entnahmestellen sind gänzlich reepithelisert. Im beharrten Teil des Kopfes sind multiple alopezische Areale verblieben, bei initial drittgradiger Verbrennungstiefe.\n",
      "Am 23.04.2029 erfolgte ebenfalls die Defektdeckung des mittlerweile sauber granulierenden Defektes am II. Handrücken mittels Spalthautsheet\n",
      "Die temporare Arthrodese im Handgelenk wurde am 06.05.2029 entfernt. Physio- bzw. ergotherapeutische Behandlung wurde begleitend durchgeführt.\n",
      "Intensivmedizinischer  Krankheitsverlauf:\n",
      "Die Patientin wurde vom  20.3.2029 bis zum 27.3.2029  zunächst  kontrolliert und  im weiteren Verlauf unter reduzierter Analgosedierung augmentiert maschinell beatmet. Bei FIüssigkeitseinlagerungen pulmonal und peripher unter der FIüssigkeitstherapie nach Baxter-Parkland Formel induzierten wir eine  forcierte Diurese mit Furosemid. Hierunter war die Oxygenierung im Verlauf suffizient. Die Entwöhnung vom  Respirator gelang problemlos. Frau Albers konnte am 27.3.2029 bei intakten Schutzreflexen extubiert werden . Seitdem  imponiert eine suffiziente Spontanatmung  mit einer peripheren Sauerstoffsättgung von 98%  unter Raumluft.\n",
      "Nach Beendigung der Analgosedierung imponierte ein mildes Entzugsdelir. das suffizient mit Clonidin behandlet werden konnte. Eine intermittierende psychotische Symptomatik therapierten wir zunächst mit Lorazepam (Tavor®) und Haloperidol (Haldol®). Im weiteren Verlauf wurde diese Medikation einschleichend durch Risperidon (Risperdal®) ersetzt. Die vorbestehende antiepileptische Medikation mit Levothiracetam (Keppra®) führten wir fort. Näheres bitten wir dem psychiatrischen Verlauf zu entnehmen.\n",
      "Nach Aufnahme strebten wir zunächst eine positive FIüssigkeitsbilanz an Die Diurese war unter FIüssigkeitstherapie unter Anlehnung an die Baxter-Parklandformel qualitativ und quantitativ suffizient. Im weiteren stationären Verlauf wurde eine antiödematöse Therapie mit Furosemid notwendig. Die Retentionsparameter lagen allzeit im Normbereich.\n",
      "Unter adäquater Volumentherapie zeigte sich die Patientin initial und im Weiteren hämodynamisch stabil. Nach Beendigung der Analgosedierung wurde bei arteriellem Hypertonus eine antihypertensive Therapie mit Metoprolol (Beloc zok mite®) und Ramipril (Delix®) begonnen. Hiermit gelang eine zufriedenstellende Blutdruckeinstellung.\n",
      "Unter Analgosedierung begannen wir die enterale Ernährung über die einliegende Magensonde. Nach Stimulation führte Frau Albers am 26.3.2029 zum ersten Mal ab. Nach Extubation gelang der orale Kostaufbau problemlos Die Patientin nimmt Wunschkost zu sich.\n",
      "Psychiatrischer Verlauf\n",
      "Fremdanamnestisch war von der Freundin und der ambulant behandelnden Ärztin für Psychiatrie und Psychotherapie zu erfahren, dass die Patientin bereits seit Anfang des Jahres akut psychotisch gewesen sei. Sie hatte die letzte antipsychotische Erhaltungsmedikation von 2 mg abgesetzt, die ambulant behandelnde Psychiaterin Frau Dr. Siewert wusste davon. Trotz häufiger telefonischer Kontakte mit der behandelnden Ärztin ließ sie sich nicht zu einer weiteren medikamentösen Therapie motivieren. Noch am Tag der Selbstverletzung war die besorgte Freundin mit ihr beim Sozialpsychiatrischen Dienst vorstellig gewesen. Da Frau Albers zu einer freiwilligen stationären Aufnahme nicht bereit war und keine Unterbringungsgründe vorlagen, war eine Vorstellung bei der ambulanten Psychiaterin vorgesehen. Auf dem Weg dorthin sei Frau Albers aus dem Taxi gesprungen und hatte sich zuhause o.g. Verletzungen zugefügt. Sie teilte dies telefonisch der Freundin mit, die daraufhin die Feuerwehr alarmierte.\n",
      "Initial fanden  sich erhebliche Denkstörungen. lnhaltlich klang Wahnerleben an, Gott zu sein. Sie erinnerte sich daran, sich die linke Hand mit dem Brotmesser abgeschnitten zu haben. Dies sei geschehen um das Böse in der Welt zu Sühnen. Sie war zunächst noch erheblich inadäquat, spuckte permanent, geordnete Gespräche mit ihr waren nur schwer möglich. Unter einer Sedierung mit Tavor und nach Umstellung auf Haloperidol sistierte diese Symptomatik zunehmend, so dass wir die antipsychotische Medikation in Absprache mit ihr auf eine Dosis von 6 mg Risperdal umstellten. Das Tavor bat sie auszuschleichen.\n",
      "Darunter war sie im Verlauf weitgehend distanziert von psychotischem Erleben, ruhig, gut im Kontakt und bedauerte, was sie sich da angetan hatte und nachdem sie zunächst eine stationäre psychiatrische Verlegung ablehnte, willigte sie nach einem motivierenden Gespräch schließlich ein, sich freiwillig in lhre Abteilung verlegen zu lassen. Sie war sehr interessiert an der Therapie, verfügte hier auch aus der Vorgeschichte über gute Kenntnisse z.B. über die Rezeptorwirkung der Medikamente. Im Affekt blieb sie insgesamt eher distanziert zur Dramatik ihrer Selbstverletzung.\n",
      "Ziel der Verlegung soll die weitere Belastungserprobung unter zunehmender Konfrontation milder Außenwelt im Anschluss an die stationäre intensivmedizinische Behandlung sein. Darüber hinaus ist eine sozialpsychiatrische Einbettung in ein ambulantes Setting nach dieser schweren Selbstverletzung angestrebt sowie die therapeutische Begleitung bei der Bewältigung der Folgeschaden im Alltag.\n",
      "Procedere: Wir verlegen Frau Albers, die in Ihrem Hause vorbekannt ist, am 14.05.2029 in lhre weitere stationäre fachpsychiatrische Behandlung.\n",
      "Durch die Orthopädiemechanik unseres Hauses wurde eine teils flexible Orthese angefertigt. Diese muss bis auf Weiteres getragen werden. Wir bitten bei per Patientin 1 x tgl. eine ergo- und physiotherapeutische Beübung der Iinken Hand durchzuführen. Hierbei sollten die Fingergelenke und das Handgelenk belastungsfrei in allen Ebenen therapiert werden. Die Übungen sollten aktiv und passiv aus der Orthese heraus erfolgen.  \n",
      "Die Transplantat· und Entnahmeareale sollten tgl. mehrfach mit fettenden Salben (z.B. Panthenol) gepflegt werden. Restdefekte, die ggf. etwas nässen können mit Betaisodona – Lsg. behandelt werden.  \n",
      "Aus plastisch- u. handchirurgischer Sicht werden mittel- bis langfristig noch mehrere korrigierende Eingriffe 1otwendig sein. Hierzu zählen beispielsweise operative Sehnen- und Gelenklösungen zur Verbesserung der Beweglichkeit der Hand sowie Korrektureingriffe im Bereich der Narben insbesondere im Kopf-/Halsbereich und der haarlosen Kopfareale. Wir werden Frau Albers hierzu in Kooperation mit den Handchirurgen an unsere Sprechstunde anbinden.\n",
      "Medikamente bei Entlassunq:\n",
      " Enoxaparin (Clexane®) 0,4 ml \n",
      "Pantoprazol (Pantozol®) 40 mg \n",
      "Ramipril (Detix®) 2.5 mg\n",
      "Metoprolol (Beloc zok mite®) 47,5 mg\n",
      "Levothir c.etarn (Keppra®) 1500mg \n",
      "Risperidon {Risperdaf®) 2 mg\n",
      "Ibuprofen .600mg\n",
      "Thiamin (Vil. B1) 100 mg + Pyridoxin (Vit. 8) 100 mg (Neurorathiopharrn®) \n",
      "Es konnen bioaquivalente Generika (weiter-) verordnet werden.\n",
      "Mit freundlichen kollegialen Grüßen\n",
      "Dr.med. Bernwart Schulze  \n",
      "\n",
      "\n",
      "---\n",
      "\n",
      "\n",
      "Dokument-Name: Colon_Fake_B\n",
      "Universitätsklinik für Innere Medizin \n",
      "Klinische Abteilung für O N K O L O G I E\n",
      "Werte Frau Kollegin, werter Herr Kollege, \n",
      "wir berichten hier über unsere gemeinsame Patientin, Frau Beatrice DE BEAUHARNAIS, Fallnummer: 23346011, geboren am: 24.04.1987, die sich vom 20.12.2033 bis zum 28.12.2033 in unserer stationären Behandlung befand. \n",
      "DIAGNOSEN\n",
      "Rektumkarzinom, (03/33), lokal weit fortgeschritten, C20\n",
      "Tumoranämie, (02/33), D63.0\n",
      "St.p. Port-a-cath Implantation Januar 2033\n",
      "Transfusionspflichtige Anämie\n",
      "DEKURS DER TUMORERKRANKUNG\n",
      "Operation(en) und Histologie(n):\n",
      "diagnostische PE (22.6.2033)\n",
      "Histo: Adeno-CA\n",
      "Stad.: p N+MX G2\n",
      "endständige Sigmoideostomie (1.09.2033)\n",
      "Med.TU Therapie(n):\n",
      "pall. PCT m. Folfox ab (4/33); 1. Zyklus 75%\n",
      "Die stationäre Aufnahme von Frau de Beauharnais erfolgte zur Einleitung der Polychemotherapie nach dem Folfox-Regime.\n",
      "Sie berichtet über starke Schmerzen beim Sitzen.\n",
      "Status praesens\n",
      "55-j. Patientin in mittelgr. reduziertem AZ und deutlich red. EZ. neurologisch bis auf einen leichten seitengl. Tremor unauffällig, allseits orientiert, kardiorespiratorisch stabil. \n",
      "Caput/Collum: kein Meningismus, HNAP frei, Pupillen rund, mitteleng, isokor, LR direkt und indirekt prompt, Zunge feucht, gerade, Schleimhäute blaß. Cor: HT rein, rhythmisch, normokard. Pulmo: Vesikuläratmen bds., keine Rasselgeräusche. Abdomen: Ileostoma, Bauchdecke weich kein DS, keine Abwehrspannung, DG rege, Nierenlager bds. frei.\n",
      "Analregion: Fistelung ca. 12x12cm große Rötung perianal. Extremitäten, Gelenke: aktiv und passiv frei beweglich, periphere Pulse gut tastbar, minimale Beinödeme bds.\n",
      "Durchgeführte Untersuchungen\n",
      "Labor bei Aufnahme\n",
      "Leuko 11.68, Hb 7.8, Thrombo 370000 Niere unauffällig, CRP 34.5, Eiweiß 5.8,\n",
      "Tumormarker: CEA: 24.0, CA19-9: 2.7\n",
      "Hb bei Entlassung 10,2\n",
      "Rö-Thorax: Leicht re. verbreitertes Herz, sonst oB \n",
      "Therapie und Verlauf\n",
      "Die stat. Aufnahme von Frau de Beauharnais erfolgte zur Einleitung einer palliativen Polychemotherapie nach Folfox-Schema (1. Zyklus) bei lokal weit fortgeschrittenem Rektumkarzinom. Die Patientin erhielt 75%-der Gesamtdosis. Insgesamt erhielt sie Oxaliplatin 97mg über 2 Std, sowie 456mg Calciumfolinat über 2 Std, 400mg 5FU als Bolus und 1736mg 5FU über 58 Stunden. Die Dosisreduktion beruhte in erster Linie auf der lokal weit fortgeschrittene Tumorsituation mit rektovag. Fistelbildung unter laufender antibiotischer Therapie. Bei guter Verträglichkeit ist die Fortführung der Therapie zum 2. Zyklus in normaler Dosierung geplant. Unter ausreichend antiemetischen Begleitmaßnahmen wurde die Therapie gut vertragen, so dass die Patientin in gutem AZ nach Hause entlassen werden kann.\n",
      "Es wurden insgesamt 2 Blutkonserven transfundiert.\n",
      "Empfohlene Therapie\n",
      "Furosemid 40mg ½-0-0\n",
      "Pantoloc 40mg 1-0-0\n",
      "Ferretab 1-0-0\n",
      "Reparil Drg. 1/1/2\n",
      "Ciprobay 500mg 1-0-1 als Dauertherapie\n",
      "Mexalen 500mg 1-0-1\n",
      "Lovenox 40mg 2 x tgl.s.c. abends\n",
      "bei Übelkeit: Metoclopramid Tr. 20gtt bis 3 x tgl.\n",
      "Procedere\n",
      "Am 22.1.2034 um 8 Uhr 15 stationäre Wiederaufnahme an der Onkologie zur Fortführung der Therapie mit Folfox, 2. Zyklus.  \n",
      "\n",
      "\n",
      "---\n",
      "\n",
      "\n",
      "Dokument-Name: Colon_Fake_C\n",
      "Klinische Abteilung für ONKOLOGIE\n",
      "Neustadt, am 12.3.2023 \n",
      "Sehr geehrte Frau Kollegin, sehr geehrter Herr Kollege, \n",
      "wir berichten über Frau CHRIST, Charlotte, Fall-Nr.6733340001, *24.12.1972, Stationär vom 2.2.2023 zum 14.2.2023\n",
      "HAUPT-UND NEBENDIAGNOSEN\n",
      "Rektumkarzinom, (ED 4/23), lokal weit fortgeschritten, C20\n",
      "Tumoranämie, (5/23), D63.0\n",
      "St.p. Port-a-cath Implantation 8/2023\n",
      "Diabetes mellitus II - insulinpflichtig (E14.9)\n",
      "Retinopathie diabetisch bds (E14.3)\n",
      "Arterielle Hypertonie (I10)\n",
      "Asthma bronchiale bei TypI-Allergie auf Schimmelpilze, Gräserpollen (J45.9)\n",
      "Adipositas\n",
      "VERLAUF DER TUMORERKRANKUNG\n",
      "diagnostische PE (4/23)\n",
      "Histo: Adeno-CA\n",
      "Stad.: p N+MX G2\n",
      "endständige Sigmoideostomie (13.6.2023)\n",
      "Med. TU-Therapie(n):\n",
      "pall. PCT m. Folfox ab (6/23); 1. Zyklus 75%, ab 2. Zyklus 100%\n",
      "Aufnahmegrund:\n",
      "Fortsetzung der palliativen Polychemotherapie mit FOLFOX, 2. Zyklus.\n",
      "Aufnahmestatus:\n",
      "50-j. Patientin in gutem AZ und adipösem EZ\n",
      "kardiopulmonal unauffälliger Auskultations- und Perkussionsbefund\n",
      "Abdomen: Bauchdecken weich, kein DS, DG normal\n",
      "Durchgeführte Untersuchungen\n",
      "Labor bei Aufnahme\n",
      "Leuko 8.830, Hb 9.4, Thrombo 323.000, Niere, Leberwerte im Normbereich, CRP 17.9\n",
      "Heptatitis-Serologie:\n",
      "HAV IgM und IgG negativ\n",
      "HBVs-Antigen negativ\n",
      "HBVc-Antikörper positiv\n",
      "HBVs-Antikörper 778\n",
      "HCV IgG negativ.\n",
      "Zusammenfassung von Therapie und Verlauf\n",
      "Zustand nach Hepatitis C-Infektion.\n",
      "Die stationäre Aufnahme Ihrer Patientin erfolgte zur Fortsetzung der palliativen Polychemotherapie mit FOLFOX,\n",
      "2. Zyklus. Aufgrund stabiler Blutbildparameter nunmehr 100 %. Es wurde am Tag 1 Oxaliplatin 85mg/m²,\n",
      "Calciumfolinat 400mg/m², 5FU als Bolus 300mg/m² und von Tag 1 bis Tag 2 5FU 2.800mg/m² über 46 Stunden\n",
      "verabreicht. Die Therapie wurde unter antiemetischer Begleitmaßnahmen gut vertragen.\n",
      "Empfohlene Therapie:\n",
      "Berodual Dosieraerosol bei Bedarf\n",
      "Ciproxin 500mg 1-0-1\n",
      "Diovan 160 mg 1-0-0\n",
      "Ferretab 1-0-0\n",
      "Furosemid 40mg 1½-0-0\n",
      "Gastrozol 20 mg 1-0-0\n",
      "Indapamid retard 1 mg 1-0-1\n",
      "Inegy 10/20 mg 0-0-1\n",
      "Lovenox 40mg 1 x 1 s.c.\n",
      "Mexalen 500mg 3 x 1\n",
      "Molaxole 2 x 1 Beutel\n",
      "Novalgin 4 x 30gtt\n",
      "Novorapid 3 Einheiten / BE\n",
      "Pantoloc 40mg 1-0-0\n",
      "Protaphane 8-12 Einheiten abends\n",
      "Seloken retard 1/2-1/2-1/2\n",
      "Serotide Diskus 3x1 Hub\n",
      "Urosin 300 mg 0-0-1\n",
      "Weiteres Prozedere:\n",
      "3.6.2023, 08.15 Uhr Stationäre Wiederaufnahme an der Onkologie-Aufnahme zur Fortsetzung der palliativen\n",
      "Polychemotherapie mit FOLFOX, 3. Zyklus.\n",
      "Mit freundlichen kollegialen Grüßen\n",
      "Dr. Christian Schwach OA Dr. Gottfried Stutz\n",
      "\n",
      "\n",
      "---\n",
      "\n",
      "\n",
      "Dokument-Name: Colon_Fake_D\n",
      "Klinische Abteilung für Onkologie\n",
      "Berlin, am 16.5.2018  \n",
      "Sehr geehrte KollegInnen, \n",
      "wir berichten über den stat. Aufenthalt von Frau DAMARIS, Dyonisia, vom 2.5.2018 bis 16.5.2018.\n",
      "Fallnummer: 34998877\n",
      "Geboren am: 11.2.1967\n",
      "HAUPT-UND NEBENDIAGNOSEN\n",
      "Hauptdiagnose(n), ICD-10\n",
      "Rektumkarzinom, (2/18), lokal weit fortgeschritten, C20\n",
      "Tumoranämie, (2/18), D63.0\n",
      "St.p. Port-a-cath Implantation 2/2018\n",
      "VERLAUF DER TUMORERKRANKUNG\n",
      "Operation(en) und Histologie(n):\n",
      "diagnostische PE (Jan 2018)\n",
      "Histo: Adeno-CA\n",
      "Stad.: p N+MX G2\n",
      "endständige Sigmoideostomie (04/2018)\n",
      "Medizinische Tumortherapie(n):\n",
      "pall. PCT m. Folfox ab (05/18); 1. Zyklus 75%, ab 2. Zyklus 100%\n",
      "Aufnahmegrund:\n",
      "Die stationäre Aufnahme von Frau Damaris erfolgte zur Fortführung der pall. Chemotherapie nach dem Folfox-Schema, 3. Zyklus.\n",
      "Anamnese:\n",
      "Die Patientin berichtet über leichte MMA-Symptomatik, sowie Mukositis Grad I nach der letzten Therapie; ansonsten beschwerdefrei, keine Infektzeichen, Haut intakt, bland, Schleimhäute bland, intakt, Stuhl- und Harnanamnese unauffällig.\n",
      "Status bei Aufnahme:\n",
      "Fünfigjährige Patientin in gutem AZ und EZ, kardiorespiratorisch stabil, allseits orientiert.  \n",
      "neurologisch unauffällig. \n",
      "Caput/Collum: Meningismus negativ, HNAP frei, Pupillen rund, mittelweit, isokor,\n",
      "Lichtreaktion bds. direkt und indirekt prompt, Zunge feucht, gerade, Rachen und Mundschleimhaut bland. \n",
      "Cor: Herztöne rein, rhythmisch, normokard. \n",
      "Pulmo: Vesikuläratmen bds., keine path. Rasselgeräusche, sonorer KS bds. Abdomen: Bauchdecke weich, kein Druckschmerz, keine Abwehrspannung, kein Loslassschmerz, Darmgeräusche in allen Quadranten rege, Leber unter dem Rippenbogen, Milz non palp., Nierenlager bds. frei. Extremitäten, Gelenke: aktiv und passiv frei beweglich, kein Wadendruckschmerz, keine trophischen Läsionen, periphere Pulse gut tastbar. \n",
      "Perianal: geringgr. Rückgang der tumorösen Masse, 4 Fistelgänge, klinisch deutlich gebessert, anamn. kaum noch Sekretion\n",
      "Durchgeführte Untersuchungen\n",
      "Labor bei Aufnahme 2.5.2018\n",
      "CRP 43, Kreatinin 2,7, Harnstoff 122, Harnsäure 7,0, GFR 26,1, Ery 2,75, Hämoglobin 9,3, Hämatokrit 22,5, Kalium 3.2, Tumormarker: CEA: 332.5, CA19-9:<2\n",
      "CT-OBERBAUCH:\n",
      "Nieren bds. nativ unauffällig dargestellt. Kein Harnstau.\n",
      "Soweit nativ beurteilbar die Leber frei von fokal parenchymersetzenden Läsionen. Normale Weite der intra- und extrahepatischen Gallenwege.\n",
      "Zustand nach CHE.\n",
      "Mäßige Splenomegalie (12 x 8,6 cm). Regelrechte Darstellung des Pankreas.\n",
      "Keine pathologisch vergrößerten Lymphknoten retroperitoneal oder mesenteriell. \n",
      "Arteriosklerotischer Gefäßschaden der Aorta thorakalis und der Iliacalgefäße.\n",
      "CT-BECKEN:\n",
      "Keine freie intraperitoneale Luft oder Flüssigkeit. Unspezifische bis 8 mm im Querdurchmesser messende Inguinallymphknoten. Insuspekter pelviner Lymphknotenstatus.\n",
      "Zusammenfassung von Therapie und Verlauf\n",
      "Die stationäre Aufnahme von Frau Damaris erfolgte zur Fortführung der pall. Polychemotherapie nach dem Folfox-Schema, 3. Zyklus. Die Patientin berichtet über gute Verträglichkeit der letzten Therapie, sodass sie am Tag 1 Oxaliplatin 95mg/m², Calciumfolinat 500mg/m², 5FU als Blus 500mg/m² und 5FU Dauerinfusion 2400mg/m² über 52 Stunden problemlos erhalten kann. Die Therapie wird unter entsprechenden antiemetischen Begleitmaßnahmen sehr gut vertragen, so dass Frau Damaris am 16.5.18 in gutem AZ nach Hause entlassen\n",
      "werden kann.\n",
      "Empfohlene Therapie\n",
      "Furosemid 40mg 1/2-0-0\n",
      "Pantoloc 40mg 1-0-0\n",
      "Ferretab 1-0-0\n",
      "Molaxole 2 x 1 Beutel\n",
      "Ciproxin 500mg 1-0-1\n",
      "Mexalen 500mg 3 x 1\n",
      "Lovenox 40mg 1 x 1 s.c.\n",
      "Procedere\n",
      "Am 14.6.2018 um 8Uhr 15 stationäre Wiederaufnahme, Onkologie A33 zur Fortführung pall. Folfox, 4. Zyklus.\n",
      "Mit freundlichen kollegialen Grüßen\n",
      "Dr. Hanns Wurst OA Dr. Matthias Metzger\n",
      "\n",
      "\n",
      "---\n",
      "\n",
      "\n",
      "Dokument-Name: Neubauer\n",
      "Sehr geehrter Herr Dr. Albers, \n",
      "wir berichten über unseren gemeinsamen Patienten Herrn Klaus Neubauer, * 23.11.1999, wohnhaft 73333 Gingen, der sich in der Zeit vom 21.02.2024 bis 25.02.2024 in der stationärer Behandlung in unserer Klinik befand. \n",
      "Diagnosen (ICD 10): \n",
      "Psychische und Verhaltensstörungen durch Opioide und Opiate: Schädlicher Gebrauch (F11.1) \n",
      "Anamn. Psychische und Verhaltensstörungen durch Alkohol: schädlicher Gebrauch (F10.2) , (F10.1) \n",
      "sonstige abnorme Gewohnheiten und Störungen der Impulkontrolle  \n",
      "Aufnahme Modus / aktuelle Anamnese: \n",
      "Patient kommt zur Aufnahme nach Telefonischer Ankündigung durch PIA. Patient in Behandlung bei Fr. OÄ Schönfeld in PIA. \n",
      "Patient berichtet im Aufnahme Gespräch dass, ihm geht in der letzten Zeit schlecht, könne nicht schlafen, habe versucht mit der Seroquel-Dosis von alleine hoch zu gehen, nahm gestern 2250 mg Seroquel Prolong, verschriebene Dosis sei 50 mg Seroquel Prolong. \n",
      "Er gibt an, seit Ende Januar keine Drogen mehr zu nehmen, stattdessen rauche er ab und zu Mal Cannabis, beklagt agressive Impulse, innere Unruhe, Opiat Verlangen und wolle von Opiate Substituiert werden. \n",
      "Pat. ist im Haus bekannt, mehrere Aufenthalte auf PSY13, zuvor auf KJPP-2, zuletzt vom 26.10.2019 bis 20.12.2019. \n",
      "Suchtmittel Anamnese: \n",
      "Alkohol: seit Winter 2023 abstinent, vorher regelmäßig täglicher Konsum ca. 6 Wodka / Tag. \n",
      "Cannabis: ab und zu Mal, in der letzten Zeit Mehr Öfter, zuletzt vor 2 Tagen. \n",
      "Opiate: (Heroin, Morphium, Metadon, Opium, Subutex, Tilidin, Tramadol, Codein) sei seit Dezember 2016 clean, vorher regelmäßig 32 mg Subutex nasal, immer wieder Heroin und gelegentlich Kokain. Morphium, Methadon, Opium, Tilidin, Tramadol und Codein war nur eine Nebensache). \n",
      "Amphetamine und Benzodiazepine nur Selten. \n",
      "Nikotin: ca. 12-13 Schachtel / Tag, vor Einweisung 7-8 Packungen / Tag. \n",
      "Soziale Anamnese: \n",
      "Patient wohnt bei den Eltern, abgemeldet von Arbeit wegen Entzug und Krankheit, vorher bei Bildungszentrum in Stuttgart im Büro, sei ledig, habe keine Partnerin. \n",
      "Vegetative Anamnese: \n",
      "Ein- und Durchschlafstörungen, Miktion und Defäktion seien normal, normaler Appetit, Krampfanfälle und Delir seien werden verneint. \n",
      "Bisherige Medikation: \n",
      "Seroquel Prolong 0-0-0-50 mg. \n",
      "Promethazin 200 mg. \n",
      "Mirtazapin 90 mg. \n",
      "Medikamenten Unverträglichkeit / Allergien: \n",
      "Heuschnupfen. \n",
      "Psychische Aufnahme Befund: \n",
      "Patient ist wach, wesentlicher orientiert, kooperativ, auskunftsbereit, keine mnestische Defizite, gedrückte Stimmung, unruhig, formale Gedankengang geordnet, misstraue Gefühle, kein H. a. optische oder akustische Halluzinationen, suizidaler Wunsch ohne aktuelle Gedanken, Patient ist absprachefähig, keine eigen oder Fremdgefährdung. \n",
      "Aufnahme Körperliche Befunde: \n",
      "Reduzierter Allgemeinzustand und guter Ernährungszustand. \n",
      "Kopf und Hals unauffällig. \n",
      "Cor: Herztöne rein, keine Herzgeräusche, Herzaktion rhythmisch. \n",
      "Pulmo: vesikuläres Atemgeräusch bei beidseits seitengleich belüftet Lunge. Keine Rasselgeräusche, kein Giemen, kein Brummen, kein Pleuareiben. \n",
      "Abdomen: weich, kein DS, kein pathologischen Resistenzen, DG lebhaft in allen 4 Quadranten. Leber in Größe und Konsistenz regelrecht. Die Milz nicht vergrößert tastbar. Nierenlanger frei. \n",
      "Wirbelsäule: kein Klopfschmerz, kein Stauchungsschmerz. \n",
      "Extremitäten: frei beweglich, warm, keine Ödeme. Kein Hinweis auf entzündliches Gelenkserkrankung. \n",
      "Neurologisch: \n",
      "Kein Menginismus. \n",
      "Hirnnerven: kein Exophthalmus, Lidspaltenweite regelrecht, Pupillen rund, mittelweit, isochor, kein Spontanystagmus, kein Blickrichtungsnystagmus, Zungenmotilität intakt, übriger Hirnnervenstatus ebenfalls unauffällig. \n",
      "Reflexe: MEHR seitengleich auslösbar. Babinsky beidseits negativ. \n",
      "Motorik: Keine manifeste Parese der oberen/unteren Extremitäten. \n",
      "Sensibilität: Oberflächensensibilität intakt sei angegeben. \n",
      "Koordination: Eudiadochokinese beidseits, Feinmotorik der Hände erhalten, Stand, Gang, erschwerte Gangproben unauffällig. \n",
      "Labor: \n",
      "siehe Anlage \n",
      "Therapie und Verkauf \n",
      "Die Aufnahme des Patienten erfolgt nach der Einweisung durch PIA. Der Patient ist durch die stationäre Aufnahme deutlich belastet. Opiatsubstitution wurde vom Patient gewünscht, dies jedoch nicht realisiert, da besteht aktuell keine Medizinische Indikation dafür nicht. \n",
      "Im Verlauf beklagte der Patient innere Unruhe und sehr aggressive Impulse, diesbezüglich wurde mehrere Gabe von Mellneurin, Atosil und Seroquel mit Abstand, in Versuch die Unruhe zu beseitigen, dies hat ihm aber nicht geholfen. Er schlug mit seiner Kopf gegen Wände und randalierte. Er legte auch ein Feuer in der Station welches aber, durch die Feuerwehr schnell erlischt wurde. Er rauchte, ebenfalls oft unerlaubt im Flur oder im Schlafzimmer statt im Raucherzimmer. Herr Neubauer hatte ebenso öfteres Konflikte mit anderen Patienten, wo wir ihn zum Schutz fixieren musste, da er das Leben Anderer gefährdete. Als er bereits fixiert war, waren wir gezwungen, Herr Neubauer mit Polamidon ruhig zustellen, da er dem Arzt ins Gesicht spuckte und mit einer enorme Lautstärke Rum geflucht hatte. \n",
      "Herr Neubauer forderte seine Entlassung. In ausführlichem Gespräch wurde ihm die Kontaktaufnahme zu der PIA sowie Suchtberatungsstelle empfohlen, daher zeigte sich der Patient dafür bereit und begeistert. \n",
      "Bei Entlassung besteht keine Rückhaltgrünen, sodass wir Herrn Neubauer am heutigen 25.02.2014 in ihre hausärztliche Betreung entlassen. \n",
      "Eine jederzeitige Kontaktaufnahme bei Probleme wurde abgesprochen. \n",
      "Entlassungsmedikation: keine \n",
      "Mit freundlichen kollegialen Grüßen \n",
      "Dr. med. Vasyl Oleksandrovych Lavrynenko  \n",
      "\n",
      "Frage: Welche Verbrennung hat Frau Albers?\n",
      "\n",
      "Hilfreiche Antwort:\u001B[0m\n"
     ]
    },
    {
     "name": "stderr",
     "output_type": "stream",
     "text": [
      "INFO:httpx:HTTP Request: POST http://localhost:7701/api/generate \"HTTP/1.1 200 OK\"\n"
     ]
    },
    {
     "name": "stdout",
     "output_type": "stream",
     "text": [
      "\n",
      "\u001B[1m> Finished chain.\u001B[0m\n"
     ]
    }
   ],
   "execution_count": 154
  },
  {
   "metadata": {
    "ExecuteTime": {
     "end_time": "2025-04-17T08:00:33.164731Z",
     "start_time": "2025-04-17T08:00:33.145179Z"
    }
   },
   "cell_type": "code",
   "source": "response",
   "id": "cec1e313cc591c02",
   "outputs": [
    {
     "data": {
      "text/plain": [
       "' In dem Text, der von Frau Albers handelt, ist keine Angabe enthalten, welche Verbrennung Frau Albers vornimmt. Das Thema Verbrennung wird nicht erwähnt.'"
      ]
     },
     "execution_count": 155,
     "metadata": {},
     "output_type": "execute_result"
    }
   ],
   "execution_count": 155
  },
  {
   "metadata": {
    "ExecuteTime": {
     "end_time": "2025-04-15T12:38:50.778496Z",
     "start_time": "2025-04-15T12:38:50.762861Z"
    }
   },
   "cell_type": "code",
   "source": [
    "retriever = vectorstore.as_retriever(\n",
    "                search_kwargs={'k': 1}\n",
    "            )"
   ],
   "id": "a639cba4291b1898",
   "outputs": [],
   "execution_count": 139
  },
  {
   "metadata": {
    "ExecuteTime": {
     "end_time": "2025-04-15T12:38:52.233637Z",
     "start_time": "2025-04-15T12:38:51.983173Z"
    }
   },
   "cell_type": "code",
   "source": "retriever.invoke(\"Psychose\")",
   "id": "8262e0998b9b9f37",
   "outputs": [
    {
     "ename": "MeilisearchApiError",
     "evalue": "MeilisearchApiError. Error code: invalid_search_embedder. Error message: Cannot find embedder with name `default`.. Hint: It might not be working because you're not up to date with the Meilisearch version that search call requires. Error documentation: https://docs.meilisearch.com/errors#invalid_search_embedder Error type: invalid_request",
     "output_type": "error",
     "traceback": [
      "\u001B[1;31m---------------------------------------------------------------------------\u001B[0m",
      "\u001B[1;31mHTTPError\u001B[0m                                 Traceback (most recent call last)",
      "File \u001B[1;32m~\\.conda\\envs\\concept-graphs\\lib\\site-packages\\meilisearch\\_httprequests.py:142\u001B[0m, in \u001B[0;36mHttpRequests.__validate\u001B[1;34m(request)\u001B[0m\n\u001B[0;32m    141\u001B[0m \u001B[38;5;28;01mtry\u001B[39;00m:\n\u001B[1;32m--> 142\u001B[0m     \u001B[43mrequest\u001B[49m\u001B[38;5;241;43m.\u001B[39;49m\u001B[43mraise_for_status\u001B[49m\u001B[43m(\u001B[49m\u001B[43m)\u001B[49m\n\u001B[0;32m    143\u001B[0m     \u001B[38;5;28;01mreturn\u001B[39;00m HttpRequests\u001B[38;5;241m.\u001B[39m__to_json(request)\n",
      "File \u001B[1;32m~\\.conda\\envs\\concept-graphs\\lib\\site-packages\\requests\\models.py:1024\u001B[0m, in \u001B[0;36mResponse.raise_for_status\u001B[1;34m(self)\u001B[0m\n\u001B[0;32m   1023\u001B[0m \u001B[38;5;28;01mif\u001B[39;00m http_error_msg:\n\u001B[1;32m-> 1024\u001B[0m     \u001B[38;5;28;01mraise\u001B[39;00m HTTPError(http_error_msg, response\u001B[38;5;241m=\u001B[39m\u001B[38;5;28mself\u001B[39m)\n",
      "\u001B[1;31mHTTPError\u001B[0m: 400 Client Error: Bad Request for url: http://localhost:7700/indexes/grascco_manual/search",
      "\nThe above exception was the direct cause of the following exception:\n",
      "\u001B[1;31mMeilisearchApiError\u001B[0m                       Traceback (most recent call last)",
      "Cell \u001B[1;32mIn[140], line 1\u001B[0m\n\u001B[1;32m----> 1\u001B[0m \u001B[43mretriever\u001B[49m\u001B[38;5;241;43m.\u001B[39;49m\u001B[43minvoke\u001B[49m\u001B[43m(\u001B[49m\u001B[38;5;124;43m\"\u001B[39;49m\u001B[38;5;124;43mPsychose\u001B[39;49m\u001B[38;5;124;43m\"\u001B[39;49m\u001B[43m)\u001B[49m\n",
      "File \u001B[1;32m~\\.conda\\envs\\concept-graphs\\lib\\site-packages\\langchain_core\\retrievers.py:260\u001B[0m, in \u001B[0;36mBaseRetriever.invoke\u001B[1;34m(self, input, config, **kwargs)\u001B[0m\n\u001B[0;32m    258\u001B[0m _kwargs \u001B[38;5;241m=\u001B[39m kwargs \u001B[38;5;28;01mif\u001B[39;00m \u001B[38;5;28mself\u001B[39m\u001B[38;5;241m.\u001B[39m_expects_other_args \u001B[38;5;28;01melse\u001B[39;00m {}\n\u001B[0;32m    259\u001B[0m \u001B[38;5;28;01mif\u001B[39;00m \u001B[38;5;28mself\u001B[39m\u001B[38;5;241m.\u001B[39m_new_arg_supported:\n\u001B[1;32m--> 260\u001B[0m     result \u001B[38;5;241m=\u001B[39m \u001B[38;5;28mself\u001B[39m\u001B[38;5;241m.\u001B[39m_get_relevant_documents(\n\u001B[0;32m    261\u001B[0m         \u001B[38;5;28minput\u001B[39m, run_manager\u001B[38;5;241m=\u001B[39mrun_manager, \u001B[38;5;241m*\u001B[39m\u001B[38;5;241m*\u001B[39m_kwargs\n\u001B[0;32m    262\u001B[0m     )\n\u001B[0;32m    263\u001B[0m \u001B[38;5;28;01melse\u001B[39;00m:\n\u001B[0;32m    264\u001B[0m     result \u001B[38;5;241m=\u001B[39m \u001B[38;5;28mself\u001B[39m\u001B[38;5;241m.\u001B[39m_get_relevant_documents(\u001B[38;5;28minput\u001B[39m, \u001B[38;5;241m*\u001B[39m\u001B[38;5;241m*\u001B[39m_kwargs)\n",
      "File \u001B[1;32m~\\.conda\\envs\\concept-graphs\\lib\\site-packages\\langchain_core\\vectorstores\\base.py:1079\u001B[0m, in \u001B[0;36mVectorStoreRetriever._get_relevant_documents\u001B[1;34m(self, query, run_manager, **kwargs)\u001B[0m\n\u001B[0;32m   1077\u001B[0m _kwargs \u001B[38;5;241m=\u001B[39m \u001B[38;5;28mself\u001B[39m\u001B[38;5;241m.\u001B[39msearch_kwargs \u001B[38;5;241m|\u001B[39m kwargs\n\u001B[0;32m   1078\u001B[0m \u001B[38;5;28;01mif\u001B[39;00m \u001B[38;5;28mself\u001B[39m\u001B[38;5;241m.\u001B[39msearch_type \u001B[38;5;241m==\u001B[39m \u001B[38;5;124m\"\u001B[39m\u001B[38;5;124msimilarity\u001B[39m\u001B[38;5;124m\"\u001B[39m:\n\u001B[1;32m-> 1079\u001B[0m     docs \u001B[38;5;241m=\u001B[39m \u001B[38;5;28mself\u001B[39m\u001B[38;5;241m.\u001B[39mvectorstore\u001B[38;5;241m.\u001B[39msimilarity_search(query, \u001B[38;5;241m*\u001B[39m\u001B[38;5;241m*\u001B[39m_kwargs)\n\u001B[0;32m   1080\u001B[0m \u001B[38;5;28;01melif\u001B[39;00m \u001B[38;5;28mself\u001B[39m\u001B[38;5;241m.\u001B[39msearch_type \u001B[38;5;241m==\u001B[39m \u001B[38;5;124m\"\u001B[39m\u001B[38;5;124msimilarity_score_threshold\u001B[39m\u001B[38;5;124m\"\u001B[39m:\n\u001B[0;32m   1081\u001B[0m     docs_and_similarities \u001B[38;5;241m=\u001B[39m (\n\u001B[0;32m   1082\u001B[0m         \u001B[38;5;28mself\u001B[39m\u001B[38;5;241m.\u001B[39mvectorstore\u001B[38;5;241m.\u001B[39msimilarity_search_with_relevance_scores(\n\u001B[0;32m   1083\u001B[0m             query, \u001B[38;5;241m*\u001B[39m\u001B[38;5;241m*\u001B[39m_kwargs\n\u001B[0;32m   1084\u001B[0m         )\n\u001B[0;32m   1085\u001B[0m     )\n",
      "File \u001B[1;32m~\\.conda\\envs\\concept-graphs\\lib\\site-packages\\langchain_community\\vectorstores\\meilisearch.py:175\u001B[0m, in \u001B[0;36mMeilisearch.similarity_search\u001B[1;34m(self, query, k, filter, embedder_name, **kwargs)\u001B[0m\n\u001B[0;32m    154\u001B[0m \u001B[38;5;28;01mdef\u001B[39;00m\u001B[38;5;250m \u001B[39m\u001B[38;5;21msimilarity_search\u001B[39m(\n\u001B[0;32m    155\u001B[0m     \u001B[38;5;28mself\u001B[39m,\n\u001B[0;32m    156\u001B[0m     query: \u001B[38;5;28mstr\u001B[39m,\n\u001B[1;32m   (...)\u001B[0m\n\u001B[0;32m    160\u001B[0m     \u001B[38;5;241m*\u001B[39m\u001B[38;5;241m*\u001B[39mkwargs: Any,\n\u001B[0;32m    161\u001B[0m ) \u001B[38;5;241m-\u001B[39m\u001B[38;5;241m>\u001B[39m List[Document]:\n\u001B[0;32m    162\u001B[0m \u001B[38;5;250m    \u001B[39m\u001B[38;5;124;03m\"\"\"Return meilisearch documents most similar to the query.\u001B[39;00m\n\u001B[0;32m    163\u001B[0m \n\u001B[0;32m    164\u001B[0m \u001B[38;5;124;03m    Args:\u001B[39;00m\n\u001B[1;32m   (...)\u001B[0m\n\u001B[0;32m    173\u001B[0m \u001B[38;5;124;03m        text and score for each.\u001B[39;00m\n\u001B[0;32m    174\u001B[0m \u001B[38;5;124;03m    \"\"\"\u001B[39;00m\n\u001B[1;32m--> 175\u001B[0m     docs_and_scores \u001B[38;5;241m=\u001B[39m \u001B[38;5;28;43mself\u001B[39;49m\u001B[38;5;241;43m.\u001B[39;49m\u001B[43msimilarity_search_with_score\u001B[49m\u001B[43m(\u001B[49m\n\u001B[0;32m    176\u001B[0m \u001B[43m        \u001B[49m\u001B[43mquery\u001B[49m\u001B[38;5;241;43m=\u001B[39;49m\u001B[43mquery\u001B[49m\u001B[43m,\u001B[49m\n\u001B[0;32m    177\u001B[0m \u001B[43m        \u001B[49m\u001B[43membedder_name\u001B[49m\u001B[38;5;241;43m=\u001B[39;49m\u001B[43membedder_name\u001B[49m\u001B[43m,\u001B[49m\n\u001B[0;32m    178\u001B[0m \u001B[43m        \u001B[49m\u001B[43mk\u001B[49m\u001B[38;5;241;43m=\u001B[39;49m\u001B[43mk\u001B[49m\u001B[43m,\u001B[49m\n\u001B[0;32m    179\u001B[0m \u001B[43m        \u001B[49m\u001B[38;5;28;43mfilter\u001B[39;49m\u001B[38;5;241;43m=\u001B[39;49m\u001B[38;5;28;43mfilter\u001B[39;49m\u001B[43m,\u001B[49m\n\u001B[0;32m    180\u001B[0m \u001B[43m        \u001B[49m\u001B[43mkwargs\u001B[49m\u001B[38;5;241;43m=\u001B[39;49m\u001B[43mkwargs\u001B[49m\u001B[43m,\u001B[49m\n\u001B[0;32m    181\u001B[0m \u001B[43m    \u001B[49m\u001B[43m)\u001B[49m\n\u001B[0;32m    182\u001B[0m     \u001B[38;5;28;01mreturn\u001B[39;00m [doc \u001B[38;5;28;01mfor\u001B[39;00m doc, _ \u001B[38;5;129;01min\u001B[39;00m docs_and_scores]\n",
      "File \u001B[1;32m~\\.conda\\envs\\concept-graphs\\lib\\site-packages\\langchain_community\\vectorstores\\meilisearch.py:207\u001B[0m, in \u001B[0;36mMeilisearch.similarity_search_with_score\u001B[1;34m(self, query, k, filter, embedder_name, **kwargs)\u001B[0m\n\u001B[0;32m    192\u001B[0m \u001B[38;5;250m\u001B[39m\u001B[38;5;124;03m\"\"\"Return meilisearch documents most similar to the query, along with scores.\u001B[39;00m\n\u001B[0;32m    193\u001B[0m \n\u001B[0;32m    194\u001B[0m \u001B[38;5;124;03mArgs:\u001B[39;00m\n\u001B[1;32m   (...)\u001B[0m\n\u001B[0;32m    203\u001B[0m \u001B[38;5;124;03m    text and score for each.\u001B[39;00m\n\u001B[0;32m    204\u001B[0m \u001B[38;5;124;03m\"\"\"\u001B[39;00m\n\u001B[0;32m    205\u001B[0m _query \u001B[38;5;241m=\u001B[39m \u001B[38;5;28mself\u001B[39m\u001B[38;5;241m.\u001B[39m_embedding\u001B[38;5;241m.\u001B[39membed_query(query)\n\u001B[1;32m--> 207\u001B[0m docs \u001B[38;5;241m=\u001B[39m \u001B[38;5;28;43mself\u001B[39;49m\u001B[38;5;241;43m.\u001B[39;49m\u001B[43msimilarity_search_by_vector_with_scores\u001B[49m\u001B[43m(\u001B[49m\n\u001B[0;32m    208\u001B[0m \u001B[43m    \u001B[49m\u001B[43membedding\u001B[49m\u001B[38;5;241;43m=\u001B[39;49m\u001B[43m_query\u001B[49m\u001B[43m,\u001B[49m\n\u001B[0;32m    209\u001B[0m \u001B[43m    \u001B[49m\u001B[43membedder_name\u001B[49m\u001B[38;5;241;43m=\u001B[39;49m\u001B[43membedder_name\u001B[49m\u001B[43m,\u001B[49m\n\u001B[0;32m    210\u001B[0m \u001B[43m    \u001B[49m\u001B[43mk\u001B[49m\u001B[38;5;241;43m=\u001B[39;49m\u001B[43mk\u001B[49m\u001B[43m,\u001B[49m\n\u001B[0;32m    211\u001B[0m \u001B[43m    \u001B[49m\u001B[38;5;28;43mfilter\u001B[39;49m\u001B[38;5;241;43m=\u001B[39;49m\u001B[38;5;28;43mfilter\u001B[39;49m\u001B[43m,\u001B[49m\n\u001B[0;32m    212\u001B[0m \u001B[43m    \u001B[49m\u001B[43mkwargs\u001B[49m\u001B[38;5;241;43m=\u001B[39;49m\u001B[43mkwargs\u001B[49m\u001B[43m,\u001B[49m\n\u001B[0;32m    213\u001B[0m \u001B[43m\u001B[49m\u001B[43m)\u001B[49m\n\u001B[0;32m    214\u001B[0m \u001B[38;5;28;01mreturn\u001B[39;00m docs\n",
      "File \u001B[1;32m~\\.conda\\envs\\concept-graphs\\lib\\site-packages\\langchain_community\\vectorstores\\meilisearch.py:238\u001B[0m, in \u001B[0;36mMeilisearch.similarity_search_by_vector_with_scores\u001B[1;34m(self, embedding, embedder_name, k, filter, **kwargs)\u001B[0m\n\u001B[0;32m    224\u001B[0m \u001B[38;5;250m\u001B[39m\u001B[38;5;124;03m\"\"\"Return meilisearch documents most similar to embedding vector.\u001B[39;00m\n\u001B[0;32m    225\u001B[0m \n\u001B[0;32m    226\u001B[0m \u001B[38;5;124;03mArgs:\u001B[39;00m\n\u001B[1;32m   (...)\u001B[0m\n\u001B[0;32m    235\u001B[0m \u001B[38;5;124;03m        vector and score for each.\u001B[39;00m\n\u001B[0;32m    236\u001B[0m \u001B[38;5;124;03m\"\"\"\u001B[39;00m\n\u001B[0;32m    237\u001B[0m docs \u001B[38;5;241m=\u001B[39m []\n\u001B[1;32m--> 238\u001B[0m results \u001B[38;5;241m=\u001B[39m \u001B[38;5;28;43mself\u001B[39;49m\u001B[38;5;241;43m.\u001B[39;49m\u001B[43m_client\u001B[49m\u001B[38;5;241;43m.\u001B[39;49m\u001B[43mindex\u001B[49m\u001B[43m(\u001B[49m\u001B[38;5;28;43mstr\u001B[39;49m\u001B[43m(\u001B[49m\u001B[38;5;28;43mself\u001B[39;49m\u001B[38;5;241;43m.\u001B[39;49m\u001B[43m_index_name\u001B[49m\u001B[43m)\u001B[49m\u001B[43m)\u001B[49m\u001B[38;5;241;43m.\u001B[39;49m\u001B[43msearch\u001B[49m\u001B[43m(\u001B[49m\n\u001B[0;32m    239\u001B[0m \u001B[43m    \u001B[49m\u001B[38;5;124;43m\"\u001B[39;49m\u001B[38;5;124;43m\"\u001B[39;49m\u001B[43m,\u001B[49m\n\u001B[0;32m    240\u001B[0m \u001B[43m    \u001B[49m\u001B[43m{\u001B[49m\n\u001B[0;32m    241\u001B[0m \u001B[43m        \u001B[49m\u001B[38;5;124;43m\"\u001B[39;49m\u001B[38;5;124;43mvector\u001B[39;49m\u001B[38;5;124;43m\"\u001B[39;49m\u001B[43m:\u001B[49m\u001B[43m \u001B[49m\u001B[43membedding\u001B[49m\u001B[43m,\u001B[49m\n\u001B[0;32m    242\u001B[0m \u001B[43m        \u001B[49m\u001B[38;5;124;43m\"\u001B[39;49m\u001B[38;5;124;43mhybrid\u001B[39;49m\u001B[38;5;124;43m\"\u001B[39;49m\u001B[43m:\u001B[49m\u001B[43m \u001B[49m\u001B[43m{\u001B[49m\u001B[38;5;124;43m\"\u001B[39;49m\u001B[38;5;124;43msemanticRatio\u001B[39;49m\u001B[38;5;124;43m\"\u001B[39;49m\u001B[43m:\u001B[49m\u001B[43m \u001B[49m\u001B[38;5;241;43m1.0\u001B[39;49m\u001B[43m,\u001B[49m\u001B[43m \u001B[49m\u001B[38;5;124;43m\"\u001B[39;49m\u001B[38;5;124;43membedder\u001B[39;49m\u001B[38;5;124;43m\"\u001B[39;49m\u001B[43m:\u001B[49m\u001B[43m \u001B[49m\u001B[43membedder_name\u001B[49m\u001B[43m}\u001B[49m\u001B[43m,\u001B[49m\n\u001B[0;32m    243\u001B[0m \u001B[43m        \u001B[49m\u001B[38;5;124;43m\"\u001B[39;49m\u001B[38;5;124;43mlimit\u001B[39;49m\u001B[38;5;124;43m\"\u001B[39;49m\u001B[43m:\u001B[49m\u001B[43m \u001B[49m\u001B[43mk\u001B[49m\u001B[43m,\u001B[49m\n\u001B[0;32m    244\u001B[0m \u001B[43m        \u001B[49m\u001B[38;5;124;43m\"\u001B[39;49m\u001B[38;5;124;43mfilter\u001B[39;49m\u001B[38;5;124;43m\"\u001B[39;49m\u001B[43m:\u001B[49m\u001B[43m \u001B[49m\u001B[38;5;28;43mfilter\u001B[39;49m\u001B[43m,\u001B[49m\n\u001B[0;32m    245\u001B[0m \u001B[43m        \u001B[49m\u001B[38;5;124;43m\"\u001B[39;49m\u001B[38;5;124;43mshowRankingScore\u001B[39;49m\u001B[38;5;124;43m\"\u001B[39;49m\u001B[43m:\u001B[49m\u001B[43m \u001B[49m\u001B[38;5;28;43;01mTrue\u001B[39;49;00m\u001B[43m,\u001B[49m\n\u001B[0;32m    246\u001B[0m \u001B[43m    \u001B[49m\u001B[43m}\u001B[49m\u001B[43m,\u001B[49m\n\u001B[0;32m    247\u001B[0m \u001B[43m\u001B[49m\u001B[43m)\u001B[49m\n\u001B[0;32m    249\u001B[0m \u001B[38;5;28;01mfor\u001B[39;00m result \u001B[38;5;129;01min\u001B[39;00m results[\u001B[38;5;124m\"\u001B[39m\u001B[38;5;124mhits\u001B[39m\u001B[38;5;124m\"\u001B[39m]:\n\u001B[0;32m    250\u001B[0m     metadata \u001B[38;5;241m=\u001B[39m result[\u001B[38;5;28mself\u001B[39m\u001B[38;5;241m.\u001B[39m_metadata_key]\n",
      "File \u001B[1;32m~\\.conda\\envs\\concept-graphs\\lib\\site-packages\\meilisearch\\errors.py:75\u001B[0m, in \u001B[0;36mversion_error_hint_message.<locals>.wrapper\u001B[1;34m(*args, **kwargs)\u001B[0m\n\u001B[0;32m     73\u001B[0m \u001B[38;5;28;01mexcept\u001B[39;00m MeilisearchApiError \u001B[38;5;28;01mas\u001B[39;00m exc:\n\u001B[0;32m     74\u001B[0m     exc\u001B[38;5;241m.\u001B[39mmessage \u001B[38;5;241m=\u001B[39m \u001B[38;5;124mf\u001B[39m\u001B[38;5;124m\"\u001B[39m\u001B[38;5;132;01m{\u001B[39;00mexc\u001B[38;5;241m.\u001B[39mmessage\u001B[38;5;132;01m}\u001B[39;00m\u001B[38;5;124m. Hint: It might not be working because you\u001B[39m\u001B[38;5;124m'\u001B[39m\u001B[38;5;124mre not up to date with the Meilisearch version that \u001B[39m\u001B[38;5;132;01m{\u001B[39;00mfunc\u001B[38;5;241m.\u001B[39m\u001B[38;5;18m__name__\u001B[39m\u001B[38;5;132;01m}\u001B[39;00m\u001B[38;5;124m call requires.\u001B[39m\u001B[38;5;124m\"\u001B[39m\n\u001B[1;32m---> 75\u001B[0m     \u001B[38;5;28;01mraise\u001B[39;00m exc\n",
      "File \u001B[1;32m~\\.conda\\envs\\concept-graphs\\lib\\site-packages\\meilisearch\\errors.py:72\u001B[0m, in \u001B[0;36mversion_error_hint_message.<locals>.wrapper\u001B[1;34m(*args, **kwargs)\u001B[0m\n\u001B[0;32m     69\u001B[0m \u001B[38;5;129m@wraps\u001B[39m(func)\n\u001B[0;32m     70\u001B[0m \u001B[38;5;28;01mdef\u001B[39;00m\u001B[38;5;250m \u001B[39m\u001B[38;5;21mwrapper\u001B[39m(\u001B[38;5;241m*\u001B[39margs: Any, \u001B[38;5;241m*\u001B[39m\u001B[38;5;241m*\u001B[39mkwargs: Any) \u001B[38;5;241m-\u001B[39m\u001B[38;5;241m>\u001B[39m Any:\n\u001B[0;32m     71\u001B[0m     \u001B[38;5;28;01mtry\u001B[39;00m:\n\u001B[1;32m---> 72\u001B[0m         \u001B[38;5;28;01mreturn\u001B[39;00m func(\u001B[38;5;241m*\u001B[39margs, \u001B[38;5;241m*\u001B[39m\u001B[38;5;241m*\u001B[39mkwargs)\n\u001B[0;32m     73\u001B[0m     \u001B[38;5;28;01mexcept\u001B[39;00m MeilisearchApiError \u001B[38;5;28;01mas\u001B[39;00m exc:\n\u001B[0;32m     74\u001B[0m         exc\u001B[38;5;241m.\u001B[39mmessage \u001B[38;5;241m=\u001B[39m \u001B[38;5;124mf\u001B[39m\u001B[38;5;124m\"\u001B[39m\u001B[38;5;132;01m{\u001B[39;00mexc\u001B[38;5;241m.\u001B[39mmessage\u001B[38;5;132;01m}\u001B[39;00m\u001B[38;5;124m. Hint: It might not be working because you\u001B[39m\u001B[38;5;124m'\u001B[39m\u001B[38;5;124mre not up to date with the Meilisearch version that \u001B[39m\u001B[38;5;132;01m{\u001B[39;00mfunc\u001B[38;5;241m.\u001B[39m\u001B[38;5;18m__name__\u001B[39m\u001B[38;5;132;01m}\u001B[39;00m\u001B[38;5;124m call requires.\u001B[39m\u001B[38;5;124m\"\u001B[39m\n",
      "File \u001B[1;32m~\\.conda\\envs\\concept-graphs\\lib\\site-packages\\meilisearch\\index.py:300\u001B[0m, in \u001B[0;36mIndex.search\u001B[1;34m(self, query, opt_params)\u001B[0m\n\u001B[0;32m    298\u001B[0m     opt_params \u001B[38;5;241m=\u001B[39m {}\n\u001B[0;32m    299\u001B[0m body \u001B[38;5;241m=\u001B[39m {\u001B[38;5;124m\"\u001B[39m\u001B[38;5;124mq\u001B[39m\u001B[38;5;124m\"\u001B[39m: query, \u001B[38;5;241m*\u001B[39m\u001B[38;5;241m*\u001B[39mopt_params}\n\u001B[1;32m--> 300\u001B[0m \u001B[38;5;28;01mreturn\u001B[39;00m \u001B[38;5;28;43mself\u001B[39;49m\u001B[38;5;241;43m.\u001B[39;49m\u001B[43mhttp\u001B[49m\u001B[38;5;241;43m.\u001B[39;49m\u001B[43mpost\u001B[49m\u001B[43m(\u001B[49m\n\u001B[0;32m    301\u001B[0m \u001B[43m    \u001B[49m\u001B[38;5;124;43mf\u001B[39;49m\u001B[38;5;124;43m\"\u001B[39;49m\u001B[38;5;132;43;01m{\u001B[39;49;00m\u001B[38;5;28;43mself\u001B[39;49m\u001B[38;5;241;43m.\u001B[39;49m\u001B[43mconfig\u001B[49m\u001B[38;5;241;43m.\u001B[39;49m\u001B[43mpaths\u001B[49m\u001B[38;5;241;43m.\u001B[39;49m\u001B[43mindex\u001B[49m\u001B[38;5;132;43;01m}\u001B[39;49;00m\u001B[38;5;124;43m/\u001B[39;49m\u001B[38;5;132;43;01m{\u001B[39;49;00m\u001B[38;5;28;43mself\u001B[39;49m\u001B[38;5;241;43m.\u001B[39;49m\u001B[43muid\u001B[49m\u001B[38;5;132;43;01m}\u001B[39;49;00m\u001B[38;5;124;43m/\u001B[39;49m\u001B[38;5;132;43;01m{\u001B[39;49;00m\u001B[38;5;28;43mself\u001B[39;49m\u001B[38;5;241;43m.\u001B[39;49m\u001B[43mconfig\u001B[49m\u001B[38;5;241;43m.\u001B[39;49m\u001B[43mpaths\u001B[49m\u001B[38;5;241;43m.\u001B[39;49m\u001B[43msearch\u001B[49m\u001B[38;5;132;43;01m}\u001B[39;49;00m\u001B[38;5;124;43m\"\u001B[39;49m\u001B[43m,\u001B[49m\n\u001B[0;32m    302\u001B[0m \u001B[43m    \u001B[49m\u001B[43mbody\u001B[49m\u001B[38;5;241;43m=\u001B[39;49m\u001B[43mbody\u001B[49m\u001B[43m,\u001B[49m\n\u001B[0;32m    303\u001B[0m \u001B[43m\u001B[49m\u001B[43m)\u001B[49m\n",
      "File \u001B[1;32m~\\.conda\\envs\\concept-graphs\\lib\\site-packages\\meilisearch\\_httprequests.py:94\u001B[0m, in \u001B[0;36mHttpRequests.post\u001B[1;34m(self, path, body, content_type, serializer)\u001B[0m\n\u001B[0;32m     84\u001B[0m \u001B[38;5;28;01mdef\u001B[39;00m\u001B[38;5;250m \u001B[39m\u001B[38;5;21mpost\u001B[39m(\n\u001B[0;32m     85\u001B[0m     \u001B[38;5;28mself\u001B[39m,\n\u001B[0;32m     86\u001B[0m     path: \u001B[38;5;28mstr\u001B[39m,\n\u001B[1;32m   (...)\u001B[0m\n\u001B[0;32m     92\u001B[0m     serializer: Optional[Type[json\u001B[38;5;241m.\u001B[39mJSONEncoder]] \u001B[38;5;241m=\u001B[39m \u001B[38;5;28;01mNone\u001B[39;00m,\n\u001B[0;32m     93\u001B[0m ) \u001B[38;5;241m-\u001B[39m\u001B[38;5;241m>\u001B[39m Any:\n\u001B[1;32m---> 94\u001B[0m     \u001B[38;5;28;01mreturn\u001B[39;00m \u001B[38;5;28;43mself\u001B[39;49m\u001B[38;5;241;43m.\u001B[39;49m\u001B[43msend_request\u001B[49m\u001B[43m(\u001B[49m\u001B[43mrequests\u001B[49m\u001B[38;5;241;43m.\u001B[39;49m\u001B[43mpost\u001B[49m\u001B[43m,\u001B[49m\u001B[43m \u001B[49m\u001B[43mpath\u001B[49m\u001B[43m,\u001B[49m\u001B[43m \u001B[49m\u001B[43mbody\u001B[49m\u001B[43m,\u001B[49m\u001B[43m \u001B[49m\u001B[43mcontent_type\u001B[49m\u001B[43m,\u001B[49m\u001B[43m \u001B[49m\u001B[43mserializer\u001B[49m\u001B[38;5;241;43m=\u001B[39;49m\u001B[43mserializer\u001B[49m\u001B[43m)\u001B[49m\n",
      "File \u001B[1;32m~\\.conda\\envs\\concept-graphs\\lib\\site-packages\\meilisearch\\_httprequests.py:74\u001B[0m, in \u001B[0;36mHttpRequests.send_request\u001B[1;34m(self, http_method, path, body, content_type, serializer)\u001B[0m\n\u001B[0;32m     65\u001B[0m         data \u001B[38;5;241m=\u001B[39m (\n\u001B[0;32m     66\u001B[0m             json\u001B[38;5;241m.\u001B[39mdumps(body, \u001B[38;5;28mcls\u001B[39m\u001B[38;5;241m=\u001B[39mserializer)\n\u001B[0;32m     67\u001B[0m             \u001B[38;5;28;01mif\u001B[39;00m serialize_body\n\u001B[0;32m     68\u001B[0m             \u001B[38;5;28;01melse\u001B[39;00m \u001B[38;5;124m\"\u001B[39m\u001B[38;5;124m\"\u001B[39m \u001B[38;5;28;01mif\u001B[39;00m body \u001B[38;5;241m==\u001B[39m \u001B[38;5;124m\"\u001B[39m\u001B[38;5;124m\"\u001B[39m \u001B[38;5;28;01melse\u001B[39;00m \u001B[38;5;124m\"\u001B[39m\u001B[38;5;124mnull\u001B[39m\u001B[38;5;124m\"\u001B[39m\n\u001B[0;32m     69\u001B[0m         )\n\u001B[0;32m     71\u001B[0m         request \u001B[38;5;241m=\u001B[39m http_method(\n\u001B[0;32m     72\u001B[0m             request_path, timeout\u001B[38;5;241m=\u001B[39m\u001B[38;5;28mself\u001B[39m\u001B[38;5;241m.\u001B[39mconfig\u001B[38;5;241m.\u001B[39mtimeout, headers\u001B[38;5;241m=\u001B[39m\u001B[38;5;28mself\u001B[39m\u001B[38;5;241m.\u001B[39mheaders, data\u001B[38;5;241m=\u001B[39mdata\n\u001B[0;32m     73\u001B[0m         )\n\u001B[1;32m---> 74\u001B[0m     \u001B[38;5;28;01mreturn\u001B[39;00m \u001B[38;5;28;43mself\u001B[39;49m\u001B[38;5;241;43m.\u001B[39;49m\u001B[43m__validate\u001B[49m\u001B[43m(\u001B[49m\u001B[43mrequest\u001B[49m\u001B[43m)\u001B[49m\n\u001B[0;32m     76\u001B[0m \u001B[38;5;28;01mexcept\u001B[39;00m requests\u001B[38;5;241m.\u001B[39mexceptions\u001B[38;5;241m.\u001B[39mTimeout \u001B[38;5;28;01mas\u001B[39;00m err:\n\u001B[0;32m     77\u001B[0m     \u001B[38;5;28;01mraise\u001B[39;00m MeilisearchTimeoutError(\u001B[38;5;28mstr\u001B[39m(err)) \u001B[38;5;28;01mfrom\u001B[39;00m\u001B[38;5;250m \u001B[39m\u001B[38;5;21;01merr\u001B[39;00m\n",
      "File \u001B[1;32m~\\.conda\\envs\\concept-graphs\\lib\\site-packages\\meilisearch\\_httprequests.py:145\u001B[0m, in \u001B[0;36mHttpRequests.__validate\u001B[1;34m(request)\u001B[0m\n\u001B[0;32m    143\u001B[0m     \u001B[38;5;28;01mreturn\u001B[39;00m HttpRequests\u001B[38;5;241m.\u001B[39m__to_json(request)\n\u001B[0;32m    144\u001B[0m \u001B[38;5;28;01mexcept\u001B[39;00m requests\u001B[38;5;241m.\u001B[39mexceptions\u001B[38;5;241m.\u001B[39mHTTPError \u001B[38;5;28;01mas\u001B[39;00m err:\n\u001B[1;32m--> 145\u001B[0m     \u001B[38;5;28;01mraise\u001B[39;00m MeilisearchApiError(\u001B[38;5;28mstr\u001B[39m(err), request) \u001B[38;5;28;01mfrom\u001B[39;00m\u001B[38;5;250m \u001B[39m\u001B[38;5;21;01merr\u001B[39;00m\n",
      "\u001B[1;31mMeilisearchApiError\u001B[0m: MeilisearchApiError. Error code: invalid_search_embedder. Error message: Cannot find embedder with name `default`.. Hint: It might not be working because you're not up to date with the Meilisearch version that search call requires. Error documentation: https://docs.meilisearch.com/errors#invalid_search_embedder Error type: invalid_request"
     ]
    }
   ],
   "execution_count": 140
  },
  {
   "metadata": {},
   "cell_type": "markdown",
   "source": "---",
   "id": "11d99b660e66ae40"
  },
  {
   "metadata": {
    "ExecuteTime": {
     "end_time": "2025-04-11T13:29:18.861760Z",
     "start_time": "2025-04-11T13:29:18.657229Z"
    }
   },
   "cell_type": "code",
   "source": [
    "index_grascco.add_documents(\n",
    "    list(meili_doc_generator(data, graphs, exclude_graphs=[1, 2, 9, 12, 18, 20])),\n",
    "    primary_key=\"id\"\n",
    ")"
   ],
   "id": "ab1d28b951a78b38",
   "outputs": [
    {
     "data": {
      "text/plain": [
       "TaskInfo(task_uid=127, index_uid='grascco', status='enqueued', type='documentAdditionOrUpdate', enqueued_at=datetime.datetime(2025, 4, 11, 13, 29, 18, 862253))"
      ]
     },
     "execution_count": 80,
     "metadata": {},
     "output_type": "execute_result"
    }
   ],
   "execution_count": 80
  },
  {
   "metadata": {
    "ExecuteTime": {
     "end_time": "2025-04-11T13:33:50.565514Z",
     "start_time": "2025-04-11T13:33:50.535380Z"
    }
   },
   "cell_type": "code",
   "source": [
    "def get_result_stats(search_results: dict):\n",
    "    stats = {\n",
    "        \"count\": 0,\n",
    "        \"docs\": set()\n",
    "    }\n",
    "    for result in search_results[\"hits\"]:\n",
    "        stats[\"docs\"].add(result[\"name\"])\n",
    "    stats[\"count\"] = len(stats[\"docs\"])\n",
    "    return stats"
   ],
   "id": "220c25f7180cd952",
   "outputs": [],
   "execution_count": 82
  },
  {
   "metadata": {
    "ExecuteTime": {
     "end_time": "2025-04-15T08:32:58.259289Z",
     "start_time": "2025-04-15T08:32:58.228043Z"
    }
   },
   "cell_type": "code",
   "source": [
    "search_result = index_grascco_manual.search(\n",
    "    \"Lungenentzündung\",\n",
    "    {\n",
    "        \"hybrid\": {\n",
    "            \"embedder\": \"grascco_ollama\",\n",
    "            \"semanticRatio\": 0.7  # 70% semantic, 30% full-text\n",
    "        },\n",
    "        \"rankingScoreThreshold\": 0.5,\n",
    "        \"showRankingScore\": True,\n",
    "        \"showRankingScoreDetails\": True,\n",
    "    }\n",
    ")"
   ],
   "id": "45c128c90146a9a7",
   "outputs": [],
   "execution_count": 69
  },
  {
   "metadata": {
    "ExecuteTime": {
     "end_time": "2025-04-15T08:33:01.611111Z",
     "start_time": "2025-04-15T08:33:01.595455Z"
    }
   },
   "cell_type": "code",
   "source": "search_result",
   "id": "e8dda71235cb2c2f",
   "outputs": [
    {
     "data": {
      "text/plain": [
       "{'hits': [],\n",
       " 'query': 'Lungenentzündung',\n",
       " 'processingTimeMs': 1,\n",
       " 'limit': 20,\n",
       " 'offset': 0,\n",
       " 'estimatedTotalHits': 0,\n",
       " 'semanticHitCount': 0}"
      ]
     },
     "execution_count": 70,
     "metadata": {},
     "output_type": "execute_result"
    }
   ],
   "execution_count": 70
  },
  {
   "metadata": {
    "ExecuteTime": {
     "end_time": "2025-04-11T14:00:19.488109Z",
     "start_time": "2025-04-11T14:00:19.468521Z"
    }
   },
   "cell_type": "code",
   "source": "get_result_stats(search_result)",
   "id": "f34f79fe95f3ec56",
   "outputs": [
    {
     "data": {
      "text/plain": [
       "{'count': 20,\n",
       " 'docs': {'Baastrup',\n",
       "  'Colon_Fake_A',\n",
       "  'Colon_Fake_D',\n",
       "  'Colon_Fake_H',\n",
       "  'Colon_Fake_I',\n",
       "  'Fabry',\n",
       "  'Fuss',\n",
       "  'Gebauer',\n",
       "  'Jenninger',\n",
       "  'Koenig',\n",
       "  'Meyr',\n",
       "  'Obradovic',\n",
       "  'Obradovic-2',\n",
       "  'Obradovic_Fehler',\n",
       "  'Popovic',\n",
       "  'Queisser',\n",
       "  'Stoelzl',\n",
       "  'Wankel',\n",
       "  'Weber',\n",
       "  'Xavier'}}"
      ]
     },
     "execution_count": 95,
     "metadata": {},
     "output_type": "execute_result"
    }
   ],
   "execution_count": 95
  },
  {
   "metadata": {},
   "cell_type": "markdown",
   "source": "---",
   "id": "229a668628951e38"
  },
  {
   "metadata": {},
   "cell_type": "code",
   "source": "ollama_client = ollama.Client(host=\"localhost:7701\")",
   "id": "b56cd76548ad2143",
   "outputs": [],
   "execution_count": null
  },
  {
   "metadata": {},
   "cell_type": "code",
   "source": [
    "elastic_docs = []\n",
    "for doc in meili_docs:\n",
    "    doc[\"phrases\"] = list(ollama_client.embed(\n",
    "        model=\"nomic-embed-text\",\n",
    "        input=doc[\"phrases\"]\n",
    "    ).embeddings[0]) if len(doc[\"phrases\"]) > 0 else [0.1] * 768\n",
    "    elastic_docs.append(doc)\n"
   ],
   "id": "3fa3a0f5531327b5",
   "outputs": [],
   "execution_count": null
  },
  {
   "metadata": {},
   "cell_type": "code",
   "source": [
    "with open('document_dump_embeddings.json', 'w', encoding='utf-8') as json_file:\n",
    "    json.dump(elastic_docs, json_file, ensure_ascii=False, indent=2)"
   ],
   "id": "6249496d5777c0b5",
   "outputs": [],
   "execution_count": null
  }
 ],
 "metadata": {
  "kernelspec": {
   "display_name": "Python 3",
   "language": "python",
   "name": "python3"
  },
  "language_info": {
   "codemirror_mode": {
    "name": "ipython",
    "version": 2
   },
   "file_extension": ".py",
   "mimetype": "text/x-python",
   "name": "python",
   "nbconvert_exporter": "python",
   "pygments_lexer": "ipython2",
   "version": "2.7.6"
  }
 },
 "nbformat": 4,
 "nbformat_minor": 5
}
