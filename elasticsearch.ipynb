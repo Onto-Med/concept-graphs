{
 "cells": [
  {
   "cell_type": "code",
   "id": "initial_id",
   "metadata": {
    "collapsed": true,
    "ExecuteTime": {
     "end_time": "2025-03-22T21:19:41.739536Z",
     "start_time": "2025-03-22T21:19:41.438420Z"
    }
   },
   "source": [
    "from elasticsearch import Elasticsearch, helpers\n",
    "from elasticsearch._sync.client import IndicesClient\n",
    "from elasticsearch_dsl import Search\n",
    "import json"
   ],
   "outputs": [],
   "execution_count": 1
  },
  {
   "metadata": {
    "ExecuteTime": {
     "end_time": "2025-03-22T21:23:01.893092Z",
     "start_time": "2025-03-22T21:23:01.888931Z"
    }
   },
   "cell_type": "code",
   "source": [
    "def delete_index(cli, index_name):\n",
    "    cli.indices.close(index=index_name)\n",
    "    cli.indices.delete(index=index_name)"
   ],
   "id": "6d905db4d2ecf978",
   "outputs": [],
   "execution_count": 2
  },
  {
   "metadata": {
    "ExecuteTime": {
     "end_time": "2025-03-22T21:25:54.679306Z",
     "start_time": "2025-03-22T21:25:54.676130Z"
    }
   },
   "cell_type": "code",
   "source": [
    "client = Elasticsearch(hosts='http://localhost:9200', request_timeout=120)\n",
    "search = Search(using=client, index='documents_stem')"
   ],
   "id": "856528f8bb7aaf53",
   "outputs": [],
   "execution_count": 13
  },
  {
   "metadata": {
    "ExecuteTime": {
     "end_time": "2025-03-20T10:58:50.576771Z",
     "start_time": "2025-03-20T10:58:50.482389Z"
    }
   },
   "cell_type": "code",
   "source": [
    "document_dump = {}\n",
    "dump_to_disk = False\n",
    "for hit in search.scan():\n",
    "    document_dump[hit.id] = hit.to_dict()\n",
    "if dump_to_disk:\n",
    "    with open('document_dump.json', 'w', encoding='utf-8') as f:\n",
    "        json.dump(document_dump, f, ensure_ascii=False, indent=2)"
   ],
   "id": "b7dfe05ec2c0969a",
   "outputs": [],
   "execution_count": 6
  },
  {
   "metadata": {
    "ExecuteTime": {
     "end_time": "2025-03-22T21:35:38.871629Z",
     "start_time": "2025-03-22T21:35:38.342363Z"
    }
   },
   "cell_type": "code",
   "source": "delete_index(client, 'documents_test')",
   "id": "5ba3430a863f2d6c",
   "outputs": [],
   "execution_count": 19
  },
  {
   "metadata": {
    "ExecuteTime": {
     "end_time": "2025-03-22T21:35:46.323663Z",
     "start_time": "2025-03-22T21:35:45.924271Z"
    }
   },
   "cell_type": "code",
   "source": [
    "client.indices.create(\n",
    "    index='documents_test',\n",
    "    mappings={\n",
    "        \"properties\": {\n",
    "            \"id\": {\"type\": \"keyword\"},\n",
    "            \"name\": {\"type\": \"text\", \"fields\": {\"keyword\": {\"type\": \"keyword\", \"ignore_above\": 256}}},\n",
    "            \"text\": {\"type\": \"text\", \"analyzer\": \"medical_analyzer_german\"},\n",
    "        }\n",
    "    },\n",
    "    settings={\n",
    "        \"analysis\": {\n",
    "            \"analyzer\": {\n",
    "                \"medical_analyzer_german\": {\n",
    "                    \"tokenizer\": \"whitespace\",\n",
    "                    \"filter\": [\"lowercase\", \"german_stop\", \"german_snowball\"]\n",
    "                },\n",
    "            },\n",
    "            \"filter\": {\n",
    "                \"german_snowball\": {\"type\": \"snowball\", \"language\": \"German2\"},\n",
    "                \"german_stop\": {\"type\": \"stop\", \"stopwords\": \"_german_\"},\n",
    "            }\n",
    "        }\n",
    "    }\n",
    ")"
   ],
   "id": "7404bc4641e39a98",
   "outputs": [
    {
     "data": {
      "text/plain": [
       "ObjectApiResponse({'acknowledged': True, 'shards_acknowledged': True, 'index': 'documents_test'})"
      ]
     },
     "execution_count": 20,
     "metadata": {},
     "output_type": "execute_result"
    }
   ],
   "execution_count": 20
  },
  {
   "metadata": {},
   "cell_type": "code",
   "source": [
    "indices_client = IndicesClient(client)\n",
    "indices_client.analyze(\n",
    "    index='documents_stem',\n",
    "    body={\n",
    "        \"analyzer\": \"medical_analyzer_german\",\n",
    "        \"text\": \"Jet-Lavage, Debridement und VAG Wechsel linken Hand\"\n",
    "    }\n",
    ").body"
   ],
   "id": "1ec3e2f504864d43",
   "outputs": [],
   "execution_count": null
  },
  {
   "metadata": {
    "ExecuteTime": {
     "end_time": "2025-03-22T21:42:20.655913Z",
     "start_time": "2025-03-22T21:42:20.649476Z"
    }
   },
   "cell_type": "code",
   "source": [
    "from_file = True\n",
    "if from_file:\n",
    "    with open('document_dump.json', 'r', encoding='utf-8') as f:\n",
    "        json_data = json.load(f)\n",
    "        index_actions = (\n",
    "            {\n",
    "                \"_index\": \"documents_test\",\n",
    "                \"_id\": hit.get(\"id\"),\n",
    "                \"_source\": hit\n",
    "            } for hit in json_data.values()\n",
    "        )\n",
    "else:\n",
    "    index_actions = (\n",
    "        {\n",
    "            \"_index\": \"documents_test\",\n",
    "            \"_id\": hit.id,\n",
    "            \"_source\": hit.to_dict()\n",
    "        } for hit in search.scan()\n",
    "    )"
   ],
   "id": "fd6c436afc895d3",
   "outputs": [],
   "execution_count": 23
  },
  {
   "metadata": {
    "ExecuteTime": {
     "end_time": "2025-03-22T21:42:26.535767Z",
     "start_time": "2025-03-22T21:42:26.444889Z"
    }
   },
   "cell_type": "code",
   "source": "helpers.bulk(client, list(index_actions)[:8])",
   "id": "691571c6f0163edf",
   "outputs": [
    {
     "data": {
      "text/plain": [
       "(8, [])"
      ]
     },
     "execution_count": 24,
     "metadata": {},
     "output_type": "execute_result"
    }
   ],
   "execution_count": 24
  },
  {
   "metadata": {
    "ExecuteTime": {
     "end_time": "2025-03-22T21:27:24.875475Z",
     "start_time": "2025-03-22T21:27:24.811096Z"
    }
   },
   "cell_type": "code",
   "source": [
    "client.search(\n",
    "    index='documents_stem',\n",
    "    body={\n",
    "        \"query\": {\n",
    "            \"match\": {\n",
    "                \"text\": {\n",
    "                    \"query\": \"stationär\",\n",
    "                }\n",
    "            }\n",
    "        }\n",
    "    }\n",
    ")"
   ],
   "id": "6271b9a582a68510",
   "outputs": [
    {
     "ename": "ApiError",
     "evalue": "ApiError(503, 'search_phase_execution_exception', None)",
     "output_type": "error",
     "traceback": [
      "\u001B[0;31m---------------------------------------------------------------------------\u001B[0m",
      "\u001B[0;31mApiError\u001B[0m                                  Traceback (most recent call last)",
      "Cell \u001B[0;32mIn [18], line 1\u001B[0m\n\u001B[0;32m----> 1\u001B[0m \u001B[43mclient\u001B[49m\u001B[38;5;241;43m.\u001B[39;49m\u001B[43msearch\u001B[49m\u001B[43m(\u001B[49m\n\u001B[1;32m      2\u001B[0m \u001B[43m    \u001B[49m\u001B[43mindex\u001B[49m\u001B[38;5;241;43m=\u001B[39;49m\u001B[38;5;124;43m'\u001B[39;49m\u001B[38;5;124;43mdocuments_stem\u001B[39;49m\u001B[38;5;124;43m'\u001B[39;49m\u001B[43m,\u001B[49m\n\u001B[1;32m      3\u001B[0m \u001B[43m    \u001B[49m\u001B[43mbody\u001B[49m\u001B[38;5;241;43m=\u001B[39;49m\u001B[43m{\u001B[49m\n\u001B[1;32m      4\u001B[0m \u001B[43m        \u001B[49m\u001B[38;5;124;43m\"\u001B[39;49m\u001B[38;5;124;43mquery\u001B[39;49m\u001B[38;5;124;43m\"\u001B[39;49m\u001B[43m:\u001B[49m\u001B[43m \u001B[49m\u001B[43m{\u001B[49m\n\u001B[1;32m      5\u001B[0m \u001B[43m            \u001B[49m\u001B[38;5;124;43m\"\u001B[39;49m\u001B[38;5;124;43mmatch\u001B[39;49m\u001B[38;5;124;43m\"\u001B[39;49m\u001B[43m:\u001B[49m\u001B[43m \u001B[49m\u001B[43m{\u001B[49m\n\u001B[1;32m      6\u001B[0m \u001B[43m                \u001B[49m\u001B[38;5;124;43m\"\u001B[39;49m\u001B[38;5;124;43mtext\u001B[39;49m\u001B[38;5;124;43m\"\u001B[39;49m\u001B[43m:\u001B[49m\u001B[43m \u001B[49m\u001B[43m{\u001B[49m\n\u001B[1;32m      7\u001B[0m \u001B[43m                    \u001B[49m\u001B[38;5;124;43m\"\u001B[39;49m\u001B[38;5;124;43mquery\u001B[39;49m\u001B[38;5;124;43m\"\u001B[39;49m\u001B[43m:\u001B[49m\u001B[43m \u001B[49m\u001B[38;5;124;43m\"\u001B[39;49m\u001B[38;5;124;43mstationär\u001B[39;49m\u001B[38;5;124;43m\"\u001B[39;49m\u001B[43m,\u001B[49m\n\u001B[1;32m      8\u001B[0m \u001B[43m                \u001B[49m\u001B[43m}\u001B[49m\n\u001B[1;32m      9\u001B[0m \u001B[43m            \u001B[49m\u001B[43m}\u001B[49m\n\u001B[1;32m     10\u001B[0m \u001B[43m        \u001B[49m\u001B[43m}\u001B[49m\n\u001B[1;32m     11\u001B[0m \u001B[43m    \u001B[49m\u001B[43m}\u001B[49m\n\u001B[1;32m     12\u001B[0m \u001B[43m)\u001B[49m\n",
      "File \u001B[0;32m~/miniconda3/envs/top-nlp/lib/python3.9/site-packages/elasticsearch/_sync/client/utils.py:455\u001B[0m, in \u001B[0;36m_rewrite_parameters.<locals>.wrapper.<locals>.wrapped\u001B[0;34m(*args, **kwargs)\u001B[0m\n\u001B[1;32m    452\u001B[0m         \u001B[38;5;28;01mexcept\u001B[39;00m \u001B[38;5;167;01mKeyError\u001B[39;00m:\n\u001B[1;32m    453\u001B[0m             \u001B[38;5;28;01mpass\u001B[39;00m\n\u001B[0;32m--> 455\u001B[0m \u001B[38;5;28;01mreturn\u001B[39;00m \u001B[43mapi\u001B[49m\u001B[43m(\u001B[49m\u001B[38;5;241;43m*\u001B[39;49m\u001B[43margs\u001B[49m\u001B[43m,\u001B[49m\u001B[43m \u001B[49m\u001B[38;5;241;43m*\u001B[39;49m\u001B[38;5;241;43m*\u001B[39;49m\u001B[43mkwargs\u001B[49m\u001B[43m)\u001B[49m\n",
      "File \u001B[0;32m~/miniconda3/envs/top-nlp/lib/python3.9/site-packages/elasticsearch/_sync/client/__init__.py:5061\u001B[0m, in \u001B[0;36mElasticsearch.search\u001B[0;34m(self, index, aggregations, aggs, allow_no_indices, allow_partial_search_results, analyze_wildcard, analyzer, batched_reduce_size, ccs_minimize_roundtrips, collapse, default_operator, df, docvalue_fields, error_trace, expand_wildcards, explain, ext, fields, filter_path, force_synthetic_source, from_, highlight, human, ignore_throttled, ignore_unavailable, include_named_queries_score, indices_boost, knn, lenient, max_concurrent_shard_requests, min_compatible_shard_node, min_score, pit, post_filter, pre_filter_shard_size, preference, pretty, profile, q, query, rank, request_cache, rescore, rest_total_hits_as_int, retriever, routing, runtime_mappings, script_fields, scroll, search_after, search_type, seq_no_primary_term, size, slice, sort, source, source_excludes, source_includes, stats, stored_fields, suggest, suggest_field, suggest_mode, suggest_size, suggest_text, terminate_after, timeout, track_scores, track_total_hits, typed_keys, version, body)\u001B[0m\n\u001B[1;32m   5059\u001B[0m \u001B[38;5;28;01mif\u001B[39;00m __body \u001B[38;5;129;01mis\u001B[39;00m \u001B[38;5;129;01mnot\u001B[39;00m \u001B[38;5;28;01mNone\u001B[39;00m:\n\u001B[1;32m   5060\u001B[0m     __headers[\u001B[38;5;124m\"\u001B[39m\u001B[38;5;124mcontent-type\u001B[39m\u001B[38;5;124m\"\u001B[39m] \u001B[38;5;241m=\u001B[39m \u001B[38;5;124m\"\u001B[39m\u001B[38;5;124mapplication/json\u001B[39m\u001B[38;5;124m\"\u001B[39m\n\u001B[0;32m-> 5061\u001B[0m \u001B[38;5;28;01mreturn\u001B[39;00m \u001B[38;5;28;43mself\u001B[39;49m\u001B[38;5;241;43m.\u001B[39;49m\u001B[43mperform_request\u001B[49m\u001B[43m(\u001B[49m\u001B[43m  \u001B[49m\u001B[38;5;66;43;03m# type: ignore[return-value]\u001B[39;49;00m\n\u001B[1;32m   5062\u001B[0m \u001B[43m    \u001B[49m\u001B[38;5;124;43m\"\u001B[39;49m\u001B[38;5;124;43mPOST\u001B[39;49m\u001B[38;5;124;43m\"\u001B[39;49m\u001B[43m,\u001B[49m\n\u001B[1;32m   5063\u001B[0m \u001B[43m    \u001B[49m\u001B[43m__path\u001B[49m\u001B[43m,\u001B[49m\n\u001B[1;32m   5064\u001B[0m \u001B[43m    \u001B[49m\u001B[43mparams\u001B[49m\u001B[38;5;241;43m=\u001B[39;49m\u001B[43m__query\u001B[49m\u001B[43m,\u001B[49m\n\u001B[1;32m   5065\u001B[0m \u001B[43m    \u001B[49m\u001B[43mheaders\u001B[49m\u001B[38;5;241;43m=\u001B[39;49m\u001B[43m__headers\u001B[49m\u001B[43m,\u001B[49m\n\u001B[1;32m   5066\u001B[0m \u001B[43m    \u001B[49m\u001B[43mbody\u001B[49m\u001B[38;5;241;43m=\u001B[39;49m\u001B[43m__body\u001B[49m\u001B[43m,\u001B[49m\n\u001B[1;32m   5067\u001B[0m \u001B[43m    \u001B[49m\u001B[43mendpoint_id\u001B[49m\u001B[38;5;241;43m=\u001B[39;49m\u001B[38;5;124;43m\"\u001B[39;49m\u001B[38;5;124;43msearch\u001B[39;49m\u001B[38;5;124;43m\"\u001B[39;49m\u001B[43m,\u001B[49m\n\u001B[1;32m   5068\u001B[0m \u001B[43m    \u001B[49m\u001B[43mpath_parts\u001B[49m\u001B[38;5;241;43m=\u001B[39;49m\u001B[43m__path_parts\u001B[49m\u001B[43m,\u001B[49m\n\u001B[1;32m   5069\u001B[0m \u001B[43m\u001B[49m\u001B[43m)\u001B[49m\n",
      "File \u001B[0;32m~/miniconda3/envs/top-nlp/lib/python3.9/site-packages/elasticsearch/_sync/client/_base.py:271\u001B[0m, in \u001B[0;36mBaseClient.perform_request\u001B[0;34m(self, method, path, params, headers, body, endpoint_id, path_parts)\u001B[0m\n\u001B[1;32m    255\u001B[0m \u001B[38;5;28;01mdef\u001B[39;00m \u001B[38;5;21mperform_request\u001B[39m(\n\u001B[1;32m    256\u001B[0m     \u001B[38;5;28mself\u001B[39m,\n\u001B[1;32m    257\u001B[0m     method: \u001B[38;5;28mstr\u001B[39m,\n\u001B[0;32m   (...)\u001B[0m\n\u001B[1;32m    264\u001B[0m     path_parts: Optional[Mapping[\u001B[38;5;28mstr\u001B[39m, Any]] \u001B[38;5;241m=\u001B[39m \u001B[38;5;28;01mNone\u001B[39;00m,\n\u001B[1;32m    265\u001B[0m ) \u001B[38;5;241m-\u001B[39m\u001B[38;5;241m>\u001B[39m ApiResponse[Any]:\n\u001B[1;32m    266\u001B[0m     \u001B[38;5;28;01mwith\u001B[39;00m \u001B[38;5;28mself\u001B[39m\u001B[38;5;241m.\u001B[39m_otel\u001B[38;5;241m.\u001B[39mspan(\n\u001B[1;32m    267\u001B[0m         method,\n\u001B[1;32m    268\u001B[0m         endpoint_id\u001B[38;5;241m=\u001B[39mendpoint_id,\n\u001B[1;32m    269\u001B[0m         path_parts\u001B[38;5;241m=\u001B[39mpath_parts \u001B[38;5;129;01mor\u001B[39;00m {},\n\u001B[1;32m    270\u001B[0m     ) \u001B[38;5;28;01mas\u001B[39;00m otel_span:\n\u001B[0;32m--> 271\u001B[0m         response \u001B[38;5;241m=\u001B[39m \u001B[38;5;28;43mself\u001B[39;49m\u001B[38;5;241;43m.\u001B[39;49m\u001B[43m_perform_request\u001B[49m\u001B[43m(\u001B[49m\n\u001B[1;32m    272\u001B[0m \u001B[43m            \u001B[49m\u001B[43mmethod\u001B[49m\u001B[43m,\u001B[49m\n\u001B[1;32m    273\u001B[0m \u001B[43m            \u001B[49m\u001B[43mpath\u001B[49m\u001B[43m,\u001B[49m\n\u001B[1;32m    274\u001B[0m \u001B[43m            \u001B[49m\u001B[43mparams\u001B[49m\u001B[38;5;241;43m=\u001B[39;49m\u001B[43mparams\u001B[49m\u001B[43m,\u001B[49m\n\u001B[1;32m    275\u001B[0m \u001B[43m            \u001B[49m\u001B[43mheaders\u001B[49m\u001B[38;5;241;43m=\u001B[39;49m\u001B[43mheaders\u001B[49m\u001B[43m,\u001B[49m\n\u001B[1;32m    276\u001B[0m \u001B[43m            \u001B[49m\u001B[43mbody\u001B[49m\u001B[38;5;241;43m=\u001B[39;49m\u001B[43mbody\u001B[49m\u001B[43m,\u001B[49m\n\u001B[1;32m    277\u001B[0m \u001B[43m            \u001B[49m\u001B[43motel_span\u001B[49m\u001B[38;5;241;43m=\u001B[39;49m\u001B[43motel_span\u001B[49m\u001B[43m,\u001B[49m\n\u001B[1;32m    278\u001B[0m \u001B[43m        \u001B[49m\u001B[43m)\u001B[49m\n\u001B[1;32m    279\u001B[0m         otel_span\u001B[38;5;241m.\u001B[39mset_elastic_cloud_metadata(response\u001B[38;5;241m.\u001B[39mmeta\u001B[38;5;241m.\u001B[39mheaders)\n\u001B[1;32m    280\u001B[0m         \u001B[38;5;28;01mreturn\u001B[39;00m response\n",
      "File \u001B[0;32m~/miniconda3/envs/top-nlp/lib/python3.9/site-packages/elasticsearch/_sync/client/_base.py:352\u001B[0m, in \u001B[0;36mBaseClient._perform_request\u001B[0;34m(self, method, path, params, headers, body, otel_span)\u001B[0m\n\u001B[1;32m    349\u001B[0m         \u001B[38;5;28;01mexcept\u001B[39;00m (\u001B[38;5;167;01mValueError\u001B[39;00m, \u001B[38;5;167;01mKeyError\u001B[39;00m, \u001B[38;5;167;01mTypeError\u001B[39;00m):\n\u001B[1;32m    350\u001B[0m             \u001B[38;5;28;01mpass\u001B[39;00m\n\u001B[0;32m--> 352\u001B[0m     \u001B[38;5;28;01mraise\u001B[39;00m HTTP_EXCEPTIONS\u001B[38;5;241m.\u001B[39mget(meta\u001B[38;5;241m.\u001B[39mstatus, ApiError)(\n\u001B[1;32m    353\u001B[0m         message\u001B[38;5;241m=\u001B[39mmessage, meta\u001B[38;5;241m=\u001B[39mmeta, body\u001B[38;5;241m=\u001B[39mresp_body\n\u001B[1;32m    354\u001B[0m     )\n\u001B[1;32m    356\u001B[0m \u001B[38;5;66;03m# 'X-Elastic-Product: Elasticsearch' should be on every 2XX response.\u001B[39;00m\n\u001B[1;32m    357\u001B[0m \u001B[38;5;28;01mif\u001B[39;00m \u001B[38;5;129;01mnot\u001B[39;00m \u001B[38;5;28mself\u001B[39m\u001B[38;5;241m.\u001B[39m_verified_elasticsearch:\n\u001B[1;32m    358\u001B[0m     \u001B[38;5;66;03m# If the header is set we mark the server as verified.\u001B[39;00m\n",
      "\u001B[0;31mApiError\u001B[0m: ApiError(503, 'search_phase_execution_exception', None)"
     ]
    }
   ],
   "execution_count": 18
  }
 ],
 "metadata": {
  "kernelspec": {
   "display_name": "Python 3",
   "language": "python",
   "name": "python3"
  },
  "language_info": {
   "codemirror_mode": {
    "name": "ipython",
    "version": 2
   },
   "file_extension": ".py",
   "mimetype": "text/x-python",
   "name": "python",
   "nbconvert_exporter": "python",
   "pygments_lexer": "ipython2",
   "version": "2.7.6"
  }
 },
 "nbformat": 4,
 "nbformat_minor": 5
}
