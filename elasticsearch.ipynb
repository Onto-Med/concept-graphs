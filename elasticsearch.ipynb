{
 "cells": [
  {
   "cell_type": "code",
   "id": "initial_id",
   "metadata": {
    "collapsed": true,
    "ExecuteTime": {
     "end_time": "2025-01-16T13:05:44.823596Z",
     "start_time": "2025-01-16T13:05:44.819918Z"
    }
   },
   "source": [
    "from elasticsearch import Elasticsearch\n",
    "from elasticsearch._sync.client import IndicesClient\n",
    "from elasticsearch_dsl import Search\n",
    "import json"
   ],
   "outputs": [],
   "execution_count": 37
  },
  {
   "metadata": {
    "ExecuteTime": {
     "end_time": "2025-01-16T13:08:14.409142Z",
     "start_time": "2025-01-16T13:08:14.405421Z"
    }
   },
   "cell_type": "code",
   "source": [
    "def delete_index(cli, index_name):\n",
    "    cli.indices.close(index=index_name)\n",
    "    cli.indices.delete(index=index_name)"
   ],
   "id": "6d905db4d2ecf978",
   "outputs": [],
   "execution_count": 44
  },
  {
   "metadata": {},
   "cell_type": "code",
   "outputs": [],
   "execution_count": null,
   "source": [
    "client = Elasticsearch(hosts='http://localhost:9008')\n",
    "search = Search(using=client, index='documents')"
   ],
   "id": "856528f8bb7aaf53"
  },
  {
   "metadata": {
    "ExecuteTime": {
     "end_time": "2025-01-15T11:25:08.151011Z",
     "start_time": "2025-01-15T11:25:07.797165Z"
    }
   },
   "cell_type": "code",
   "source": [
    "document_dump = {}\n",
    "for hit in search.scan():\n",
    "    document_dump[hit.id] = hit.to_dict()\n",
    "with open('document_dump.json', 'w', encoding='utf-8') as f:\n",
    "    json.dump(document_dump, f, ensure_ascii=False, indent=2)"
   ],
   "id": "b7dfe05ec2c0969a",
   "outputs": [],
   "execution_count": 12
  },
  {
   "metadata": {
    "ExecuteTime": {
     "end_time": "2025-01-16T13:34:13.197147Z",
     "start_time": "2025-01-16T13:34:13.083655Z"
    }
   },
   "cell_type": "code",
   "source": "delete_index(client, 'documents_stem')",
   "id": "5ba3430a863f2d6c",
   "outputs": [],
   "execution_count": 52
  },
  {
   "metadata": {
    "ExecuteTime": {
     "end_time": "2025-01-16T13:34:21.320339Z",
     "start_time": "2025-01-16T13:34:21.222328Z"
    }
   },
   "cell_type": "code",
   "source": [
    "client.indices.create(\n",
    "    index='documents_stem',\n",
    "    mappings={\n",
    "        \"properties\": {\n",
    "            \"id\": {\"type\": \"keyword\"},\n",
    "            \"name\": {\"type\": \"text\", \"fields\": {\"keyword\": {\"type\": \"keyword\", \"ignore_above\": 256}}},\n",
    "            \"text\": {\"type\": \"text\", \"analyzer\": \"medical_analyzer_german\"},\n",
    "        }\n",
    "    },\n",
    "    settings={\n",
    "        \"analysis\": {\n",
    "            \"analyzer\": {\n",
    "                \"medical_analyzer_german\": {\n",
    "                    \"tokenizer\": \"whitespace\",\n",
    "                    \"filter\": [\"lowercase\", \"german_stop\", \"german_snowball\"]\n",
    "                },\n",
    "            },\n",
    "            \"filter\": {\n",
    "                \"german_snowball\": {\"type\": \"snowball\", \"language\": \"German2\"},\n",
    "                \"german_stop\": {\"type\": \"stop\", \"stopwords\": \"_german_\"},\n",
    "            }\n",
    "        }\n",
    "    }\n",
    ")"
   ],
   "id": "7404bc4641e39a98",
   "outputs": [
    {
     "data": {
      "text/plain": [
       "ObjectApiResponse({'acknowledged': True, 'shards_acknowledged': True, 'index': 'documents_stem'})"
      ]
     },
     "execution_count": 53,
     "metadata": {},
     "output_type": "execute_result"
    }
   ],
   "execution_count": 53
  },
  {
   "metadata": {
    "ExecuteTime": {
     "end_time": "2025-01-16T13:34:24.446474Z",
     "start_time": "2025-01-16T13:34:24.435090Z"
    }
   },
   "cell_type": "code",
   "source": [
    "indices_client = IndicesClient(client)\n",
    "indices_client.analyze(\n",
    "    index='documents_stem',\n",
    "    body={\n",
    "        \"analyzer\": \"medical_analyzer_german\",\n",
    "        \"text\": \"Jet-Lavage, Debridement und VAG Wechsel linken Hand\"\n",
    "    }\n",
    ").body"
   ],
   "id": "1ec3e2f504864d43",
   "outputs": [
    {
     "data": {
      "text/plain": [
       "{'tokens': [{'token': 'jet-lavage,',\n",
       "   'start_offset': 0,\n",
       "   'end_offset': 11,\n",
       "   'type': 'word',\n",
       "   'position': 0},\n",
       "  {'token': 'debridement',\n",
       "   'start_offset': 12,\n",
       "   'end_offset': 23,\n",
       "   'type': 'word',\n",
       "   'position': 1},\n",
       "  {'token': 'vag',\n",
       "   'start_offset': 28,\n",
       "   'end_offset': 31,\n",
       "   'type': 'word',\n",
       "   'position': 3},\n",
       "  {'token': 'wechsel',\n",
       "   'start_offset': 32,\n",
       "   'end_offset': 39,\n",
       "   'type': 'word',\n",
       "   'position': 4},\n",
       "  {'token': 'link',\n",
       "   'start_offset': 40,\n",
       "   'end_offset': 46,\n",
       "   'type': 'word',\n",
       "   'position': 5},\n",
       "  {'token': 'hand',\n",
       "   'start_offset': 47,\n",
       "   'end_offset': 51,\n",
       "   'type': 'word',\n",
       "   'position': 6}]}"
      ]
     },
     "execution_count": 54,
     "metadata": {},
     "output_type": "execute_result"
    }
   ],
   "execution_count": 54
  }
 ],
 "metadata": {
  "kernelspec": {
   "display_name": "Python 3",
   "language": "python",
   "name": "python3"
  },
  "language_info": {
   "codemirror_mode": {
    "name": "ipython",
    "version": 2
   },
   "file_extension": ".py",
   "mimetype": "text/x-python",
   "name": "python",
   "nbconvert_exporter": "python",
   "pygments_lexer": "ipython2",
   "version": "2.7.6"
  }
 },
 "nbformat": 4,
 "nbformat_minor": 5
}
