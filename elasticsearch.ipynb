{
 "cells": [
  {
   "cell_type": "code",
   "id": "initial_id",
   "metadata": {
    "collapsed": true,
    "ExecuteTime": {
     "end_time": "2025-01-15T11:23:33.117809Z",
     "start_time": "2025-01-15T11:23:33.112820Z"
    }
   },
   "source": [
    "from elasticsearch import Elasticsearch\n",
    "from elasticsearch_dsl import Search\n",
    "import json\n",
    "import pathlib"
   ],
   "outputs": [],
   "execution_count": 10
  },
  {
   "metadata": {},
   "cell_type": "code",
   "outputs": [],
   "execution_count": null,
   "source": [
    "client = Elasticsearch(hosts='http://localhost:9008')\n",
    "search = Search(using=client, index='documents')"
   ],
   "id": "856528f8bb7aaf53"
  },
  {
   "metadata": {
    "ExecuteTime": {
     "end_time": "2025-01-15T11:25:08.151011Z",
     "start_time": "2025-01-15T11:25:07.797165Z"
    }
   },
   "cell_type": "code",
   "source": [
    "document_dump = {}\n",
    "for hit in search.scan():\n",
    "    document_dump[hit.id] = hit.to_dict()\n",
    "with open('document_dump.json', 'w', encoding='utf-8') as f:\n",
    "    json.dump(document_dump, f, ensure_ascii=False, indent=2)"
   ],
   "id": "b7dfe05ec2c0969a",
   "outputs": [],
   "execution_count": 12
  },
  {
   "metadata": {},
   "cell_type": "code",
   "outputs": [],
   "execution_count": null,
   "source": [
    "client.indices.create(\n",
    "    index='documents_stem',\n",
    "\n",
    ")"
   ],
   "id": "7404bc4641e39a98"
  }
 ],
 "metadata": {
  "kernelspec": {
   "display_name": "Python 3",
   "language": "python",
   "name": "python3"
  },
  "language_info": {
   "codemirror_mode": {
    "name": "ipython",
    "version": 2
   },
   "file_extension": ".py",
   "mimetype": "text/x-python",
   "name": "python",
   "nbconvert_exporter": "python",
   "pygments_lexer": "ipython2",
   "version": "2.7.6"
  }
 },
 "nbformat": 4,
 "nbformat_minor": 5
}
