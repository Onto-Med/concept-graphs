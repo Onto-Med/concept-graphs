{
 "cells": [
  {
   "cell_type": "code",
   "id": "initial_id",
   "metadata": {
    "collapsed": true,
    "ExecuteTime": {
     "end_time": "2025-04-10T10:07:09.316801Z",
     "start_time": "2025-04-10T10:07:08.657473Z"
    }
   },
   "source": [
    "from elasticsearch import Elasticsearch, helpers\n",
    "from elasticsearch._sync.client import IndicesClient\n",
    "from elasticsearch_dsl import Search\n",
    "import json\n",
    "\n",
    "import ollama"
   ],
   "outputs": [],
   "execution_count": 16
  },
  {
   "metadata": {
    "ExecuteTime": {
     "end_time": "2025-04-10T09:43:15.051950Z",
     "start_time": "2025-04-10T09:43:15.036193Z"
    }
   },
   "cell_type": "code",
   "source": [
    "def delete_index(cli, index_name):\n",
    "    cli.indices.close(index=index_name)\n",
    "    cli.indices.delete(index=index_name)"
   ],
   "id": "6d905db4d2ecf978",
   "outputs": [],
   "execution_count": 2
  },
  {
   "metadata": {
    "ExecuteTime": {
     "end_time": "2025-04-10T09:45:14.770695Z",
     "start_time": "2025-04-10T09:45:14.755104Z"
    }
   },
   "cell_type": "code",
   "source": [
    "client = Elasticsearch(hosts='http://localhost:9008', request_timeout=120)\n",
    "search = Search(using=client, index='documents_stem_embedding')"
   ],
   "id": "856528f8bb7aaf53",
   "outputs": [],
   "execution_count": 5
  },
  {
   "metadata": {
    "ExecuteTime": {
     "end_time": "2025-03-20T10:58:50.576771Z",
     "start_time": "2025-03-20T10:58:50.482389Z"
    }
   },
   "cell_type": "code",
   "source": [
    "document_dump = {}\n",
    "dump_to_disk = False\n",
    "for hit in search.scan():\n",
    "    document_dump[hit.id] = hit.to_dict()\n",
    "if dump_to_disk:\n",
    "    with open('document_dump.json', 'w', encoding='utf-8') as f:\n",
    "        json.dump(document_dump, f, ensure_ascii=False, indent=2)"
   ],
   "id": "b7dfe05ec2c0969a",
   "outputs": [],
   "execution_count": 6
  },
  {
   "metadata": {
    "ExecuteTime": {
     "end_time": "2025-04-10T14:25:51.598485Z",
     "start_time": "2025-04-10T14:25:51.501521Z"
    }
   },
   "cell_type": "code",
   "source": "delete_index(client, 'documents_stem_embedding')",
   "id": "5ba3430a863f2d6c",
   "outputs": [],
   "execution_count": 63
  },
  {
   "metadata": {
    "ExecuteTime": {
     "end_time": "2025-04-10T10:53:07.975916Z",
     "start_time": "2025-04-10T10:53:07.861254Z"
    }
   },
   "cell_type": "code",
   "source": [
    "client.indices.create(\n",
    "    index='documents_stem_embedding',\n",
    "    mappings={\n",
    "        \"properties\": {\n",
    "            \"id\": {\"type\": \"keyword\"},\n",
    "            \"document_id\": {\"type\": \"keyword\"},\n",
    "            \"type\": {\"type\": \"keyword\"},\n",
    "            \"name\": {\"type\": \"text\", \"fields\": {\"keyword\": {\"type\": \"keyword\", \"ignore_above\": 256}}},\n",
    "            \"text\": {\"type\": \"text\", \"analyzer\": \"medical_analyzer_german\"},\n",
    "            \"phrases\": {\n",
    "                \"type\": \"dense_vector\",\n",
    "                \"dims\": 768, # naturally depends on the embeddings to index; with version >8.11 needs not to be declared but will be deduced with the first vector\n",
    "                \"index\": True,\n",
    "                \"similarity\": \"cosine\",\n",
    "                \"index_options\": {\n",
    "                    \"type\": \"hnsw\",\n",
    "                    \"ef_construction\": 128,\n",
    "                    \"m\": 24\n",
    "                }\n",
    "            }\n",
    "        }\n",
    "    },\n",
    "    settings={\n",
    "        \"analysis\": {\n",
    "            \"analyzer\": {\n",
    "                \"medical_analyzer_german\": {\n",
    "                    \"tokenizer\": \"whitespace\",\n",
    "                    \"filter\": [\"lowercase\", \"german_stop\", \"german_snowball\"]\n",
    "                },\n",
    "            },\n",
    "            \"filter\": {\n",
    "                \"german_snowball\": {\"type\": \"snowball\", \"language\": \"German2\"},\n",
    "                \"german_stop\": {\"type\": \"stop\", \"stopwords\": \"_german_\"},\n",
    "            }\n",
    "        }\n",
    "    }\n",
    ")"
   ],
   "id": "7404bc4641e39a98",
   "outputs": [
    {
     "data": {
      "text/plain": [
       "ObjectApiResponse({'acknowledged': True, 'shards_acknowledged': True, 'index': 'documents_stem_embedding'})"
      ]
     },
     "execution_count": 45,
     "metadata": {},
     "output_type": "execute_result"
    }
   ],
   "execution_count": 45
  },
  {
   "metadata": {},
   "cell_type": "code",
   "source": [
    "indices_client = IndicesClient(client)\n",
    "indices_client.analyze(\n",
    "    index='documents_stem',\n",
    "    body={\n",
    "        \"analyzer\": \"medical_analyzer_german\",\n",
    "        \"text\": \"Jet-Lavage, Debridement und VAG Wechsel linken Hand\"\n",
    "    }\n",
    ").body"
   ],
   "id": "1ec3e2f504864d43",
   "outputs": [],
   "execution_count": null
  },
  {
   "metadata": {
    "ExecuteTime": {
     "end_time": "2025-04-10T10:56:56.819248Z",
     "start_time": "2025-04-10T10:56:56.777151Z"
    }
   },
   "cell_type": "code",
   "source": [
    "from_file = None\n",
    "from_file = 'document_dump_embeddings.json'\n",
    "_index = \"documents_stem_embedding\"\n",
    "if from_file:\n",
    "    with open(from_file, 'r', encoding='utf-8') as f:\n",
    "        json_data = json.load(f)\n",
    "        index_actions = (\n",
    "            {\n",
    "                \"_index\": _index,\n",
    "                \"_id\": hit.get(\"id\"),\n",
    "                \"_source\": dict(phrases_dot=hit[\"phrases\"], **hit)\n",
    "            } for hit in (\n",
    "                json_data.values() if isinstance(json_data, dict) else json_data\n",
    "            )\n",
    "        )\n",
    "else:\n",
    "    index_actions = (\n",
    "        {\n",
    "            \"_index\": _index,\n",
    "            \"_id\": hit.id,\n",
    "            \"_source\": hit.to_dict()\n",
    "        } for hit in search.scan()\n",
    "    )"
   ],
   "id": "fd6c436afc895d3",
   "outputs": [],
   "execution_count": 50
  },
  {
   "metadata": {
    "ExecuteTime": {
     "end_time": "2025-04-10T10:56:58.855939Z",
     "start_time": "2025-04-10T10:56:58.507527Z"
    }
   },
   "cell_type": "code",
   "source": "helpers.bulk(client, index_actions)",
   "id": "691571c6f0163edf",
   "outputs": [
    {
     "ename": "BulkIndexError",
     "evalue": "1 document(s) failed to index.",
     "output_type": "error",
     "traceback": [
      "\u001B[1;31m---------------------------------------------------------------------------\u001B[0m",
      "\u001B[1;31mBulkIndexError\u001B[0m                            Traceback (most recent call last)",
      "Cell \u001B[1;32mIn[51], line 1\u001B[0m\n\u001B[1;32m----> 1\u001B[0m \u001B[43mhelpers\u001B[49m\u001B[38;5;241;43m.\u001B[39;49m\u001B[43mbulk\u001B[49m\u001B[43m(\u001B[49m\u001B[43mclient\u001B[49m\u001B[43m,\u001B[49m\u001B[43m \u001B[49m\u001B[43mindex_actions\u001B[49m\u001B[43m)\u001B[49m\n",
      "File \u001B[1;32m~\\.conda\\envs\\concept-graphs\\lib\\site-packages\\elasticsearch\\helpers\\actions.py:540\u001B[0m, in \u001B[0;36mbulk\u001B[1;34m(client, actions, stats_only, ignore_status, *args, **kwargs)\u001B[0m\n\u001B[0;32m    538\u001B[0m \u001B[38;5;66;03m# make streaming_bulk yield successful results so we can count them\u001B[39;00m\n\u001B[0;32m    539\u001B[0m kwargs[\u001B[38;5;124m\"\u001B[39m\u001B[38;5;124myield_ok\u001B[39m\u001B[38;5;124m\"\u001B[39m] \u001B[38;5;241m=\u001B[39m \u001B[38;5;28;01mTrue\u001B[39;00m\n\u001B[1;32m--> 540\u001B[0m \u001B[38;5;28;01mfor\u001B[39;00m ok, item \u001B[38;5;129;01min\u001B[39;00m streaming_bulk(\n\u001B[0;32m    541\u001B[0m     client, actions, ignore_status\u001B[38;5;241m=\u001B[39mignore_status, span_name\u001B[38;5;241m=\u001B[39m\u001B[38;5;124m\"\u001B[39m\u001B[38;5;124mhelpers.bulk\u001B[39m\u001B[38;5;124m\"\u001B[39m, \u001B[38;5;241m*\u001B[39margs, \u001B[38;5;241m*\u001B[39m\u001B[38;5;241m*\u001B[39mkwargs  \u001B[38;5;66;03m# type: ignore[misc]\u001B[39;00m\n\u001B[0;32m    542\u001B[0m ):\n\u001B[0;32m    543\u001B[0m     \u001B[38;5;66;03m# go through request-response pairs and detect failures\u001B[39;00m\n\u001B[0;32m    544\u001B[0m     \u001B[38;5;28;01mif\u001B[39;00m \u001B[38;5;129;01mnot\u001B[39;00m ok:\n\u001B[0;32m    545\u001B[0m         \u001B[38;5;28;01mif\u001B[39;00m \u001B[38;5;129;01mnot\u001B[39;00m stats_only:\n",
      "File \u001B[1;32m~\\.conda\\envs\\concept-graphs\\lib\\site-packages\\elasticsearch\\helpers\\actions.py:453\u001B[0m, in \u001B[0;36mstreaming_bulk\u001B[1;34m(client, actions, chunk_size, max_chunk_bytes, raise_on_error, expand_action_callback, raise_on_exception, max_retries, initial_backoff, max_backoff, yield_ok, ignore_status, retry_on_status, span_name, *args, **kwargs)\u001B[0m\n\u001B[0;32m    450\u001B[0m     time\u001B[38;5;241m.\u001B[39msleep(\u001B[38;5;28mmin\u001B[39m(max_backoff, initial_backoff \u001B[38;5;241m*\u001B[39m \u001B[38;5;241m2\u001B[39m \u001B[38;5;241m*\u001B[39m\u001B[38;5;241m*\u001B[39m (attempt \u001B[38;5;241m-\u001B[39m \u001B[38;5;241m1\u001B[39m)))\n\u001B[0;32m    452\u001B[0m \u001B[38;5;28;01mtry\u001B[39;00m:\n\u001B[1;32m--> 453\u001B[0m     \u001B[38;5;28;01mfor\u001B[39;00m data, (ok, info) \u001B[38;5;129;01min\u001B[39;00m \u001B[38;5;28mzip\u001B[39m(\n\u001B[0;32m    454\u001B[0m         bulk_data,\n\u001B[0;32m    455\u001B[0m         _process_bulk_chunk(\n\u001B[0;32m    456\u001B[0m             client,\n\u001B[0;32m    457\u001B[0m             bulk_actions,\n\u001B[0;32m    458\u001B[0m             bulk_data,\n\u001B[0;32m    459\u001B[0m             otel_span,\n\u001B[0;32m    460\u001B[0m             raise_on_exception,\n\u001B[0;32m    461\u001B[0m             raise_on_error,\n\u001B[0;32m    462\u001B[0m             ignore_status,\n\u001B[0;32m    463\u001B[0m             \u001B[38;5;241m*\u001B[39margs,\n\u001B[0;32m    464\u001B[0m             \u001B[38;5;241m*\u001B[39m\u001B[38;5;241m*\u001B[39mkwargs,\n\u001B[0;32m    465\u001B[0m         ),\n\u001B[0;32m    466\u001B[0m     ):\n\u001B[0;32m    467\u001B[0m         \u001B[38;5;28;01mif\u001B[39;00m \u001B[38;5;129;01mnot\u001B[39;00m ok:\n\u001B[0;32m    468\u001B[0m             action, info \u001B[38;5;241m=\u001B[39m info\u001B[38;5;241m.\u001B[39mpopitem()\n",
      "File \u001B[1;32m~\\.conda\\envs\\concept-graphs\\lib\\site-packages\\elasticsearch\\helpers\\actions.py:359\u001B[0m, in \u001B[0;36m_process_bulk_chunk\u001B[1;34m(client, bulk_actions, bulk_data, otel_span, raise_on_exception, raise_on_error, ignore_status, *args, **kwargs)\u001B[0m\n\u001B[0;32m    352\u001B[0m \u001B[38;5;28;01melse\u001B[39;00m:\n\u001B[0;32m    353\u001B[0m     gen \u001B[38;5;241m=\u001B[39m _process_bulk_chunk_success(\n\u001B[0;32m    354\u001B[0m         resp\u001B[38;5;241m=\u001B[39mresp\u001B[38;5;241m.\u001B[39mbody,\n\u001B[0;32m    355\u001B[0m         bulk_data\u001B[38;5;241m=\u001B[39mbulk_data,\n\u001B[0;32m    356\u001B[0m         ignore_status\u001B[38;5;241m=\u001B[39mignore_status,\n\u001B[0;32m    357\u001B[0m         raise_on_error\u001B[38;5;241m=\u001B[39mraise_on_error,\n\u001B[0;32m    358\u001B[0m     )\n\u001B[1;32m--> 359\u001B[0m \u001B[38;5;28;01myield from\u001B[39;00m gen\n",
      "File \u001B[1;32m~\\.conda\\envs\\concept-graphs\\lib\\site-packages\\elasticsearch\\helpers\\actions.py:276\u001B[0m, in \u001B[0;36m_process_bulk_chunk_success\u001B[1;34m(resp, bulk_data, ignore_status, raise_on_error)\u001B[0m\n\u001B[0;32m    273\u001B[0m         \u001B[38;5;28;01myield\u001B[39;00m ok, {op_type: item}\n\u001B[0;32m    275\u001B[0m \u001B[38;5;28;01mif\u001B[39;00m errors:\n\u001B[1;32m--> 276\u001B[0m     \u001B[38;5;28;01mraise\u001B[39;00m BulkIndexError(\u001B[38;5;124mf\u001B[39m\u001B[38;5;124m\"\u001B[39m\u001B[38;5;132;01m{\u001B[39;00m\u001B[38;5;28mlen\u001B[39m(errors)\u001B[38;5;132;01m}\u001B[39;00m\u001B[38;5;124m document(s) failed to index.\u001B[39m\u001B[38;5;124m\"\u001B[39m, errors)\n",
      "\u001B[1;31mBulkIndexError\u001B[0m: 1 document(s) failed to index."
     ]
    }
   ],
   "execution_count": 51
  },
  {
   "metadata": {},
   "cell_type": "markdown",
   "source": "---",
   "id": "fe644594a4ba9dc2"
  },
  {
   "metadata": {
    "ExecuteTime": {
     "end_time": "2025-04-10T10:58:37.741750Z",
     "start_time": "2025-04-10T10:58:37.156292Z"
    }
   },
   "cell_type": "code",
   "source": [
    "_q = \"Wahn\"\n",
    "_q_embedding = list(ollama.Client(host=\"localhost:7701\").embed(\n",
    "    model=\"nomic-embed-text\",\n",
    "    input=_q\n",
    ").embeddings[0])"
   ],
   "id": "156263fda73b929e",
   "outputs": [],
   "execution_count": 52
  },
  {
   "metadata": {
    "ExecuteTime": {
     "end_time": "2025-04-10T12:29:49.457051Z",
     "start_time": "2025-04-10T12:29:49.415338Z"
    }
   },
   "cell_type": "code",
   "source": [
    "client = Elasticsearch(hosts='http://localhost:9008', request_timeout=120)\n",
    "response = client.search(\n",
    "    index='documents_stem_embedding',\n",
    "    body={\n",
    "        \"size\": 10,\n",
    "        \"query\": {\n",
    "            \"query_string\": {\n",
    "                \"query\": _q,\n",
    "                \"fields\": [\"text\"],\n",
    "                \"boost\": 0.9\n",
    "            }\n",
    "        },\n",
    "        \"highlight\": {\n",
    "            \"fields\": {\n",
    "                \"text\": {\n",
    "                    \"fragment_size\": 30,\n",
    "                    \"number_of_fragments\": 0,\n",
    "                }\n",
    "            },\n",
    "            \"type\": \"unified\"\n",
    "        },\n",
    "        \"knn\": {\n",
    "            \"field\": \"phrases\",\n",
    "            \"query_vector\": _q_embedding,\n",
    "            \"k\": 5,\n",
    "            \"num_candidates\": 50,\n",
    "            \"boost\": 0.1,\n",
    "        },\n",
    "    },\n",
    ")"
   ],
   "id": "6271b9a582a68510",
   "outputs": [],
   "execution_count": 61
  },
  {
   "metadata": {
    "ExecuteTime": {
     "end_time": "2025-04-10T12:29:13.843583Z",
     "start_time": "2025-04-10T12:29:13.827959Z"
    }
   },
   "cell_type": "code",
   "source": "len(response.body[\"hits\"][\"hits\"])",
   "id": "bc424db07e68b12b",
   "outputs": [
    {
     "data": {
      "text/plain": [
       "5"
      ]
     },
     "execution_count": 59,
     "metadata": {},
     "output_type": "execute_result"
    }
   ],
   "execution_count": 59
  },
  {
   "metadata": {
    "ExecuteTime": {
     "end_time": "2025-04-10T12:29:51.537017Z",
     "start_time": "2025-04-10T12:29:51.521392Z"
    }
   },
   "cell_type": "code",
   "source": [
    "[\n",
    "    {\n",
    "        \"id\": r[\"_id\"],\n",
    "        \"score\": r[\"_score\"],\n",
    "        \"text\": r[\"_source\"][\"text\"],\n",
    "        \"name\": r[\"_source\"][\"name\"],\n",
    "    }\n",
    "    for r in response.body[\"hits\"][\"hits\"]\n",
    "]"
   ],
   "id": "83e22b28ed478ac1",
   "outputs": [
    {
     "data": {
      "text/plain": [
       "[{'id': 'bcb5eeac-a4c5-4d6c-a1cd-b83dc031ed95',\n",
       "  'score': 0.08077419,\n",
       "  'text': '\\ufeffARCOS-KLINIK FLENSBURG\\nAkademisches Lehrkrankenhaus\\nder Otto-Waalkes-Universität Borkum\\nUrologische Abteilung\\nCHEFARZT: DR. MED. H. BLASENSTEIN\\n\\nHerrn\\nHelge Klabauter\\nUrologe\\nFriesische Str. 21 a\\n24937 Flensburg\\n \\n\\nFlensburg, 27. März 2025\\nRote Str. 3 \\nTelefon (0461) 708 - 223\\n\\n\\nBetr.: Asger Baastrup, geb. 5.7.54, Schleswiger Str. 95a, 24941 Flensburg \\n\\n\\nSehr geehrte Herr Kollege Klabauter!\\n\\nHr. Baastrup Asger war vom 8.3. - 22.3.2025 bei uns in stationärer Behandlung.\\n\\nDiagnosen: Narbige Blasanhalsstenose. nach Prostata-Adenom-Enukleatio 2006.\\nBekannte Blindheit nach Maculadeg. bds.\\nHerzinsuffizienz\\n\\nKleines Prostata-Ca Stadium pT1a,· G1.\\n\\n1 Tag vor der stationären Aufnahme war eine Sachse-Spaltung der narbigen Stenose durchgeführt worden. Der Katheter war herausgefallen. Nach nochmaliger vorübergehender Kathetervers6rgung betrug der Resturin·aber immer noch 150 ml., so daß wir uns zur·Elektro-Resektion entschlossen haben.\\n\\nDie präoperativen Blutwerte:  PSA 0,7 ng/ml, Kreatinin\\n1,5, Harnstoff 51 mg%, Elektrolyte ausgeglichen. Gerinnungsverhalten unauffällig.\\n\\nTherapie und Verlauf:\\n\\nResektion des Blasenhalses am 15.3.95. Histologisch zeigte sich außer Narbengewebe ein winziges, gut differenziertes Carcinom. Diesen Befund haben wir dem Patienten vorenthalten, da eine Therapie aufgrund des fortgeschrittenen Alters sicher nicht erforderlich ist.\\n\\nNach Katheter-Entfernung restharnfreie Blasenentleerung. Die Medikation von Adalat und Lanitop sowie Augentropfen \\nwurde hier weitergeführt.\\n\\nMit freundlichen Grüßen bin ich\\nIhr\\n\\nDr. Blasenstein\\nChefarzt\\n',\n",
       "  'name': 'Baastrup'},\n",
       " {'id': '435189b7-1fd0-416a-9846-995f6002c05a',\n",
       "  'score': 0.07997495,\n",
       "  'text': 'Diakonissenkrankenhaus Berlin – Ophthalmologisches Zentrum \\n\\nDiakonissenkrankenhaus Berlin 12299 Berlin \\n \\nHerrn\\nDr. med. Mike Marschollek\\nKantstraße. 21 a\\n33455 Wiesental\\t\\n\\n\\t\\t\\t\\t\\t\\t\\tBerlin, den 22.06.2032\\n\\nSehr geehrter Herr Marschollek,\\n\\nwir berichten über unseren gemeinsamen Patienten, Herrn Ramón Cajal, *23.03.1968, Gartenpfad 44, 33455 Wiesental, der sich vom 20.08.2032 bis 22.08.2032 in unserer stat. Behandlung befand.\\n\\nDiagnosen:\\nR/L: fortgeschrittenes OWG, diverse AT-Unverträglichkeiten (z.B. Taflotan, Cosopt und Cosopt-S)\\nRA: Z.n. NH-Lako bei Netzhautforamen / beginnende Ablatio vor 3 Jahren\\n\\nProcedere: Tagesdruckprofilmessung + Nachtmessung\\n\\nVisus bei Aufnahme:\\t\\tR:cc 1,0pp\\t\\tL: cc 1,0\\nVisus bei Entlassung:\\tR:cc 1,0pp\\t\\tL: cc 1,0\\nTensio bei Aufnahme: \\tR: 22 mmHg\\t\\tL: 16 mmHg\\nTensio bei Entlassung:\\tR: 25 mmHg\\t\\tL: 18 mmHg\\n\\nEntlassungsbefund:\\nVorderer Augenabschnitt\\nR/L: BH reizfrei, HH glatt + klar, VK tief + leer. Cat. incipiens\\n\\nHinterer Augenabschnitt:\\nR: NH anliegend. Papille randscharf, 0.9 bis 0.95 randständig exkaviert, inferior Lako-Herde um Foramen mit Deckel. Makula unauffällig\\nL: NH anliegend, Papille randscharf. CDR 0,7 bis 0,8, Makula unauffällig\\n\\nTensiones: RA max 25, min 16, im Mittel 20 mmHg, LA max 13, min 19, im Mittel 15 mmHg\\nPachymetrie: RA 4971 µm (Dresdner-Korrektur +2,37 mmHg) LA 5041 µm\\n(Dresdner Korrektur + 2,01mmHg)\\n30° Schwellenperimetrie: RA MD 4.97,\\tLA MD -2,5\\n\\nBeurteilung, Therapie und Verlauf:\\nDie stat. Aufnahme erfolgte zur Erstellung eines Tagedruckprofils unter der derz. lokalen Medikation mit Xalacom AT z.N. Da trotz dieser Therapie Druckwerte bis 25 mmHg am RA erreicht wurden und bei biomorphometrisch erkennbarer fortgeschrittener Papillenexkavation mit entsprechenden GF-Defekten am RA ist ein Zieldruck unter 12 mmHg anzustreben. Es bestehen zudem anamnestisch Unverträglichkeiten gegen verschiedene Antiglaukomatosa.\\n\\nWir führten mit dem Pat. ein ausführliches Gespräch über die operativen, antiglaukomatösen Möglichkeiten, sowie mögliche Therapieerfolge und Komplikationen. Wir rieten aufgrund der geringen neuroretinalen Reserve und der Notwendigkeit einer drastischen Drucksenkung zu einer TE+ MMC am RA möglichst kurzfristig. Der Patient wünscht einen Termin erst Oktober\\n2012.\\nWir bitten um Absetzten der lokalen, antiglaukomatösen Therapie 2 Wochen prä OP zur Vorbereitung der OP und Umstellung auf systemische Drucksenkung mittels 3x/tgl. 1xTbl. Diamox sowie 1xltgl. 1 Tbl. Kalinor unter hausärztlicher Kontrolle des Kalium-Spiegels sowie der Nierenwerte. Außerdem bitten wir um lokale Applikation von 5x/tgl. Dexasine AT am zu operierenden Auge. Bei Unverträglichkeit bitten wir um Beibehalten der bisherigen lokalen, drucksenkenden Behandlung. Regelmäßige zwischenzeitliche Tensio-Kontrolten BA sind empfohlen.\\n\\nMedikation:\\nR/L: Brimonidin AT 3x/die, Azopt AT 2x/die, Lumigan 0,1% AT z.N.\\n \\nMit freundlichen kollegialen Grüßen,\\n\\nProf. Dr. Ch. Janssen\\tProf. V. Ceusters\\tJ. Thiel\\nDirektorin der Klinik\\tStv.Direktor \\t\\tAssistenzärztin \\n\\n',\n",
       "  'name': 'Cajal'},\n",
       " {'id': 'edd9dc6c-df8d-4ce2-ac48-61909c392003',\n",
       "  'score': 0.079310775,\n",
       "  'text': 'Sehr geehrte Frau Kollegin, sehr geehrter Herr Kollege!\\n\\nWir berichten Ihnen über unsere gemeinsame Patientin Manuela Beuerle, * 19.04.2020, die sich am 09.02.22 in unserer ambulanten  Behandlung befand.\\n\\nErstvorstellung:\\nM. wird vorgestellt mit Spina bifida etwa Niveau L 5. Bisher keine OP. Sie ist versorgt mit zwei halb US-langen dorsalen Kunststofforthesen mit ventraler Klettzuggurtung ohne geschlossene ringförmige Fassung ohne Sprunggelenk.\\n\\nBefund:\\nReizlose Verschlussnarbe, großbogige flexible li.-konvexe thoracolumbale Skoliose, keine wesentliche Kyphose.\\nIm Stehen recht gute Stabilisierung  der Knie und Hüfte mit fast vollständiger Streckung, deutliche\\nKnick-Plattfüße bds.\\nBei der klinischen Untersuchung  freie passive Beweglichkeit der Hüfte in allen Ebenen bds. ohne Einschränkung, volle Knieflexion/Ext., die Füße zeigen eine Hackenfußdeformitation mit Plattfüßigkeit, der Fuß in sich kann im Sinne der Vorfußpronation gut korrigiert werden. Sensibilität bis auf die Fußsohle vermutlich erhalten (eingeschränkte Angaben, Verwertbarkeit). Tibiaextension re. mit Kraftgrad 2-3 mit Anspannung der Zehenextensoren und etwas Anspannung des Tib. anterior mit minimaler Exkursion des Fußes nach dorsal, li. anspannen der Zehenextensoren,  keine tastbare Aktivität des Tib. anterior. Flexionsstellung aller Zehen mit Korrigierbarkeit, die PF wird im Wesentlichen über die Zehenflexoren  bewerkstelligt, jedoch nur Kraftgrad 3.\\nKnieextension aktiv Kraftgrad 4- bds., Flexion 4. Hüftflexion bds. Kraftgrad 4, Extension Kraftgrad 3-4.\\nAbduktion Kraftgrad 4-, Adduktion 4. Insofern gute Aktivität bis auf den Fuß. Die Pat. steht deshalb auch recht gut aufgerichtet in allen Gelenken.\\nRöntgen: Rippstein I: Gute Hüftkopfepiphysenkonturgebung, minimale Lateralisation,  li. etwas stärker als re., noch übergreifende  Pfannendächer, Shenton-Menard-Linie nicht wesentlich unterbrochen, Pfannendachwinkel Ii. 30°, re. ebenfalls knapp 30°.\\nDiagnose:\\nSpina bifida mit Lähmungsniveau L 4 li., L 4/5 re., bds. Knick-Hackenfüße,\\nminimale großbogige li.-konvexe Totalskoliose\\n\\nProcedere:\\nWichtig ist die Sicherung  der Hüfte durch KG-Maßnahmen und Training der Abduktoren und Extensoren beider Hüften, als innere Schienung, eine Abspreizlagerung erscheint zurzeit noch nicht indiziert, vielmehr ist die Zentrierung der Hüfte per Abduktionskräftigung wichtiger. Für die Füße ist eine wie oben beschriebene Versorgung indiziert, die Eltern werden sich nach Erhalt des Kostenvoranschlags von der Orthopädietechnik das Vorgehen überlegen.\\n\\nMit freundlichen kollegialen Grüßen\\nPD Dr. Elisabeth Bamberger\\n',\n",
       "  'name': 'Beuerle'},\n",
       " {'id': '9e991774-0562-47e3-bd4a-a013f8183050',\n",
       "  'score': 0.078866914,\n",
       "  'text': 'Sehr geehrte Kolleginnen und Kollegen, wir berichten Ihnen abschließend über unsere gemeinsame Patientin Frauke Weber (* 2.2.1964), die sich vom 31.3.2020 bis zum 9.4.2020 in unserer intensivmedizinischen Behandlung befand. \\n\\n1. resp. Insuffizienz bei Pleuraergüssen bds. \\n2. Komb Aortenklappenvitium mit Aortenstenose KÖF 0,7) \\n3. Komb. Mitralvitium mit mittel- bis hochgradiger Stenose (KÖF 0,8) \\n4. normale LV-F \\n5. cerebrale Ischämie im Bereich der Stammganglien links + diffuse ältere ischämische Veränderungen \\n6. Va Pneumonie Zn Apoplex 2002 (Hemiparese re) keine Residuen \\n7. Hypothyreose bei Autoimmunthyreoiditis \\n8. DM Typ 2 mit diab. Nephropathie \\n9. Gramnegative Sepsis 1.2. (Fokus pulmonal oder Harnwege) \\n10. Akutes Nierenversagen \\n\\nKlappenersatz MKE bio, AKE 23er bio, Klemmzeit 2h40 min, Schwelle Ventrikel 1,4, Vorhof EK, 800 ml HLM-Blut, 2 TK : TEE, unauffällig : HIT-Schnelltest unauffällig, Pleura : HIT negativ : Angio-CCT : Beginn CVVH : CCT und GK-CT Übernahme von der 3 üd. Pt mit Kombiniertem Aortenvitium und führender tenose. Jetzt seit heute Abend zunehmend eingetrübt und Dyspnö. Jetzt bei Op-Indikation und nach entsprechender Vorbereitung: OP Vormedikation: \\n\\nVerlauf: \\nEchokardiographie:\\n\\n2 1. Normal großer, konzentrisch hypertrophierter linker Ventrikel mit noch guter LV-Funktion \\n2. Kombiniertes Mitralklappenvitium (MI II, M II ), kombiniertes Aortenklappenvitium, turbulenter Fluß über die Aortenklappe, mittl. Gradient 20 mmhg (bei schlechter B am ehesten unterschätzt) TI I \\n3. Erhöhte Druckwerte im kleinen Kreislauf Punktionswürdige Pleuraergüße bds\\n2 Konsil OA Prof. Kindler: Normotone -Werte, Sinusrhythmus; --> Therapieziel deutliche Minusbilanz mittels konservativer Maßnahmen - Beginn mit Toremprefusor unter Beachtung des Kreatininwertes - möglichst keine Pleuradrainagenanlage, sondern Einmalpunktion: echter Pleuraerguss wurde unter sterilen Bedingungen erfolgreich Punktiert und 1,2Liter PE abgelassen. Hierunter atmet die Patientin jetzt deutlich entspannter, die periphere Sättigung ist unter 60% O2 jetzt > 90%. \\nTorem-Perfusor läuft auf 2.1, hierunter bisher knapp 700ml ausgeschieden. \\nN: Pupillen isocor, lichtreagibel \\nP: bds. basal abgeschwächtes AG li>re, keine feuchten G‘s \\nC: 5/6 Systolikum A: weich, DG vorhanden \\nE: geringe U Ödeme bds \\n\\nProcedere: - weiterhin - Bilanz, Ziel ml - auf Retentionsparameter achten - bei erneuter Verschlechterung erneute Pleurapunktion - Beginn mit Voll-Heparinisierung, Ziel PTT 50-70sec; PTT Kontrolle \\nPat. somnolent, erweckbar, antwortet mit ja und nein auf die gestellten fragen atmet mit OptiFlow hierunter periph. sp02 >90% BGA nach Pleurapunktion unverändert p02 55, pc02 46 bei subjektiv zunehmender Atemnot \\nErhöhung der 02-Gabe auf 80% Kein Fieber, gute Ausscheidung, Pat. mit Torem-Perf. negativ bilanziert \\nN: Pupillen isochor bds lichtreagibel \\nC: HT rhythmisch 3/6 syst II IC re. \\nP: bds belüftet, endexpiratorisches Knistern re basal, Dämpfung li basal \\nA: weich, kein D, D++ \\nE: minimale Ödeme Unterschenkel bds \\nProcedere: BGA Kontrolle bei Verschlechterung der resp. Situation - Punktion links - ggf. CPAP :28 Änderung der ABx:  \\n Da Infektparameter steigend, Umsetzen auf Meronem 2x1 g/die (Hämofiltration) \\nSono Pleura/Abdomen: Magen ragt bis vor die Leber nach re, daher T coeliacus nicht beurteilbar. Pulsation in den Lebervenen, daher V.a Rechtsherzinsuffizienz. Leberparenchym echoarm. Intrahepatische Cholestase, GB gefüllt + Sludge, keine Wandverdickung. Pfortaderfluß: 20 cm/s, A.hepatica I-Wert: 0,87. Reduziertes Flußsignal in VCI. Niere re kein Harnstau, Niere links+Milz nicht einsehbar. Retroperitoneum nicht einsehbar. PE re ca 800 ml, Pleura li nicht darstellbar. \\nEmpfehlungen: \\nMikrobiologie: HTG über PE 800ml informiert :47 CCT und GK-CT: Befunde folgen nach Vergleich mit VU (Drs. Leber und Krauth melden sich bei OA Dr. Finger). Pat. während Transport und Untersuchung kardiopulmonal stabil :43 GKCT-Befund (Dr. Blau): Keine Thrombosen, keine Ischämien, viel freie FF im Abdomen, im Bereich des Pylorus und proximalen Duodenum ödematöse Wandverdickung -> könnte auf ein Ulcus hinweisen. Pleuraergüsse: re (ca. 800 ml) > li. (deutlich weniger) Tubus liegt tief über Carinawinkel -> kann 2 cm zurückgezogen werden :49 HIT-Test negativ :30 CCT-Befund: Viele alte postischämische Läsionen, keine frische Ischämien, keine Blutungen \\nDurchsicht des Abdominal-CT durch Fr. Dr. Leber (ACH): kein Handlungsbedarf. Die Mikrobiologie-Daten entnehmen ie bitte dem Anhang. \\n\\nLabor: Laborresultate (Zeitraum je 3 Tage) Aufnahme- Unters. Entlass- Unters. Laborresultate (Zeitraum je 3 Tage) Aufnahme- Unters. Entlass- Unters. Blutbild: Hb [g/dl] 14,9 10,4 HbE [g/dl] 28,7 29,1 Ery [Mio/µl] 5,2 3,6 Hämatokrit [%] 44,3 31,0 Leukozyten [/µl] Leukozyten [/µl] Neutrophile [%] 86,7 Eosinophile [%] 0 Basophile [%] 0 Lymphozyten [%] 8 Monozyten [%] 4 Unklassifiziert [%] 1,2 MCHC [g/dl] Thrombo [1000/µl] MCV [fl] Gerinnung: Quick [%] IN 1,3 1,3 PTT [sec] Fibrinogen [mg/dl] AT III [%] ACT [sec] 105 Elektrolyte: Natrium [mmol/l] Kalium [mmol/l] 5,5 Calcium [mmol/l] 2,3 2,0 Chlorid [mmol/l] Herz: CK gesamt [U/l] 43 CK-MB [U/l] Tropponin I [ng/ml] 50,0 LDH [U/l] Leber: GOT [U/l] 66 GPT [U/l] Bili gesamt [mg/dl] 1,8 1,8 Bili direkt [mg/dl] 0,6 1,5 Alk. Phosphatase [U/L] Gamma-GT [U/l] Stoffwechsel: Triglyceride [mg/dl] Pankreas-Amyl. [U/l] 7,0 16,0 Lipase [U/l] Hormone: TH [mu/l] 4,68 14,42 Cortisol [nmol/l] Niere: Kreatinin [mg/dl] 0,9 0,6 Harnstoff [mg/dl]  \\n\\nKrea-Clear. [ml/min] 18 U-Kreatinin [mg/dl] 7 U-Kreatinin [mg] Med. piegel: Digitoxin [µg/dl] 1,5 onstiges: Osmol.Calc. [mosm/kg] C-reakt.Prot. [mg/dl] 6,1 22,8 \\n\\nAktuelle Medikation: \\nMedikamente (letzte Gabe in 24 Stunden): \\nDiflucan - 400mg Bolus in 200ml fertig gelöst \\nDigimerck - 0,2mg Bolus \\nLaxoberal Trpf. - 20gtt p.o. in 1ml fertig gelöst p.o. \\nL-Thyroxin - 150µg p.o. in 10ml Wasser p.o. \\nMeronem - 1g Bolus in 100ml NaCl 0,9% \\nPantozol - 40mg KI in 100ml NaCl 0,9% \\nRefludan - 1mg - 11:30 DD-Suspension - 5ml p.o. in 5ml fertig gelöst p.o. \\nInfusionen (letzte 24 Stunden, ohne Spülungen): Intraflow - 9,0ml/h (500ml ) NaCl 0,9% - 9,0ml/h (500ml ), NaCl 0,9% - 11,0ml/h (250ml, 1000mg Vancomycin ).\\n Tropf-Infusionen: Actrapid HM - 0,122E/kg/h, 10,0ml/h (50E in 50ml NaCl 0,9% ) Arterenol - 0,122µg/kg/min, 6,0ml/h (5mg in 50ml NaCl 0,9% ) Hydrocortison - 0,098mg/kg/h, 2,0ml/h (200mg in 50ml NaCl 0,9% ) Kaliumchlorid 7,45% - 10mEqhr, 10,0ml/h (60mval in 60ml fertig gelöst ) Suprarenin - 0,081µg/kg/min, 4,0ml/h (5mg in 50ml fertig gelöst ) \\n\\nWir danken für die prompte Übernahme von Frau Weber und stehen für Rückfragen gerne unter der o.g. Telefon-Nr. zur Verfügung. \\n\\nMit freundlichen Grüßen\\nKaroline Jochum\\nStationaärztin Intensiv II\\n',\n",
       "  'name': 'Weber'},\n",
       " {'id': 'e768d9f1-e08e-40c8-8784-1123a40ea130',\n",
       "  'score': 0.07870145,\n",
       "  'text': '\\ufeffSehr geehrte Frau Kollegin, \\n\\nwir berichten nachfolgend über unsere gemeinsame Patientin M. Boeck, geboren am 1.2.2000, die sich vom 3.5. bis 8.5.2028 in unserer stat. Behandlung befand.\\n\\nEpikrise:\\nDie Aufnahme der 28-jährigen Pat. erfolgte durch den Rettungsdienst nach einem Motorradunfall. Laut der Patientin sei sie zur Arbeit gefahren und wegen einer Straßenbahn gestürzt. Vermutlich sei sie auf den Kopf (Helm) und die li. Hand gestürzt. Seit dem Unfall klagt sie über persistierende progrediente Cephalgie im ganzen Kopf und Nackenschmerzen, sowie Schmerzen im linken Unterarm. \\n\\nFerner imponieren folgende Begleitsymptome: Nausea ohne Emesis, Vertigo, kurzfristige Bewusstlosigkeit sowie kurze anterograde Amnesie. Lokale Symptome wie Dolor, Tumor, Rubor, Color und Functio laesa der linken Hand wurden verneint, ebenso Fragen nach Hautverletzungen, Blutungen, und andere Beschwerden wegen eines potentiellen thorakalen oder abdominalen Traumas.\\nEs wurde keine Medikamente beim Notarzt verabreicht. Letzte Auffrischung der Tetanus-Impfung sei unbekannt.\\n\\nVegetative Anamnese: bis o.g. Beschwerden unauffällig. B-Symptome wurden verneint.\\n\\nVorerkrankungen, Voroperationen: TVT vor 3 Monaten (stat. konservative Therapie), Z.n. Osteosynthese aufgrund von OSG-Fraktur links (2033).\\n\\nGynäkologische Anamnese: unauffällig.\\nAktuelle Medikation: \\nMarcumar 1-0-0\\nMedroxyprogesteron (Dreimonatsspritze)\\n\\nFamilienanamnese: Die Mutter der Patientin leide an TVT. Der Vater der Patientin sei nach einem Verkehrsunfall verstorben. Ein Bruder leidet an DM Typ 1 leide.\\nSie ist Floristin, ledig, habe keine Kinder, wohne mit einer Partnerin zusammen.\\nZur Diagnosesicherung wurden körperliche Inspektion mit Messung der Vitalparameter, laborchemische Untersuchung (BB, biochemische Blutanalyse, Gerinnung), CCT, Röntgen des Halses sowie der Hand durchgeführt.\\n\\nKörperliche Inspektion:\\nPatientin in reduziertem AZ und normalem EZ, zu Zeit, Ort sowie Person orientiert. Kreislauf stabil, Vitalparameter im Normbereich. Neurologische Untersuchung keine Ausfälle. \\n\\nWeitere Befunde:\\nLabor bei der Aufnahme: Gerinnungsstörung.\\nIm CCT stellte sich eine kleine posttraumatische subarachnoidale Blutung bds frontalis dar.\\nRöntgenologisch wurden HWS- sowie Handgelenksfraktur ausgeschlossen.\\nDie anamnestische Angaben sowie körperliche Inspektionszeichen in Kombination mit CTT und röntgenologischen Befunde deuten auf SHT mit subarachnoidaler Blutung bds frontalis hin.\\n\\nVerlauf:\\nIm stationären Verlauf mit Monitoring der Vitalparameter unter Therapie mit Konakion, Antiemetika (Metoclopramid) und Analgetika (Diclofenac) kam es zur deutlichen Verbesserung des AZs der Patientin, so dass konnten wir Frau Boeck in stabilem AZ und relativer Beschwerdefreiheit am 8.5.2028 entlassen konnten.\\n\\nWir bitten um weitere Befundkontrolle.\\nEntlassungsmedikation: Diclofenac b.B.\\nHausmedikation unverändert.\\n\\nWir bedanken uns für Ihre Weiterbetreuung und stehen für Rückfragen zur Verfügung.\\n\\nMit freundlichen kollegialen Grüßen,\\n\\nFrederic Meisenbacher\\nStationsarzt\\n ',\n",
       "  'name': 'Boeck'}]"
      ]
     },
     "execution_count": 62,
     "metadata": {},
     "output_type": "execute_result"
    }
   ],
   "execution_count": 62
  }
 ],
 "metadata": {
  "kernelspec": {
   "display_name": "Python 3",
   "language": "python",
   "name": "python3"
  },
  "language_info": {
   "codemirror_mode": {
    "name": "ipython",
    "version": 2
   },
   "file_extension": ".py",
   "mimetype": "text/x-python",
   "name": "python",
   "nbconvert_exporter": "python",
   "pygments_lexer": "ipython2",
   "version": "2.7.6"
  }
 },
 "nbformat": 4,
 "nbformat_minor": 5
}
