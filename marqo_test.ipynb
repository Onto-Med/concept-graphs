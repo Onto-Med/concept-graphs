{
 "cells": [
  {
   "cell_type": "code",
   "id": "initial_id",
   "metadata": {
    "collapsed": true,
    "ExecuteTime": {
     "end_time": "2025-05-12T08:24:04.253469Z",
     "start_time": "2025-05-12T08:24:03.373066Z"
    }
   },
   "source": "import marqo",
   "outputs": [],
   "execution_count": 1
  },
  {
   "metadata": {
    "ExecuteTime": {
     "end_time": "2025-05-12T08:27:09.715396Z",
     "start_time": "2025-05-12T08:27:09.695336Z"
    }
   },
   "cell_type": "code",
   "source": "mq = marqo.Client(url=\"http://localhost:8882\")",
   "id": "5dc38ca5eb150fe9",
   "outputs": [],
   "execution_count": 2
  },
  {
   "metadata": {
    "ExecuteTime": {
     "end_time": "2025-05-12T09:40:49.633847Z",
     "start_time": "2025-05-12T09:40:36.666522Z"
    }
   },
   "cell_type": "code",
   "source": [
    "mq.delete_index(\"test_index\")\n",
    "settings = {\n",
    "    \"treatUrlsAndPointersAsImages\": False,\n",
    "    \"model\": \"no_model\",\n",
    "    \"modelProperties\": {\n",
    "        \"dimensions\": 1024,\n",
    "        \"type\": \"no_model\",\n",
    "    },\n",
    "}\n",
    "mq.create_index(\n",
    "    index_name=\"test_index\",\n",
    "    settings_dict=settings,\n",
    ")"
   ],
   "id": "da5044d355758c8d",
   "outputs": [
    {
     "data": {
      "text/plain": [
       "{'acknowledged': True, 'index': 'test_index'}"
      ]
     },
     "execution_count": 10,
     "metadata": {},
     "output_type": "execute_result"
    }
   ],
   "execution_count": 10
  },
  {
   "metadata": {
    "ExecuteTime": {
     "end_time": "2025-05-12T09:14:36.292304Z",
     "start_time": "2025-05-12T09:14:16.138652Z"
    }
   },
   "cell_type": "code",
   "source": [
    "mq.index(\"test_index\").add_documents(\n",
    "    [\n",
    "        {\n",
    "            \"id\": \"0\",\n",
    "            \"phrase\": \"partielle hypertonie\",\n",
    "            \"phrase_vector\": {\n",
    "                \"vector\": []\n",
    "            }\n",
    "        },\n",
    "        {\n",
    "            \"id\": \"1\",\n",
    "            \"phrase\": \"akute psychose\",\n",
    "            \"phrase_vector\": {\n",
    "                \"vector\": []\n",
    "            }\n",
    "        },\n",
    "        {\n",
    "            \"id\": \"2\",\n",
    "            \"phrase\": \"lungenentzündung\",\n",
    "            \"phrase_vector\": {\n",
    "                \"vector\": []\n",
    "            }\n",
    "        }\n",
    "    ],\n",
    "    tensor_fields=[\"phrase_vector\"],\n",
    "    mappings={\n",
    "        \"phrase_vector\": {\n",
    "            \"type\": \"custom_vector\"\n",
    "        }\n",
    "    },\n",
    ")"
   ],
   "id": "8e0e6427bbefbe4f",
   "outputs": [
    {
     "data": {
      "text/plain": [
       "{'errors': False,\n",
       " 'processingTimeMs': 20113.35337534547,\n",
       " 'index_name': 'test_index',\n",
       " 'items': [{'status': 200, '_id': 'c4284a1e-7d40-467e-aced-d752569a6abe'},\n",
       "  {'status': 200, '_id': '410d423c-3e49-432f-9c3c-b2d9d3305ea4'},\n",
       "  {'status': 200, '_id': '9c9637b4-1667-4c0b-85e1-5e5bc272c135'}]}"
      ]
     },
     "execution_count": 9,
     "metadata": {},
     "output_type": "execute_result"
    }
   ],
   "execution_count": 9
  }
 ],
 "metadata": {
  "kernelspec": {
   "display_name": "Python 3",
   "language": "python",
   "name": "python3"
  },
  "language_info": {
   "codemirror_mode": {
    "name": "ipython",
    "version": 2
   },
   "file_extension": ".py",
   "mimetype": "text/x-python",
   "name": "python",
   "nbconvert_exporter": "python",
   "pygments_lexer": "ipython2",
   "version": "2.7.6"
  }
 },
 "nbformat": 4,
 "nbformat_minor": 5
}
