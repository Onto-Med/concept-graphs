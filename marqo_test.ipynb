{
 "cells": [
  {
   "cell_type": "code",
   "id": "initial_id",
   "metadata": {
    "collapsed": true,
    "ExecuteTime": {
     "end_time": "2025-05-27T07:56:27.026948Z",
     "start_time": "2025-05-27T07:56:27.020772Z"
    }
   },
   "source": [
    "import pathlib\n",
    "import pickle\n",
    "import sys\n",
    "\n",
    "import marqo"
   ],
   "outputs": [],
   "execution_count": 9
  },
  {
   "metadata": {
    "ExecuteTime": {
     "end_time": "2025-05-26T14:20:52.098057Z",
     "start_time": "2025-05-26T14:20:51.998760Z"
    }
   },
   "cell_type": "code",
   "source": "import numpy as np",
   "id": "63c8c3b905582292",
   "outputs": [],
   "execution_count": 2
  },
  {
   "metadata": {
    "ExecuteTime": {
     "end_time": "2025-05-26T14:21:09.861302Z",
     "start_time": "2025-05-26T14:20:53.143842Z"
    }
   },
   "cell_type": "code",
   "source": [
    "sys.path.insert(0, \"src\")\n",
    "import data_functions\n",
    "import embedding_functions\n",
    "import cluster_functions\n",
    "import graph_functions\n",
    "import util_functions\n",
    "from marqo_external_utils import MarqoEmbeddingStore, MarqoDocumentStore, MarqoDocument"
   ],
   "id": "c703b0e1f874907",
   "outputs": [
    {
     "name": "stderr",
     "output_type": "stream",
     "text": [
      "C:\\Users\\fra3066mat\\PycharmProjects\\concept-graphs\\src\\data_functions.py:15: TqdmWarning: IProgress not found. Please update jupyter and ipywidgets. See https://ipywidgets.readthedocs.io/en/stable/user_install.html\n",
      "  from tqdm.autonotebook import tqdm\n"
     ]
    },
    {
     "name": "stdout",
     "output_type": "stream",
     "text": [
      "WARNING:tensorflow:From C:\\Users\\fra3066mat\\.conda\\envs\\concept-graphs\\lib\\site-packages\\keras\\src\\losses.py:2976: The name tf.losses.sparse_softmax_cross_entropy is deprecated. Please use tf.compat.v1.losses.sparse_softmax_cross_entropy instead.\n",
      "\n"
     ]
    }
   ],
   "execution_count": 3
  },
  {
   "metadata": {
    "ExecuteTime": {
     "end_time": "2025-05-23T08:05:43.443001Z",
     "start_time": "2025-05-23T08:05:43.430388Z"
    }
   },
   "cell_type": "code",
   "source": [
    "from spacy.tokens import Doc\n",
    "\n",
    "if not Doc.has_extension(\"doc_id\"):\n",
    "    Doc.set_extension(\"doc_id\", default=None)\n",
    "if not Doc.has_extension(\"doc_index\"):\n",
    "    Doc.set_extension(\"doc_index\", default=None)\n",
    "if not Doc.has_extension(\"doc_name\"):\n",
    "    Doc.set_extension(\"doc_name\", default=None)\n",
    "if not Doc.has_extension(\"doc_topic\"):\n",
    "    Doc.set_extension(\"doc_topic\", default=None)\n",
    "if not Doc.has_extension(\"offset_in_doc\"):\n",
    "    Doc.set_extension(\"offset_in_doc\", default=None)\n",
    "if not Doc.has_extension(\"negex\"):\n",
    "    Doc.set_extension(\"negex\", default=None)"
   ],
   "id": "10f0b0e140b971a1",
   "outputs": [],
   "execution_count": 70
  },
  {
   "metadata": {},
   "cell_type": "markdown",
   "source": [
    "base_name_test = \"grascco_lokal_test\"\n",
    "path_name_test = lambda x: f\"./tmp/{base_name_test}/{base_name_test}_{x}.pickle\"---"
   ],
   "id": "50926fb1f176c875"
  },
  {
   "metadata": {
    "ExecuteTime": {
     "end_time": "2025-05-26T14:21:23.518046Z",
     "start_time": "2025-05-26T14:21:23.502394Z"
    }
   },
   "cell_type": "code",
   "source": [
    "base_name = \"grascco_lokal\"\n",
    "path_name = lambda x: f\"./tmp/{base_name}/{base_name}_{x}.pickle\""
   ],
   "id": "c51120914d312b13",
   "outputs": [],
   "execution_count": 5
  },
  {
   "metadata": {
    "ExecuteTime": {
     "end_time": "2025-05-23T07:06:11.710874Z",
     "start_time": "2025-05-23T07:06:11.688929Z"
    }
   },
   "cell_type": "code",
   "source": [
    "base_name_test = \"grascco_lokal_test\"\n",
    "path_name_test = lambda x: f\"./tmp/{base_name_test}/{base_name_test}_{x}.pickle\""
   ],
   "id": "1d05e23492e011f1",
   "outputs": [],
   "execution_count": 5
  },
  {
   "metadata": {
    "ExecuteTime": {
     "end_time": "2025-05-23T07:06:12.606290Z",
     "start_time": "2025-05-23T07:06:11.726993Z"
    }
   },
   "cell_type": "code",
   "source": [
    "grascco_data_test = data_functions.DataProcessingFactory.load(\n",
    "    data_obj_path=path_name_test(\"data\"),\n",
    ")"
   ],
   "id": "caf69017aa82363",
   "outputs": [],
   "execution_count": 6
  },
  {
   "metadata": {
    "ExecuteTime": {
     "end_time": "2025-05-23T07:06:48.680409Z",
     "start_time": "2025-05-23T07:06:12.627916Z"
    }
   },
   "cell_type": "code",
   "source": [
    "grascco_embedding_test = embedding_functions.SentenceEmbeddingsFactory.create(\n",
    "    data_obj=grascco_data_test,\n",
    "    cache_path=pathlib.Path(path_name_test(\"embedding\")).parent,\n",
    "    cache_name=\"_\".join(pathlib.Path(path_name_test(\"embedding\")).stem.split(\"_\")[:-1]),\n",
    "    model_name=\"Sahajtomar/German-semantic\",\n",
    "    storage_method=(\"vector_store\", {},),\n",
    "    vectorstore_normalizeEmbeddings=False,\n",
    "    vectorstore_annParameters={\n",
    "        \"spaceType\": \"dotproduct\",  #prenormalized-angular(default)\n",
    "        \"parameters\": {\n",
    "            \"efConstruction\": 1024,\n",
    "            \"m\": 16\n",
    "        }\n",
    "    }\n",
    ")"
   ],
   "id": "b2d11faaeffbfaa1",
   "outputs": [
    {
     "name": "stderr",
     "output_type": "stream",
     "text": [
      "INFO:root:Creating Sentence Embedding with 'None'\n",
      "INFO:sentence_transformers.SentenceTransformer:Use pytorch device_name: cpu\n",
      "INFO:sentence_transformers.SentenceTransformer:Load pretrained SentenceTransformer: Sahajtomar/German-semantic\n",
      "Batches: 100%|██████████| 28/28 [00:12<00:00,  2.25it/s]\n",
      "2025-05-23 09:06:40,803 logger:'marqo' WARNING Your Marqo Python client requires a minimum Marqo version of 2.18.0 to function properly, but your Marqo version is 2.16.1. Please upgrade your Marqo instance to avoid potential errors. If you have already changed your Marqo instance but still get this warning, please restart your Python interpreter.\n",
      "WARNING:marqo:Your Marqo Python client requires a minimum Marqo version of 2.18.0 to function properly, but your Marqo version is 2.16.1. Please upgrade your Marqo instance to avoid potential errors. If you have already changed your Marqo instance but still get this warning, please restart your Python interpreter.\n",
      "2025-05-23 09:06:43,531 logger:'marqo' INFO     add_documents batch 0: took 2.488s for Marqo to process & index 128 docs. Roundtrip time: 2.671s.\n",
      "INFO:marqo:    add_documents batch 0: took 2.488s for Marqo to process & index 128 docs. Roundtrip time: 2.671s.\n",
      "2025-05-23 09:06:44,402 logger:'marqo' INFO     add_documents batch 1: took 0.683s for Marqo to process & index 128 docs. Roundtrip time: 0.867s.\n",
      "INFO:marqo:    add_documents batch 1: took 0.683s for Marqo to process & index 128 docs. Roundtrip time: 0.867s.\n",
      "2025-05-23 09:06:45,264 logger:'marqo' INFO     add_documents batch 2: took 0.674s for Marqo to process & index 128 docs. Roundtrip time: 0.860s.\n",
      "INFO:marqo:    add_documents batch 2: took 0.674s for Marqo to process & index 128 docs. Roundtrip time: 0.860s.\n",
      "2025-05-23 09:06:46,112 logger:'marqo' INFO     add_documents batch 3: took 0.657s for Marqo to process & index 128 docs. Roundtrip time: 0.847s.\n",
      "INFO:marqo:    add_documents batch 3: took 0.657s for Marqo to process & index 128 docs. Roundtrip time: 0.847s.\n",
      "2025-05-23 09:06:47,141 logger:'marqo' INFO     add_documents batch 4: took 0.840s for Marqo to process & index 128 docs. Roundtrip time: 1.029s.\n",
      "INFO:marqo:    add_documents batch 4: took 0.840s for Marqo to process & index 128 docs. Roundtrip time: 1.029s.\n",
      "2025-05-23 09:06:47,939 logger:'marqo' INFO     add_documents batch 5: took 0.591s for Marqo to process & index 128 docs. Roundtrip time: 0.797s.\n",
      "INFO:marqo:    add_documents batch 5: took 0.591s for Marqo to process & index 128 docs. Roundtrip time: 0.797s.\n",
      "2025-05-23 09:06:48,658 logger:'marqo' INFO     add_documents batch 6: took 0.562s for Marqo to process & index 109 docs. Roundtrip time: 0.716s.\n",
      "INFO:marqo:    add_documents batch 6: took 0.562s for Marqo to process & index 109 docs. Roundtrip time: 0.716s.\n"
     ]
    },
    {
     "name": "stdout",
     "output_type": "stream",
     "text": [
      "Saved under: C:\\Users\\fra3066mat\\PycharmProjects\\concept-graphs\\tmp\\grascco_lokal_test\\grascco_lokal_test.pickle\n"
     ]
    }
   ],
   "execution_count": 7
  },
  {
   "metadata": {
    "ExecuteTime": {
     "end_time": "2025-05-26T14:13:20.770796Z",
     "start_time": "2025-05-26T14:13:20.755175Z"
    }
   },
   "cell_type": "code",
   "source": "isinstance(grascco_data, data_functions.DataProcessingFactory.DataProcessing)",
   "id": "fe554a269b97a4e5",
   "outputs": [
    {
     "data": {
      "text/plain": [
       "True"
      ]
     },
     "execution_count": 8,
     "metadata": {},
     "output_type": "execute_result"
    }
   ],
   "execution_count": 8
  },
  {
   "metadata": {
    "ExecuteTime": {
     "end_time": "2025-05-26T14:21:53.103221Z",
     "start_time": "2025-05-26T14:21:43.878114Z"
    }
   },
   "cell_type": "code",
   "source": [
    "grascco_data = data_functions.DataProcessingFactory.load(\n",
    "    data_obj_path=path_name(\"data\"),\n",
    ")\n",
    "grascco_embedding = embedding_functions.SentenceEmbeddingsFactory.load(\n",
    "    embeddings_obj_path=path_name(\"embedding\"),\n",
    "    data_obj=grascco_data,\n",
    ")\n",
    "grascco_clustering = cluster_functions.PhraseClusterFactory.load(\n",
    "    cluster_obj_path=path_name(\"clustering\"),\n",
    "    embedding_obj=grascco_embedding,\n",
    ")"
   ],
   "id": "a62234a179c606a2",
   "outputs": [],
   "execution_count": 7
  },
  {
   "metadata": {},
   "cell_type": "code",
   "source": [
    "grascco_embedding_from_vec = embedding_functions.SentenceEmbeddingsFactory.load(\n",
    "    data_obj_path=path_name(\"data\"),\n",
    "    embeddings_obj_path=path_name(\"vec\"),\n",
    "    storage_method=(\"vector_store\", {},),\n",
    ")"
   ],
   "id": "f66152fb2f6b013c",
   "outputs": [],
   "execution_count": null
  },
  {
   "metadata": {
    "ExecuteTime": {
     "end_time": "2025-05-23T07:06:48.723526Z",
     "start_time": "2025-05-23T07:06:48.715632Z"
    }
   },
   "cell_type": "code",
   "source": [
    "grascco_graph_test = pickle.load(\n",
    "    open(path_name_test(\"graph\"), 'rb')\n",
    ")"
   ],
   "id": "be08437d9cec5492",
   "outputs": [],
   "execution_count": 8
  },
  {
   "metadata": {
    "ExecuteTime": {
     "end_time": "2025-05-23T07:39:00.134222Z",
     "start_time": "2025-05-23T07:38:57.666589Z"
    }
   },
   "cell_type": "code",
   "source": [
    "grascco_data = data_functions.DataProcessingFactory.load(\n",
    "    data_obj_path=path_name(\"data\"),\n",
    ")"
   ],
   "id": "71599fbbdcd4999e",
   "outputs": [],
   "execution_count": 42
  },
  {
   "metadata": {
    "ExecuteTime": {
     "end_time": "2025-05-23T08:08:00.734267Z",
     "start_time": "2025-05-23T08:08:00.718606Z"
    }
   },
   "cell_type": "code",
   "source": [
    "doc_0 = grascco_data.processed_docs[0]\n",
    "print(doc_0.get_extension(\"negex\"))\n",
    "werte = [ch for ch in doc_0.noun_chunks][0]\n",
    "werte_underscore = getattr(werte, \"_\")"
   ],
   "id": "51c9129d3dcd2bd5",
   "outputs": [
    {
     "name": "stdout",
     "output_type": "stream",
     "text": [
      "(None, None, None, None)\n"
     ]
    }
   ],
   "execution_count": 79
  },
  {
   "metadata": {
    "ExecuteTime": {
     "end_time": "2025-05-23T08:25:40.824193Z",
     "start_time": "2025-05-23T08:25:40.814755Z"
    }
   },
   "cell_type": "code",
   "source": "getattr(doc_0, \"_\").__dict__",
   "id": "23d9a9c55c86f901",
   "outputs": [
    {
     "data": {
      "text/plain": [
       "{'_extensions': {'doc_id': (None, None, None, None),\n",
       "  'doc_index': (None, None, None, None),\n",
       "  'doc_name': (None, None, None, None),\n",
       "  'doc_topic': (None, None, None, None),\n",
       "  'offset_in_doc': (None, None, None, None),\n",
       "  'negex': (None, None, None, None)},\n",
       " '_obj': Werte Frau Kollegin, werter geehrter Herr Kollege!,\n",
       " '_doc': Werte Frau Kollegin, werter geehrter Herr Kollege!,\n",
       " '_start': None,\n",
       " '_end': None}"
      ]
     },
     "execution_count": 81,
     "metadata": {},
     "output_type": "execute_result"
    }
   ],
   "execution_count": 81
  },
  {
   "metadata": {
    "ExecuteTime": {
     "end_time": "2025-05-23T08:02:15.401471Z",
     "start_time": "2025-05-23T08:02:15.381346Z"
    }
   },
   "cell_type": "code",
   "source": "hasattr(werte, \"_\") and getattr(getattr(werte, \"_\"), \"negex\", False)",
   "id": "9ce839c76d8cfbf4",
   "outputs": [
    {
     "data": {
      "text/plain": [
       "False"
      ]
     },
     "execution_count": 68,
     "metadata": {},
     "output_type": "execute_result"
    }
   ],
   "execution_count": 68
  },
  {
   "metadata": {},
   "cell_type": "markdown",
   "source": "---",
   "id": "9be95c94b2410fd1"
  },
  {
   "metadata": {
    "ExecuteTime": {
     "end_time": "2025-05-23T07:07:19.956293Z",
     "start_time": "2025-05-23T07:07:19.940902Z"
    }
   },
   "cell_type": "code",
   "source": [
    "embedded_phrases = [\n",
    "    (chunk[\"text\"], grascco_embedding.sentence_embeddings[idx]) for idx, chunk in\n",
    "    enumerate(grascco_embedding.data_processing_obj.data_chunk_sets)\n",
    "    if 8 in [d[\"id\"] for d in chunk[\"doc\"]]\n",
    "]"
   ],
   "id": "9b8840e8fc8e6274",
   "outputs": [],
   "execution_count": 10
  },
  {
   "metadata": {
    "ExecuteTime": {
     "end_time": "2025-05-23T07:07:21.843067Z",
     "start_time": "2025-05-23T07:07:21.827446Z"
    }
   },
   "cell_type": "code",
   "source": [
    "phrases, embeddings = zip(*embedded_phrases)\n",
    "test_doc = MarqoDocument(\n",
    "    phrases=phrases,\n",
    "    embeddings=embeddings,\n",
    ")"
   ],
   "id": "dc375f1dbe358613",
   "outputs": [],
   "execution_count": 11
  },
  {
   "metadata": {
    "ExecuteTime": {
     "end_time": "2025-05-23T07:09:25.226220Z",
     "start_time": "2025-05-23T07:09:25.179595Z"
    }
   },
   "cell_type": "code",
   "source": "test_doc.as_tuples",
   "id": "85976572ab3113da",
   "outputs": [
    {
     "data": {
      "text/plain": [
       "[('werte',\n",
       "  array([ 0.3701871 ,  0.31832993,  0.08824714, ...,  0.09354529,\n",
       "          0.56552315, -0.23733714], dtype=float32)),\n",
       " ('frau kollegin',\n",
       "  array([-0.1903553 ,  0.17692809,  0.29991037, ..., -0.7145708 ,\n",
       "         -0.16699101, -0.5400057 ], dtype=float32)),\n",
       " ('patientin',\n",
       "  array([ 0.2600834 ,  0.48468646, -0.18760607, ...,  0.09251131,\n",
       "         -0.42281944, -0.15168679], dtype=float32)),\n",
       " ('aufnahme',\n",
       "  array([ 0.8548429 , -0.5273871 ,  0.3986764 , ...,  0.13365792,\n",
       "          0.19517979, -0.66357213], dtype=float32)),\n",
       " ('verlauf',\n",
       "  array([ 0.12985386, -0.20498803,  0.57968867, ...,  0.6519341 ,\n",
       "          1.1352999 , -1.024749  ], dtype=float32)),\n",
       " ('mg',\n",
       "  array([ 0.23868962,  0.15230763, -0.25467727, ...,  0.13008146,\n",
       "         -0.44494236,  0.49546698], dtype=float32)),\n",
       " ('therapie',\n",
       "  array([-0.25470355,  0.63473725, -0.21538383, ..., -0.34303823,\n",
       "          0.15202348,  0.990997  ], dtype=float32)),\n",
       " ('procedere',\n",
       "  array([ 1.2050004 ,  0.31515324,  0.6631018 , ...,  0.34630692,\n",
       "          0.37685782, -0.5170883 ], dtype=float32)),\n",
       " ('hause',\n",
       "  array([ 1.4747072 , -0.19454247, -0.5499359 , ..., -0.10912462,\n",
       "         -0.08579367, -0.66082203], dtype=float32)),\n",
       " ('diagnosen',\n",
       "  array([ 0.6942866 ,  0.02624747, -0.51509315, ..., -0.66170084,\n",
       "         -0.7977379 ,  0.335654  ], dtype=float32)),\n",
       " ('re',\n",
       "  array([ 0.10762623, -0.09380896, -0.0414356 , ...,  0.03876628,\n",
       "          0.9646127 , -0.0026572 ], dtype=float32)),\n",
       " ('pupillen',\n",
       "  array([ 0.22110076,  0.21544743, -0.8645999 , ...,  0.58797216,\n",
       "          0.40993848, -0.9574987 ], dtype=float32)),\n",
       " ('dg',\n",
       "  array([ 0.25483686, -0.7515985 , -1.0736128 , ...,  0.989723  ,\n",
       "          0.14061362, -0.6571753 ], dtype=float32)),\n",
       " ('abdomen',\n",
       "  array([ 0.03084793, -0.07398871, -0.73031044, ..., -0.4337418 ,\n",
       "         -0.87034416, -0.31597564], dtype=float32)),\n",
       " ('niere',\n",
       "  array([ 1.2939357 , -0.9557911 ,  0.17502092, ...,  0.25944257,\n",
       "          0.5656799 , -0.556177  ], dtype=float32)),\n",
       " ('labor',\n",
       "  array([ 0.7892076 , -1.3150301 ,  0.0400007 , ..., -0.07475915,\n",
       "         -0.02516742, -0.52544296], dtype=float32)),\n",
       " ('stunden',\n",
       "  array([-0.77696705, -0.18650979,  1.0663679 , ..., -0.38735726,\n",
       "         -0.33743042, -0.856356  ], dtype=float32)),\n",
       " ('bolus',\n",
       "  array([ 0.9346647 ,  0.06054436,  0.08667329, ..., -0.98624784,\n",
       "         -0.71624297, -1.3558718 ], dtype=float32)),\n",
       " ('med',\n",
       "  array([ 0.5171384 ,  0.28998086, -0.40378973, ...,  0.66953975,\n",
       "         -0.4036971 ,  0.8183846 ], dtype=float32)),\n",
       " ('reduziertem az',\n",
       "  array([ 0.69130254,  0.12706842, -1.3887571 , ..., -0.9323614 ,\n",
       "         -0.56070834, -1.0916495 ], dtype=float32)),\n",
       " ('entlassung',\n",
       "  array([-0.39196038,  0.27876556, -0.6132411 , ...,  0.04062243,\n",
       "         -0.21821937, -0.25900805], dtype=float32)),\n",
       " ('stat aufnahme',\n",
       "  array([ 1.0888122 , -1.1160346 ,  0.462046  , ...,  0.11412045,\n",
       "          0.44710326,  0.07186395], dtype=float32)),\n",
       " ('tumoranämie',\n",
       "  array([ 1.4328879 , -0.79981714, -0.47198278, ..., -0.0360301 ,\n",
       "          0.06595711, -0.13875575], dtype=float32)),\n",
       " ('implantation',\n",
       "  array([ 0.9962412 ,  0.8483226 , -1.0863066 , ...,  0.02858516,\n",
       "          0.90923166,  0.33411512], dtype=float32)),\n",
       " ('dekurs',\n",
       "  array([ 0.88999826, -1.194417  , -0.7844273 , ..., -0.7011467 ,\n",
       "          0.0322298 , -0.7178707 ], dtype=float32)),\n",
       " ('tumorerkrankung',\n",
       "  array([ 1.432913  , -0.54940116,  0.39190963, ...,  0.18373246,\n",
       "          0.2543912 , -1.0575315 ], dtype=float32)),\n",
       " ('operation',\n",
       "  array([ 0.21444634, -0.03553692, -0.24838305, ...,  0.32985398,\n",
       "          0.7422284 , -0.8082812 ], dtype=float32)),\n",
       " ('histologie',\n",
       "  array([ 0.8824385 , -1.0279957 ,  0.22848745, ...,  1.1710197 ,\n",
       "          0.46538785, -0.6788085 ], dtype=float32)),\n",
       " ('diagnostische pe',\n",
       "  array([ 0.33994642,  0.22282824, -0.7858137 , ..., -0.36673617,\n",
       "         -0.22377126, -0.53272486], dtype=float32)),\n",
       " ('histo',\n",
       "  array([ 1.0117106 , -0.45818093, -0.94455934, ...,  1.0918674 ,\n",
       "         -0.26054874, -0.89721525], dtype=float32)),\n",
       " ('stad',\n",
       "  array([ 0.74013406, -0.19541837,  0.41621748, ...,  0.29726896,\n",
       "         -0.345689  , -0.600213  ], dtype=float32)),\n",
       " ('endständige sigmoideostomie',\n",
       "  array([ 0.27637926, -0.06705959, -0.7675053 , ..., -0.8241068 ,\n",
       "         -1.5455997 ,  0.34805965], dtype=float32)),\n",
       " ('tu',\n",
       "  array([ 0.01497401,  0.24186903, -0.36937252, ...,  0.6649472 ,\n",
       "          0.69322556, -2.138882  ], dtype=float32)),\n",
       " ('folfox',\n",
       "  array([ 0.29473823,  0.26228124,  0.30439168, ...,  0.09441263,\n",
       "          0.4446291 , -0.33329588], dtype=float32)),\n",
       " ('universitätsklinik',\n",
       "  array([ 1.2625797 , -0.65668505, -0.16348004, ..., -0.41406965,\n",
       "         -0.28567705, -0.21393427], dtype=float32)),\n",
       " ('innere medizin',\n",
       "  array([ 1.2617364 , -0.27917606, -0.99180746, ...,  0.07789634,\n",
       "         -0.02653797, -0.42168438], dtype=float32)),\n",
       " ('klinische abteilung',\n",
       "  array([ 0.7175873 , -0.6483338 , -0.67705655, ...,  0.4150814 ,\n",
       "         -0.3140076 ,  0.16598023], dtype=float32)),\n",
       " ('o',\n",
       "  array([ 0.45346212,  0.6669543 ,  0.02097443, ..., -0.21242835,\n",
       "          0.57445   , -1.01148   ], dtype=float32)),\n",
       " ('n k o l o g',\n",
       "  array([-0.46235472,  0.49229628, -0.6978029 , ..., -0.12833415,\n",
       "          0.65025115, -1.7861857 ], dtype=float32)),\n",
       " ('werter herr kollege',\n",
       "  array([-0.9445502 ,  0.72039324, -0.2839921 , ..., -0.16732825,\n",
       "          0.44161946, -0.39070836], dtype=float32)),\n",
       " ('gemeinsame patientin',\n",
       "  array([ 0.26440337,  0.38178375, -0.08066398, ...,  0.19054593,\n",
       "         -0.51265365, -0.38167325], dtype=float32)),\n",
       " ('frau beatrice',\n",
       "  array([ 1.2703025 ,  0.19427522,  0.29640502, ..., -0.62355494,\n",
       "          0.17564544, -1.2385354 ], dtype=float32)),\n",
       " ('fallnummer',\n",
       "  array([-0.06268077,  0.51608723,  0.44931263, ..., -0.82024   ,\n",
       "          0.1773933 , -0.96881926], dtype=float32)),\n",
       " ('stationären behandlung',\n",
       "  array([ 0.17002046, -0.35591757, -0.01936612, ..., -0.88729256,\n",
       "          0.72504693,  0.9258911 ], dtype=float32)),\n",
       " ('rektumkarzinom',\n",
       "  array([ 1.7584962 , -1.0821067 , -0.41673666, ...,  0.8235275 ,\n",
       "         -0.716848  , -0.6754761 ], dtype=float32)),\n",
       " ('januar',\n",
       "  array([ 1.3193742 , -0.6885188 ,  0.80498284, ..., -0.5063858 ,\n",
       "          0.01823532, -1.2419363 ], dtype=float32)),\n",
       " ('transfusionspflichtige anämie',\n",
       "  array([ 0.6901954 ,  0.37095553, -0.889794  , ...,  0.20833747,\n",
       "          1.0754473 ,  0.6867362 ], dtype=float32)),\n",
       " ('zyklus',\n",
       "  array([ 0.55211693, -1.7662239 ,  0.31669724, ..., -1.4687756 ,\n",
       "          1.0046818 , -0.9348658 ], dtype=float32)),\n",
       " ('stationäre aufnahme',\n",
       "  array([-0.25547042, -0.2691199 ,  0.06128464, ..., -0.26465514,\n",
       "          0.5219034 ,  0.45065877], dtype=float32)),\n",
       " ('frau de beauharnais',\n",
       "  array([-0.02364764,  0.7875413 ,  0.7278867 , ..., -1.4797499 ,\n",
       "         -0.21586585, -0.80250454], dtype=float32)),\n",
       " ('einleitung',\n",
       "  array([ 0.10453585,  0.14513616,  0.07306932, ...,  1.2586064 ,\n",
       "          1.0543063 , -0.23333277], dtype=float32)),\n",
       " ('polychemotherapie',\n",
       "  array([-0.00152567, -0.65074325, -0.15923193, ..., -0.4714431 ,\n",
       "          0.82901734, -0.00615209], dtype=float32)),\n",
       " ('starke schmerzen',\n",
       "  array([ 0.7687418 , -0.03258003,  0.36138624, ...,  0.17093843,\n",
       "         -0.13684355, -0.31858665], dtype=float32)),\n",
       " ('sitzen',\n",
       "  array([ 0.01671168,  0.05116929,  0.3477018 , ..., -1.126259  ,\n",
       "         -0.64788574,  0.23489253], dtype=float32)),\n",
       " ('status',\n",
       "  array([1.3200247 , 0.27491972, 0.51317775, ..., 0.19034949, 0.20656854,\n",
       "         0.39215633], dtype=float32)),\n",
       " ('praesens',\n",
       "  array([ 0.3238624 ,  0.59584993, -0.2638137 , ..., -0.92398214,\n",
       "         -0.32136267, -0.85625666], dtype=float32)),\n",
       " ('deutlich red',\n",
       "  array([-0.29891568, -0.143282  , -0.7081503 , ..., -0.39154467,\n",
       "          0.29387027, -1.0972373 ], dtype=float32)),\n",
       " ('ez',\n",
       "  array([ 0.29791442,  0.78376967,  0.17077172, ...,  0.39037964,\n",
       "         -0.2672761 ,  0.07648556], dtype=float32)),\n",
       " ('leichten seitengl',\n",
       "  array([ 1.2191483 , -0.28938016,  0.82375157, ...,  1.881143  ,\n",
       "          0.27432352, -0.23650852], dtype=float32)),\n",
       " ('tremor',\n",
       "  array([ 1.0030532 , -0.28915462,  0.44305712, ..., -0.17203884,\n",
       "         -0.04814819, -0.5990416 ], dtype=float32)),\n",
       " ('caput',\n",
       "  array([ 1.4387741 ,  0.73829085,  0.09080793, ..., -0.23268022,\n",
       "         -0.01211013, -0.6998248 ], dtype=float32)),\n",
       " ('collum',\n",
       "  array([-0.78253776, -0.17307723, -0.22513902, ..., -0.5343798 ,\n",
       "         -0.83315563, -0.7516758 ], dtype=float32)),\n",
       " ('hnap',\n",
       "  array([ 0.9175652 ,  1.0208962 , -0.3540044 , ...,  1.0418832 ,\n",
       "         -0.06883125, -0.67425704], dtype=float32)),\n",
       " ('lr',\n",
       "  array([-0.14802225, -0.46761686, -1.0226333 , ...,  0.24187778,\n",
       "          0.3997013 , -1.7043806 ], dtype=float32)),\n",
       " ('zunge',\n",
       "  array([-0.20644356, -0.45886335, -0.07785252, ...,  0.98637795,\n",
       "          0.17105448, -0.706866  ], dtype=float32)),\n",
       " ('schleimhäute',\n",
       "  array([ 1.2513713 , -0.42150065, -0.54082716, ..., -0.56644976,\n",
       "          0.3834088 , -1.5750685 ], dtype=float32)),\n",
       " ('cor',\n",
       "  array([-0.29632953, -0.22946446, -0.09003601, ..., -0.20675355,\n",
       "          0.5714708 , -0.32394645], dtype=float32)),\n",
       " ('pulmo',\n",
       "  array([ 1.331249  ,  0.9782483 , -0.20386426, ..., -0.5452789 ,\n",
       "         -0.5126833 , -0.33318433], dtype=float32)),\n",
       " ('bauchdecke',\n",
       "  array([ 0.81396544,  0.68371564, -0.38407046, ..., -0.72889316,\n",
       "          0.04828677,  0.64902675], dtype=float32)),\n",
       " ('nierenlager',\n",
       "  array([ 1.5319555 , -0.87299836,  0.04308717, ..., -0.10010056,\n",
       "          0.36394328,  0.03371722], dtype=float32)),\n",
       " ('analregion',\n",
       "  array([ 0.21700709,  0.89476186, -0.2361931 , ..., -0.44624454,\n",
       "         -0.47257394, -1.7870077 ], dtype=float32)),\n",
       " ('fistelung',\n",
       "  array([-0.32025987, -0.04385822, -0.47067752, ..., -0.5592082 ,\n",
       "         -0.52689564, -0.26794347], dtype=float32)),\n",
       " ('cm rötung',\n",
       "  array([-0.93952006,  0.123535  , -0.23599635, ..., -0.45740822,\n",
       "         -0.4089721 , -0.42719674], dtype=float32)),\n",
       " ('extremitäten',\n",
       "  array([ 0.50361544, -0.59256697, -0.07035425, ..., -0.37679255,\n",
       "         -0.23399402, -0.3338619 ], dtype=float32)),\n",
       " ('gelenke',\n",
       "  array([-0.3517093 , -0.21307373, -0.06246876, ...,  0.37978688,\n",
       "          0.80337375,  0.04151084], dtype=float32)),\n",
       " ('periphere pulse',\n",
       "  array([ 1.3974003 , -0.6942722 ,  0.16811478, ..., -0.0072355 ,\n",
       "          0.04933432, -0.8583915 ], dtype=float32)),\n",
       " ('minimale beinödeme',\n",
       "  array([ 0.45801637,  0.14477792, -1.1311105 , ..., -0.6336421 ,\n",
       "          0.19736768, -0.01686326], dtype=float32)),\n",
       " ('durchgeführte untersuchungen',\n",
       "  array([-0.21623707, -0.16978987, -0.22192128, ..., -1.21865   ,\n",
       "          0.09772938, -1.1996809 ], dtype=float32)),\n",
       " ('leuko',\n",
       "  array([ 0.8697693 , -0.10196175,  0.1237947 , ..., -0.11270767,\n",
       "          0.39490187, -1.7440552 ], dtype=float32)),\n",
       " ('hb',\n",
       "  array([ 0.5452641 ,  0.32359344, -0.06575351, ...,  0.41943294,\n",
       "         -0.4456154 , -2.5368156 ], dtype=float32)),\n",
       " ('thrombo',\n",
       "  array([ 1.6208214 ,  0.00179977,  0.20931533, ..., -0.56414485,\n",
       "          0.44732985, -1.454763  ], dtype=float32)),\n",
       " ('crp',\n",
       "  array([ 1.8566797 , -0.22273712,  0.93251693, ...,  0.66262245,\n",
       "          0.7759351 , -0.3866966 ], dtype=float32)),\n",
       " ('eiweiß',\n",
       "  array([ 0.57850623,  0.52253926, -0.6884499 , ..., -0.05362656,\n",
       "          0.08637765, -0.45754677], dtype=float32)),\n",
       " ('cea',\n",
       "  array([ 0.48882353,  0.59281576, -0.6817196 , ...,  0.10772233,\n",
       "         -1.300258  , -0.65899324], dtype=float32)),\n",
       " ('verbreitertes herz',\n",
       "  array([-0.02222129,  0.08825613, -0.04710208, ...,  0.34482422,\n",
       "          0.5409743 , -0.991796  ], dtype=float32)),\n",
       " ('palliativen polychemotherapie',\n",
       "  array([ 0.18374117, -0.37824574, -0.03383047, ...,  0.39999512,\n",
       "          1.4187531 ,  0.00451032], dtype=float32)),\n",
       " ('lokal fortgeschrittenem rektumkarzinom',\n",
       "  array([ 1.6049556 , -1.0888627 , -0.10150049, ...,  1.0815508 ,\n",
       "         -0.353219  , -0.4531596 ], dtype=float32)),\n",
       " ('gesamtdosis',\n",
       "  array([ 0.5173744 , -0.20063071,  0.06513097, ..., -0.534353  ,\n",
       "         -0.27022713, -0.39536777], dtype=float32)),\n",
       " ('oxaliplatin',\n",
       "  array([ 0.4446339 ,  0.22989307, -0.4860347 , ..., -0.72704554,\n",
       "          0.4199423 , -0.13630389], dtype=float32)),\n",
       " ('std',\n",
       "  array([-0.5630578 , -0.10336606,  0.6102252 , ..., -0.580245  ,\n",
       "         -0.10337276, -0.7293136 ], dtype=float32)),\n",
       " ('mg calciumfolinat',\n",
       "  array([ 0.9194021 , -0.30153915, -0.39658776, ..., -0.5044307 ,\n",
       "          0.04259065,  0.4250584 ], dtype=float32)),\n",
       " ('dosisreduktion',\n",
       "  array([ 0.9540369 ,  0.00497385, -1.2309633 , ..., -0.05780656,\n",
       "          0.04341375, -0.6048728 ], dtype=float32)),\n",
       " ('linie',\n",
       "  array([ 0.60072565,  0.1805214 , -0.05209026, ..., -0.9438951 ,\n",
       "          0.06633829, -1.1322427 ], dtype=float32)),\n",
       " ('lokal fortgeschrittene tumorsituation',\n",
       "  array([ 0.81748426, -0.55114275,  0.5091761 , ...,  0.25966775,\n",
       "          0.17833523, -0.7268113 ], dtype=float32)),\n",
       " ('rektovag',\n",
       "  array([ 1.9160876 , -0.6263034 , -0.64720917, ...,  1.0029725 ,\n",
       "          0.980815  ,  0.14559756], dtype=float32)),\n",
       " ('fistelbildung',\n",
       "  array([-0.19409834,  0.25102144, -0.73051465, ...,  0.02188921,\n",
       "         -0.65227425, -0.35008782], dtype=float32)),\n",
       " ('laufender antibiotischer therapie',\n",
       "  array([ 0.4960343 , -0.05167042,  0.10268265, ..., -0.30554295,\n",
       "          0.4092541 ,  1.0186267 ], dtype=float32)),\n",
       " ('verträglichkeit',\n",
       "  array([ 0.6176406 ,  1.1819782 , -0.09213024, ..., -0.50625914,\n",
       "          0.83643323,  0.3967256 ], dtype=float32)),\n",
       " ('fortführung',\n",
       "  array([-0.36551183,  0.31658262,  0.06211639, ...,  0.16786869,\n",
       "          1.5532916 , -1.4447297 ], dtype=float32)),\n",
       " ('normaler dosierung',\n",
       "  array([ 0.6604576 , -0.01288013, -1.5171382 , ...,  0.6730017 ,\n",
       "          0.41990474, -0.07848738], dtype=float32)),\n",
       " ('ausreichend antiemetischen begleitmaßnahmen',\n",
       "  array([ 1.1967273 ,  0.7239454 ,  0.18312635, ..., -0.731879  ,\n",
       "          0.3115092 ,  0.9140982 ], dtype=float32)),\n",
       " ('gutem az',\n",
       "  array([ 1.0905064 ,  0.23930097, -0.83682775, ..., -0.5022527 ,\n",
       "         -0.17756177, -1.0916151 ], dtype=float32)),\n",
       " ('insgesamt blutkonserven',\n",
       "  array([ 0.77662116, -0.06801467, -1.1017815 , ..., -0.13477722,\n",
       "          0.443886  ,  0.18980487], dtype=float32)),\n",
       " ('empfohlene therapie',\n",
       "  array([-0.4998714 ,  0.5775166 , -0.41289532, ..., -0.5524927 ,\n",
       "          0.28713912,  1.0810924 ], dtype=float32)),\n",
       " ('furosemid mg',\n",
       "  array([ 0.2281054 ,  0.08778797,  0.13530953, ..., -0.09660242,\n",
       "         -0.21905467,  0.17160808], dtype=float32)),\n",
       " ('pantoloc',\n",
       "  array([ 0.28005016,  0.41528282, -1.6140342 , ..., -0.48766258,\n",
       "         -0.03538289, -0.2688081 ], dtype=float32)),\n",
       " ('ferretab',\n",
       "  array([ 0.67708194,  0.08598431, -0.10711272, ...,  0.6330051 ,\n",
       "         -0.34559712,  0.17230855], dtype=float32)),\n",
       " ('reparil drg',\n",
       "  array([ 0.81381005,  0.6488089 , -0.6487972 , ...,  0.28330168,\n",
       "          0.24475503, -0.16751832], dtype=float32)),\n",
       " ('ciprobay',\n",
       "  array([-0.16692662,  0.54182136, -0.93578184, ...,  0.4954823 ,\n",
       "         -0.82386696, -1.5465006 ], dtype=float32)),\n",
       " ('dauertherapie',\n",
       "  array([-0.7821574 ,  0.06215061,  0.7023365 , ...,  0.07320262,\n",
       "          1.373861  ,  0.3855187 ], dtype=float32)),\n",
       " ('mexalen',\n",
       "  array([ 1.527705  ,  0.6643    , -0.8722309 , ..., -0.30376148,\n",
       "          0.0156371 ,  0.47156698], dtype=float32)),\n",
       " ('lovenox',\n",
       "  array([ 0.16263661,  0.08075012,  0.10353639, ..., -0.14501663,\n",
       "         -0.6335758 ,  0.70997983], dtype=float32)),\n",
       " ('übelkeit',\n",
       "  array([-0.13038576,  0.04381157, -2.3866334 , ..., -0.75021017,\n",
       "         -0.71496654, -0.16507158], dtype=float32)),\n",
       " ('metoclopramid',\n",
       "  array([ 1.1872325 ,  0.29202497, -0.7782135 , ..., -0.25336698,\n",
       "         -0.037805  , -0.4179171 ], dtype=float32)),\n",
       " ('tr',\n",
       "  array([-0.47690973, -0.16756074,  0.29175618, ...,  0.14159551,\n",
       "         -0.5118875 ,  0.3456489 ], dtype=float32)),\n",
       " ('onkologie',\n",
       "  array([ 0.6279696 , -0.69024724,  0.93971956, ...,  0.86248267,\n",
       "         -0.06755061, -0.20360593], dtype=float32))]"
      ]
     },
     "execution_count": 24,
     "metadata": {},
     "output_type": "execute_result"
    }
   ],
   "execution_count": 24
  },
  {
   "metadata": {},
   "cell_type": "markdown",
   "source": "---",
   "id": "ad59c97082830e6e"
  },
  {
   "metadata": {
    "ExecuteTime": {
     "end_time": "2025-05-27T07:56:52.047416Z",
     "start_time": "2025-05-27T07:56:52.031459Z"
    }
   },
   "cell_type": "code",
   "source": "mq = marqo.Client(\"http://localhost:8882\")",
   "id": "1f1917f7ce56bc30",
   "outputs": [],
   "execution_count": 10
  },
  {
   "metadata": {
    "ExecuteTime": {
     "end_time": "2025-05-27T07:57:46.131212Z",
     "start_time": "2025-05-27T07:57:39.390733Z"
    }
   },
   "cell_type": "code",
   "source": "mq.index(\"grascco_smaller_footprint_embedding\").delete()",
   "id": "1fa1bd4a3712c51f",
   "outputs": [
    {
     "data": {
      "text/plain": [
       "{'acknowledged': True}"
      ]
     },
     "execution_count": 13,
     "metadata": {},
     "output_type": "execute_result"
    }
   ],
   "execution_count": 13
  },
  {
   "metadata": {
    "ExecuteTime": {
     "end_time": "2025-05-23T07:07:24.346372Z",
     "start_time": "2025-05-23T07:07:24.307530Z"
    }
   },
   "cell_type": "code",
   "source": [
    "mqs = MarqoEmbeddingStore(\"http://localhost:8882\", \"grascco_lokal_test\")\n",
    "mqds = MarqoDocumentStore(embedding_store=mqs)"
   ],
   "id": "e4565cde6c5380ae",
   "outputs": [],
   "execution_count": 12
  },
  {
   "metadata": {
    "ExecuteTime": {
     "end_time": "2025-05-23T07:07:40.054951Z",
     "start_time": "2025-05-23T07:07:39.976825Z"
    }
   },
   "cell_type": "code",
   "source": "mqs.marqo_index.recommend([\"10\"], exclude_input_documents=False)",
   "id": "9fdc22520b326af6",
   "outputs": [
    {
     "data": {
      "text/plain": [
       "{'hits': [{'graph_cluster': ['2'],\n",
       "   '_id': '10',\n",
       "   'phrase': 'handamputation',\n",
       "   '_highlights': [{'phrase_vector': ''}],\n",
       "   '_score': 491.0687255859375},\n",
       "  {'graph_cluster': ['2'],\n",
       "   '_id': '238',\n",
       "   'phrase': 'handchirurgen',\n",
       "   '_highlights': [{'phrase_vector': ''}],\n",
       "   '_score': 359.72576904296875},\n",
       "  {'_id': '51',\n",
       "   'phrase': 'abgetrennte hand',\n",
       "   '_highlights': [{'phrase_vector': ''}],\n",
       "   '_score': 345.06219482421875},\n",
       "  {'_id': '55',\n",
       "   'phrase': 'komplette amputation',\n",
       "   '_highlights': [{'phrase_vector': ''}],\n",
       "   '_score': 344.34820556640625},\n",
       "  {'graph_cluster': ['2'],\n",
       "   '_id': '20',\n",
       "   'phrase': 'handreplantaticm',\n",
       "   '_highlights': [{'phrase_vector': ''}],\n",
       "   '_score': 337.96893310546875},\n",
       "  {'graph_cluster': ['2'],\n",
       "   '_id': '229',\n",
       "   'phrase': 'handchirurgischer sicht',\n",
       "   '_highlights': [{'phrase_vector': ''}],\n",
       "   '_score': 313.2591247558594},\n",
       "  {'graph_cluster': ['2'],\n",
       "   '_id': '647',\n",
       "   'phrase': 'handgelenksfraktur',\n",
       "   '_highlights': [{'phrase_vector': ''}],\n",
       "   '_score': 310.511962890625},\n",
       "  {'graph_cluster': ['2'],\n",
       "   '_id': '68',\n",
       "   'phrase': 'hand',\n",
       "   '_highlights': [{'phrase_vector': ''}],\n",
       "   '_score': 302.1364440917969},\n",
       "  {'graph_cluster': ['2'],\n",
       "   '_id': '40',\n",
       "   'phrase': 'handrücken',\n",
       "   '_highlights': [{'phrase_vector': ''}],\n",
       "   '_score': 290.94708251953125},\n",
       "  {'graph_cluster': ['2'],\n",
       "   '_id': '41',\n",
       "   'phrase': 'handgelenk',\n",
       "   '_highlights': [{'phrase_vector': ''}],\n",
       "   '_score': 285.189453125}],\n",
       " 'query': None,\n",
       " 'limit': 10,\n",
       " 'offset': 0,\n",
       " 'processingTimeMs': 40}"
      ]
     },
     "execution_count": 15,
     "metadata": {},
     "output_type": "execute_result"
    }
   ],
   "execution_count": 15
  },
  {
   "metadata": {
    "ExecuteTime": {
     "end_time": "2025-05-23T07:20:02.921989Z",
     "start_time": "2025-05-23T07:20:02.890743Z"
    }
   },
   "cell_type": "code",
   "source": "mqs.marqo_index.get_document(\"877\")",
   "id": "9ef80e0edbef3c2a",
   "outputs": [
    {
     "data": {
      "text/plain": [
       "{'graph_cluster': ['1'], '_id': '877', 'phrase': 'universitätsklinik'}"
      ]
     },
     "execution_count": 31,
     "metadata": {},
     "output_type": "execute_result"
    }
   ],
   "execution_count": 31
  },
  {
   "metadata": {
    "ExecuteTime": {
     "end_time": "2025-05-23T07:21:28.127416Z",
     "start_time": "2025-05-23T07:21:28.069487Z"
    }
   },
   "cell_type": "code",
   "source": "mqs.store_size",
   "id": "ce529ac890f7e323",
   "outputs": [
    {
     "data": {
      "text/plain": [
       "959"
      ]
     },
     "execution_count": 33,
     "metadata": {},
     "output_type": "execute_result"
    }
   ],
   "execution_count": 33
  },
  {
   "metadata": {
    "ExecuteTime": {
     "end_time": "2025-05-23T07:22:57.207443Z",
     "start_time": "2025-05-23T07:22:57.179338Z"
    }
   },
   "cell_type": "code",
   "source": "mqs.marqo_index.get_document(\"886\")",
   "id": "9e3f05946126143b",
   "outputs": [
    {
     "data": {
      "text/plain": [
       "{'graph_cluster': ['4'], '_id': '886', 'phrase': 'stationären behandlung'}"
      ]
     },
     "execution_count": 41,
     "metadata": {},
     "output_type": "execute_result"
    }
   ],
   "execution_count": 41
  },
  {
   "metadata": {
    "ExecuteTime": {
     "end_time": "2025-05-23T07:22:08.207668Z",
     "start_time": "2025-05-23T07:22:03.981506Z"
    }
   },
   "cell_type": "code",
   "source": "[(i, mqs.best_hits_for_field(str(i), delete_if_not_similar=False)) for i in range(877, mqs.store_size)]",
   "id": "5cdebee03a3c76fe",
   "outputs": [
    {
     "data": {
      "text/plain": [
       "[(877, [('1', 11.760240059120495)]),\n",
       " (878, [('1', 15.563912360431399)]),\n",
       " (879, [('1', 13.69795101801703), ('4', 3.972856571368427)]),\n",
       " (880, []),\n",
       " (881, []),\n",
       " (882, []),\n",
       " (883, [('1', 5.941574448092673)]),\n",
       " (884, []),\n",
       " (885, []),\n",
       " (886, [('4', 13.746252881286466), ('1', 1.9939149636221862)]),\n",
       " (887, []),\n",
       " (888, []),\n",
       " (889, []),\n",
       " (890, []),\n",
       " (891, [('4', 17.582121253832234)]),\n",
       " (892, []),\n",
       " (893, []),\n",
       " (894, [('4', 1.9940438019040638)]),\n",
       " (895, []),\n",
       " (896, []),\n",
       " (897, []),\n",
       " (898, []),\n",
       " (899, []),\n",
       " (900, []),\n",
       " (901, []),\n",
       " (902, []),\n",
       " (903, []),\n",
       " (904, []),\n",
       " (905, []),\n",
       " (906, []),\n",
       " (907, []),\n",
       " (908, []),\n",
       " (909, []),\n",
       " (910, []),\n",
       " (911, []),\n",
       " (912, []),\n",
       " (913, []),\n",
       " (914, []),\n",
       " (915, []),\n",
       " (916, [('2', 1.9919543034489404)]),\n",
       " (917, [('2', 9.847546933007932)]),\n",
       " (918, []),\n",
       " (919, []),\n",
       " (920, [('1', 7.902381302323839)]),\n",
       " (921, []),\n",
       " (922, []),\n",
       " (923, []),\n",
       " (924, []),\n",
       " (925, []),\n",
       " (926, []),\n",
       " (927, []),\n",
       " (928, [('4', 5.931212460122179)]),\n",
       " (929, []),\n",
       " (930, [('0', 3.9662730218590942)]),\n",
       " (931, [('0', 3.9670350136031622)]),\n",
       " (932, []),\n",
       " (933, []),\n",
       " (934, [('0', 1.993396778108127)]),\n",
       " (935, []),\n",
       " (936, []),\n",
       " (937, []),\n",
       " (938, []),\n",
       " (939, []),\n",
       " (940, []),\n",
       " (941, []),\n",
       " (942, [('0', 1.99357317301831)]),\n",
       " (943, []),\n",
       " (944, []),\n",
       " (945, []),\n",
       " (946, [('4', 1.9940442100353826), ('1', 1.9938828363791274)]),\n",
       " (947, [('0', 3.9733503932673306)]),\n",
       " (948, [('0', 3.9750722507624463)]),\n",
       " (949, []),\n",
       " (950, []),\n",
       " (951, []),\n",
       " (952, [('4', 3.971777565304699)]),\n",
       " (953, []),\n",
       " (954, []),\n",
       " (955, []),\n",
       " (956, [('0', 7.884679722794986)]),\n",
       " (957, []),\n",
       " (958, [('4', 1.9917394060933475)])]"
      ]
     },
     "execution_count": 35,
     "metadata": {},
     "output_type": "execute_result"
    }
   ],
   "execution_count": 35
  },
  {
   "metadata": {
    "ExecuteTime": {
     "end_time": "2025-05-23T07:07:36.959925Z",
     "start_time": "2025-05-23T07:07:36.658824Z"
    }
   },
   "cell_type": "code",
   "source": [
    "for i, g in enumerate(grascco_graph_test):\n",
    "    doc_list = []\n",
    "    for n, d in g.nodes(True):\n",
    "        doc_list.append(\n",
    "            {\n",
    "                \"_id\": str(n),\n",
    "                \"graph_cluster\": [str(i)]\n",
    "            }\n",
    "        )\n",
    "    _res = mqs.marqo_index.update_documents(\n",
    "        documents=doc_list,\n",
    "        # client_batch_size=128,\n",
    "        # use_existing_tensors=True\n",
    "    )"
   ],
   "id": "5b5c589ca6f18afe",
   "outputs": [],
   "execution_count": 14
  },
  {
   "metadata": {
    "ExecuteTime": {
     "end_time": "2025-05-23T07:08:14.785684Z",
     "start_time": "2025-05-23T07:08:02.054718Z"
    }
   },
   "cell_type": "code",
   "source": "mqds.add_document(test_doc)",
   "id": "cfe7150e42850b3b",
   "outputs": [
    {
     "name": "stderr",
     "output_type": "stream",
     "text": [
      "2025-05-23 09:08:02,890 logger:'marqo' INFO     add_documents batch 0: took 0.625s for Marqo to process & index 116 docs. Roundtrip time: 0.789s.\n",
      "INFO:marqo:    add_documents batch 0: took 0.625s for Marqo to process & index 116 docs. Roundtrip time: 0.789s.\n",
      "INFO:root:For id '877' the same embedding is already in the index with id '0'.\n",
      "INFO:root:For id '878' the same embedding is already in the index with id '1'.\n",
      "INFO:root:For id '879' the same embedding is already in the index with id '49'.\n",
      "INFO:root:For id '880' the same embedding is already in the index with id '54'.\n",
      "INFO:root:For id '881' the same embedding is already in the index with id '65'.\n",
      "INFO:root:For id '882' the same embedding is already in the index with id '152'.\n",
      "INFO:root:For id '883' the same embedding is already in the index with id '190'.\n",
      "INFO:root:For id '884' the same embedding is already in the index with id '210'.\n",
      "INFO:root:For id '885' the same embedding is already in the index with id '211'.\n",
      "INFO:root:For id '886' the same embedding is already in the index with id '255'.\n",
      "INFO:root:For id '887' the same embedding is already in the index with id '269'.\n",
      "INFO:root:For id '888' the same embedding is already in the index with id '330'.\n",
      "INFO:root:For id '889' the same embedding is already in the index with id '337'.\n",
      "INFO:root:For id '890' the same embedding is already in the index with id '375'.\n",
      "INFO:root:For id '891' the same embedding is already in the index with id '390'.\n",
      "INFO:root:For id '892' the same embedding is already in the index with id '424'.\n",
      "INFO:root:For id '893' the same embedding is already in the index with id '427'.\n",
      "INFO:root:For id '894' the same embedding is already in the index with id '429'.\n",
      "INFO:root:For id '895' the same embedding is already in the index with id '474'.\n",
      "INFO:root:For id '896' the same embedding is already in the index with id '639'.\n",
      "INFO:root:For id '897' the same embedding is already in the index with id '691'.\n",
      "INFO:root:For id '898' the same embedding is already in the index with id '713'.\n",
      "INFO:root:For id '899' the same embedding is already in the index with id '809'.\n",
      "INFO:root:For id '900' the same embedding is already in the index with id '814'.\n",
      "INFO:root:For id '901' the same embedding is already in the index with id '820'.\n",
      "INFO:root:For id '902' the same embedding is already in the index with id '821'.\n",
      "INFO:root:For id '903' the same embedding is already in the index with id '822'.\n",
      "INFO:root:For id '904' the same embedding is already in the index with id '823'.\n",
      "INFO:root:For id '905' the same embedding is already in the index with id '824'.\n",
      "INFO:root:For id '906' the same embedding is already in the index with id '825'.\n",
      "INFO:root:For id '907' the same embedding is already in the index with id '827'.\n",
      "INFO:root:For id '908' the same embedding is already in the index with id '828'.\n",
      "INFO:root:For id '909' the same embedding is already in the index with id '847'.\n",
      "INFO:root:For id '910' the same embedding is already in the index with id '849'.\n",
      "2025-05-23 09:08:10,805 logger:'marqo' INFO     add_documents batch 0: took 0.426s for Marqo to process & index 82 docs. Roundtrip time: 0.571s.\n",
      "INFO:marqo:    add_documents batch 0: took 0.426s for Marqo to process & index 82 docs. Roundtrip time: 0.571s.\n",
      "2025-05-23 09:08:14,777 logger:'marqo' INFO     update_documents batch 0: took 0.064s for Marqo to process & index 17 docs. Roundtrip time: 0.076s.\n",
      "INFO:marqo:    update_documents batch 0: took 0.064s for Marqo to process & index 17 docs. Roundtrip time: 0.076s.\n"
     ]
    }
   ],
   "execution_count": 18
  },
  {
   "metadata": {},
   "cell_type": "markdown",
   "source": "---",
   "id": "cbcb44f268af51c5"
  },
  {
   "metadata": {},
   "cell_type": "code",
   "source": "grascco_embedding.data_processing_obj.data_chunk_sets[1]",
   "id": "a517ef68a1da844e",
   "outputs": [],
   "execution_count": null
  },
  {
   "metadata": {},
   "cell_type": "code",
   "source": [
    "vector_name = \"phrase_vector\"\n",
    "\n",
    "\n",
    "def create_index_document(sentence_embedding_obj: 'embedding_functions.SentenceEmbeddingsFactory.SentenceEmbeddings'):\n",
    "    for i, embedding in enumerate(sentence_embedding_obj.sentence_embeddings):\n",
    "        _chunk_obj = sentence_embedding_obj.data_processing_obj.data_chunk_sets[i]\n",
    "        yield {\n",
    "            \"_id\": str(i),\n",
    "            \"documents\": [str(d['id']) for d in _chunk_obj['doc']],\n",
    "            #\"phrase\": _chunk_obj['text'],\n",
    "            vector_name: {\n",
    "                \"content\": _chunk_obj['text'],\n",
    "                \"vector\": [float(f) for f in embedding]\n",
    "            }\n",
    "        }"
   ],
   "id": "99c11e371224b36a",
   "outputs": [],
   "execution_count": null
  },
  {
   "metadata": {},
   "cell_type": "code",
   "source": "mq = marqo.Client(url=\"http://localhost:8882\")",
   "id": "5dc38ca5eb150fe9",
   "outputs": [],
   "execution_count": null
  },
  {
   "metadata": {},
   "cell_type": "code",
   "source": [
    "index_name = \"grascco_index\"\n",
    "settings = {\n",
    "    \"treatUrlsAndPointersAsImages\": False,\n",
    "    \"model\": \"no_model\",\n",
    "    \"modelProperties\": {\n",
    "        \"dimensions\": 1024,\n",
    "        \"type\": \"no_model\",\n",
    "    },\n",
    "    \"annParameters\": {\n",
    "        \"spaceType\": \"dotproduct\",  #prenormalized-angular(default)\n",
    "        \"parameters\": {\n",
    "            \"efConstruction\": 1024,\n",
    "            \"m\": 16\n",
    "        }\n",
    "    }\n",
    "}\n",
    "try:\n",
    "    mq.create_index(\n",
    "        index_name=index_name,\n",
    "        settings_dict=settings,\n",
    "    )\n",
    "except:\n",
    "    mq.delete_index(index_name)\n",
    "    mq.create_index(\n",
    "        index_name=index_name,\n",
    "        settings_dict=settings,\n",
    "    )"
   ],
   "id": "da5044d355758c8d",
   "outputs": [],
   "execution_count": null
  },
  {
   "metadata": {},
   "cell_type": "code",
   "source": [
    "mq.index(index_name).add_documents(\n",
    "    list(create_index_document(grascco_embedding)),\n",
    "    client_batch_size=128,\n",
    "    tensor_fields=[vector_name],\n",
    "    mappings={\n",
    "        vector_name: {\n",
    "            \"type\": \"custom_vector\"\n",
    "        }\n",
    "    },\n",
    ")"
   ],
   "id": "8e0e6427bbefbe4f",
   "outputs": [],
   "execution_count": null
  },
  {
   "metadata": {},
   "cell_type": "code",
   "source": "mq.index(\"grascco_lokal_test\").get_document(\"877\", expose_facets=True)",
   "id": "5af361b50820de12",
   "outputs": [],
   "execution_count": null
  },
  {
   "metadata": {},
   "cell_type": "code",
   "source": [
    "mqs.store_embedding((\"handamputation\",\n",
    "                     mq.index(\"grascco_lokal_test\").get_document(\"10\", expose_facets=True)[\"_tensor_facets\"][0][\n",
    "                         \"_embedding\"]))"
   ],
   "id": "6b961d54a81025f5",
   "outputs": [],
   "execution_count": null
  },
  {
   "metadata": {},
   "cell_type": "code",
   "source": "mqs.best_hits_for_field(\"10\")",
   "id": "458cabb9d2691d19",
   "outputs": [],
   "execution_count": null
  },
  {
   "metadata": {},
   "cell_type": "code",
   "source": "mqs.marqo_index.delete_documents([\"877\"])",
   "id": "fc602c8a0fca27c0",
   "outputs": [],
   "execution_count": null
  },
  {
   "metadata": {},
   "cell_type": "code",
   "source": "mq.index(\"grascco_lokal_test\").get_documents([\"10\", \"11\"])",
   "id": "c498561753a61ed0",
   "outputs": [],
   "execution_count": null
  },
  {
   "metadata": {},
   "cell_type": "code",
   "source": [
    "mq.index(\"grascco_lokal_test\").recommend(\n",
    "    documents=['877'],\n",
    "    tensor_fields=[\"phrase_vector\"],\n",
    "    limit=2,\n",
    "    exclude_input_documents=False\n",
    ").get(\"hits\")"
   ],
   "id": "4256d77ebe3504f3",
   "outputs": [],
   "execution_count": null
  },
  {
   "metadata": {},
   "cell_type": "code",
   "source": [
    "ex_doc = mq.index(\"grascco_lokal_test\").get_document(\"10\", expose_facets=True)\n",
    "ex_doc"
   ],
   "id": "972655a6321bd7be",
   "outputs": [],
   "execution_count": null
  },
  {
   "metadata": {},
   "cell_type": "code",
   "source": [
    "mq.index(\"grascco_lokal_test\").search(\n",
    "    q={\n",
    "        \"customVector\": {\n",
    "            \"vector\": ex_doc[\"_tensor_facets\"][0][\"_embedding\"],\n",
    "            \"content\": ex_doc[\"phrase\"],\n",
    "        }\n",
    "    },\n",
    "    search_method=\"HYBRID\"\n",
    ")"
   ],
   "id": "df26920c6bd2b99a",
   "outputs": [],
   "execution_count": null
  },
  {
   "metadata": {},
   "cell_type": "code",
   "source": [
    "_ids = [str(i) for i in range(6)]\n",
    "np.asarray([\n",
    "    _res[\"_tensor_facets\"][0][\"_embedding\"]\n",
    "    for _res in\n",
    "    mq.index(index_name).get_documents(_ids, expose_facets=True)[\"results\"]\n",
    "]).tolist()"
   ],
   "id": "514495558e301d98",
   "outputs": [],
   "execution_count": null
  },
  {
   "metadata": {},
   "cell_type": "code",
   "source": "mq.index(index_name).get_stats()[\"numberOfDocuments\"]",
   "id": "fa9d7683a3bf296c",
   "outputs": [],
   "execution_count": null
  },
  {
   "metadata": {},
   "cell_type": "code",
   "source": "mq.index(index_name).get_document(\"5180\")",
   "id": "fb421baee1866768",
   "outputs": [],
   "execution_count": null
  },
  {
   "metadata": {},
   "cell_type": "code",
   "source": [
    "marqo_store = MarqoEmbeddingExternal(\n",
    "    client_url=\"http://localhost:8882\",\n",
    "    index_name=\"grascco_lokal_test\"\n",
    ")"
   ],
   "id": "4a03f5463b255b1d",
   "outputs": [],
   "execution_count": null
  },
  {
   "metadata": {},
   "cell_type": "code",
   "source": [
    "mq.index(\"grascco_lokal_test\").search(\n",
    "    q='psychose',\n",
    "    search_method=\"LEXICAL\",\n",
    ")"
   ],
   "id": "18fe13f7006431ee",
   "outputs": [],
   "execution_count": null
  },
  {
   "metadata": {},
   "cell_type": "markdown",
   "source": "---",
   "id": "930db8e6228591e6"
  },
  {
   "metadata": {
    "ExecuteTime": {
     "end_time": "2025-08-20T13:20:59.605822Z",
     "start_time": "2025-08-20T13:20:47.633258Z"
    }
   },
   "cell_type": "code",
   "source": [
    "from marqo import Client\n",
    "\n",
    "mq = Client()\n",
    "index_name = \"iron-docs\"\n",
    "\n",
    "# Optionally delete the index if it already exists\n",
    "try:\n",
    "    mq.index(index_name).delete()\n",
    "except:\n",
    "    pass\n",
    "\n",
    "# Create the index with custom settings\n",
    "index_settings = {\n",
    "    \"model\": \"e5-base-v2\",\n",
    "    \"normalizeEmbeddings\": True,\n",
    "    \"textPreprocessing\": {\n",
    "        \"splitLength\": 3,\n",
    "        \"splitOverlap\": 1,\n",
    "        \"splitMethod\": \"sentence\"\n",
    "    },\n",
    "}\n",
    "mq.create_index(index_name, settings_dict=index_settings)"
   ],
   "id": "39b6f1ef29acabf4",
   "outputs": [
    {
     "name": "stderr",
     "output_type": "stream",
     "text": [
      "2025-08-20 15:20:50,969 logger:'marqo' WARNING Your Marqo Python client requires a minimum Marqo version of 2.18.0 to function properly, but your Marqo version is 2.16.1. Please upgrade your Marqo instance to avoid potential errors. If you have already changed your Marqo instance but still get this warning, please restart your Python interpreter.\n"
     ]
    },
    {
     "data": {
      "text/plain": [
       "{'acknowledged': True, 'index': 'iron-docs'}"
      ]
     },
     "execution_count": 1,
     "metadata": {},
     "output_type": "execute_result"
    }
   ],
   "execution_count": 1
  }
 ],
 "metadata": {
  "kernelspec": {
   "display_name": "Python 3",
   "language": "python",
   "name": "python3"
  },
  "language_info": {
   "codemirror_mode": {
    "name": "ipython",
    "version": 2
   },
   "file_extension": ".py",
   "mimetype": "text/x-python",
   "name": "python",
   "nbconvert_exporter": "python",
   "pygments_lexer": "ipython2",
   "version": "2.7.6"
  }
 },
 "nbformat": 4,
 "nbformat_minor": 5
}
