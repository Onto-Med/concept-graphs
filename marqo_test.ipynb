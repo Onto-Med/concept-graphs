{
 "cells": [
  {
   "cell_type": "code",
   "id": "initial_id",
   "metadata": {
    "collapsed": true,
    "ExecuteTime": {
     "end_time": "2025-05-22T17:08:01.815041Z",
     "start_time": "2025-05-22T17:08:01.124892Z"
    }
   },
   "source": [
    "import marqo\n",
    "import sys\n",
    "import pathlib\n",
    "import pickle"
   ],
   "outputs": [],
   "execution_count": 1
  },
  {
   "metadata": {
    "ExecuteTime": {
     "end_time": "2025-05-22T17:08:02.195317Z",
     "start_time": "2025-05-22T17:08:02.094691Z"
    }
   },
   "cell_type": "code",
   "source": "import numpy as np",
   "id": "63c8c3b905582292",
   "outputs": [],
   "execution_count": 2
  },
  {
   "metadata": {
    "ExecuteTime": {
     "end_time": "2025-05-22T17:08:21.404857Z",
     "start_time": "2025-05-22T17:08:02.894790Z"
    }
   },
   "cell_type": "code",
   "source": [
    "sys.path.insert(0, \"src\")\n",
    "import data_functions\n",
    "import embedding_functions\n",
    "import cluster_functions\n",
    "import graph_functions\n",
    "import util_functions\n",
    "from MarqoExternalUtils import MarqoEmbeddingStore, MarqoDocumentStore, MarqoDocument"
   ],
   "id": "c703b0e1f874907",
   "outputs": [
    {
     "name": "stderr",
     "output_type": "stream",
     "text": [
      "C:\\Users\\fra3066mat\\PycharmProjects\\concept-graphs\\src\\data_functions.py:14: TqdmWarning: IProgress not found. Please update jupyter and ipywidgets. See https://ipywidgets.readthedocs.io/en/stable/user_install.html\n",
      "  from tqdm.autonotebook import tqdm\n"
     ]
    },
    {
     "name": "stdout",
     "output_type": "stream",
     "text": [
      "WARNING:tensorflow:From C:\\Users\\fra3066mat\\.conda\\envs\\concept-graphs\\lib\\site-packages\\keras\\src\\losses.py:2976: The name tf.losses.sparse_softmax_cross_entropy is deprecated. Please use tf.compat.v1.losses.sparse_softmax_cross_entropy instead.\n",
      "\n"
     ]
    }
   ],
   "execution_count": 3
  },
  {
   "metadata": {},
   "cell_type": "markdown",
   "source": [
    "base_name_test = \"grascco_lokal_test\"\n",
    "path_name_test = lambda x: f\"./tmp/{base_name_test}/{base_name_test}_{x}.pickle\"---"
   ],
   "id": "50926fb1f176c875"
  },
  {
   "metadata": {
    "ExecuteTime": {
     "end_time": "2025-05-22T17:08:21.484771Z",
     "start_time": "2025-05-22T17:08:21.444727Z"
    }
   },
   "cell_type": "code",
   "source": [
    "base_name = \"grascco_lokal\"\n",
    "path_name = lambda x: f\"./tmp/{base_name}/{base_name}_{x}.pickle\""
   ],
   "id": "c51120914d312b13",
   "outputs": [],
   "execution_count": 4
  },
  {
   "metadata": {
    "ExecuteTime": {
     "end_time": "2025-05-22T17:08:21.524697Z",
     "start_time": "2025-05-22T17:08:21.508038Z"
    }
   },
   "cell_type": "code",
   "source": [
    "base_name_test = \"grascco_lokal_test\"\n",
    "path_name_test = lambda x: f\"./tmp/{base_name_test}/{base_name_test}_{x}.pickle\""
   ],
   "id": "1d05e23492e011f1",
   "outputs": [],
   "execution_count": 5
  },
  {
   "metadata": {
    "ExecuteTime": {
     "end_time": "2025-05-22T17:08:22.354873Z",
     "start_time": "2025-05-22T17:08:21.544932Z"
    }
   },
   "cell_type": "code",
   "source": [
    "grascco_data_test = data_functions.DataProcessingFactory.load(\n",
    "    file_path=path_name_test(\"data\"),\n",
    ")"
   ],
   "id": "caf69017aa82363",
   "outputs": [],
   "execution_count": 6
  },
  {
   "metadata": {
    "ExecuteTime": {
     "end_time": "2025-05-22T17:09:02.524874Z",
     "start_time": "2025-05-22T17:08:22.371748Z"
    }
   },
   "cell_type": "code",
   "source": [
    "grascco_embedding_test = embedding_functions.SentenceEmbeddingsFactory.create(\n",
    "    data_obj=grascco_data_test,\n",
    "    cache_path=pathlib.Path(path_name_test(\"embedding\")).parent,\n",
    "    cache_name=\"_\".join(pathlib.Path(path_name_test(\"embedding\")).stem.split(\"_\")[:-1]),\n",
    "    model_name=\"Sahajtomar/German-semantic\",\n",
    "    storage_method=(\"vector_store\", {},),\n",
    "    vectorstore_normalizeEmbeddings=False,\n",
    "    vectorstore_annParameters={\n",
    "        \"spaceType\": \"dotproduct\", #prenormalized-angular(default)\n",
    "        \"parameters\": {\n",
    "            \"efConstruction\": 1024,\n",
    "            \"m\": 16\n",
    "        }\n",
    "    }\n",
    ")"
   ],
   "id": "b2d11faaeffbfaa1",
   "outputs": [
    {
     "name": "stderr",
     "output_type": "stream",
     "text": [
      "INFO:root:Creating Sentence Embedding with 'None'\n",
      "INFO:sentence_transformers.SentenceTransformer:Use pytorch device_name: cpu\n",
      "INFO:sentence_transformers.SentenceTransformer:Load pretrained SentenceTransformer: Sahajtomar/German-semantic\n",
      "Batches: 100%|██████████| 28/28 [00:11<00:00,  2.44it/s]\n",
      "2025-05-22 19:08:51,765 logger:'marqo' WARNING Your Marqo Python client requires a minimum Marqo version of 2.18.0 to function properly, but your Marqo version is 2.16.1. Please upgrade your Marqo instance to avoid potential errors. If you have already changed your Marqo instance but still get this warning, please restart your Python interpreter.\n",
      "WARNING:marqo:Your Marqo Python client requires a minimum Marqo version of 2.18.0 to function properly, but your Marqo version is 2.16.1. Please upgrade your Marqo instance to avoid potential errors. If you have already changed your Marqo instance but still get this warning, please restart your Python interpreter.\n",
      "2025-05-22 19:08:57,535 logger:'marqo' INFO     add_documents batch 0: took 5.541s for Marqo to process & index 128 docs. Roundtrip time: 5.723s.\n",
      "INFO:marqo:    add_documents batch 0: took 5.541s for Marqo to process & index 128 docs. Roundtrip time: 5.723s.\n",
      "2025-05-22 19:08:58,415 logger:'marqo' INFO     add_documents batch 1: took 0.694s for Marqo to process & index 128 docs. Roundtrip time: 0.874s.\n",
      "INFO:marqo:    add_documents batch 1: took 0.694s for Marqo to process & index 128 docs. Roundtrip time: 0.874s.\n",
      "2025-05-22 19:08:59,255 logger:'marqo' INFO     add_documents batch 2: took 0.654s for Marqo to process & index 128 docs. Roundtrip time: 0.832s.\n",
      "INFO:marqo:    add_documents batch 2: took 0.654s for Marqo to process & index 128 docs. Roundtrip time: 0.832s.\n",
      "2025-05-22 19:09:00,085 logger:'marqo' INFO     add_documents batch 3: took 0.656s for Marqo to process & index 128 docs. Roundtrip time: 0.833s.\n",
      "INFO:marqo:    add_documents batch 3: took 0.656s for Marqo to process & index 128 docs. Roundtrip time: 0.833s.\n",
      "2025-05-22 19:09:00,914 logger:'marqo' INFO     add_documents batch 4: took 0.646s for Marqo to process & index 128 docs. Roundtrip time: 0.828s.\n",
      "INFO:marqo:    add_documents batch 4: took 0.646s for Marqo to process & index 128 docs. Roundtrip time: 0.828s.\n",
      "2025-05-22 19:09:01,745 logger:'marqo' INFO     add_documents batch 5: took 0.657s for Marqo to process & index 128 docs. Roundtrip time: 0.834s.\n",
      "INFO:marqo:    add_documents batch 5: took 0.657s for Marqo to process & index 128 docs. Roundtrip time: 0.834s.\n",
      "2025-05-22 19:09:02,475 logger:'marqo' INFO     add_documents batch 6: took 0.573s for Marqo to process & index 109 docs. Roundtrip time: 0.727s.\n",
      "INFO:marqo:    add_documents batch 6: took 0.573s for Marqo to process & index 109 docs. Roundtrip time: 0.727s.\n"
     ]
    },
    {
     "name": "stdout",
     "output_type": "stream",
     "text": [
      "Saved under: C:\\Users\\fra3066mat\\PycharmProjects\\concept-graphs\\tmp\\grascco_lokal_test\\grascco_lokal_test.pickle\n"
     ]
    }
   ],
   "execution_count": 7
  },
  {
   "metadata": {
    "ExecuteTime": {
     "end_time": "2025-05-22T17:09:57.835184Z",
     "start_time": "2025-05-22T17:09:51.872271Z"
    }
   },
   "cell_type": "code",
   "source": [
    "grascco_embedding = embedding_functions.SentenceEmbeddingsFactory.load(\n",
    "    data_obj_path=path_name(\"data\"),\n",
    "    embeddings_path=path_name(\"embedding\")\n",
    ")"
   ],
   "id": "a62234a179c606a2",
   "outputs": [],
   "execution_count": 10
  },
  {
   "metadata": {},
   "cell_type": "code",
   "source": [
    "grascco_embedding_from_vec = embedding_functions.SentenceEmbeddingsFactory.load(\n",
    "    data_obj_path=path_name(\"data\"),\n",
    "    embeddings_path=path_name(\"vec\"),\n",
    "    storage_method=(\"vector_store\", {},),\n",
    ")"
   ],
   "id": "f66152fb2f6b013c",
   "outputs": [],
   "execution_count": null
  },
  {
   "metadata": {},
   "cell_type": "code",
   "source": [
    "grascco_clustering = cluster_functions.PhraseClusterFactory.load(\n",
    "    data_obj_path=path_name(\"clustering\"),\n",
    ")"
   ],
   "id": "d1f596b41e08cd79",
   "outputs": [],
   "execution_count": null
  },
  {
   "metadata": {
    "ExecuteTime": {
     "end_time": "2025-05-22T17:09:02.565119Z",
     "start_time": "2025-05-22T17:09:02.545026Z"
    }
   },
   "cell_type": "code",
   "source": [
    "grascco_graph_test = pickle.load(\n",
    "    open(path_name_test(\"graph\"), 'rb')\n",
    ")"
   ],
   "id": "be08437d9cec5492",
   "outputs": [],
   "execution_count": 8
  },
  {
   "metadata": {},
   "cell_type": "code",
   "source": [
    "grascco_data = data_functions.DataProcessingFactory.load(\n",
    "    file_path=path_name(\"data\"),\n",
    ")"
   ],
   "id": "71599fbbdcd4999e",
   "outputs": [],
   "execution_count": null
  },
  {
   "metadata": {},
   "cell_type": "markdown",
   "source": "---",
   "id": "9be95c94b2410fd1"
  },
  {
   "metadata": {
    "ExecuteTime": {
     "end_time": "2025-05-22T17:09:57.870242Z",
     "start_time": "2025-05-22T17:09:57.855761Z"
    }
   },
   "cell_type": "code",
   "source": [
    "embedded_phrases = [\n",
    "    (chunk[\"text\"], grascco_embedding.sentence_embeddings[idx]) for idx, chunk in enumerate(grascco_embedding.data_processing_obj.data_chunk_sets)\n",
    "    if 8 in [d[\"id\"] for d in chunk[\"doc\"]]\n",
    "]"
   ],
   "id": "9b8840e8fc8e6274",
   "outputs": [],
   "execution_count": 11
  },
  {
   "metadata": {
    "ExecuteTime": {
     "end_time": "2025-05-22T17:09:59.895045Z",
     "start_time": "2025-05-22T17:09:59.865992Z"
    }
   },
   "cell_type": "code",
   "source": [
    "phrases, embeddings = zip(*embedded_phrases)\n",
    "test_doc = MarqoDocument(\n",
    "    phrases=phrases,\n",
    "    embeddings=embeddings,\n",
    ")"
   ],
   "id": "dc375f1dbe358613",
   "outputs": [],
   "execution_count": 12
  },
  {
   "metadata": {},
   "cell_type": "markdown",
   "source": "---",
   "id": "ad59c97082830e6e"
  },
  {
   "metadata": {
    "ExecuteTime": {
     "end_time": "2025-05-22T17:10:01.835331Z",
     "start_time": "2025-05-22T17:10:01.804953Z"
    }
   },
   "cell_type": "code",
   "source": [
    "mqs = MarqoEmbeddingStore(\"http://localhost:8882\", \"grascco_lokal_test\")\n",
    "mqds = MarqoDocumentStore(embedding_store=mqs)"
   ],
   "id": "e4565cde6c5380ae",
   "outputs": [],
   "execution_count": 13
  },
  {
   "metadata": {
    "ExecuteTime": {
     "end_time": "2025-05-22T17:10:03.905208Z",
     "start_time": "2025-05-22T17:10:03.795147Z"
    }
   },
   "cell_type": "code",
   "source": "mqs.best_hits_for_field(\"876\")",
   "id": "2cfb04812489bcbf",
   "outputs": [
    {
     "data": {
      "text/plain": [
       "[]"
      ]
     },
     "execution_count": 14,
     "metadata": {},
     "output_type": "execute_result"
    }
   ],
   "execution_count": 14
  },
  {
   "metadata": {
    "ExecuteTime": {
     "end_time": "2025-05-22T17:10:44.655208Z",
     "start_time": "2025-05-22T17:10:36.875157Z"
    }
   },
   "cell_type": "code",
   "source": "mqds.add_document(test_doc)",
   "id": "cfe7150e42850b3b",
   "outputs": [
    {
     "name": "stderr",
     "output_type": "stream",
     "text": [
      "2025-05-22 19:10:37,665 logger:'marqo' INFO     add_documents batch 0: took 0.568s for Marqo to process & index 116 docs. Roundtrip time: 0.735s.\n",
      "INFO:marqo:    add_documents batch 0: took 0.568s for Marqo to process & index 116 docs. Roundtrip time: 0.735s.\n",
      "INFO:root:For id '877' the same embedding is already in the index with id '0'.\n",
      "INFO:root:For id '878' the same embedding is already in the index with id '1'.\n",
      "INFO:root:For id '879' the same embedding is already in the index with id '49'.\n",
      "INFO:root:For id '880' the same embedding is already in the index with id '54'.\n",
      "INFO:root:For id '881' the same embedding is already in the index with id '65'.\n",
      "INFO:root:For id '882' the same embedding is already in the index with id '152'.\n",
      "INFO:root:For id '883' the same embedding is already in the index with id '190'.\n",
      "INFO:root:For id '884' the same embedding is already in the index with id '210'.\n",
      "INFO:root:For id '885' the same embedding is already in the index with id '211'.\n",
      "INFO:root:For id '886' the same embedding is already in the index with id '255'.\n",
      "INFO:root:For id '887' the same embedding is already in the index with id '269'.\n",
      "INFO:root:For id '888' the same embedding is already in the index with id '330'.\n",
      "INFO:root:For id '889' the same embedding is already in the index with id '337'.\n",
      "INFO:root:For id '890' the same embedding is already in the index with id '375'.\n",
      "INFO:root:For id '891' the same embedding is already in the index with id '390'.\n",
      "INFO:root:For id '892' the same embedding is already in the index with id '424'.\n",
      "INFO:root:For id '893' the same embedding is already in the index with id '427'.\n",
      "INFO:root:For id '894' the same embedding is already in the index with id '429'.\n",
      "INFO:root:For id '895' the same embedding is already in the index with id '474'.\n",
      "INFO:root:For id '896' the same embedding is already in the index with id '639'.\n",
      "INFO:root:For id '897' the same embedding is already in the index with id '691'.\n",
      "INFO:root:For id '898' the same embedding is already in the index with id '713'.\n",
      "INFO:root:For id '899' the same embedding is already in the index with id '809'.\n",
      "INFO:root:For id '900' the same embedding is already in the index with id '814'.\n",
      "INFO:root:For id '901' the same embedding is already in the index with id '820'.\n",
      "INFO:root:For id '902' the same embedding is already in the index with id '821'.\n",
      "INFO:root:For id '903' the same embedding is already in the index with id '822'.\n",
      "INFO:root:For id '904' the same embedding is already in the index with id '823'.\n",
      "INFO:root:For id '905' the same embedding is already in the index with id '824'.\n",
      "INFO:root:For id '906' the same embedding is already in the index with id '825'.\n",
      "INFO:root:For id '907' the same embedding is already in the index with id '827'.\n",
      "INFO:root:For id '908' the same embedding is already in the index with id '828'.\n",
      "INFO:root:For id '909' the same embedding is already in the index with id '847'.\n",
      "INFO:root:For id '910' the same embedding is already in the index with id '849'.\n",
      "ERROR:root:MarqoWebError: MarqoWebError Error message: {'message': 'Document with ID 911 not found in index grascco_lokal_test', 'code': 'document_not_found', 'type': 'invalid_request', 'link': None}\n",
      "status_code: 404, type: invalid_request, code: document_not_found, link: \n",
      "ERROR:root:MarqoWebError: MarqoWebError Error message: {'message': 'Document with ID 912 not found in index grascco_lokal_test', 'code': 'document_not_found', 'type': 'invalid_request', 'link': None}\n",
      "status_code: 404, type: invalid_request, code: document_not_found, link: \n",
      "ERROR:root:MarqoWebError: MarqoWebError Error message: {'message': 'Document with ID 913 not found in index grascco_lokal_test', 'code': 'document_not_found', 'type': 'invalid_request', 'link': None}\n",
      "status_code: 404, type: invalid_request, code: document_not_found, link: \n",
      "ERROR:root:MarqoWebError: MarqoWebError Error message: {'message': 'Document with ID 914 not found in index grascco_lokal_test', 'code': 'document_not_found', 'type': 'invalid_request', 'link': None}\n",
      "status_code: 404, type: invalid_request, code: document_not_found, link: \n",
      "ERROR:root:MarqoWebError: MarqoWebError Error message: {'message': 'Document with ID 915 not found in index grascco_lokal_test', 'code': 'document_not_found', 'type': 'invalid_request', 'link': None}\n",
      "status_code: 404, type: invalid_request, code: document_not_found, link: \n",
      "ERROR:root:MarqoWebError: MarqoWebError Error message: {'message': 'Document with ID 916 not found in index grascco_lokal_test', 'code': 'document_not_found', 'type': 'invalid_request', 'link': None}\n",
      "status_code: 404, type: invalid_request, code: document_not_found, link: \n",
      "ERROR:root:MarqoWebError: MarqoWebError Error message: {'message': 'Document with ID 917 not found in index grascco_lokal_test', 'code': 'document_not_found', 'type': 'invalid_request', 'link': None}\n",
      "status_code: 404, type: invalid_request, code: document_not_found, link: \n",
      "ERROR:root:MarqoWebError: MarqoWebError Error message: {'message': 'Document with ID 918 not found in index grascco_lokal_test', 'code': 'document_not_found', 'type': 'invalid_request', 'link': None}\n",
      "status_code: 404, type: invalid_request, code: document_not_found, link: \n",
      "ERROR:root:MarqoWebError: MarqoWebError Error message: {'message': 'Document with ID 919 not found in index grascco_lokal_test', 'code': 'document_not_found', 'type': 'invalid_request', 'link': None}\n",
      "status_code: 404, type: invalid_request, code: document_not_found, link: \n",
      "ERROR:root:MarqoWebError: MarqoWebError Error message: {'message': 'Document with ID 920 not found in index grascco_lokal_test', 'code': 'document_not_found', 'type': 'invalid_request', 'link': None}\n",
      "status_code: 404, type: invalid_request, code: document_not_found, link: \n",
      "ERROR:root:MarqoWebError: MarqoWebError Error message: {'message': 'Document with ID 921 not found in index grascco_lokal_test', 'code': 'document_not_found', 'type': 'invalid_request', 'link': None}\n",
      "status_code: 404, type: invalid_request, code: document_not_found, link: \n",
      "ERROR:root:MarqoWebError: MarqoWebError Error message: {'message': 'Document with ID 922 not found in index grascco_lokal_test', 'code': 'document_not_found', 'type': 'invalid_request', 'link': None}\n",
      "status_code: 404, type: invalid_request, code: document_not_found, link: \n",
      "ERROR:root:MarqoWebError: MarqoWebError Error message: {'message': 'Document with ID 923 not found in index grascco_lokal_test', 'code': 'document_not_found', 'type': 'invalid_request', 'link': None}\n",
      "status_code: 404, type: invalid_request, code: document_not_found, link: \n",
      "ERROR:root:MarqoWebError: MarqoWebError Error message: {'message': 'Document with ID 924 not found in index grascco_lokal_test', 'code': 'document_not_found', 'type': 'invalid_request', 'link': None}\n",
      "status_code: 404, type: invalid_request, code: document_not_found, link: \n",
      "ERROR:root:MarqoWebError: MarqoWebError Error message: {'message': 'Document with ID 925 not found in index grascco_lokal_test', 'code': 'document_not_found', 'type': 'invalid_request', 'link': None}\n",
      "status_code: 404, type: invalid_request, code: document_not_found, link: \n",
      "ERROR:root:MarqoWebError: MarqoWebError Error message: {'message': 'Document with ID 926 not found in index grascco_lokal_test', 'code': 'document_not_found', 'type': 'invalid_request', 'link': None}\n",
      "status_code: 404, type: invalid_request, code: document_not_found, link: \n",
      "ERROR:root:MarqoWebError: MarqoWebError Error message: {'message': 'Document with ID 927 not found in index grascco_lokal_test', 'code': 'document_not_found', 'type': 'invalid_request', 'link': None}\n",
      "status_code: 404, type: invalid_request, code: document_not_found, link: \n",
      "ERROR:root:MarqoWebError: MarqoWebError Error message: {'message': 'Document with ID 928 not found in index grascco_lokal_test', 'code': 'document_not_found', 'type': 'invalid_request', 'link': None}\n",
      "status_code: 404, type: invalid_request, code: document_not_found, link: \n",
      "ERROR:root:MarqoWebError: MarqoWebError Error message: {'message': 'Document with ID 929 not found in index grascco_lokal_test', 'code': 'document_not_found', 'type': 'invalid_request', 'link': None}\n",
      "status_code: 404, type: invalid_request, code: document_not_found, link: \n",
      "ERROR:root:MarqoWebError: MarqoWebError Error message: {'message': 'Document with ID 930 not found in index grascco_lokal_test', 'code': 'document_not_found', 'type': 'invalid_request', 'link': None}\n",
      "status_code: 404, type: invalid_request, code: document_not_found, link: \n",
      "ERROR:root:MarqoWebError: MarqoWebError Error message: {'message': 'Document with ID 931 not found in index grascco_lokal_test', 'code': 'document_not_found', 'type': 'invalid_request', 'link': None}\n",
      "status_code: 404, type: invalid_request, code: document_not_found, link: \n",
      "ERROR:root:MarqoWebError: MarqoWebError Error message: {'message': 'Document with ID 932 not found in index grascco_lokal_test', 'code': 'document_not_found', 'type': 'invalid_request', 'link': None}\n",
      "status_code: 404, type: invalid_request, code: document_not_found, link: \n",
      "ERROR:root:MarqoWebError: MarqoWebError Error message: {'message': 'Document with ID 933 not found in index grascco_lokal_test', 'code': 'document_not_found', 'type': 'invalid_request', 'link': None}\n",
      "status_code: 404, type: invalid_request, code: document_not_found, link: \n",
      "ERROR:root:MarqoWebError: MarqoWebError Error message: {'message': 'Document with ID 934 not found in index grascco_lokal_test', 'code': 'document_not_found', 'type': 'invalid_request', 'link': None}\n",
      "status_code: 404, type: invalid_request, code: document_not_found, link: \n",
      "ERROR:root:MarqoWebError: MarqoWebError Error message: {'message': 'Document with ID 935 not found in index grascco_lokal_test', 'code': 'document_not_found', 'type': 'invalid_request', 'link': None}\n",
      "status_code: 404, type: invalid_request, code: document_not_found, link: \n",
      "ERROR:root:MarqoWebError: MarqoWebError Error message: {'message': 'Document with ID 936 not found in index grascco_lokal_test', 'code': 'document_not_found', 'type': 'invalid_request', 'link': None}\n",
      "status_code: 404, type: invalid_request, code: document_not_found, link: \n",
      "ERROR:root:MarqoWebError: MarqoWebError Error message: {'message': 'Document with ID 937 not found in index grascco_lokal_test', 'code': 'document_not_found', 'type': 'invalid_request', 'link': None}\n",
      "status_code: 404, type: invalid_request, code: document_not_found, link: \n",
      "ERROR:root:MarqoWebError: MarqoWebError Error message: {'message': 'Document with ID 938 not found in index grascco_lokal_test', 'code': 'document_not_found', 'type': 'invalid_request', 'link': None}\n",
      "status_code: 404, type: invalid_request, code: document_not_found, link: \n",
      "ERROR:root:MarqoWebError: MarqoWebError Error message: {'message': 'Document with ID 939 not found in index grascco_lokal_test', 'code': 'document_not_found', 'type': 'invalid_request', 'link': None}\n",
      "status_code: 404, type: invalid_request, code: document_not_found, link: \n",
      "ERROR:root:MarqoWebError: MarqoWebError Error message: {'message': 'Document with ID 940 not found in index grascco_lokal_test', 'code': 'document_not_found', 'type': 'invalid_request', 'link': None}\n",
      "status_code: 404, type: invalid_request, code: document_not_found, link: \n",
      "ERROR:root:MarqoWebError: MarqoWebError Error message: {'message': 'Document with ID 941 not found in index grascco_lokal_test', 'code': 'document_not_found', 'type': 'invalid_request', 'link': None}\n",
      "status_code: 404, type: invalid_request, code: document_not_found, link: \n",
      "ERROR:root:MarqoWebError: MarqoWebError Error message: {'message': 'Document with ID 942 not found in index grascco_lokal_test', 'code': 'document_not_found', 'type': 'invalid_request', 'link': None}\n",
      "status_code: 404, type: invalid_request, code: document_not_found, link: \n",
      "ERROR:root:MarqoWebError: MarqoWebError Error message: {'message': 'Document with ID 943 not found in index grascco_lokal_test', 'code': 'document_not_found', 'type': 'invalid_request', 'link': None}\n",
      "status_code: 404, type: invalid_request, code: document_not_found, link: \n",
      "ERROR:root:MarqoWebError: MarqoWebError Error message: {'message': 'Document with ID 944 not found in index grascco_lokal_test', 'code': 'document_not_found', 'type': 'invalid_request', 'link': None}\n",
      "status_code: 404, type: invalid_request, code: document_not_found, link: \n",
      "ERROR:root:MarqoWebError: MarqoWebError Error message: {'message': 'Document with ID 945 not found in index grascco_lokal_test', 'code': 'document_not_found', 'type': 'invalid_request', 'link': None}\n",
      "status_code: 404, type: invalid_request, code: document_not_found, link: \n",
      "ERROR:root:MarqoWebError: MarqoWebError Error message: {'message': 'Document with ID 946 not found in index grascco_lokal_test', 'code': 'document_not_found', 'type': 'invalid_request', 'link': None}\n",
      "status_code: 404, type: invalid_request, code: document_not_found, link: \n",
      "ERROR:root:MarqoWebError: MarqoWebError Error message: {'message': 'Document with ID 947 not found in index grascco_lokal_test', 'code': 'document_not_found', 'type': 'invalid_request', 'link': None}\n",
      "status_code: 404, type: invalid_request, code: document_not_found, link: \n",
      "ERROR:root:MarqoWebError: MarqoWebError Error message: {'message': 'Document with ID 948 not found in index grascco_lokal_test', 'code': 'document_not_found', 'type': 'invalid_request', 'link': None}\n",
      "status_code: 404, type: invalid_request, code: document_not_found, link: \n",
      "ERROR:root:MarqoWebError: MarqoWebError Error message: {'message': 'Document with ID 949 not found in index grascco_lokal_test', 'code': 'document_not_found', 'type': 'invalid_request', 'link': None}\n",
      "status_code: 404, type: invalid_request, code: document_not_found, link: \n",
      "ERROR:root:MarqoWebError: MarqoWebError Error message: {'message': 'Document with ID 950 not found in index grascco_lokal_test', 'code': 'document_not_found', 'type': 'invalid_request', 'link': None}\n",
      "status_code: 404, type: invalid_request, code: document_not_found, link: \n",
      "ERROR:root:MarqoWebError: MarqoWebError Error message: {'message': 'Document with ID 951 not found in index grascco_lokal_test', 'code': 'document_not_found', 'type': 'invalid_request', 'link': None}\n",
      "status_code: 404, type: invalid_request, code: document_not_found, link: \n",
      "ERROR:root:MarqoWebError: MarqoWebError Error message: {'message': 'Document with ID 952 not found in index grascco_lokal_test', 'code': 'document_not_found', 'type': 'invalid_request', 'link': None}\n",
      "status_code: 404, type: invalid_request, code: document_not_found, link: \n",
      "ERROR:root:MarqoWebError: MarqoWebError Error message: {'message': 'Document with ID 953 not found in index grascco_lokal_test', 'code': 'document_not_found', 'type': 'invalid_request', 'link': None}\n",
      "status_code: 404, type: invalid_request, code: document_not_found, link: \n",
      "ERROR:root:MarqoWebError: MarqoWebError Error message: {'message': 'Document with ID 954 not found in index grascco_lokal_test', 'code': 'document_not_found', 'type': 'invalid_request', 'link': None}\n",
      "status_code: 404, type: invalid_request, code: document_not_found, link: \n",
      "ERROR:root:MarqoWebError: MarqoWebError Error message: {'message': 'Document with ID 955 not found in index grascco_lokal_test', 'code': 'document_not_found', 'type': 'invalid_request', 'link': None}\n",
      "status_code: 404, type: invalid_request, code: document_not_found, link: \n",
      "ERROR:root:MarqoWebError: MarqoWebError Error message: {'message': 'Document with ID 956 not found in index grascco_lokal_test', 'code': 'document_not_found', 'type': 'invalid_request', 'link': None}\n",
      "status_code: 404, type: invalid_request, code: document_not_found, link: \n",
      "ERROR:root:MarqoWebError: MarqoWebError Error message: {'message': 'Document with ID 957 not found in index grascco_lokal_test', 'code': 'document_not_found', 'type': 'invalid_request', 'link': None}\n",
      "status_code: 404, type: invalid_request, code: document_not_found, link: \n",
      "ERROR:root:MarqoWebError: MarqoWebError Error message: {'message': 'Document with ID 958 not found in index grascco_lokal_test', 'code': 'document_not_found', 'type': 'invalid_request', 'link': None}\n",
      "status_code: 404, type: invalid_request, code: document_not_found, link: \n",
      "ERROR:root:MarqoWebError: MarqoWebError Error message: {'message': 'Document with ID 959 not found in index grascco_lokal_test', 'code': 'document_not_found', 'type': 'invalid_request', 'link': None}\n",
      "status_code: 404, type: invalid_request, code: document_not_found, link: \n",
      "ERROR:root:MarqoWebError: MarqoWebError Error message: {'message': 'Document with ID 960 not found in index grascco_lokal_test', 'code': 'document_not_found', 'type': 'invalid_request', 'link': None}\n",
      "status_code: 404, type: invalid_request, code: document_not_found, link: \n",
      "ERROR:root:MarqoWebError: MarqoWebError Error message: {'message': 'Document with ID 961 not found in index grascco_lokal_test', 'code': 'document_not_found', 'type': 'invalid_request', 'link': None}\n",
      "status_code: 404, type: invalid_request, code: document_not_found, link: \n",
      "ERROR:root:MarqoWebError: MarqoWebError Error message: {'message': 'Document with ID 962 not found in index grascco_lokal_test', 'code': 'document_not_found', 'type': 'invalid_request', 'link': None}\n",
      "status_code: 404, type: invalid_request, code: document_not_found, link: \n",
      "ERROR:root:MarqoWebError: MarqoWebError Error message: {'message': 'Document with ID 963 not found in index grascco_lokal_test', 'code': 'document_not_found', 'type': 'invalid_request', 'link': None}\n",
      "status_code: 404, type: invalid_request, code: document_not_found, link: \n",
      "ERROR:root:MarqoWebError: MarqoWebError Error message: {'message': 'Document with ID 964 not found in index grascco_lokal_test', 'code': 'document_not_found', 'type': 'invalid_request', 'link': None}\n",
      "status_code: 404, type: invalid_request, code: document_not_found, link: \n",
      "ERROR:root:MarqoWebError: MarqoWebError Error message: {'message': 'Document with ID 965 not found in index grascco_lokal_test', 'code': 'document_not_found', 'type': 'invalid_request', 'link': None}\n",
      "status_code: 404, type: invalid_request, code: document_not_found, link: \n",
      "ERROR:root:MarqoWebError: MarqoWebError Error message: {'message': 'Document with ID 966 not found in index grascco_lokal_test', 'code': 'document_not_found', 'type': 'invalid_request', 'link': None}\n",
      "status_code: 404, type: invalid_request, code: document_not_found, link: \n",
      "ERROR:root:MarqoWebError: MarqoWebError Error message: {'message': 'Document with ID 967 not found in index grascco_lokal_test', 'code': 'document_not_found', 'type': 'invalid_request', 'link': None}\n",
      "status_code: 404, type: invalid_request, code: document_not_found, link: \n",
      "ERROR:root:MarqoWebError: MarqoWebError Error message: {'message': 'Document with ID 968 not found in index grascco_lokal_test', 'code': 'document_not_found', 'type': 'invalid_request', 'link': None}\n",
      "status_code: 404, type: invalid_request, code: document_not_found, link: \n",
      "ERROR:root:MarqoWebError: MarqoWebError Error message: {'message': 'Document with ID 969 not found in index grascco_lokal_test', 'code': 'document_not_found', 'type': 'invalid_request', 'link': None}\n",
      "status_code: 404, type: invalid_request, code: document_not_found, link: \n",
      "ERROR:root:MarqoWebError: MarqoWebError Error message: {'message': 'Document with ID 970 not found in index grascco_lokal_test', 'code': 'document_not_found', 'type': 'invalid_request', 'link': None}\n",
      "status_code: 404, type: invalid_request, code: document_not_found, link: \n",
      "ERROR:root:MarqoWebError: MarqoWebError Error message: {'message': 'Document with ID 971 not found in index grascco_lokal_test', 'code': 'document_not_found', 'type': 'invalid_request', 'link': None}\n",
      "status_code: 404, type: invalid_request, code: document_not_found, link: \n",
      "ERROR:root:MarqoWebError: MarqoWebError Error message: {'message': 'Document with ID 972 not found in index grascco_lokal_test', 'code': 'document_not_found', 'type': 'invalid_request', 'link': None}\n",
      "status_code: 404, type: invalid_request, code: document_not_found, link: \n",
      "ERROR:root:MarqoWebError: MarqoWebError Error message: {'message': 'Document with ID 973 not found in index grascco_lokal_test', 'code': 'document_not_found', 'type': 'invalid_request', 'link': None}\n",
      "status_code: 404, type: invalid_request, code: document_not_found, link: \n",
      "ERROR:root:MarqoWebError: MarqoWebError Error message: {'message': 'Document with ID 974 not found in index grascco_lokal_test', 'code': 'document_not_found', 'type': 'invalid_request', 'link': None}\n",
      "status_code: 404, type: invalid_request, code: document_not_found, link: \n",
      "ERROR:root:MarqoWebError: MarqoWebError Error message: {'message': 'Document with ID 975 not found in index grascco_lokal_test', 'code': 'document_not_found', 'type': 'invalid_request', 'link': None}\n",
      "status_code: 404, type: invalid_request, code: document_not_found, link: \n",
      "ERROR:root:MarqoWebError: MarqoWebError Error message: {'message': 'Document with ID 976 not found in index grascco_lokal_test', 'code': 'document_not_found', 'type': 'invalid_request', 'link': None}\n",
      "status_code: 404, type: invalid_request, code: document_not_found, link: \n",
      "ERROR:root:MarqoWebError: MarqoWebError Error message: {'message': 'Document with ID 977 not found in index grascco_lokal_test', 'code': 'document_not_found', 'type': 'invalid_request', 'link': None}\n",
      "status_code: 404, type: invalid_request, code: document_not_found, link: \n",
      "ERROR:root:MarqoWebError: MarqoWebError Error message: {'message': 'Document with ID 978 not found in index grascco_lokal_test', 'code': 'document_not_found', 'type': 'invalid_request', 'link': None}\n",
      "status_code: 404, type: invalid_request, code: document_not_found, link: \n",
      "ERROR:root:MarqoWebError: MarqoWebError Error message: {'message': 'Document with ID 979 not found in index grascco_lokal_test', 'code': 'document_not_found', 'type': 'invalid_request', 'link': None}\n",
      "status_code: 404, type: invalid_request, code: document_not_found, link: \n",
      "ERROR:root:MarqoWebError: MarqoWebError Error message: {'message': 'Document with ID 980 not found in index grascco_lokal_test', 'code': 'document_not_found', 'type': 'invalid_request', 'link': None}\n",
      "status_code: 404, type: invalid_request, code: document_not_found, link: \n",
      "ERROR:root:MarqoWebError: MarqoWebError Error message: {'message': 'Document with ID 981 not found in index grascco_lokal_test', 'code': 'document_not_found', 'type': 'invalid_request', 'link': None}\n",
      "status_code: 404, type: invalid_request, code: document_not_found, link: \n",
      "ERROR:root:MarqoWebError: MarqoWebError Error message: {'message': 'Document with ID 982 not found in index grascco_lokal_test', 'code': 'document_not_found', 'type': 'invalid_request', 'link': None}\n",
      "status_code: 404, type: invalid_request, code: document_not_found, link: \n",
      "ERROR:root:MarqoWebError: MarqoWebError Error message: {'message': 'Document with ID 983 not found in index grascco_lokal_test', 'code': 'document_not_found', 'type': 'invalid_request', 'link': None}\n",
      "status_code: 404, type: invalid_request, code: document_not_found, link: \n",
      "ERROR:root:MarqoWebError: MarqoWebError Error message: {'message': 'Document with ID 984 not found in index grascco_lokal_test', 'code': 'document_not_found', 'type': 'invalid_request', 'link': None}\n",
      "status_code: 404, type: invalid_request, code: document_not_found, link: \n",
      "ERROR:root:MarqoWebError: MarqoWebError Error message: {'message': 'Document with ID 985 not found in index grascco_lokal_test', 'code': 'document_not_found', 'type': 'invalid_request', 'link': None}\n",
      "status_code: 404, type: invalid_request, code: document_not_found, link: \n",
      "ERROR:root:MarqoWebError: MarqoWebError Error message: {'message': 'Document with ID 986 not found in index grascco_lokal_test', 'code': 'document_not_found', 'type': 'invalid_request', 'link': None}\n",
      "status_code: 404, type: invalid_request, code: document_not_found, link: \n",
      "ERROR:root:MarqoWebError: MarqoWebError Error message: {'message': 'Document with ID 987 not found in index grascco_lokal_test', 'code': 'document_not_found', 'type': 'invalid_request', 'link': None}\n",
      "status_code: 404, type: invalid_request, code: document_not_found, link: \n",
      "ERROR:root:MarqoWebError: MarqoWebError Error message: {'message': 'Document with ID 988 not found in index grascco_lokal_test', 'code': 'document_not_found', 'type': 'invalid_request', 'link': None}\n",
      "status_code: 404, type: invalid_request, code: document_not_found, link: \n",
      "ERROR:root:MarqoWebError: MarqoWebError Error message: {'message': 'Document with ID 989 not found in index grascco_lokal_test', 'code': 'document_not_found', 'type': 'invalid_request', 'link': None}\n",
      "status_code: 404, type: invalid_request, code: document_not_found, link: \n",
      "ERROR:root:MarqoWebError: MarqoWebError Error message: {'message': 'Document with ID 990 not found in index grascco_lokal_test', 'code': 'document_not_found', 'type': 'invalid_request', 'link': None}\n",
      "status_code: 404, type: invalid_request, code: document_not_found, link: \n",
      "ERROR:root:MarqoWebError: MarqoWebError Error message: {'message': 'Document with ID 991 not found in index grascco_lokal_test', 'code': 'document_not_found', 'type': 'invalid_request', 'link': None}\n",
      "status_code: 404, type: invalid_request, code: document_not_found, link: \n",
      "ERROR:root:MarqoWebError: MarqoWebError Error message: {'message': 'Document with ID 992 not found in index grascco_lokal_test', 'code': 'document_not_found', 'type': 'invalid_request', 'link': None}\n",
      "status_code: 404, type: invalid_request, code: document_not_found, link: \n"
     ]
    },
    {
     "ename": "MarqoWebError",
     "evalue": "MarqoWebError: MarqoWebError Error message: {'message': '[{\"loc\": [\"__root__\"], \"msg\": \"Custom vector field \\'vector\\' must be a list, but given vector is of type <class \\'NoneType\\'>\", \"type\": \"value_error\"}]', 'code': 'invalid_argument', 'type': 'invalid_request', 'link': ''}\nstatus_code: 400, type: invalid_request, code: invalid_argument, link: ",
     "output_type": "error",
     "traceback": [
      "\u001B[1;31m---------------------------------------------------------------------------\u001B[0m",
      "\u001B[1;31mHTTPError\u001B[0m                                 Traceback (most recent call last)",
      "File \u001B[1;32m~\\.conda\\envs\\concept-graphs\\lib\\site-packages\\marqo\\_httprequests.py:148\u001B[0m, in \u001B[0;36mHttpRequests._validate\u001B[1;34m(request)\u001B[0m\n\u001B[0;32m    147\u001B[0m \u001B[38;5;28;01mtry\u001B[39;00m:\n\u001B[1;32m--> 148\u001B[0m     \u001B[43mrequest\u001B[49m\u001B[38;5;241;43m.\u001B[39;49m\u001B[43mraise_for_status\u001B[49m\u001B[43m(\u001B[49m\u001B[43m)\u001B[49m\n\u001B[0;32m    149\u001B[0m     \u001B[38;5;28;01mreturn\u001B[39;00m HttpRequests\u001B[38;5;241m.\u001B[39m__to_json(request)\n",
      "File \u001B[1;32m~\\.conda\\envs\\concept-graphs\\lib\\site-packages\\requests\\models.py:1024\u001B[0m, in \u001B[0;36mResponse.raise_for_status\u001B[1;34m(self)\u001B[0m\n\u001B[0;32m   1023\u001B[0m \u001B[38;5;28;01mif\u001B[39;00m http_error_msg:\n\u001B[1;32m-> 1024\u001B[0m     \u001B[38;5;28;01mraise\u001B[39;00m HTTPError(http_error_msg, response\u001B[38;5;241m=\u001B[39m\u001B[38;5;28mself\u001B[39m)\n",
      "\u001B[1;31mHTTPError\u001B[0m: 400 Client Error: Bad Request for url: http://localhost:8882/indexes/grascco_lokal_test/documents?refresh=false",
      "\nThe above exception was the direct cause of the following exception:\n",
      "\u001B[1;31mMarqoWebError\u001B[0m                             Traceback (most recent call last)",
      "Cell \u001B[1;32mIn[19], line 1\u001B[0m\n\u001B[1;32m----> 1\u001B[0m \u001B[43mmqds\u001B[49m\u001B[38;5;241;43m.\u001B[39;49m\u001B[43madd_document\u001B[49m\u001B[43m(\u001B[49m\u001B[43mtest_doc\u001B[49m\u001B[43m)\u001B[49m\n",
      "File \u001B[1;32m~\\PycharmProjects\\concept-graphs\\src\\MarqoExternalUtils.py:345\u001B[0m, in \u001B[0;36mMarqoDocumentStore.add_document\u001B[1;34m(self, document)\u001B[0m\n\u001B[0;32m    343\u001B[0m _field \u001B[38;5;241m=\u001B[39m \u001B[38;5;124m\"\u001B[39m\u001B[38;5;124mgraph_cluster\u001B[39m\u001B[38;5;124m\"\u001B[39m\n\u001B[0;32m    344\u001B[0m _last_store_id: \u001B[38;5;28mint\u001B[39m \u001B[38;5;241m=\u001B[39m \u001B[38;5;28mself\u001B[39m\u001B[38;5;241m.\u001B[39m_embedding_store\u001B[38;5;241m.\u001B[39mstore_size \u001B[38;5;241m-\u001B[39m \u001B[38;5;241m1\u001B[39m\n\u001B[1;32m--> 345\u001B[0m _ids: Iterable[\u001B[38;5;28mstr\u001B[39m] \u001B[38;5;241m=\u001B[39m \u001B[38;5;28;43mself\u001B[39;49m\u001B[38;5;241;43m.\u001B[39;49m\u001B[43m_embedding_store\u001B[49m\u001B[38;5;241;43m.\u001B[39;49m\u001B[43mstore_embeddings\u001B[49m\u001B[43m(\u001B[49m\n\u001B[0;32m    346\u001B[0m \u001B[43m    \u001B[49m\u001B[43membeddings\u001B[49m\u001B[38;5;241;43m=\u001B[39;49m\u001B[43mdocument\u001B[49m\u001B[38;5;241;43m.\u001B[39;49m\u001B[43mas_tuples\u001B[49m\u001B[43m,\u001B[49m\n\u001B[0;32m    347\u001B[0m \u001B[43m    \u001B[49m\u001B[43mcheck_for_same\u001B[49m\u001B[38;5;241;43m=\u001B[39;49m\u001B[38;5;28;43;01mTrue\u001B[39;49;00m\n\u001B[0;32m    348\u001B[0m \u001B[43m\u001B[49m\u001B[43m)\u001B[49m\n\u001B[0;32m    349\u001B[0m \u001B[38;5;28;01mif\u001B[39;00m \u001B[38;5;129;01mnot\u001B[39;00m \u001B[38;5;28many\u001B[39m(_ids):\n\u001B[0;32m    350\u001B[0m     \u001B[38;5;28;01mreturn\u001B[39;00m\n",
      "File \u001B[1;32m~\\PycharmProjects\\concept-graphs\\src\\MarqoExternalUtils.py:236\u001B[0m, in \u001B[0;36mMarqoEmbeddingStore.store_embeddings\u001B[1;34m(self, embeddings, embeddings_repr, vector_name, check_for_same)\u001B[0m\n\u001B[0;32m    234\u001B[0m         \u001B[38;5;28;01mif\u001B[39;00m item\u001B[38;5;241m.\u001B[39mget(\u001B[38;5;124m'\u001B[39m\u001B[38;5;124mstatus\u001B[39m\u001B[38;5;124m'\u001B[39m, \u001B[38;5;241m-\u001B[39m\u001B[38;5;241m1\u001B[39m) \u001B[38;5;241m==\u001B[39m \u001B[38;5;241m200\u001B[39m:\n\u001B[0;32m    235\u001B[0m             _ids\u001B[38;5;241m.\u001B[39mappend(item[\u001B[38;5;124m'\u001B[39m\u001B[38;5;124m_id\u001B[39m\u001B[38;5;124m'\u001B[39m])\n\u001B[1;32m--> 236\u001B[0m \u001B[38;5;28;01mreturn\u001B[39;00m \u001B[38;5;28;43mself\u001B[39;49m\u001B[38;5;241;43m.\u001B[39;49m\u001B[43m_check_for_same_embedding\u001B[49m\u001B[43m(\u001B[49m\u001B[43m_ids\u001B[49m\u001B[43m)\u001B[49m \u001B[38;5;28;01mif\u001B[39;00m check_for_same \u001B[38;5;28;01melse\u001B[39;00m _ids\n",
      "File \u001B[1;32m~\\PycharmProjects\\concept-graphs\\src\\MarqoExternalUtils.py:163\u001B[0m, in \u001B[0;36mMarqoEmbeddingStore._check_for_same_embedding\u001B[1;34m(self, check_id)\u001B[0m\n\u001B[0;32m    161\u001B[0m \u001B[38;5;28mself\u001B[39m\u001B[38;5;241m.\u001B[39mdelete_embeddings(_check_id_iter(check_id))\n\u001B[0;32m    162\u001B[0m \u001B[38;5;66;03m# self.store_embeddings(_docs_to_add)\u001B[39;00m\n\u001B[1;32m--> 163\u001B[0m \u001B[38;5;28;01mreturn\u001B[39;00m \u001B[38;5;28;43mself\u001B[39;49m\u001B[38;5;241;43m.\u001B[39;49m\u001B[43mstore_embeddings\u001B[49m\u001B[43m(\u001B[49m\n\u001B[0;32m    164\u001B[0m \u001B[43m    \u001B[49m\u001B[43m[\u001B[49m\u001B[38;5;28;43mself\u001B[39;49m\u001B[38;5;241;43m.\u001B[39;49m\u001B[43m_doc_representation\u001B[49m\u001B[43m(\u001B[49m\u001B[43mdid\u001B[49m\u001B[38;5;241;43m=\u001B[39;49m\u001B[43mi\u001B[49m\u001B[43m,\u001B[49m\u001B[43m \u001B[49m\u001B[43mvec\u001B[49m\u001B[38;5;241;43m=\u001B[39;49m\u001B[38;5;28;43mself\u001B[39;49m\u001B[38;5;241;43m.\u001B[39;49m\u001B[43mget_embedding\u001B[49m\u001B[43m(\u001B[49m\u001B[43md\u001B[49m\u001B[43m[\u001B[49m\u001B[38;5;124;43m\"\u001B[39;49m\u001B[38;5;124;43m_id\u001B[39;49m\u001B[38;5;124;43m\"\u001B[39;49m\u001B[43m]\u001B[49m\u001B[43m)\u001B[49m\u001B[43m,\u001B[49m\u001B[43m \u001B[49m\u001B[43mcont\u001B[49m\u001B[38;5;241;43m=\u001B[39;49m\u001B[43md\u001B[49m\u001B[43m[\u001B[49m\u001B[38;5;124;43m\"\u001B[39;49m\u001B[38;5;124;43mphrase\u001B[39;49m\u001B[38;5;124;43m\"\u001B[39;49m\u001B[43m]\u001B[49m\u001B[43m)\u001B[49m\n\u001B[0;32m    165\u001B[0m \u001B[43m     \u001B[49m\u001B[38;5;28;43;01mfor\u001B[39;49;00m\u001B[43m \u001B[49m\u001B[43mi\u001B[49m\u001B[43m,\u001B[49m\u001B[43m \u001B[49m\u001B[43md\u001B[49m\u001B[43m \u001B[49m\u001B[38;5;129;43;01min\u001B[39;49;00m\u001B[43m \u001B[49m\u001B[38;5;28;43menumerate\u001B[39;49m\u001B[43m(\u001B[49m\u001B[43m_additions\u001B[49m\u001B[43m)\u001B[49m\u001B[43m]\u001B[49m\n\u001B[0;32m    166\u001B[0m \u001B[43m\u001B[49m\u001B[43m)\u001B[49m\n",
      "File \u001B[1;32m~\\PycharmProjects\\concept-graphs\\src\\MarqoExternalUtils.py:221\u001B[0m, in \u001B[0;36mMarqoEmbeddingStore.store_embeddings\u001B[1;34m(self, embeddings, embeddings_repr, vector_name, check_for_same)\u001B[0m\n\u001B[0;32m    218\u001B[0m             _embeddings\u001B[38;5;241m.\u001B[39mappend(\u001B[38;5;28mself\u001B[39m\u001B[38;5;241m.\u001B[39m_doc_representation(_new_id(i), vector, content))\n\u001B[0;32m    219\u001B[0m     embeddings \u001B[38;5;241m=\u001B[39m _embeddings\n\u001B[1;32m--> 221\u001B[0m _result \u001B[38;5;241m=\u001B[39m \u001B[38;5;28;43mself\u001B[39;49m\u001B[38;5;241;43m.\u001B[39;49m\u001B[43mmarqo_index\u001B[49m\u001B[38;5;241;43m.\u001B[39;49m\u001B[43madd_documents\u001B[49m\u001B[43m(\u001B[49m\n\u001B[0;32m    222\u001B[0m \u001B[43m    \u001B[49m\u001B[43mdocuments\u001B[49m\u001B[38;5;241;43m=\u001B[39;49m\u001B[38;5;28;43mlist\u001B[39;49m\u001B[43m(\u001B[49m\u001B[43membeddings\u001B[49m\u001B[43m)\u001B[49m\u001B[43m,\u001B[49m\n\u001B[0;32m    223\u001B[0m \u001B[43m    \u001B[49m\u001B[43mclient_batch_size\u001B[49m\u001B[38;5;241;43m=\u001B[39;49m\u001B[38;5;241;43m128\u001B[39;49m\u001B[43m,\u001B[49m\n\u001B[0;32m    224\u001B[0m \u001B[43m    \u001B[49m\u001B[43mtensor_fields\u001B[49m\u001B[38;5;241;43m=\u001B[39;49m\u001B[43m[\u001B[49m\u001B[43m_vector_name\u001B[49m\u001B[43m]\u001B[49m\u001B[43m,\u001B[49m\n\u001B[0;32m    225\u001B[0m \u001B[43m    \u001B[49m\u001B[43mmappings\u001B[49m\u001B[38;5;241;43m=\u001B[39;49m\u001B[43m{\u001B[49m\n\u001B[0;32m    226\u001B[0m \u001B[43m        \u001B[49m\u001B[43m_vector_name\u001B[49m\u001B[43m:\u001B[49m\u001B[43m \u001B[49m\u001B[43m{\u001B[49m\n\u001B[0;32m    227\u001B[0m \u001B[43m            \u001B[49m\u001B[38;5;124;43m\"\u001B[39;49m\u001B[38;5;124;43mtype\u001B[39;49m\u001B[38;5;124;43m\"\u001B[39;49m\u001B[43m:\u001B[49m\u001B[43m \u001B[49m\u001B[38;5;124;43m\"\u001B[39;49m\u001B[38;5;124;43mcustom_vector\u001B[39;49m\u001B[38;5;124;43m\"\u001B[39;49m\n\u001B[0;32m    228\u001B[0m \u001B[43m        \u001B[49m\u001B[43m}\u001B[49m\n\u001B[0;32m    229\u001B[0m \u001B[43m    \u001B[49m\u001B[43m}\u001B[49m\u001B[43m,\u001B[49m\n\u001B[0;32m    230\u001B[0m \u001B[43m\u001B[49m\u001B[43m)\u001B[49m\n\u001B[0;32m    231\u001B[0m _ids \u001B[38;5;241m=\u001B[39m []\n\u001B[0;32m    232\u001B[0m \u001B[38;5;28;01mfor\u001B[39;00m batch \u001B[38;5;129;01min\u001B[39;00m _result:\n",
      "File \u001B[1;32m~\\.conda\\envs\\concept-graphs\\lib\\site-packages\\marqo\\index.py:551\u001B[0m, in \u001B[0;36mIndex.add_documents\u001B[1;34m(self, documents, client_batch_size, device, tensor_fields, use_existing_tensors, image_download_headers, media_download_headers, mappings, model_auth, text_chunk_prefix)\u001B[0m\n\u001B[0;32m    516\u001B[0m \u001B[38;5;28;01mdef\u001B[39;00m\u001B[38;5;250m \u001B[39m\u001B[38;5;21madd_documents\u001B[39m(\n\u001B[0;32m    517\u001B[0m         \u001B[38;5;28mself\u001B[39m,\n\u001B[0;32m    518\u001B[0m         documents: List[Dict[\u001B[38;5;28mstr\u001B[39m, Any]],\n\u001B[1;32m   (...)\u001B[0m\n\u001B[0;32m    527\u001B[0m         text_chunk_prefix: \u001B[38;5;28mstr\u001B[39m \u001B[38;5;241m=\u001B[39m \u001B[38;5;28;01mNone\u001B[39;00m,\n\u001B[0;32m    528\u001B[0m ) \u001B[38;5;241m-\u001B[39m\u001B[38;5;241m>\u001B[39m Union[Dict[\u001B[38;5;28mstr\u001B[39m, Any], List[Dict[\u001B[38;5;28mstr\u001B[39m, Any]]]:\n\u001B[0;32m    529\u001B[0m \u001B[38;5;250m    \u001B[39m\u001B[38;5;124;03m\"\"\"Add documents to this index. Does a partial update on existing documents,\u001B[39;00m\n\u001B[0;32m    530\u001B[0m \u001B[38;5;124;03m    based on their ID. Adds unseen documents to the index.\u001B[39;00m\n\u001B[0;32m    531\u001B[0m \n\u001B[1;32m   (...)\u001B[0m\n\u001B[0;32m    549\u001B[0m \u001B[38;5;124;03m        Response body outlining indexing result\u001B[39;00m\n\u001B[0;32m    550\u001B[0m \u001B[38;5;124;03m    \"\"\"\u001B[39;00m\n\u001B[1;32m--> 551\u001B[0m     \u001B[38;5;28;01mreturn\u001B[39;00m \u001B[38;5;28;43mself\u001B[39;49m\u001B[38;5;241;43m.\u001B[39;49m\u001B[43m_add_docs_organiser\u001B[49m\u001B[43m(\u001B[49m\n\u001B[0;32m    552\u001B[0m \u001B[43m        \u001B[49m\u001B[43mdocuments\u001B[49m\u001B[38;5;241;43m=\u001B[39;49m\u001B[43mdocuments\u001B[49m\u001B[43m,\u001B[49m\n\u001B[0;32m    553\u001B[0m \u001B[43m        \u001B[49m\u001B[43mclient_batch_size\u001B[49m\u001B[38;5;241;43m=\u001B[39;49m\u001B[43mclient_batch_size\u001B[49m\u001B[43m,\u001B[49m\u001B[43m \u001B[49m\u001B[43mdevice\u001B[49m\u001B[38;5;241;43m=\u001B[39;49m\u001B[43mdevice\u001B[49m\u001B[43m,\u001B[49m\u001B[43m \u001B[49m\u001B[43mtensor_fields\u001B[49m\u001B[38;5;241;43m=\u001B[39;49m\u001B[43mtensor_fields\u001B[49m\u001B[43m,\u001B[49m\n\u001B[0;32m    554\u001B[0m \u001B[43m        \u001B[49m\u001B[43muse_existing_tensors\u001B[49m\u001B[38;5;241;43m=\u001B[39;49m\u001B[43muse_existing_tensors\u001B[49m\u001B[43m,\u001B[49m\n\u001B[0;32m    555\u001B[0m \u001B[43m        \u001B[49m\u001B[43mimage_download_headers\u001B[49m\u001B[38;5;241;43m=\u001B[39;49m\u001B[43mimage_download_headers\u001B[49m\u001B[43m,\u001B[49m\n\u001B[0;32m    556\u001B[0m \u001B[43m        \u001B[49m\u001B[43mmedia_download_headers\u001B[49m\u001B[38;5;241;43m=\u001B[39;49m\u001B[43mmedia_download_headers\u001B[49m\u001B[43m,\u001B[49m\n\u001B[0;32m    557\u001B[0m \u001B[43m        \u001B[49m\u001B[43mmappings\u001B[49m\u001B[38;5;241;43m=\u001B[39;49m\u001B[43mmappings\u001B[49m\u001B[43m,\u001B[49m\u001B[43m \u001B[49m\u001B[43mmodel_auth\u001B[49m\u001B[38;5;241;43m=\u001B[39;49m\u001B[43mmodel_auth\u001B[49m\u001B[43m,\u001B[49m\n\u001B[0;32m    558\u001B[0m \u001B[43m        \u001B[49m\u001B[43mtext_chunk_prefix\u001B[49m\u001B[38;5;241;43m=\u001B[39;49m\u001B[43mtext_chunk_prefix\u001B[49m\n\u001B[0;32m    559\u001B[0m \u001B[43m    \u001B[49m\u001B[43m)\u001B[49m\n",
      "File \u001B[1;32m~\\.conda\\envs\\concept-graphs\\lib\\site-packages\\marqo\\index.py:613\u001B[0m, in \u001B[0;36mIndex._add_docs_organiser\u001B[1;34m(self, documents, client_batch_size, device, tensor_fields, use_existing_tensors, image_download_headers, media_download_headers, mappings, model_auth, text_chunk_prefix)\u001B[0m\n\u001B[0;32m    611\u001B[0m     \u001B[38;5;28;01mif\u001B[39;00m client_batch_size \u001B[38;5;241m<\u001B[39m\u001B[38;5;241m=\u001B[39m \u001B[38;5;241m0\u001B[39m:\n\u001B[0;32m    612\u001B[0m         \u001B[38;5;28;01mraise\u001B[39;00m errors\u001B[38;5;241m.\u001B[39mInvalidArgError(\u001B[38;5;124m\"\u001B[39m\u001B[38;5;124mBatch size can\u001B[39m\u001B[38;5;124m'\u001B[39m\u001B[38;5;124mt be less than 1!\u001B[39m\u001B[38;5;124m\"\u001B[39m)\n\u001B[1;32m--> 613\u001B[0m     res \u001B[38;5;241m=\u001B[39m \u001B[38;5;28;43mself\u001B[39;49m\u001B[38;5;241;43m.\u001B[39;49m\u001B[43m_batch_request\u001B[49m\u001B[43m(\u001B[49m\n\u001B[0;32m    614\u001B[0m \u001B[43m        \u001B[49m\u001B[43mbase_path\u001B[49m\u001B[38;5;241;43m=\u001B[39;49m\u001B[43mbase_path\u001B[49m\u001B[43m,\u001B[49m\n\u001B[0;32m    615\u001B[0m \u001B[43m        \u001B[49m\u001B[43mdocs\u001B[49m\u001B[38;5;241;43m=\u001B[39;49m\u001B[43mdocuments\u001B[49m\u001B[43m,\u001B[49m\u001B[43m \u001B[49m\u001B[43mverbose\u001B[49m\u001B[38;5;241;43m=\u001B[39;49m\u001B[38;5;28;43;01mFalse\u001B[39;49;00m\u001B[43m,\u001B[49m\n\u001B[0;32m    616\u001B[0m \u001B[43m        \u001B[49m\u001B[43mquery_str_params\u001B[49m\u001B[38;5;241;43m=\u001B[39;49m\u001B[43mquery_str_params\u001B[49m\u001B[43m,\u001B[49m\u001B[43m \u001B[49m\u001B[43mbatch_size\u001B[49m\u001B[38;5;241;43m=\u001B[39;49m\u001B[43mclient_batch_size\u001B[49m\u001B[43m,\u001B[49m\u001B[43m \u001B[49m\u001B[43mbase_body\u001B[49m\u001B[38;5;241;43m=\u001B[39;49m\u001B[43mbase_body\u001B[49m\n\u001B[0;32m    617\u001B[0m \u001B[43m    \u001B[49m\u001B[43m)\u001B[49m\n\u001B[0;32m    619\u001B[0m \u001B[38;5;28;01melse\u001B[39;00m:\n\u001B[0;32m    620\u001B[0m     \u001B[38;5;66;03m# no Client Batching\u001B[39;00m\n\u001B[0;32m    621\u001B[0m \n\u001B[0;32m    622\u001B[0m     \u001B[38;5;66;03m# Build the query string\u001B[39;00m\n\u001B[0;32m    623\u001B[0m     path_with_query_str \u001B[38;5;241m=\u001B[39m \u001B[38;5;124mf\u001B[39m\u001B[38;5;124m\"\u001B[39m\u001B[38;5;132;01m{\u001B[39;00mbase_path\u001B[38;5;132;01m}\u001B[39;00m\u001B[38;5;124m\"\u001B[39m\n",
      "File \u001B[1;32m~\\.conda\\envs\\concept-graphs\\lib\\site-packages\\marqo\\index.py:867\u001B[0m, in \u001B[0;36mIndex._batch_request\u001B[1;34m(self, docs, base_path, query_str_params, base_body, verbose, batch_size)\u001B[0m\n\u001B[0;32m    864\u001B[0m         mq_logger\u001B[38;5;241m.\u001B[39minfo(\u001B[38;5;124mf\u001B[39m\u001B[38;5;124m\"\u001B[39m\u001B[38;5;124mresults from indexing batch \u001B[39m\u001B[38;5;132;01m{\u001B[39;00mi\u001B[38;5;132;01m}\u001B[39;00m\u001B[38;5;124m: \u001B[39m\u001B[38;5;132;01m{\u001B[39;00mres\u001B[38;5;132;01m}\u001B[39;00m\u001B[38;5;124m\"\u001B[39m)\n\u001B[0;32m    865\u001B[0m     \u001B[38;5;28;01mreturn\u001B[39;00m res\n\u001B[1;32m--> 867\u001B[0m results \u001B[38;5;241m=\u001B[39m [verbosely_add_docs(i, docs) \u001B[38;5;28;01mfor\u001B[39;00m i, docs \u001B[38;5;129;01min\u001B[39;00m \u001B[38;5;28menumerate\u001B[39m(batched)]\n\u001B[0;32m    868\u001B[0m mq_logger\u001B[38;5;241m.\u001B[39mdebug(\u001B[38;5;124m'\u001B[39m\u001B[38;5;124mcompleted batch ingestion.\u001B[39m\u001B[38;5;124m'\u001B[39m)\n\u001B[0;32m    869\u001B[0m \u001B[38;5;28;01mreturn\u001B[39;00m results\n",
      "File \u001B[1;32m~\\.conda\\envs\\concept-graphs\\lib\\site-packages\\marqo\\index.py:867\u001B[0m, in \u001B[0;36m<listcomp>\u001B[1;34m(.0)\u001B[0m\n\u001B[0;32m    864\u001B[0m         mq_logger\u001B[38;5;241m.\u001B[39minfo(\u001B[38;5;124mf\u001B[39m\u001B[38;5;124m\"\u001B[39m\u001B[38;5;124mresults from indexing batch \u001B[39m\u001B[38;5;132;01m{\u001B[39;00mi\u001B[38;5;132;01m}\u001B[39;00m\u001B[38;5;124m: \u001B[39m\u001B[38;5;132;01m{\u001B[39;00mres\u001B[38;5;132;01m}\u001B[39;00m\u001B[38;5;124m\"\u001B[39m)\n\u001B[0;32m    865\u001B[0m     \u001B[38;5;28;01mreturn\u001B[39;00m res\n\u001B[1;32m--> 867\u001B[0m results \u001B[38;5;241m=\u001B[39m [\u001B[43mverbosely_add_docs\u001B[49m\u001B[43m(\u001B[49m\u001B[43mi\u001B[49m\u001B[43m,\u001B[49m\u001B[43m \u001B[49m\u001B[43mdocs\u001B[49m\u001B[43m)\u001B[49m \u001B[38;5;28;01mfor\u001B[39;00m i, docs \u001B[38;5;129;01min\u001B[39;00m \u001B[38;5;28menumerate\u001B[39m(batched)]\n\u001B[0;32m    868\u001B[0m mq_logger\u001B[38;5;241m.\u001B[39mdebug(\u001B[38;5;124m'\u001B[39m\u001B[38;5;124mcompleted batch ingestion.\u001B[39m\u001B[38;5;124m'\u001B[39m)\n\u001B[0;32m    869\u001B[0m \u001B[38;5;28;01mreturn\u001B[39;00m results\n",
      "File \u001B[1;32m~\\.conda\\envs\\concept-graphs\\lib\\site-packages\\marqo\\index.py:822\u001B[0m, in \u001B[0;36mIndex._batch_request.<locals>.verbosely_add_docs\u001B[1;34m(i, docs)\u001B[0m\n\u001B[0;32m    820\u001B[0m t0 \u001B[38;5;241m=\u001B[39m timer()\n\u001B[0;32m    821\u001B[0m body \u001B[38;5;241m=\u001B[39m {\u001B[38;5;124m\"\u001B[39m\u001B[38;5;124mdocuments\u001B[39m\u001B[38;5;124m\"\u001B[39m: docs, \u001B[38;5;241m*\u001B[39m\u001B[38;5;241m*\u001B[39mbase_body}\n\u001B[1;32m--> 822\u001B[0m res \u001B[38;5;241m=\u001B[39m \u001B[38;5;28;43mself\u001B[39;49m\u001B[38;5;241;43m.\u001B[39;49m\u001B[43mhttp\u001B[49m\u001B[38;5;241;43m.\u001B[39;49m\u001B[43mpost\u001B[49m\u001B[43m(\u001B[49m\u001B[43mpath\u001B[49m\u001B[38;5;241;43m=\u001B[39;49m\u001B[43mpath_with_query_str\u001B[49m\u001B[43m,\u001B[49m\u001B[43m \u001B[49m\u001B[43mbody\u001B[49m\u001B[38;5;241;43m=\u001B[39;49m\u001B[43mbody\u001B[49m\u001B[43m,\u001B[49m\u001B[43m \u001B[49m\u001B[43mindex_name\u001B[49m\u001B[38;5;241;43m=\u001B[39;49m\u001B[38;5;28;43mself\u001B[39;49m\u001B[38;5;241;43m.\u001B[39;49m\u001B[43mindex_name\u001B[49m\u001B[43m)\u001B[49m\n\u001B[0;32m    824\u001B[0m total_batch_time \u001B[38;5;241m=\u001B[39m timer() \u001B[38;5;241m-\u001B[39m t0\n\u001B[0;32m    825\u001B[0m num_docs \u001B[38;5;241m=\u001B[39m \u001B[38;5;28mlen\u001B[39m(docs)\n",
      "File \u001B[1;32m~\\.conda\\envs\\concept-graphs\\lib\\site-packages\\marqo\\_httprequests.py:101\u001B[0m, in \u001B[0;36mHttpRequests.post\u001B[1;34m(self, path, body, content_type, index_name)\u001B[0m\n\u001B[0;32m     94\u001B[0m \u001B[38;5;28;01mdef\u001B[39;00m\u001B[38;5;250m \u001B[39m\u001B[38;5;21mpost\u001B[39m(\n\u001B[0;32m     95\u001B[0m     \u001B[38;5;28mself\u001B[39m,\n\u001B[0;32m     96\u001B[0m     path: \u001B[38;5;28mstr\u001B[39m,\n\u001B[1;32m   (...)\u001B[0m\n\u001B[0;32m     99\u001B[0m     index_name: \u001B[38;5;28mstr\u001B[39m \u001B[38;5;241m=\u001B[39m \u001B[38;5;124m\"\u001B[39m\u001B[38;5;124m\"\u001B[39m\n\u001B[0;32m    100\u001B[0m ) \u001B[38;5;241m-\u001B[39m\u001B[38;5;241m>\u001B[39m Any:\n\u001B[1;32m--> 101\u001B[0m     \u001B[38;5;28;01mreturn\u001B[39;00m \u001B[38;5;28;43mself\u001B[39;49m\u001B[38;5;241;43m.\u001B[39;49m\u001B[43msend_request\u001B[49m\u001B[43m(\u001B[49m\u001B[38;5;124;43m'\u001B[39;49m\u001B[38;5;124;43mpost\u001B[39;49m\u001B[38;5;124;43m'\u001B[39;49m\u001B[43m,\u001B[49m\u001B[43m \u001B[49m\u001B[43mpath\u001B[49m\u001B[43m,\u001B[49m\u001B[43m \u001B[49m\u001B[43mbody\u001B[49m\u001B[43m,\u001B[49m\u001B[43m \u001B[49m\u001B[43mcontent_type\u001B[49m\u001B[43m,\u001B[49m\u001B[43m \u001B[49m\u001B[43mindex_name\u001B[49m\u001B[38;5;241;43m=\u001B[39;49m\u001B[43mindex_name\u001B[49m\u001B[43m)\u001B[49m\n",
      "File \u001B[1;32m~\\.conda\\envs\\concept-graphs\\lib\\site-packages\\marqo\\_httprequests.py:75\u001B[0m, in \u001B[0;36mHttpRequests.send_request\u001B[1;34m(self, http_operation, path, body, content_type, index_name)\u001B[0m\n\u001B[0;32m     67\u001B[0m \u001B[38;5;28;01mtry\u001B[39;00m:\n\u001B[0;32m     68\u001B[0m     response \u001B[38;5;241m=\u001B[39m \u001B[38;5;28mself\u001B[39m\u001B[38;5;241m.\u001B[39m_operation(http_operation)(\n\u001B[0;32m     69\u001B[0m         url\u001B[38;5;241m=\u001B[39m\u001B[38;5;28mself\u001B[39m\u001B[38;5;241m.\u001B[39m_construct_path(path, index_name),\n\u001B[0;32m     70\u001B[0m         timeout\u001B[38;5;241m=\u001B[39m\u001B[38;5;28mself\u001B[39m\u001B[38;5;241m.\u001B[39mconfig\u001B[38;5;241m.\u001B[39mtimeout,\n\u001B[1;32m   (...)\u001B[0m\n\u001B[0;32m     73\u001B[0m         verify\u001B[38;5;241m=\u001B[39m\u001B[38;5;28;01mTrue\u001B[39;00m\n\u001B[0;32m     74\u001B[0m     )\n\u001B[1;32m---> 75\u001B[0m     \u001B[38;5;28;01mreturn\u001B[39;00m \u001B[38;5;28;43mself\u001B[39;49m\u001B[38;5;241;43m.\u001B[39;49m\u001B[43m_validate\u001B[49m\u001B[43m(\u001B[49m\u001B[43mresponse\u001B[49m\u001B[43m)\u001B[49m\n\u001B[0;32m     76\u001B[0m \u001B[38;5;28;01mexcept\u001B[39;00m requests\u001B[38;5;241m.\u001B[39mexceptions\u001B[38;5;241m.\u001B[39mTimeout \u001B[38;5;28;01mas\u001B[39;00m err:\n\u001B[0;32m     77\u001B[0m     \u001B[38;5;28;01mraise\u001B[39;00m BackendTimeoutError(\u001B[38;5;28mstr\u001B[39m(err)) \u001B[38;5;28;01mfrom\u001B[39;00m\u001B[38;5;250m \u001B[39m\u001B[38;5;21;01merr\u001B[39;00m\n",
      "File \u001B[1;32m~\\.conda\\envs\\concept-graphs\\lib\\site-packages\\marqo\\_httprequests.py:151\u001B[0m, in \u001B[0;36mHttpRequests._validate\u001B[1;34m(request)\u001B[0m\n\u001B[0;32m    149\u001B[0m     \u001B[38;5;28;01mreturn\u001B[39;00m HttpRequests\u001B[38;5;241m.\u001B[39m__to_json(request)\n\u001B[0;32m    150\u001B[0m \u001B[38;5;28;01mexcept\u001B[39;00m requests\u001B[38;5;241m.\u001B[39mexceptions\u001B[38;5;241m.\u001B[39mHTTPError \u001B[38;5;28;01mas\u001B[39;00m err:\n\u001B[1;32m--> 151\u001B[0m     \u001B[43mconvert_to_marqo_error_and_raise\u001B[49m\u001B[43m(\u001B[49m\u001B[43mresponse\u001B[49m\u001B[38;5;241;43m=\u001B[39;49m\u001B[43mrequest\u001B[49m\u001B[43m,\u001B[49m\u001B[43m \u001B[49m\u001B[43merr\u001B[49m\u001B[38;5;241;43m=\u001B[39;49m\u001B[43merr\u001B[49m\u001B[43m)\u001B[49m\n",
      "File \u001B[1;32m~\\.conda\\envs\\concept-graphs\\lib\\site-packages\\marqo\\_httprequests.py:165\u001B[0m, in \u001B[0;36mconvert_to_marqo_error_and_raise\u001B[1;34m(response, err)\u001B[0m\n\u001B[0;32m    162\u001B[0m     code \u001B[38;5;241m=\u001B[39m \u001B[38;5;124m\"\u001B[39m\u001B[38;5;124munhandled_error\u001B[39m\u001B[38;5;124m\"\u001B[39m\n\u001B[0;32m    163\u001B[0m     error_type \u001B[38;5;241m=\u001B[39m \u001B[38;5;124m\"\u001B[39m\u001B[38;5;124munhandled_error_type\u001B[39m\u001B[38;5;124m\"\u001B[39m\n\u001B[1;32m--> 165\u001B[0m \u001B[38;5;28;01mraise\u001B[39;00m MarqoWebError(message\u001B[38;5;241m=\u001B[39mresponse_msg, code\u001B[38;5;241m=\u001B[39mcode, error_type\u001B[38;5;241m=\u001B[39merror_type,\n\u001B[0;32m    166\u001B[0m     status_code\u001B[38;5;241m=\u001B[39mresponse\u001B[38;5;241m.\u001B[39mstatus_code) \u001B[38;5;28;01mfrom\u001B[39;00m\u001B[38;5;250m \u001B[39m\u001B[38;5;21;01merr\u001B[39;00m\n",
      "\u001B[1;31mMarqoWebError\u001B[0m: MarqoWebError: MarqoWebError Error message: {'message': '[{\"loc\": [\"__root__\"], \"msg\": \"Custom vector field \\'vector\\' must be a list, but given vector is of type <class \\'NoneType\\'>\", \"type\": \"value_error\"}]', 'code': 'invalid_argument', 'type': 'invalid_request', 'link': ''}\nstatus_code: 400, type: invalid_request, code: invalid_argument, link: "
     ]
    }
   ],
   "execution_count": 19
  },
  {
   "metadata": {},
   "cell_type": "code",
   "source": "mqs.marqo_index.recommend([\"10\"], exclude_input_documents=False)",
   "id": "9fdc22520b326af6",
   "outputs": [],
   "execution_count": null
  },
  {
   "metadata": {
    "ExecuteTime": {
     "end_time": "2025-05-22T17:10:29.195184Z",
     "start_time": "2025-05-22T17:10:29.173521Z"
    }
   },
   "cell_type": "code",
   "source": "mqs.marqo_index.get_document(\"10\")",
   "id": "9ef80e0edbef3c2a",
   "outputs": [
    {
     "data": {
      "text/plain": [
       "{'graph_cluster': ['2'], '_id': '10', 'phrase': 'handamputation'}"
      ]
     },
     "execution_count": 18,
     "metadata": {},
     "output_type": "execute_result"
    }
   ],
   "execution_count": 18
  },
  {
   "metadata": {},
   "cell_type": "code",
   "source": "mqs.store_size",
   "id": "ce529ac890f7e323",
   "outputs": [],
   "execution_count": null
  },
  {
   "metadata": {},
   "cell_type": "code",
   "source": "mqs.marqo_index.get_document(\"87\")",
   "id": "9e3f05946126143b",
   "outputs": [],
   "execution_count": null
  },
  {
   "metadata": {
    "ExecuteTime": {
     "end_time": "2025-05-22T17:10:25.945337Z",
     "start_time": "2025-05-22T17:10:25.655574Z"
    }
   },
   "cell_type": "code",
   "source": [
    "for i, g in enumerate(grascco_graph_test):\n",
    "    doc_list = []\n",
    "    for n, d in g.nodes(True):\n",
    "        doc_list.append(\n",
    "            {\n",
    "                \"_id\": str(n),\n",
    "                \"graph_cluster\": [str(i)]\n",
    "            }\n",
    "        )\n",
    "    _res = mqs.marqo_index.update_documents(\n",
    "        documents=doc_list,\n",
    "        # client_batch_size=128,\n",
    "        # use_existing_tensors=True\n",
    "    )"
   ],
   "id": "5b5c589ca6f18afe",
   "outputs": [],
   "execution_count": 17
  },
  {
   "metadata": {},
   "cell_type": "code",
   "source": "doc_list",
   "id": "267f36cdf5cc467f",
   "outputs": [],
   "execution_count": null
  },
  {
   "metadata": {},
   "cell_type": "markdown",
   "source": "---",
   "id": "cbcb44f268af51c5"
  },
  {
   "metadata": {},
   "cell_type": "code",
   "source": "grascco_embedding.data_processing_obj.data_chunk_sets[1]",
   "id": "a517ef68a1da844e",
   "outputs": [],
   "execution_count": null
  },
  {
   "metadata": {},
   "cell_type": "code",
   "source": [
    "vector_name = \"phrase_vector\"\n",
    "def create_index_document(sentence_embedding_obj: 'embedding_functions.SentenceEmbeddingsFactory.SentenceEmbeddings'):\n",
    "    for i, embedding in enumerate(sentence_embedding_obj.sentence_embeddings):\n",
    "        _chunk_obj = sentence_embedding_obj.data_processing_obj.data_chunk_sets[i]\n",
    "        yield {\n",
    "            \"_id\": str(i),\n",
    "            \"documents\": [str(d['id']) for d in _chunk_obj['doc']],\n",
    "            #\"phrase\": _chunk_obj['text'],\n",
    "            vector_name: {\n",
    "                \"content\": _chunk_obj['text'],\n",
    "                \"vector\": [float(f) for f in embedding]\n",
    "            }\n",
    "        }"
   ],
   "id": "99c11e371224b36a",
   "outputs": [],
   "execution_count": null
  },
  {
   "metadata": {},
   "cell_type": "code",
   "source": "mq = marqo.Client(url=\"http://localhost:8882\")",
   "id": "5dc38ca5eb150fe9",
   "outputs": [],
   "execution_count": null
  },
  {
   "metadata": {},
   "cell_type": "code",
   "source": [
    "index_name = \"grascco_index\"\n",
    "settings = {\n",
    "    \"treatUrlsAndPointersAsImages\": False,\n",
    "    \"model\": \"no_model\",\n",
    "    \"modelProperties\": {\n",
    "        \"dimensions\": 1024,\n",
    "        \"type\": \"no_model\",\n",
    "    },\n",
    "    \"annParameters\": {\n",
    "        \"spaceType\": \"dotproduct\", #prenormalized-angular(default)\n",
    "        \"parameters\": {\n",
    "            \"efConstruction\": 1024,\n",
    "            \"m\": 16\n",
    "        }\n",
    "    }\n",
    "}\n",
    "try:\n",
    "    mq.create_index(\n",
    "        index_name=index_name,\n",
    "        settings_dict=settings,\n",
    "    )\n",
    "except:\n",
    "    mq.delete_index(index_name)\n",
    "    mq.create_index(\n",
    "        index_name=index_name,\n",
    "        settings_dict=settings,\n",
    "    )"
   ],
   "id": "da5044d355758c8d",
   "outputs": [],
   "execution_count": null
  },
  {
   "metadata": {},
   "cell_type": "code",
   "source": [
    "mq.index(index_name).add_documents(\n",
    "    list(create_index_document(grascco_embedding)),\n",
    "    client_batch_size=128,\n",
    "    tensor_fields=[vector_name],\n",
    "    mappings={\n",
    "        vector_name: {\n",
    "            \"type\": \"custom_vector\"\n",
    "        }\n",
    "    },\n",
    ")"
   ],
   "id": "8e0e6427bbefbe4f",
   "outputs": [],
   "execution_count": null
  },
  {
   "metadata": {},
   "cell_type": "code",
   "source": "mq.index(\"grascco_lokal_test\").get_document(\"877\", expose_facets=True)",
   "id": "5af361b50820de12",
   "outputs": [],
   "execution_count": null
  },
  {
   "metadata": {},
   "cell_type": "code",
   "source": "mqs.store_embedding((\"handamputation\", mq.index(\"grascco_lokal_test\").get_document(\"10\", expose_facets=True)[\"_tensor_facets\"][0][\"_embedding\"]))",
   "id": "6b961d54a81025f5",
   "outputs": [],
   "execution_count": null
  },
  {
   "metadata": {},
   "cell_type": "code",
   "source": "mqs.best_hits_for_field(\"10\")",
   "id": "458cabb9d2691d19",
   "outputs": [],
   "execution_count": null
  },
  {
   "metadata": {},
   "cell_type": "code",
   "source": "mqs.marqo_index.delete_documents([\"877\"])",
   "id": "fc602c8a0fca27c0",
   "outputs": [],
   "execution_count": null
  },
  {
   "metadata": {},
   "cell_type": "code",
   "source": "mq.index(\"grascco_lokal_test\").get_documents([\"10\", \"11\"])",
   "id": "c498561753a61ed0",
   "outputs": [],
   "execution_count": null
  },
  {
   "metadata": {},
   "cell_type": "code",
   "source": [
    "mq.index(\"grascco_lokal_test\").recommend(\n",
    "    documents=['877'],\n",
    "    tensor_fields=[\"phrase_vector\"],\n",
    "    limit=2,\n",
    "    exclude_input_documents=False\n",
    ").get(\"hits\")"
   ],
   "id": "4256d77ebe3504f3",
   "outputs": [],
   "execution_count": null
  },
  {
   "metadata": {},
   "cell_type": "code",
   "source": [
    "ex_doc = mq.index(\"grascco_lokal_test\").get_document(\"10\", expose_facets=True)\n",
    "ex_doc"
   ],
   "id": "972655a6321bd7be",
   "outputs": [],
   "execution_count": null
  },
  {
   "metadata": {},
   "cell_type": "code",
   "source": [
    "mq.index(\"grascco_lokal_test\").search(\n",
    "    q={\n",
    "        \"customVector\" : {\n",
    "            \"vector\": ex_doc[\"_tensor_facets\"][0][\"_embedding\"],\n",
    "            \"content\": ex_doc[\"phrase\"],\n",
    "        }\n",
    "    },\n",
    "    search_method=\"HYBRID\"\n",
    ")"
   ],
   "id": "df26920c6bd2b99a",
   "outputs": [],
   "execution_count": null
  },
  {
   "metadata": {},
   "cell_type": "code",
   "source": [
    "_ids = [str(i) for i in range(6)]\n",
    "np.asarray([\n",
    "    _res[\"_tensor_facets\"][0][\"_embedding\"]\n",
    "    for _res in\n",
    "    mq.index(index_name).get_documents(_ids, expose_facets=True)[\"results\"]\n",
    "]).tolist()"
   ],
   "id": "514495558e301d98",
   "outputs": [],
   "execution_count": null
  },
  {
   "metadata": {},
   "cell_type": "code",
   "source": "mq.index(index_name).get_stats()[\"numberOfDocuments\"]",
   "id": "fa9d7683a3bf296c",
   "outputs": [],
   "execution_count": null
  },
  {
   "metadata": {},
   "cell_type": "code",
   "source": "mq.index(index_name).get_document(\"5180\")",
   "id": "fb421baee1866768",
   "outputs": [],
   "execution_count": null
  },
  {
   "metadata": {},
   "cell_type": "code",
   "source": [
    "marqo_store = MarqoEmbeddingExternal(\n",
    "    client_url=\"http://localhost:8882\",\n",
    "    index_name=\"grascco_lokal_test\"\n",
    ")"
   ],
   "id": "4a03f5463b255b1d",
   "outputs": [],
   "execution_count": null
  },
  {
   "metadata": {},
   "cell_type": "code",
   "source": [
    "mq.index(\"grascco_lokal_test\").search(\n",
    "    q='psychose',\n",
    "    search_method=\"LEXICAL\",\n",
    ")"
   ],
   "id": "18fe13f7006431ee",
   "outputs": [],
   "execution_count": null
  }
 ],
 "metadata": {
  "kernelspec": {
   "display_name": "Python 3",
   "language": "python",
   "name": "python3"
  },
  "language_info": {
   "codemirror_mode": {
    "name": "ipython",
    "version": 2
   },
   "file_extension": ".py",
   "mimetype": "text/x-python",
   "name": "python",
   "nbconvert_exporter": "python",
   "pygments_lexer": "ipython2",
   "version": "2.7.6"
  }
 },
 "nbformat": 4,
 "nbformat_minor": 5
}
