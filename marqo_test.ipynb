{
 "cells": [
  {
   "cell_type": "code",
   "id": "initial_id",
   "metadata": {
    "collapsed": true,
    "ExecuteTime": {
     "end_time": "2025-05-16T11:13:21.302808Z",
     "start_time": "2025-05-16T11:13:20.463043Z"
    }
   },
   "source": [
    "import marqo\n",
    "import sys\n",
    "import pathlib\n",
    "import pickle"
   ],
   "outputs": [],
   "execution_count": 1
  },
  {
   "metadata": {
    "ExecuteTime": {
     "end_time": "2025-05-16T11:13:24.573811Z",
     "start_time": "2025-05-16T11:13:22.639474Z"
    }
   },
   "cell_type": "code",
   "source": [
    "import numpy as np\n",
    "from sklearn.preprocessing import MinMaxScaler"
   ],
   "id": "63c8c3b905582292",
   "outputs": [],
   "execution_count": 2
  },
  {
   "metadata": {
    "ExecuteTime": {
     "end_time": "2025-05-16T11:13:50.339424Z",
     "start_time": "2025-05-16T11:13:24.623845Z"
    }
   },
   "cell_type": "code",
   "source": [
    "sys.path.insert(0, \"src\")\n",
    "import data_functions\n",
    "import embedding_functions\n",
    "import cluster_functions\n",
    "import graph_functions\n",
    "import util_functions"
   ],
   "id": "c703b0e1f874907",
   "outputs": [
    {
     "name": "stderr",
     "output_type": "stream",
     "text": [
      "C:\\Users\\fra3066mat\\PycharmProjects\\concept-graphs\\src\\data_functions.py:14: TqdmWarning: IProgress not found. Please update jupyter and ipywidgets. See https://ipywidgets.readthedocs.io/en/stable/user_install.html\n",
      "  from tqdm.autonotebook import tqdm\n"
     ]
    },
    {
     "name": "stdout",
     "output_type": "stream",
     "text": [
      "WARNING:tensorflow:From C:\\Users\\fra3066mat\\.conda\\envs\\concept-graphs\\lib\\site-packages\\keras\\src\\losses.py:2976: The name tf.losses.sparse_softmax_cross_entropy is deprecated. Please use tf.compat.v1.losses.sparse_softmax_cross_entropy instead.\n",
      "\n"
     ]
    }
   ],
   "execution_count": 3
  },
  {
   "metadata": {
    "ExecuteTime": {
     "end_time": "2025-05-16T11:13:57.534262Z",
     "start_time": "2025-05-16T11:13:57.516150Z"
    }
   },
   "cell_type": "code",
   "source": [
    "base_name = \"grascco_lokal_test\"\n",
    "path_name = lambda x: f\"./tmp/{base_name}/{base_name}_{x}.pickle\""
   ],
   "id": "1d05e23492e011f1",
   "outputs": [],
   "execution_count": 4
  },
  {
   "metadata": {
    "ExecuteTime": {
     "end_time": "2025-05-16T11:15:35.355512Z",
     "start_time": "2025-05-16T11:15:34.445157Z"
    }
   },
   "cell_type": "code",
   "source": [
    "grascco_data = data_functions.DataProcessingFactory.load(\n",
    "    file_path=path_name(\"data\"),\n",
    ")"
   ],
   "id": "caf69017aa82363",
   "outputs": [],
   "execution_count": 6
  },
  {
   "metadata": {
    "ExecuteTime": {
     "end_time": "2025-05-16T11:25:52.755096Z",
     "start_time": "2025-05-16T11:25:20.268877Z"
    }
   },
   "cell_type": "code",
   "source": [
    "grascco_embedding = embedding_functions.SentenceEmbeddingsFactory.create(\n",
    "    data_obj=grascco_data,\n",
    "    cache_path=pathlib.Path(path_name(\"embedding\")).parent,\n",
    "    cache_name=\"_\".join(pathlib.Path(path_name(\"embedding\")).stem.split(\"_\")[:-1]),\n",
    "    model_name=\"Sahajtomar/German-semantic\",\n",
    "    storage_method=(\"vector_store\", {},)\n",
    ")"
   ],
   "id": "b2d11faaeffbfaa1",
   "outputs": [
    {
     "name": "stderr",
     "output_type": "stream",
     "text": [
      "INFO:root:Creating Sentence Embedding with 'None'\n",
      "INFO:sentence_transformers.SentenceTransformer:Use pytorch device_name: cpu\n",
      "INFO:sentence_transformers.SentenceTransformer:Load pretrained SentenceTransformer: Sahajtomar/German-semantic\n",
      "Batches: 100%|██████████| 28/28 [00:10<00:00,  2.64it/s]\n",
      "2025-05-16 13:25:44,624 logger:'marqo' WARNING Your Marqo Python client requires a minimum Marqo version of 2.18.0 to function properly, but your Marqo version is 2.16.1. Please upgrade your Marqo instance to avoid potential errors. If you have already changed your Marqo instance but still get this warning, please restart your Python interpreter.\n",
      "WARNING:marqo:Your Marqo Python client requires a minimum Marqo version of 2.18.0 to function properly, but your Marqo version is 2.16.1. Please upgrade your Marqo instance to avoid potential errors. If you have already changed your Marqo instance but still get this warning, please restart your Python interpreter.\n",
      "2025-05-16 13:25:47,697 logger:'marqo' INFO     add_documents batch 0: took 2.845s for Marqo to process & index 128 docs. Roundtrip time: 3.026s.\n",
      "INFO:marqo:    add_documents batch 0: took 2.845s for Marqo to process & index 128 docs. Roundtrip time: 3.026s.\n",
      "2025-05-16 13:25:48,555 logger:'marqo' INFO     add_documents batch 1: took 0.667s for Marqo to process & index 128 docs. Roundtrip time: 0.852s.\n",
      "INFO:marqo:    add_documents batch 1: took 0.667s for Marqo to process & index 128 docs. Roundtrip time: 0.852s.\n",
      "2025-05-16 13:25:49,433 logger:'marqo' INFO     add_documents batch 2: took 0.705s for Marqo to process & index 128 docs. Roundtrip time: 0.886s.\n",
      "INFO:marqo:    add_documents batch 2: took 0.705s for Marqo to process & index 128 docs. Roundtrip time: 0.886s.\n",
      "2025-05-16 13:25:50,304 logger:'marqo' INFO     add_documents batch 3: took 0.669s for Marqo to process & index 128 docs. Roundtrip time: 0.859s.\n",
      "INFO:marqo:    add_documents batch 3: took 0.669s for Marqo to process & index 128 docs. Roundtrip time: 0.859s.\n",
      "2025-05-16 13:25:51,124 logger:'marqo' INFO     add_documents batch 4: took 0.639s for Marqo to process & index 128 docs. Roundtrip time: 0.827s.\n",
      "INFO:marqo:    add_documents batch 4: took 0.639s for Marqo to process & index 128 docs. Roundtrip time: 0.827s.\n",
      "2025-05-16 13:25:52,006 logger:'marqo' INFO     add_documents batch 5: took 0.685s for Marqo to process & index 128 docs. Roundtrip time: 0.869s.\n",
      "INFO:marqo:    add_documents batch 5: took 0.685s for Marqo to process & index 128 docs. Roundtrip time: 0.869s.\n",
      "2025-05-16 13:25:52,723 logger:'marqo' INFO     add_documents batch 6: took 0.577s for Marqo to process & index 109 docs. Roundtrip time: 0.730s.\n",
      "INFO:marqo:    add_documents batch 6: took 0.577s for Marqo to process & index 109 docs. Roundtrip time: 0.730s.\n"
     ]
    },
    {
     "name": "stdout",
     "output_type": "stream",
     "text": [
      "Saved under: C:\\Users\\fra3066mat\\PycharmProjects\\concept-graphs\\tmp\\grascco_lokal_test\\grascco_lokal_test.pickle\n"
     ]
    }
   ],
   "execution_count": 7
  },
  {
   "metadata": {
    "ExecuteTime": {
     "end_time": "2025-05-16T11:33:20.010913Z",
     "start_time": "2025-05-16T11:33:07.381086Z"
    }
   },
   "cell_type": "code",
   "source": [
    "grascco_embedding_from_vec = embedding_functions.SentenceEmbeddingsFactory.load(\n",
    "    data_obj_path=path_name(\"data\"),\n",
    "    embeddings_path=path_name(\"vec\"),\n",
    "    storage_method=(\"vector_store\", {},),\n",
    ")"
   ],
   "id": "f66152fb2f6b013c",
   "outputs": [
    {
     "name": "stderr",
     "output_type": "stream",
     "text": [
      "INFO:sentence_transformers.SentenceTransformer:Use pytorch device_name: cpu\n",
      "INFO:sentence_transformers.SentenceTransformer:Load pretrained SentenceTransformer: Sahajtomar/German-semantic\n"
     ]
    }
   ],
   "execution_count": 14
  },
  {
   "metadata": {
    "ExecuteTime": {
     "end_time": "2025-05-16T11:33:39.504120Z",
     "start_time": "2025-05-16T11:33:39.492286Z"
    }
   },
   "cell_type": "code",
   "source": "grascco_embedding_from_vec.sentence_embeddings",
   "id": "abbc03e8d317b18e",
   "outputs": [
    {
     "data": {
      "text/plain": [
       "array([[ 0.01791377,  0.0154043 ,  0.00427037, ...,  0.00452677,\n",
       "         0.0273663 , -0.01148496],\n",
       "       [-0.00875529,  0.00813772,  0.01379426, ..., -0.03286636,\n",
       "        -0.00768068, -0.02483735],\n",
       "       [-0.03856981,  0.04575796,  0.00291555, ..., -0.00383472,\n",
       "         0.00954012, -0.01645751],\n",
       "       ...,\n",
       "       [ 0.00778285,  0.01231896,  0.03321858, ..., -0.01107403,\n",
       "        -0.01119914,  0.00637742],\n",
       "       [ 0.07469263, -0.01433804, -0.02625738, ..., -0.02227189,\n",
       "        -0.01728847, -0.09759407],\n",
       "       [ 0.05090078,  0.02100131, -0.02017422, ..., -0.03455668,\n",
       "         0.03638485, -0.02004617]])"
      ]
     },
     "execution_count": 16,
     "metadata": {},
     "output_type": "execute_result"
    }
   ],
   "execution_count": 16
  },
  {
   "metadata": {
    "ExecuteTime": {
     "end_time": "2025-05-16T11:29:54.570555Z",
     "start_time": "2025-05-16T11:29:54.554931Z"
    }
   },
   "cell_type": "code",
   "source": "grascco_embedding.sentence_embeddings",
   "id": "646dcc3cbe31dcca",
   "outputs": [
    {
     "data": {
      "text/plain": [
       "array([[ 0.3701868 ,  0.31832868,  0.08824699, ...,  0.09354548,\n",
       "         0.5655227 , -0.23733595],\n",
       "       [-0.19035454,  0.17692763,  0.29991016, ..., -0.71456957,\n",
       "        -0.16699083, -0.5400055 ],\n",
       "       [-0.79879856,  0.9476683 ,  0.06038243, ..., -0.07941884,\n",
       "         0.19758023, -0.34084257],\n",
       "       ...,\n",
       "       [ 0.16397977,  0.25955284,  0.6998949 , ..., -0.23332289,\n",
       "        -0.23595901,  0.13436836],\n",
       "       [ 1.6328926 , -0.31345105, -0.5740257 , ..., -0.48689675,\n",
       "        -0.37795183, -2.1335523 ],\n",
       "       [ 1.0734237 ,  0.44288728, -0.42544514, ..., -0.7287502 ,\n",
       "         0.7673038 , -0.42274478]], dtype=float32)"
      ]
     },
     "execution_count": 8,
     "metadata": {},
     "output_type": "execute_result"
    }
   ],
   "execution_count": 8
  },
  {
   "metadata": {},
   "cell_type": "code",
   "source": [
    "grascco_embedding = embedding_functions.SentenceEmbeddingsFactory.load(\n",
    "    pathlib.Path(path_name(\"data\")),\n",
    "    pathlib.Path(path_name(\"embedding\"))\n",
    ")"
   ],
   "id": "d25c0cef9d6c73e3",
   "outputs": [],
   "execution_count": null
  },
  {
   "metadata": {},
   "cell_type": "code",
   "source": [
    "grascco_graph = pickle.load(\n",
    "    open(path_name(\"graph\"), 'rb')\n",
    ")"
   ],
   "id": "be08437d9cec5492",
   "outputs": [],
   "execution_count": null
  },
  {
   "metadata": {},
   "cell_type": "code",
   "source": "grascco_embedding.data_processing_obj.data_chunk_sets[1]",
   "id": "a517ef68a1da844e",
   "outputs": [],
   "execution_count": null
  },
  {
   "metadata": {},
   "cell_type": "code",
   "source": [
    "vector_name = \"phrase_vector\"\n",
    "def create_index_document(sentence_embedding_obj: 'embedding_functions.SentenceEmbeddingsFactory.SentenceEmbeddings'):\n",
    "    for i, embedding in enumerate(sentence_embedding_obj.sentence_embeddings):\n",
    "        _chunk_obj = sentence_embedding_obj.data_processing_obj.data_chunk_sets[i]\n",
    "        yield {\n",
    "            \"_id\": str(i),\n",
    "            \"documents\": [str(d['id']) for d in _chunk_obj['doc']],\n",
    "            #\"phrase\": _chunk_obj['text'],\n",
    "            vector_name: {\n",
    "                \"content\": _chunk_obj['text'],\n",
    "                \"vector\": [float(f) for f in embedding]\n",
    "            }\n",
    "        }"
   ],
   "id": "99c11e371224b36a",
   "outputs": [],
   "execution_count": null
  },
  {
   "metadata": {},
   "cell_type": "code",
   "source": "mq = marqo.Client(url=\"http://localhost:8882\")",
   "id": "5dc38ca5eb150fe9",
   "outputs": [],
   "execution_count": null
  },
  {
   "metadata": {},
   "cell_type": "code",
   "source": [
    "index_name = \"grascco_index\"\n",
    "settings = {\n",
    "    \"treatUrlsAndPointersAsImages\": False,\n",
    "    \"model\": \"no_model\",\n",
    "    \"modelProperties\": {\n",
    "        \"dimensions\": 1024,\n",
    "        \"type\": \"no_model\",\n",
    "    },\n",
    "    \"annParameters\": {\n",
    "        \"spaceType\": \"dotproduct\", #prenormalized-angular(default)\n",
    "        \"parameters\": {\n",
    "            \"efConstruction\": 1024,\n",
    "            \"m\": 16\n",
    "        }\n",
    "    }\n",
    "}\n",
    "try:\n",
    "    mq.create_index(\n",
    "        index_name=index_name,\n",
    "        settings_dict=settings,\n",
    "    )\n",
    "except:\n",
    "    mq.delete_index(index_name)\n",
    "    mq.create_index(\n",
    "        index_name=index_name,\n",
    "        settings_dict=settings,\n",
    "    )"
   ],
   "id": "da5044d355758c8d",
   "outputs": [],
   "execution_count": null
  },
  {
   "metadata": {},
   "cell_type": "code",
   "source": [
    "mq.index(index_name).add_documents(\n",
    "    list(create_index_document(grascco_embedding)),\n",
    "    client_batch_size=128,\n",
    "    tensor_fields=[vector_name],\n",
    "    mappings={\n",
    "        vector_name: {\n",
    "            \"type\": \"custom_vector\"\n",
    "        }\n",
    "    },\n",
    ")"
   ],
   "id": "8e0e6427bbefbe4f",
   "outputs": [],
   "execution_count": null
  },
  {
   "metadata": {},
   "cell_type": "code",
   "source": "np.asarray(mq.index(index_name).get_document(\"100\", expose_facets=True)[\"_tensor_facets\"][0][\"_embedding\"])",
   "id": "5af361b50820de12",
   "outputs": [],
   "execution_count": null
  },
  {
   "metadata": {},
   "cell_type": "code",
   "source": [
    "\n",
    "mq.index(index_name).recommend(\n",
    "    documents=['100'],\n",
    "    tensor_fields=[vector_name],\n",
    "    limit=50\n",
    ")"
   ],
   "id": "4256d77ebe3504f3",
   "outputs": [],
   "execution_count": null
  },
  {
   "metadata": {},
   "cell_type": "code",
   "source": [
    "doc_100 = [x for x in mq.index(index_name).get_document(\"100\", expose_facets=True)[\"_tensor_facets\"] if x.get(\"phrase_vector\", False)][0]\n",
    "doc_100"
   ],
   "id": "972655a6321bd7be",
   "outputs": [],
   "execution_count": null
  },
  {
   "metadata": {},
   "cell_type": "code",
   "source": [
    "mq.index(index_name).search(\n",
    "    q={\n",
    "        \"customVector\" : {\n",
    "            \"vector\": doc_100[\"_embedding\"],\n",
    "            \"content\": doc_100[\"phrase_vector\"],\n",
    "        }\n",
    "    },\n",
    "    search_method=\"HYBRID\"\n",
    ")"
   ],
   "id": "df26920c6bd2b99a",
   "outputs": [],
   "execution_count": null
  },
  {
   "metadata": {},
   "cell_type": "code",
   "source": [
    "_ids = [str(i) for i in range(6)]\n",
    "np.asarray([\n",
    "    _res[\"_tensor_facets\"][0][\"_embedding\"]\n",
    "    for _res in\n",
    "    mq.index(index_name).get_documents(_ids, expose_facets=True)[\"results\"]\n",
    "]).tolist()"
   ],
   "id": "514495558e301d98",
   "outputs": [],
   "execution_count": null
  },
  {
   "metadata": {},
   "cell_type": "code",
   "source": "mq.index(index_name).get_stats()[\"numberOfDocuments\"]",
   "id": "fa9d7683a3bf296c",
   "outputs": [],
   "execution_count": null
  },
  {
   "metadata": {},
   "cell_type": "code",
   "source": "mq.index(index_name).get_document(\"5180\")",
   "id": "fb421baee1866768",
   "outputs": [],
   "execution_count": null
  }
 ],
 "metadata": {
  "kernelspec": {
   "display_name": "Python 3",
   "language": "python",
   "name": "python3"
  },
  "language_info": {
   "codemirror_mode": {
    "name": "ipython",
    "version": 2
   },
   "file_extension": ".py",
   "mimetype": "text/x-python",
   "name": "python",
   "nbconvert_exporter": "python",
   "pygments_lexer": "ipython2",
   "version": "2.7.6"
  }
 },
 "nbformat": 4,
 "nbformat_minor": 5
}
