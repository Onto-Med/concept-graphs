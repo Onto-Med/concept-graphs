{
 "cells": [
  {
   "cell_type": "code",
   "id": "initial_id",
   "metadata": {
    "collapsed": true,
    "ExecuteTime": {
     "end_time": "2025-05-20T12:56:49.478808Z",
     "start_time": "2025-05-20T12:56:48.832980Z"
    }
   },
   "source": [
    "import marqo\n",
    "import sys\n",
    "import pathlib\n",
    "import pickle"
   ],
   "outputs": [],
   "execution_count": 1
  },
  {
   "metadata": {
    "ExecuteTime": {
     "end_time": "2025-05-20T12:56:50.704799Z",
     "start_time": "2025-05-20T12:56:49.732427Z"
    }
   },
   "cell_type": "code",
   "source": [
    "import numpy as np\n",
    "from sklearn.preprocessing import MinMaxScaler"
   ],
   "id": "63c8c3b905582292",
   "outputs": [],
   "execution_count": 2
  },
  {
   "metadata": {
    "ExecuteTime": {
     "end_time": "2025-05-20T12:57:06.716240Z",
     "start_time": "2025-05-20T12:56:50.734565Z"
    }
   },
   "cell_type": "code",
   "source": [
    "sys.path.insert(0, \"src\")\n",
    "import data_functions\n",
    "import embedding_functions\n",
    "import cluster_functions\n",
    "import graph_functions\n",
    "import util_functions\n",
    "from MarqoExternalUtils import MarqoEmbeddingStore"
   ],
   "id": "c703b0e1f874907",
   "outputs": [
    {
     "name": "stderr",
     "output_type": "stream",
     "text": [
      "C:\\Users\\fra3066mat\\PycharmProjects\\concept-graphs\\src\\data_functions.py:14: TqdmWarning: IProgress not found. Please update jupyter and ipywidgets. See https://ipywidgets.readthedocs.io/en/stable/user_install.html\n",
      "  from tqdm.autonotebook import tqdm\n"
     ]
    },
    {
     "name": "stdout",
     "output_type": "stream",
     "text": [
      "WARNING:tensorflow:From C:\\Users\\fra3066mat\\.conda\\envs\\concept-graphs\\lib\\site-packages\\keras\\src\\losses.py:2976: The name tf.losses.sparse_softmax_cross_entropy is deprecated. Please use tf.compat.v1.losses.sparse_softmax_cross_entropy instead.\n",
      "\n"
     ]
    }
   ],
   "execution_count": 3
  },
  {
   "metadata": {},
   "cell_type": "markdown",
   "source": "---",
   "id": "50926fb1f176c875"
  },
  {
   "metadata": {
    "ExecuteTime": {
     "end_time": "2025-05-20T12:57:06.769652Z",
     "start_time": "2025-05-20T12:57:06.754025Z"
    }
   },
   "cell_type": "code",
   "source": [
    "base_name = \"grascco_lokal_test\"\n",
    "path_name = lambda x: f\"./tmp/{base_name}/{base_name}_{x}.pickle\""
   ],
   "id": "1d05e23492e011f1",
   "outputs": [],
   "execution_count": 4
  },
  {
   "metadata": {
    "ExecuteTime": {
     "end_time": "2025-05-19T09:00:56.455543Z",
     "start_time": "2025-05-19T09:00:55.625616Z"
    }
   },
   "cell_type": "code",
   "source": [
    "grascco_data = data_functions.DataProcessingFactory.load(\n",
    "    file_path=path_name(\"data\"),\n",
    ")"
   ],
   "id": "caf69017aa82363",
   "outputs": [],
   "execution_count": 5
  },
  {
   "metadata": {
    "ExecuteTime": {
     "end_time": "2025-05-19T09:01:31.375755Z",
     "start_time": "2025-05-19T09:00:56.475535Z"
    }
   },
   "cell_type": "code",
   "source": [
    "grascco_embedding = embedding_functions.SentenceEmbeddingsFactory.create(\n",
    "    data_obj=grascco_data,\n",
    "    cache_path=pathlib.Path(path_name(\"embedding\")).parent,\n",
    "    cache_name=\"_\".join(pathlib.Path(path_name(\"embedding\")).stem.split(\"_\")[:-1]),\n",
    "    model_name=\"Sahajtomar/German-semantic\",\n",
    "    storage_method=(\"vector_store\", {},),\n",
    "    vectorstore_normalizeEmbeddings=False,\n",
    "    vectorstore_annParameters={\n",
    "        \"spaceType\": \"dotproduct\", #prenormalized-angular(default)\n",
    "        \"parameters\": {\n",
    "            \"efConstruction\": 1024,\n",
    "            \"m\": 16\n",
    "        }\n",
    "    }\n",
    ")"
   ],
   "id": "b2d11faaeffbfaa1",
   "outputs": [
    {
     "name": "stderr",
     "output_type": "stream",
     "text": [
      "INFO:root:Creating Sentence Embedding with 'None'\n",
      "INFO:sentence_transformers.SentenceTransformer:Use pytorch device_name: cpu\n",
      "INFO:sentence_transformers.SentenceTransformer:Load pretrained SentenceTransformer: Sahajtomar/German-semantic\n",
      "Batches: 100%|██████████| 28/28 [00:11<00:00,  2.34it/s]\n",
      "2025-05-19 11:01:23,425 logger:'marqo' WARNING Your Marqo Python client requires a minimum Marqo version of 2.18.0 to function properly, but your Marqo version is 2.16.1. Please upgrade your Marqo instance to avoid potential errors. If you have already changed your Marqo instance but still get this warning, please restart your Python interpreter.\n",
      "WARNING:marqo:Your Marqo Python client requires a minimum Marqo version of 2.18.0 to function properly, but your Marqo version is 2.16.1. Please upgrade your Marqo instance to avoid potential errors. If you have already changed your Marqo instance but still get this warning, please restart your Python interpreter.\n",
      "2025-05-19 11:01:26,185 logger:'marqo' INFO     add_documents batch 0: took 2.520s for Marqo to process & index 128 docs. Roundtrip time: 2.711s.\n",
      "INFO:marqo:    add_documents batch 0: took 2.520s for Marqo to process & index 128 docs. Roundtrip time: 2.711s.\n",
      "2025-05-19 11:01:27,065 logger:'marqo' INFO     add_documents batch 1: took 0.690s for Marqo to process & index 128 docs. Roundtrip time: 0.874s.\n",
      "INFO:marqo:    add_documents batch 1: took 0.690s for Marqo to process & index 128 docs. Roundtrip time: 0.874s.\n",
      "2025-05-19 11:01:28,085 logger:'marqo' INFO     add_documents batch 2: took 0.841s for Marqo to process & index 128 docs. Roundtrip time: 1.026s.\n",
      "INFO:marqo:    add_documents batch 2: took 0.841s for Marqo to process & index 128 docs. Roundtrip time: 1.026s.\n",
      "2025-05-19 11:01:28,965 logger:'marqo' INFO     add_documents batch 3: took 0.675s for Marqo to process & index 128 docs. Roundtrip time: 0.870s.\n",
      "INFO:marqo:    add_documents batch 3: took 0.675s for Marqo to process & index 128 docs. Roundtrip time: 0.870s.\n",
      "2025-05-19 11:01:29,796 logger:'marqo' INFO     add_documents batch 4: took 0.643s for Marqo to process & index 128 docs. Roundtrip time: 0.830s.\n",
      "INFO:marqo:    add_documents batch 4: took 0.643s for Marqo to process & index 128 docs. Roundtrip time: 0.830s.\n",
      "2025-05-19 11:01:30,615 logger:'marqo' INFO     add_documents batch 5: took 0.634s for Marqo to process & index 128 docs. Roundtrip time: 0.821s.\n",
      "INFO:marqo:    add_documents batch 5: took 0.634s for Marqo to process & index 128 docs. Roundtrip time: 0.821s.\n",
      "2025-05-19 11:01:31,345 logger:'marqo' INFO     add_documents batch 6: took 0.557s for Marqo to process & index 109 docs. Roundtrip time: 0.720s.\n",
      "INFO:marqo:    add_documents batch 6: took 0.557s for Marqo to process & index 109 docs. Roundtrip time: 0.720s.\n"
     ]
    },
    {
     "name": "stdout",
     "output_type": "stream",
     "text": [
      "Saved under: C:\\Users\\fra3066mat\\PycharmProjects\\concept-graphs\\tmp\\grascco_lokal_test\\grascco_lokal_test.pickle\n"
     ]
    }
   ],
   "execution_count": 6
  },
  {
   "metadata": {
    "ExecuteTime": {
     "end_time": "2025-05-19T07:53:50.968629Z",
     "start_time": "2025-05-19T07:53:37.108332Z"
    }
   },
   "cell_type": "code",
   "source": [
    "grascco_embedding_from_vec = embedding_functions.SentenceEmbeddingsFactory.load(\n",
    "    data_obj_path=path_name(\"data\"),\n",
    "    embeddings_path=path_name(\"vec\"),\n",
    "    storage_method=(\"vector_store\", {},),\n",
    ")"
   ],
   "id": "f66152fb2f6b013c",
   "outputs": [
    {
     "name": "stderr",
     "output_type": "stream",
     "text": [
      "2025-05-19 09:53:37,858 logger:'marqo' WARNING Your Marqo Python client requires a minimum Marqo version of 2.18.0 to function properly, but your Marqo version is 2.16.1. Please upgrade your Marqo instance to avoid potential errors. If you have already changed your Marqo instance but still get this warning, please restart your Python interpreter.\n",
      "WARNING:marqo:Your Marqo Python client requires a minimum Marqo version of 2.18.0 to function properly, but your Marqo version is 2.16.1. Please upgrade your Marqo instance to avoid potential errors. If you have already changed your Marqo instance but still get this warning, please restart your Python interpreter.\n",
      "INFO:sentence_transformers.SentenceTransformer:Use pytorch device_name: cpu\n",
      "INFO:sentence_transformers.SentenceTransformer:Load pretrained SentenceTransformer: Sahajtomar/German-semantic\n"
     ]
    }
   ],
   "execution_count": 6
  },
  {
   "metadata": {
    "ExecuteTime": {
     "end_time": "2025-05-19T08:00:00.679776Z",
     "start_time": "2025-05-19T08:00:00.641281Z"
    }
   },
   "cell_type": "code",
   "source": [
    "grascco_clustering = cluster_functions.PhraseClusterFactory.load(\n",
    "    data_obj_path=path_name(\"clustering\"),\n",
    ")"
   ],
   "id": "d1f596b41e08cd79",
   "outputs": [],
   "execution_count": 8
  },
  {
   "metadata": {
    "ExecuteTime": {
     "end_time": "2025-05-19T09:04:24.363972Z",
     "start_time": "2025-05-19T09:04:24.346822Z"
    }
   },
   "cell_type": "code",
   "source": [
    "grascco_graph = pickle.load(\n",
    "    open(path_name(\"graph\"), 'rb')\n",
    ")"
   ],
   "id": "be08437d9cec5492",
   "outputs": [],
   "execution_count": 10
  },
  {
   "metadata": {},
   "cell_type": "markdown",
   "source": "---",
   "id": "ad59c97082830e6e"
  },
  {
   "metadata": {
    "ExecuteTime": {
     "end_time": "2025-05-20T12:57:06.832138Z",
     "start_time": "2025-05-20T12:57:06.801204Z"
    }
   },
   "cell_type": "code",
   "source": "mqs = MarqoEmbeddingStore(\"http://localhost:8882\", \"grascco_lokal_test\")",
   "id": "e4565cde6c5380ae",
   "outputs": [
    {
     "name": "stderr",
     "output_type": "stream",
     "text": [
      "2025-05-20 14:57:06,801 logger:'marqo' WARNING Your Marqo Python client requires a minimum Marqo version of 2.18.0 to function properly, but your Marqo version is 2.16.1. Please upgrade your Marqo instance to avoid potential errors. If you have already changed your Marqo instance but still get this warning, please restart your Python interpreter.\n",
      "WARNING:marqo:Your Marqo Python client requires a minimum Marqo version of 2.18.0 to function properly, but your Marqo version is 2.16.1. Please upgrade your Marqo instance to avoid potential errors. If you have already changed your Marqo instance but still get this warning, please restart your Python interpreter.\n"
     ]
    }
   ],
   "execution_count": 5
  },
  {
   "metadata": {},
   "cell_type": "code",
   "outputs": [],
   "execution_count": null,
   "source": "mqs.",
   "id": "e7de31474293adc3"
  },
  {
   "metadata": {
    "ExecuteTime": {
     "end_time": "2025-05-20T13:10:17.679972Z",
     "start_time": "2025-05-20T13:10:17.585313Z"
    }
   },
   "cell_type": "code",
   "source": "mqs.marqo_index.recommend([\"10\"], exclude_input_documents=False)",
   "id": "9fdc22520b326af6",
   "outputs": [
    {
     "data": {
      "text/plain": [
       "{'hits': [{'graph_cluster': ['2'],\n",
       "   '_id': '10',\n",
       "   'phrase': 'handamputation',\n",
       "   '_highlights': [{'phrase_vector': ''}],\n",
       "   '_score': 491.0687255859375},\n",
       "  {'graph_cluster': ['2'],\n",
       "   '_id': '238',\n",
       "   'phrase': 'handchirurgen',\n",
       "   '_highlights': [{'phrase_vector': ''}],\n",
       "   '_score': 359.72576904296875},\n",
       "  {'_id': '51',\n",
       "   'phrase': 'abgetrennte hand',\n",
       "   '_highlights': [{'phrase_vector': ''}],\n",
       "   '_score': 345.06219482421875},\n",
       "  {'_id': '55',\n",
       "   'phrase': 'komplette amputation',\n",
       "   '_highlights': [{'phrase_vector': ''}],\n",
       "   '_score': 344.34820556640625},\n",
       "  {'graph_cluster': ['2'],\n",
       "   '_id': '20',\n",
       "   'phrase': 'handreplantaticm',\n",
       "   '_highlights': [{'phrase_vector': ''}],\n",
       "   '_score': 337.96893310546875},\n",
       "  {'graph_cluster': ['2'],\n",
       "   '_id': '229',\n",
       "   'phrase': 'handchirurgischer sicht',\n",
       "   '_highlights': [{'phrase_vector': ''}],\n",
       "   '_score': 313.2591247558594},\n",
       "  {'graph_cluster': ['2'],\n",
       "   '_id': '647',\n",
       "   'phrase': 'handgelenksfraktur',\n",
       "   '_highlights': [{'phrase_vector': ''}],\n",
       "   '_score': 310.511962890625},\n",
       "  {'graph_cluster': ['2'],\n",
       "   '_id': '68',\n",
       "   'phrase': 'hand',\n",
       "   '_highlights': [{'phrase_vector': ''}],\n",
       "   '_score': 302.1364440917969},\n",
       "  {'graph_cluster': ['2'],\n",
       "   '_id': '40',\n",
       "   'phrase': 'handrücken',\n",
       "   '_highlights': [{'phrase_vector': ''}],\n",
       "   '_score': 290.94708251953125},\n",
       "  {'graph_cluster': ['2'],\n",
       "   '_id': '41',\n",
       "   'phrase': 'handgelenk',\n",
       "   '_highlights': [{'phrase_vector': ''}],\n",
       "   '_score': 285.189453125}],\n",
       " 'query': None,\n",
       " 'limit': 10,\n",
       " 'offset': 0,\n",
       " 'processingTimeMs': 49}"
      ]
     },
     "execution_count": 16,
     "metadata": {},
     "output_type": "execute_result"
    }
   ],
   "execution_count": 16
  },
  {
   "metadata": {
    "ExecuteTime": {
     "end_time": "2025-05-20T13:00:55.149138Z",
     "start_time": "2025-05-20T13:00:55.090276Z"
    }
   },
   "cell_type": "code",
   "source": "list(mqs.best_hits_for_field(\"308\"))",
   "id": "a53a12aa7ec4ae11",
   "outputs": [
    {
     "data": {
      "text/plain": [
       "[]"
      ]
     },
     "execution_count": 15,
     "metadata": {},
     "output_type": "execute_result"
    }
   ],
   "execution_count": 15
  },
  {
   "metadata": {
    "ExecuteTime": {
     "end_time": "2025-05-20T10:27:10.783864Z",
     "start_time": "2025-05-20T10:27:10.660985Z"
    }
   },
   "cell_type": "code",
   "source": "list(mqs.best_hits_for_field([0.3]*1024))",
   "id": "69f54fdc6616e257",
   "outputs": [
    {
     "name": "stderr",
     "output_type": "stream",
     "text": [
      "2025-05-20 12:27:10,727 logger:'marqo' INFO     add_documents batch 0: took 0.019s for Marqo to process & index 1 docs. Roundtrip time: 0.031s.\n",
      "INFO:marqo:    add_documents batch 0: took 0.019s for Marqo to process & index 1 docs. Roundtrip time: 0.031s.\n"
     ]
    },
    {
     "data": {
      "text/plain": [
       "[('1', 5.395548584233482)]"
      ]
     },
     "execution_count": 7,
     "metadata": {},
     "output_type": "execute_result"
    }
   ],
   "execution_count": 7
  },
  {
   "metadata": {
    "ExecuteTime": {
     "end_time": "2025-05-21T09:52:59.518747Z",
     "start_time": "2025-05-21T09:52:59.406217Z"
    }
   },
   "cell_type": "code",
   "source": "mqs.marqo_index.get_document(\"877\")",
   "id": "9ef80e0edbef3c2a",
   "outputs": [
    {
     "ename": "MarqoWebError",
     "evalue": "MarqoWebError: MarqoWebError Error message: {'message': 'Document with ID 877 not found in index grascco_lokal_test', 'code': 'document_not_found', 'type': 'invalid_request', 'link': None}\nstatus_code: 404, type: invalid_request, code: document_not_found, link: ",
     "output_type": "error",
     "traceback": [
      "\u001B[1;31m---------------------------------------------------------------------------\u001B[0m",
      "\u001B[1;31mHTTPError\u001B[0m                                 Traceback (most recent call last)",
      "File \u001B[1;32m~\\.conda\\envs\\concept-graphs\\lib\\site-packages\\marqo\\_httprequests.py:148\u001B[0m, in \u001B[0;36mHttpRequests._validate\u001B[1;34m(request)\u001B[0m\n\u001B[0;32m    147\u001B[0m \u001B[38;5;28;01mtry\u001B[39;00m:\n\u001B[1;32m--> 148\u001B[0m     \u001B[43mrequest\u001B[49m\u001B[38;5;241;43m.\u001B[39;49m\u001B[43mraise_for_status\u001B[49m\u001B[43m(\u001B[49m\u001B[43m)\u001B[49m\n\u001B[0;32m    149\u001B[0m     \u001B[38;5;28;01mreturn\u001B[39;00m HttpRequests\u001B[38;5;241m.\u001B[39m__to_json(request)\n",
      "File \u001B[1;32m~\\.conda\\envs\\concept-graphs\\lib\\site-packages\\requests\\models.py:1024\u001B[0m, in \u001B[0;36mResponse.raise_for_status\u001B[1;34m(self)\u001B[0m\n\u001B[0;32m   1023\u001B[0m \u001B[38;5;28;01mif\u001B[39;00m http_error_msg:\n\u001B[1;32m-> 1024\u001B[0m     \u001B[38;5;28;01mraise\u001B[39;00m HTTPError(http_error_msg, response\u001B[38;5;241m=\u001B[39m\u001B[38;5;28mself\u001B[39m)\n",
      "\u001B[1;31mHTTPError\u001B[0m: 404 Client Error: Not Found for url: http://localhost:8882/indexes/grascco_lokal_test/documents/877",
      "\nThe above exception was the direct cause of the following exception:\n",
      "\u001B[1;31mMarqoWebError\u001B[0m                             Traceback (most recent call last)",
      "Cell \u001B[1;32mIn[27], line 1\u001B[0m\n\u001B[1;32m----> 1\u001B[0m \u001B[43mmqs\u001B[49m\u001B[38;5;241;43m.\u001B[39;49m\u001B[43mmarqo_index\u001B[49m\u001B[38;5;241;43m.\u001B[39;49m\u001B[43mget_document\u001B[49m\u001B[43m(\u001B[49m\u001B[38;5;124;43m\"\u001B[39;49m\u001B[38;5;124;43m877\u001B[39;49m\u001B[38;5;124;43m\"\u001B[39;49m\u001B[43m)\u001B[49m\n",
      "File \u001B[1;32m~\\.conda\\envs\\concept-graphs\\lib\\site-packages\\marqo\\index.py:493\u001B[0m, in \u001B[0;36mIndex.get_document\u001B[1;34m(self, document_id, expose_facets)\u001B[0m\n\u001B[0;32m    491\u001B[0m \u001B[38;5;28;01mif\u001B[39;00m expose_facets \u001B[38;5;129;01mis\u001B[39;00m \u001B[38;5;129;01mnot\u001B[39;00m \u001B[38;5;28;01mNone\u001B[39;00m:\n\u001B[0;32m    492\u001B[0m     url_string \u001B[38;5;241m+\u001B[39m\u001B[38;5;241m=\u001B[39m \u001B[38;5;124mf\u001B[39m\u001B[38;5;124m\"\u001B[39m\u001B[38;5;124m?expose_facets=\u001B[39m\u001B[38;5;132;01m{\u001B[39;00mexpose_facets\u001B[38;5;132;01m}\u001B[39;00m\u001B[38;5;124m\"\u001B[39m\n\u001B[1;32m--> 493\u001B[0m \u001B[38;5;28;01mreturn\u001B[39;00m \u001B[38;5;28;43mself\u001B[39;49m\u001B[38;5;241;43m.\u001B[39;49m\u001B[43mhttp\u001B[49m\u001B[38;5;241;43m.\u001B[39;49m\u001B[43mget\u001B[49m\u001B[43m(\u001B[49m\u001B[43murl_string\u001B[49m\u001B[43m,\u001B[49m\u001B[43m \u001B[49m\u001B[43mindex_name\u001B[49m\u001B[38;5;241;43m=\u001B[39;49m\u001B[38;5;28;43mself\u001B[39;49m\u001B[38;5;241;43m.\u001B[39;49m\u001B[43mindex_name\u001B[49m\u001B[43m,\u001B[49m\u001B[43m \u001B[49m\u001B[43m)\u001B[49m\n",
      "File \u001B[1;32m~\\.conda\\envs\\concept-graphs\\lib\\site-packages\\marqo\\_httprequests.py:92\u001B[0m, in \u001B[0;36mHttpRequests.get\u001B[1;34m(self, path, body, index_name)\u001B[0m\n\u001B[0;32m     90\u001B[0m \u001B[38;5;28;01mif\u001B[39;00m body \u001B[38;5;129;01mis\u001B[39;00m \u001B[38;5;129;01mnot\u001B[39;00m \u001B[38;5;28;01mNone\u001B[39;00m:\n\u001B[0;32m     91\u001B[0m     content_type \u001B[38;5;241m=\u001B[39m \u001B[38;5;124m'\u001B[39m\u001B[38;5;124mapplication/json\u001B[39m\u001B[38;5;124m'\u001B[39m\n\u001B[1;32m---> 92\u001B[0m \u001B[38;5;28;01mreturn\u001B[39;00m \u001B[38;5;28;43mself\u001B[39;49m\u001B[38;5;241;43m.\u001B[39;49m\u001B[43msend_request\u001B[49m\u001B[43m(\u001B[49m\u001B[38;5;124;43m'\u001B[39;49m\u001B[38;5;124;43mget\u001B[39;49m\u001B[38;5;124;43m'\u001B[39;49m\u001B[43m,\u001B[49m\u001B[43m \u001B[49m\u001B[43mpath\u001B[49m\u001B[38;5;241;43m=\u001B[39;49m\u001B[43mpath\u001B[49m\u001B[43m,\u001B[49m\u001B[43m \u001B[49m\u001B[43mbody\u001B[49m\u001B[38;5;241;43m=\u001B[39;49m\u001B[43mbody\u001B[49m\u001B[43m,\u001B[49m\u001B[43m \u001B[49m\u001B[43mcontent_type\u001B[49m\u001B[38;5;241;43m=\u001B[39;49m\u001B[43mcontent_type\u001B[49m\u001B[43m,\u001B[49m\u001B[43mindex_name\u001B[49m\u001B[38;5;241;43m=\u001B[39;49m\u001B[43mindex_name\u001B[49m\u001B[43m)\u001B[49m\n",
      "File \u001B[1;32m~\\.conda\\envs\\concept-graphs\\lib\\site-packages\\marqo\\_httprequests.py:75\u001B[0m, in \u001B[0;36mHttpRequests.send_request\u001B[1;34m(self, http_operation, path, body, content_type, index_name)\u001B[0m\n\u001B[0;32m     67\u001B[0m \u001B[38;5;28;01mtry\u001B[39;00m:\n\u001B[0;32m     68\u001B[0m     response \u001B[38;5;241m=\u001B[39m \u001B[38;5;28mself\u001B[39m\u001B[38;5;241m.\u001B[39m_operation(http_operation)(\n\u001B[0;32m     69\u001B[0m         url\u001B[38;5;241m=\u001B[39m\u001B[38;5;28mself\u001B[39m\u001B[38;5;241m.\u001B[39m_construct_path(path, index_name),\n\u001B[0;32m     70\u001B[0m         timeout\u001B[38;5;241m=\u001B[39m\u001B[38;5;28mself\u001B[39m\u001B[38;5;241m.\u001B[39mconfig\u001B[38;5;241m.\u001B[39mtimeout,\n\u001B[1;32m   (...)\u001B[0m\n\u001B[0;32m     73\u001B[0m         verify\u001B[38;5;241m=\u001B[39m\u001B[38;5;28;01mTrue\u001B[39;00m\n\u001B[0;32m     74\u001B[0m     )\n\u001B[1;32m---> 75\u001B[0m     \u001B[38;5;28;01mreturn\u001B[39;00m \u001B[38;5;28;43mself\u001B[39;49m\u001B[38;5;241;43m.\u001B[39;49m\u001B[43m_validate\u001B[49m\u001B[43m(\u001B[49m\u001B[43mresponse\u001B[49m\u001B[43m)\u001B[49m\n\u001B[0;32m     76\u001B[0m \u001B[38;5;28;01mexcept\u001B[39;00m requests\u001B[38;5;241m.\u001B[39mexceptions\u001B[38;5;241m.\u001B[39mTimeout \u001B[38;5;28;01mas\u001B[39;00m err:\n\u001B[0;32m     77\u001B[0m     \u001B[38;5;28;01mraise\u001B[39;00m BackendTimeoutError(\u001B[38;5;28mstr\u001B[39m(err)) \u001B[38;5;28;01mfrom\u001B[39;00m\u001B[38;5;250m \u001B[39m\u001B[38;5;21;01merr\u001B[39;00m\n",
      "File \u001B[1;32m~\\.conda\\envs\\concept-graphs\\lib\\site-packages\\marqo\\_httprequests.py:151\u001B[0m, in \u001B[0;36mHttpRequests._validate\u001B[1;34m(request)\u001B[0m\n\u001B[0;32m    149\u001B[0m     \u001B[38;5;28;01mreturn\u001B[39;00m HttpRequests\u001B[38;5;241m.\u001B[39m__to_json(request)\n\u001B[0;32m    150\u001B[0m \u001B[38;5;28;01mexcept\u001B[39;00m requests\u001B[38;5;241m.\u001B[39mexceptions\u001B[38;5;241m.\u001B[39mHTTPError \u001B[38;5;28;01mas\u001B[39;00m err:\n\u001B[1;32m--> 151\u001B[0m     \u001B[43mconvert_to_marqo_error_and_raise\u001B[49m\u001B[43m(\u001B[49m\u001B[43mresponse\u001B[49m\u001B[38;5;241;43m=\u001B[39;49m\u001B[43mrequest\u001B[49m\u001B[43m,\u001B[49m\u001B[43m \u001B[49m\u001B[43merr\u001B[49m\u001B[38;5;241;43m=\u001B[39;49m\u001B[43merr\u001B[49m\u001B[43m)\u001B[49m\n",
      "File \u001B[1;32m~\\.conda\\envs\\concept-graphs\\lib\\site-packages\\marqo\\_httprequests.py:165\u001B[0m, in \u001B[0;36mconvert_to_marqo_error_and_raise\u001B[1;34m(response, err)\u001B[0m\n\u001B[0;32m    162\u001B[0m     code \u001B[38;5;241m=\u001B[39m \u001B[38;5;124m\"\u001B[39m\u001B[38;5;124munhandled_error\u001B[39m\u001B[38;5;124m\"\u001B[39m\n\u001B[0;32m    163\u001B[0m     error_type \u001B[38;5;241m=\u001B[39m \u001B[38;5;124m\"\u001B[39m\u001B[38;5;124munhandled_error_type\u001B[39m\u001B[38;5;124m\"\u001B[39m\n\u001B[1;32m--> 165\u001B[0m \u001B[38;5;28;01mraise\u001B[39;00m MarqoWebError(message\u001B[38;5;241m=\u001B[39mresponse_msg, code\u001B[38;5;241m=\u001B[39mcode, error_type\u001B[38;5;241m=\u001B[39merror_type,\n\u001B[0;32m    166\u001B[0m     status_code\u001B[38;5;241m=\u001B[39mresponse\u001B[38;5;241m.\u001B[39mstatus_code) \u001B[38;5;28;01mfrom\u001B[39;00m\u001B[38;5;250m \u001B[39m\u001B[38;5;21;01merr\u001B[39;00m\n",
      "\u001B[1;31mMarqoWebError\u001B[0m: MarqoWebError: MarqoWebError Error message: {'message': 'Document with ID 877 not found in index grascco_lokal_test', 'code': 'document_not_found', 'type': 'invalid_request', 'link': None}\nstatus_code: 404, type: invalid_request, code: document_not_found, link: "
     ]
    }
   ],
   "execution_count": 27
  },
  {
   "metadata": {
    "ExecuteTime": {
     "end_time": "2025-05-21T09:53:19.438892Z",
     "start_time": "2025-05-21T09:53:19.408660Z"
    }
   },
   "cell_type": "code",
   "source": "mqs.marqo_index.delete_documents([\"878\"])",
   "id": "49d1513e9fc795d8",
   "outputs": [
    {
     "data": {
      "text/plain": [
       "{'index_name': 'grascco_lokal_test',\n",
       " 'status': 'succeeded',\n",
       " 'type': 'documentDeletion',\n",
       " 'items': [{'_id': '878', 'status': 200, 'result': 'deleted'}],\n",
       " 'details': {'receivedDocumentIds': 1, 'deletedDocuments': 1},\n",
       " 'duration': 'PT0.014993S',\n",
       " 'startedAt': '2025-05-21T09:53:19.424416Z',\n",
       " 'finishedAt': '2025-05-21T09:53:19.439409Z'}"
      ]
     },
     "execution_count": 29,
     "metadata": {},
     "output_type": "execute_result"
    }
   ],
   "execution_count": 29
  },
  {
   "metadata": {
    "ExecuteTime": {
     "end_time": "2025-05-20T13:31:59.771062Z",
     "start_time": "2025-05-20T13:31:59.724199Z"
    }
   },
   "cell_type": "code",
   "source": "mqs.marqo_index.delete_documents([\"877\"])",
   "id": "fac3832abbd98881",
   "outputs": [
    {
     "data": {
      "text/plain": [
       "{'index_name': 'grascco_lokal_test',\n",
       " 'status': 'succeeded',\n",
       " 'type': 'documentDeletion',\n",
       " 'items': [{'_id': '877', 'status': 200, 'result': 'deleted'}],\n",
       " 'details': {'receivedDocumentIds': 1, 'deletedDocuments': 1},\n",
       " 'duration': 'PT0.017481S',\n",
       " 'startedAt': '2025-05-20T13:31:59.757878Z',\n",
       " 'finishedAt': '2025-05-20T13:31:59.775359Z'}"
      ]
     },
     "execution_count": 21,
     "metadata": {},
     "output_type": "execute_result"
    }
   ],
   "execution_count": 21
  },
  {
   "metadata": {
    "ExecuteTime": {
     "end_time": "2025-05-19T09:05:07.996915Z",
     "start_time": "2025-05-19T09:05:07.537075Z"
    }
   },
   "cell_type": "code",
   "source": [
    "for i, g in enumerate(grascco_graph):\n",
    "    doc_list = []\n",
    "    for n, d in g.nodes(True):\n",
    "        doc_list.append(\n",
    "            {\n",
    "                \"_id\": str(n),\n",
    "                \"graph_cluster\": [str(i)]\n",
    "            }\n",
    "        )\n",
    "    _res = mq.index(\"grascco_lokal_test\").update_documents(\n",
    "        documents=doc_list,\n",
    "        # client_batch_size=128,\n",
    "        # use_existing_tensors=True\n",
    "    )"
   ],
   "id": "5b5c589ca6f18afe",
   "outputs": [],
   "execution_count": 12
  },
  {
   "metadata": {
    "ExecuteTime": {
     "end_time": "2025-05-19T09:07:05.627234Z",
     "start_time": "2025-05-19T09:07:05.617142Z"
    }
   },
   "cell_type": "code",
   "source": "doc_list",
   "id": "267f36cdf5cc467f",
   "outputs": [
    {
     "data": {
      "text/plain": [
       "[{'_id': '128', 'graph_cluster': ['4']},\n",
       " {'_id': '147', 'graph_cluster': ['4']},\n",
       " {'_id': '153', 'graph_cluster': ['4']},\n",
       " {'_id': '160', 'graph_cluster': ['4']},\n",
       " {'_id': '161', 'graph_cluster': ['4']},\n",
       " {'_id': '164', 'graph_cluster': ['4']},\n",
       " {'_id': '187', 'graph_cluster': ['4']},\n",
       " {'_id': '202', 'graph_cluster': ['4']},\n",
       " {'_id': '203', 'graph_cluster': ['4']},\n",
       " {'_id': '204', 'graph_cluster': ['4']},\n",
       " {'_id': '206', 'graph_cluster': ['4']},\n",
       " {'_id': '212', 'graph_cluster': ['4']},\n",
       " {'_id': '483', 'graph_cluster': ['4']},\n",
       " {'_id': '487', 'graph_cluster': ['4']},\n",
       " {'_id': '758', 'graph_cluster': ['4']}]"
      ]
     },
     "execution_count": 16,
     "metadata": {},
     "output_type": "execute_result"
    }
   ],
   "execution_count": 16
  },
  {
   "metadata": {},
   "cell_type": "markdown",
   "source": "---",
   "id": "cbcb44f268af51c5"
  },
  {
   "metadata": {},
   "cell_type": "code",
   "source": "grascco_embedding.data_processing_obj.data_chunk_sets[1]",
   "id": "a517ef68a1da844e",
   "outputs": [],
   "execution_count": null
  },
  {
   "metadata": {},
   "cell_type": "code",
   "source": [
    "vector_name = \"phrase_vector\"\n",
    "def create_index_document(sentence_embedding_obj: 'embedding_functions.SentenceEmbeddingsFactory.SentenceEmbeddings'):\n",
    "    for i, embedding in enumerate(sentence_embedding_obj.sentence_embeddings):\n",
    "        _chunk_obj = sentence_embedding_obj.data_processing_obj.data_chunk_sets[i]\n",
    "        yield {\n",
    "            \"_id\": str(i),\n",
    "            \"documents\": [str(d['id']) for d in _chunk_obj['doc']],\n",
    "            #\"phrase\": _chunk_obj['text'],\n",
    "            vector_name: {\n",
    "                \"content\": _chunk_obj['text'],\n",
    "                \"vector\": [float(f) for f in embedding]\n",
    "            }\n",
    "        }"
   ],
   "id": "99c11e371224b36a",
   "outputs": [],
   "execution_count": null
  },
  {
   "metadata": {},
   "cell_type": "code",
   "source": "mq = marqo.Client(url=\"http://localhost:8882\")",
   "id": "5dc38ca5eb150fe9",
   "outputs": [],
   "execution_count": null
  },
  {
   "metadata": {},
   "cell_type": "code",
   "source": [
    "index_name = \"grascco_index\"\n",
    "settings = {\n",
    "    \"treatUrlsAndPointersAsImages\": False,\n",
    "    \"model\": \"no_model\",\n",
    "    \"modelProperties\": {\n",
    "        \"dimensions\": 1024,\n",
    "        \"type\": \"no_model\",\n",
    "    },\n",
    "    \"annParameters\": {\n",
    "        \"spaceType\": \"dotproduct\", #prenormalized-angular(default)\n",
    "        \"parameters\": {\n",
    "            \"efConstruction\": 1024,\n",
    "            \"m\": 16\n",
    "        }\n",
    "    }\n",
    "}\n",
    "try:\n",
    "    mq.create_index(\n",
    "        index_name=index_name,\n",
    "        settings_dict=settings,\n",
    "    )\n",
    "except:\n",
    "    mq.delete_index(index_name)\n",
    "    mq.create_index(\n",
    "        index_name=index_name,\n",
    "        settings_dict=settings,\n",
    "    )"
   ],
   "id": "da5044d355758c8d",
   "outputs": [],
   "execution_count": null
  },
  {
   "metadata": {},
   "cell_type": "code",
   "source": [
    "mq.index(index_name).add_documents(\n",
    "    list(create_index_document(grascco_embedding)),\n",
    "    client_batch_size=128,\n",
    "    tensor_fields=[vector_name],\n",
    "    mappings={\n",
    "        vector_name: {\n",
    "            \"type\": \"custom_vector\"\n",
    "        }\n",
    "    },\n",
    ")"
   ],
   "id": "8e0e6427bbefbe4f",
   "outputs": [],
   "execution_count": null
  },
  {
   "metadata": {},
   "cell_type": "code",
   "source": "mq.index(\"grascco_lokal_test\").get_document(\"100\", expose_facets=True)",
   "id": "5af361b50820de12",
   "outputs": [],
   "execution_count": null
  },
  {
   "metadata": {
    "ExecuteTime": {
     "end_time": "2025-05-20T08:27:24.600663Z",
     "start_time": "2025-05-20T08:27:24.540334Z"
    }
   },
   "cell_type": "code",
   "source": "mq.index(\"grascco_lokal_test\").get_documents([\"10\", \"11\"])",
   "id": "c498561753a61ed0",
   "outputs": [
    {
     "data": {
      "text/plain": [
       "{'errors': False,\n",
       " 'results': [{'_found': True,\n",
       "   'graph_cluster': ['2'],\n",
       "   '_id': '10',\n",
       "   'phrase': 'handamputation'},\n",
       "  {'_found': True, '_id': '11', 'phrase': 'li'}]}"
      ]
     },
     "execution_count": 35,
     "metadata": {},
     "output_type": "execute_result"
    }
   ],
   "execution_count": 35
  },
  {
   "metadata": {
    "ExecuteTime": {
     "end_time": "2025-05-20T08:32:34.293495Z",
     "start_time": "2025-05-20T08:32:34.203420Z"
    }
   },
   "cell_type": "code",
   "source": [
    "mq.index(\"grascco_lokal_test\").recommend(\n",
    "    documents=['10'],\n",
    "    tensor_fields=[\"phrase_vector\"],\n",
    "    limit=50,\n",
    ").get(\"hits\")"
   ],
   "id": "4256d77ebe3504f3",
   "outputs": [
    {
     "data": {
      "text/plain": [
       "[{'graph_cluster': ['2'],\n",
       "  '_id': '238',\n",
       "  'phrase': 'handchirurgen',\n",
       "  '_highlights': [{'phrase_vector': ''}],\n",
       "  '_score': 359.72576904296875},\n",
       " {'_id': '51',\n",
       "  'phrase': 'abgetrennte hand',\n",
       "  '_highlights': [{'phrase_vector': ''}],\n",
       "  '_score': 345.06219482421875},\n",
       " {'_id': '55',\n",
       "  'phrase': 'komplette amputation',\n",
       "  '_highlights': [{'phrase_vector': ''}],\n",
       "  '_score': 344.34820556640625},\n",
       " {'graph_cluster': ['2'],\n",
       "  '_id': '20',\n",
       "  'phrase': 'handreplantaticm',\n",
       "  '_highlights': [{'phrase_vector': ''}],\n",
       "  '_score': 337.96893310546875},\n",
       " {'graph_cluster': ['2'],\n",
       "  '_id': '229',\n",
       "  'phrase': 'handchirurgischer sicht',\n",
       "  '_highlights': [{'phrase_vector': ''}],\n",
       "  '_score': 313.2591247558594},\n",
       " {'graph_cluster': ['2'],\n",
       "  '_id': '647',\n",
       "  'phrase': 'handgelenksfraktur',\n",
       "  '_highlights': [{'phrase_vector': ''}],\n",
       "  '_score': 310.511962890625},\n",
       " {'graph_cluster': ['2'],\n",
       "  '_id': '68',\n",
       "  'phrase': 'hand',\n",
       "  '_highlights': [{'phrase_vector': ''}],\n",
       "  '_score': 302.1364440917969},\n",
       " {'graph_cluster': ['2'],\n",
       "  '_id': '40',\n",
       "  'phrase': 'handrücken',\n",
       "  '_highlights': [{'phrase_vector': ''}],\n",
       "  '_score': 290.94708251953125},\n",
       " {'graph_cluster': ['2'],\n",
       "  '_id': '41',\n",
       "  'phrase': 'handgelenk',\n",
       "  '_highlights': [{'phrase_vector': ''}],\n",
       "  '_score': 285.189453125},\n",
       " {'_id': '607',\n",
       "  'phrase': 'hautverletzungen',\n",
       "  '_highlights': [{'phrase_vector': ''}],\n",
       "  '_score': 264.88665771484375},\n",
       " {'_id': '590',\n",
       "  'phrase': 'li hand',\n",
       "  '_highlights': [{'phrase_vector': ''}],\n",
       "  '_score': 263.29205322265625},\n",
       " {'graph_cluster': ['2'],\n",
       "  '_id': '218',\n",
       "  'phrase': 'fingergelenke',\n",
       "  '_highlights': [{'phrase_vector': ''}],\n",
       "  '_score': 262.18115234375},\n",
       " {'_id': '217',\n",
       "  'phrase': 'iinken hand',\n",
       "  '_highlights': [{'phrase_vector': ''}],\n",
       "  '_score': 256.06939697265625},\n",
       " {'_id': '560',\n",
       "  'phrase': 'hüftkopfepiphysenkonturgebung',\n",
       "  '_highlights': [{'phrase_vector': ''}],\n",
       "  '_score': 254.2484893798828},\n",
       " {'_id': '22',\n",
       "  'phrase': 'nekrosektomie',\n",
       "  '_highlights': [{'phrase_vector': ''}],\n",
       "  '_score': 253.35252380371094},\n",
       " {'_id': '510',\n",
       "  'phrase': 'halb dorsalen kunststofforthesen',\n",
       "  '_highlights': [{'phrase_vector': ''}],\n",
       "  '_score': 248.35208129882812},\n",
       " {'_id': '28',\n",
       "  'phrase': 'linke hand',\n",
       "  '_highlights': [{'phrase_vector': ''}],\n",
       "  '_score': 248.17813110351562},\n",
       " {'graph_cluster': ['2'],\n",
       "  '_id': '231',\n",
       "  'phrase': 'beispielsweise operative gelenklösungen',\n",
       "  '_highlights': [{'phrase_vector': ''}],\n",
       "  '_score': 245.29580688476562},\n",
       " {'_id': '27',\n",
       "  'phrase': 'linken hand',\n",
       "  '_highlights': [{'phrase_vector': ''}],\n",
       "  '_score': 240.83853149414062},\n",
       " {'_id': '831',\n",
       "  'phrase': 'scheidenrekonstruktion',\n",
       "  '_highlights': [{'phrase_vector': ''}],\n",
       "  '_score': 240.3625030517578},\n",
       " {'_id': '87',\n",
       "  'phrase': 'retroauriculären hals',\n",
       "  '_highlights': [{'phrase_vector': ''}],\n",
       "  '_score': 238.8850555419922},\n",
       " {'_id': '515',\n",
       "  'phrase': 'großbogige flexible thoracolumbale skoliose',\n",
       "  '_highlights': [{'phrase_vector': ''}],\n",
       "  '_score': 236.1702880859375},\n",
       " {'_id': '167',\n",
       "  'phrase': 'verletzungen',\n",
       "  '_highlights': [{'phrase_vector': ''}],\n",
       "  '_score': 233.6292266845703},\n",
       " {'_id': '779',\n",
       "  'phrase': 'lymphknotenpalpation',\n",
       "  '_highlights': [{'phrase_vector': ''}],\n",
       "  '_score': 233.43496704101562},\n",
       " {'_id': '724',\n",
       "  'phrase': 'operativen antiglaukomatösen möglichkeiten',\n",
       "  '_highlights': [{'phrase_vector': ''}],\n",
       "  '_score': 233.22540283203125},\n",
       " {'_id': '595',\n",
       "  'phrase': 'linken unterarm',\n",
       "  '_highlights': [{'phrase_vector': ''}],\n",
       "  '_score': 229.9833984375},\n",
       " {'_id': '614',\n",
       "  'phrase': 'voroperationen',\n",
       "  '_highlights': [{'phrase_vector': ''}],\n",
       "  '_score': 229.49560546875},\n",
       " {'graph_cluster': ['2'],\n",
       "  '_id': '558',\n",
       "  'phrase': 'gelenken',\n",
       "  '_highlights': [{'phrase_vector': ''}],\n",
       "  '_score': 229.29200744628906},\n",
       " {'_id': '64',\n",
       "  'phrase': 'linken vertebralis',\n",
       "  '_highlights': [{'phrase_vector': ''}],\n",
       "  '_score': 228.8074188232422},\n",
       " {'_id': '36',\n",
       "  'phrase': 'wechsel linke hand',\n",
       "  '_highlights': [{'phrase_vector': ''}],\n",
       "  '_score': 227.839111328125},\n",
       " {'_id': '67',\n",
       "  'phrase': 'mikrochirurgischen abteilung',\n",
       "  '_highlights': [{'phrase_vector': ''}],\n",
       "  '_score': 227.69454956054688},\n",
       " {'graph_cluster': ['2'],\n",
       "  '_id': '61',\n",
       "  'phrase': 'osteoplastischer trepanation',\n",
       "  '_highlights': [{'phrase_vector': ''}],\n",
       "  '_score': 226.5792236328125},\n",
       " {'_id': '489',\n",
       "  'phrase': 'katheter',\n",
       "  '_highlights': [{'phrase_vector': ''}],\n",
       "  '_score': 224.38226318359375},\n",
       " {'_id': '235',\n",
       "  'phrase': 'narben',\n",
       "  '_highlights': [{'phrase_vector': ''}],\n",
       "  '_score': 223.87857055664062},\n",
       " {'_id': '828',\n",
       "  'phrase': 'endständige sigmoideostomie',\n",
       "  '_highlights': [{'phrase_vector': ''}],\n",
       "  '_score': 223.5320587158203},\n",
       " {'_id': '205',\n",
       "  'phrase': 'schweren selbstverletzung',\n",
       "  '_highlights': [{'phrase_vector': ''}],\n",
       "  '_score': 220.63485717773438},\n",
       " {'_id': '527',\n",
       "  'phrase': 'hackenfußdeformitation',\n",
       "  '_highlights': [{'phrase_vector': ''}],\n",
       "  '_score': 219.77996826171875},\n",
       " {'_id': '84',\n",
       "  'phrase': 'linken überschenkel',\n",
       "  '_highlights': [{'phrase_vector': ''}],\n",
       "  '_score': 218.9005126953125},\n",
       " {'_id': '514',\n",
       "  'phrase': 'reizlose verschlussnarbe',\n",
       "  '_highlights': [{'phrase_vector': ''}],\n",
       "  '_score': 217.84710693359375},\n",
       " {'_id': '829',\n",
       "  'phrase': 'rektumamputation',\n",
       "  '_highlights': [{'phrase_vector': ''}],\n",
       "  '_score': 214.08021545410156},\n",
       " {'_id': '158',\n",
       "  'phrase': 'selbstverletzung',\n",
       "  '_highlights': [{'phrase_vector': ''}],\n",
       "  '_score': 213.85232543945312},\n",
       " {'_id': '222',\n",
       "  'phrase': 'transplantat',\n",
       "  '_highlights': [{'phrase_vector': ''}],\n",
       "  '_score': 212.5835723876953},\n",
       " {'_id': '814',\n",
       "  'phrase': 'implantation',\n",
       "  '_highlights': [{'phrase_vector': ''}],\n",
       "  '_score': 212.27487182617188},\n",
       " {'_id': '82',\n",
       "  'phrase': 'sauberen wunden',\n",
       "  '_highlights': [{'phrase_vector': ''}],\n",
       "  '_score': 211.89833068847656},\n",
       " {'_id': '566',\n",
       "  'phrase': 'lähmungsniveau',\n",
       "  '_highlights': [{'phrase_vector': ''}],\n",
       "  '_score': 211.60154724121094},\n",
       " {'_id': '488',\n",
       "  'phrase': 'narbigen stenose',\n",
       "  '_highlights': [{'phrase_vector': ''}],\n",
       "  '_score': 211.49891662597656},\n",
       " {'_id': '362',\n",
       "  'phrase': 'unterschenkel',\n",
       "  '_highlights': [{'phrase_vector': ''}],\n",
       "  '_score': 211.45355224609375},\n",
       " {'_id': '215',\n",
       "  'phrase': 'teils flexible orthese',\n",
       "  '_highlights': [{'phrase_vector': ''}],\n",
       "  '_score': 210.6480712890625},\n",
       " {'_id': '277',\n",
       "  'phrase': 'klappenersatz',\n",
       "  '_highlights': [{'phrase_vector': ''}],\n",
       "  '_score': 210.37466430664062},\n",
       " {'_id': '97',\n",
       "  'phrase': 'ergotherapeutische behandlung',\n",
       "  '_highlights': [{'phrase_vector': ''}],\n",
       "  '_score': 209.9406280517578}]"
      ]
     },
     "execution_count": 37,
     "metadata": {},
     "output_type": "execute_result"
    }
   ],
   "execution_count": 37
  },
  {
   "metadata": {},
   "cell_type": "code",
   "source": [
    "ex_doc = mq.index(\"grascco_lokal_test\").get_document(\"10\", expose_facets=True)\n",
    "ex_doc"
   ],
   "id": "972655a6321bd7be",
   "outputs": [],
   "execution_count": null
  },
  {
   "metadata": {},
   "cell_type": "code",
   "source": [
    "mq.index(\"grascco_lokal_test\").search(\n",
    "    q={\n",
    "        \"customVector\" : {\n",
    "            \"vector\": ex_doc[\"_tensor_facets\"][0][\"_embedding\"],\n",
    "            \"content\": ex_doc[\"phrase\"],\n",
    "        }\n",
    "    },\n",
    "    search_method=\"HYBRID\"\n",
    ")"
   ],
   "id": "df26920c6bd2b99a",
   "outputs": [],
   "execution_count": null
  },
  {
   "metadata": {},
   "cell_type": "code",
   "source": [
    "_ids = [str(i) for i in range(6)]\n",
    "np.asarray([\n",
    "    _res[\"_tensor_facets\"][0][\"_embedding\"]\n",
    "    for _res in\n",
    "    mq.index(index_name).get_documents(_ids, expose_facets=True)[\"results\"]\n",
    "]).tolist()"
   ],
   "id": "514495558e301d98",
   "outputs": [],
   "execution_count": null
  },
  {
   "metadata": {},
   "cell_type": "code",
   "source": "mq.index(index_name).get_stats()[\"numberOfDocuments\"]",
   "id": "fa9d7683a3bf296c",
   "outputs": [],
   "execution_count": null
  },
  {
   "metadata": {},
   "cell_type": "code",
   "source": "mq.index(index_name).get_document(\"5180\")",
   "id": "fb421baee1866768",
   "outputs": [],
   "execution_count": null
  },
  {
   "metadata": {},
   "cell_type": "code",
   "source": [
    "marqo_store = MarqoEmbeddingExternal(\n",
    "    client_url=\"http://localhost:8882\",\n",
    "    index_name=\"grascco_lokal_test\"\n",
    ")"
   ],
   "id": "4a03f5463b255b1d",
   "outputs": [],
   "execution_count": null
  },
  {
   "metadata": {},
   "cell_type": "code",
   "source": [
    "mq.index(\"grascco_lokal_test\").search(\n",
    "    q='psychose',\n",
    "    search_method=\"LEXICAL\",\n",
    ")"
   ],
   "id": "18fe13f7006431ee",
   "outputs": [],
   "execution_count": null
  }
 ],
 "metadata": {
  "kernelspec": {
   "display_name": "Python 3",
   "language": "python",
   "name": "python3"
  },
  "language_info": {
   "codemirror_mode": {
    "name": "ipython",
    "version": 2
   },
   "file_extension": ".py",
   "mimetype": "text/x-python",
   "name": "python",
   "nbconvert_exporter": "python",
   "pygments_lexer": "ipython2",
   "version": "2.7.6"
  }
 },
 "nbformat": 4,
 "nbformat_minor": 5
}
