{
 "cells": [
  {
   "cell_type": "code",
   "id": "initial_id",
   "metadata": {
    "collapsed": true
   },
   "source": [
    "import marqo\n",
    "import sys\n",
    "import pathlib"
   ],
   "outputs": [],
   "execution_count": null
  },
  {
   "metadata": {},
   "cell_type": "code",
   "source": "import numpy as np",
   "id": "63c8c3b905582292",
   "outputs": [],
   "execution_count": null
  },
  {
   "metadata": {},
   "cell_type": "code",
   "source": [
    "sys.path.insert(0, \"src\")\n",
    "import data_functions\n",
    "import embedding_functions\n",
    "import cluster_functions\n",
    "import graph_functions\n",
    "import util_functions"
   ],
   "id": "c703b0e1f874907",
   "outputs": [],
   "execution_count": null
  },
  {
   "metadata": {},
   "cell_type": "code",
   "source": [
    "base_name = \"grascco_test\"\n",
    "path_name = lambda x: f\"./tmp/{base_name}/{base_name}_{x}.pickle\""
   ],
   "id": "1d05e23492e011f1",
   "outputs": [],
   "execution_count": null
  },
  {
   "metadata": {},
   "cell_type": "code",
   "source": [
    "grascco_embedding = embedding_functions.SentenceEmbeddingsFactory.load(\n",
    "    pathlib.Path(path_name(\"data\")),\n",
    "    pathlib.Path(path_name(\"embedding\"))\n",
    ")"
   ],
   "id": "d25c0cef9d6c73e3",
   "outputs": [],
   "execution_count": null
  },
  {
   "metadata": {},
   "cell_type": "code",
   "source": "grascco_embedding.data_processing_obj.data_chunk_sets[1]",
   "id": "a517ef68a1da844e",
   "outputs": [],
   "execution_count": null
  },
  {
   "metadata": {},
   "cell_type": "code",
   "source": [
    "def create_index_document(sentence_embedding_obj: 'embedding_functions.SentenceEmbeddingsFactory.SentenceEmbeddings'):\n",
    "    for i, embedding in enumerate(sentence_embedding_obj.sentence_embeddings):\n",
    "        yield {\n",
    "            \"id\": i,\n",
    "            \"phrase\": sentence_embedding_obj.data_processing_obj.data_chunk_sets[i]['text'],\n",
    "            \"phrase_vector\": {\n",
    "                \"vector\": [float(f) for f in embedding]\n",
    "            }\n",
    "        }"
   ],
   "id": "99c11e371224b36a",
   "outputs": [],
   "execution_count": null
  },
  {
   "metadata": {},
   "cell_type": "code",
   "source": "mq = marqo.Client(url=\"http://localhost:8882\")",
   "id": "5dc38ca5eb150fe9",
   "outputs": [],
   "execution_count": null
  },
  {
   "metadata": {},
   "cell_type": "code",
   "source": [
    "index_name = \"test_index\"\n",
    "settings = {\n",
    "    \"treatUrlsAndPointersAsImages\": False,\n",
    "    \"model\": \"no_model\",\n",
    "    \"modelProperties\": {\n",
    "        \"dimensions\": 1024,\n",
    "        \"type\": \"no_model\",\n",
    "    },\n",
    "}\n",
    "try:\n",
    "    mq.create_index(\n",
    "        index_name=index_name,\n",
    "        settings_dict=settings,\n",
    "    )\n",
    "except:\n",
    "    mq.delete_index(index_name)\n",
    "    mq.create_index(\n",
    "        index_name=index_name,\n",
    "        settings_dict=settings,\n",
    "    )"
   ],
   "id": "da5044d355758c8d",
   "outputs": [],
   "execution_count": null
  },
  {
   "metadata": {},
   "cell_type": "code",
   "source": [
    "mq.index(\"test_index\").add_documents(\n",
    "    list(create_index_document(grascco_embedding)),\n",
    "    client_batch_size=128,\n",
    "    tensor_fields=[\"phrase_vector\"],\n",
    "    mappings={\n",
    "        \"phrase_vector\": {\n",
    "            \"type\": \"custom_vector\"\n",
    "        }\n",
    "    },\n",
    ")"
   ],
   "id": "8e0e6427bbefbe4f",
   "outputs": [],
   "execution_count": null
  },
  {
   "metadata": {
    "ExecuteTime": {
     "end_time": "2025-05-12T14:57:24.654511Z",
     "start_time": "2025-05-12T14:57:24.638308Z"
    }
   },
   "cell_type": "code",
   "source": "mq.index(\"test_index\").",
   "id": "4256d77ebe3504f3",
   "outputs": [
    {
     "ename": "TypeError",
     "evalue": "Index.get_documents() missing 1 required positional argument: 'document_ids'",
     "output_type": "error",
     "traceback": [
      "\u001B[0;31m---------------------------------------------------------------------------\u001B[0m",
      "\u001B[0;31mTypeError\u001B[0m                                 Traceback (most recent call last)",
      "Cell \u001B[0;32mIn[41], line 1\u001B[0m\n\u001B[0;32m----> 1\u001B[0m \u001B[43mmq\u001B[49m\u001B[38;5;241;43m.\u001B[39;49m\u001B[43mindex\u001B[49m\u001B[43m(\u001B[49m\u001B[38;5;124;43m\"\u001B[39;49m\u001B[38;5;124;43mtest_index\u001B[39;49m\u001B[38;5;124;43m\"\u001B[39;49m\u001B[43m)\u001B[49m\u001B[38;5;241;43m.\u001B[39;49m\u001B[43mget_documents\u001B[49m\u001B[43m(\u001B[49m\u001B[43m)\u001B[49m\n",
      "\u001B[0;31mTypeError\u001B[0m: Index.get_documents() missing 1 required positional argument: 'document_ids'"
     ]
    }
   ],
   "execution_count": 41
  }
 ],
 "metadata": {
  "kernelspec": {
   "display_name": "Python 3",
   "language": "python",
   "name": "python3"
  },
  "language_info": {
   "codemirror_mode": {
    "name": "ipython",
    "version": 2
   },
   "file_extension": ".py",
   "mimetype": "text/x-python",
   "name": "python",
   "nbconvert_exporter": "python",
   "pygments_lexer": "ipython2",
   "version": "2.7.6"
  }
 },
 "nbformat": 4,
 "nbformat_minor": 5
}
