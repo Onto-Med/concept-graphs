{
 "cells": [
  {
   "cell_type": "code",
   "id": "initial_id",
   "metadata": {
    "collapsed": true,
    "ExecuteTime": {
     "end_time": "2025-05-20T10:26:22.937419Z",
     "start_time": "2025-05-20T10:26:22.277328Z"
    }
   },
   "source": [
    "import marqo\n",
    "import sys\n",
    "import pathlib\n",
    "import pickle"
   ],
   "outputs": [],
   "execution_count": 1
  },
  {
   "metadata": {
    "ExecuteTime": {
     "end_time": "2025-05-20T10:26:24.206938Z",
     "start_time": "2025-05-20T10:26:23.197468Z"
    }
   },
   "cell_type": "code",
   "source": [
    "import numpy as np\n",
    "from sklearn.preprocessing import MinMaxScaler"
   ],
   "id": "63c8c3b905582292",
   "outputs": [],
   "execution_count": 2
  },
  {
   "metadata": {
    "ExecuteTime": {
     "end_time": "2025-05-20T10:26:41.167276Z",
     "start_time": "2025-05-20T10:26:24.226892Z"
    }
   },
   "cell_type": "code",
   "source": [
    "sys.path.insert(0, \"src\")\n",
    "import data_functions\n",
    "import embedding_functions\n",
    "import cluster_functions\n",
    "import graph_functions\n",
    "import util_functions\n",
    "from MarqoExternalUtils import MarqoEmbeddingStore"
   ],
   "id": "c703b0e1f874907",
   "outputs": [
    {
     "name": "stderr",
     "output_type": "stream",
     "text": [
      "C:\\Users\\fra3066mat\\PycharmProjects\\concept-graphs\\src\\data_functions.py:14: TqdmWarning: IProgress not found. Please update jupyter and ipywidgets. See https://ipywidgets.readthedocs.io/en/stable/user_install.html\n",
      "  from tqdm.autonotebook import tqdm\n"
     ]
    },
    {
     "name": "stdout",
     "output_type": "stream",
     "text": [
      "WARNING:tensorflow:From C:\\Users\\fra3066mat\\.conda\\envs\\concept-graphs\\lib\\site-packages\\keras\\src\\losses.py:2976: The name tf.losses.sparse_softmax_cross_entropy is deprecated. Please use tf.compat.v1.losses.sparse_softmax_cross_entropy instead.\n",
      "\n"
     ]
    }
   ],
   "execution_count": 3
  },
  {
   "metadata": {},
   "cell_type": "markdown",
   "source": "---",
   "id": "50926fb1f176c875"
  },
  {
   "metadata": {
    "ExecuteTime": {
     "end_time": "2025-05-20T10:26:41.227497Z",
     "start_time": "2025-05-20T10:26:41.207264Z"
    }
   },
   "cell_type": "code",
   "source": [
    "base_name = \"grascco_lokal_test\"\n",
    "path_name = lambda x: f\"./tmp/{base_name}/{base_name}_{x}.pickle\""
   ],
   "id": "1d05e23492e011f1",
   "outputs": [],
   "execution_count": 4
  },
  {
   "metadata": {
    "ExecuteTime": {
     "end_time": "2025-05-19T09:00:56.455543Z",
     "start_time": "2025-05-19T09:00:55.625616Z"
    }
   },
   "cell_type": "code",
   "source": [
    "grascco_data = data_functions.DataProcessingFactory.load(\n",
    "    file_path=path_name(\"data\"),\n",
    ")"
   ],
   "id": "caf69017aa82363",
   "outputs": [],
   "execution_count": 5
  },
  {
   "metadata": {
    "ExecuteTime": {
     "end_time": "2025-05-19T09:01:31.375755Z",
     "start_time": "2025-05-19T09:00:56.475535Z"
    }
   },
   "cell_type": "code",
   "source": [
    "grascco_embedding = embedding_functions.SentenceEmbeddingsFactory.create(\n",
    "    data_obj=grascco_data,\n",
    "    cache_path=pathlib.Path(path_name(\"embedding\")).parent,\n",
    "    cache_name=\"_\".join(pathlib.Path(path_name(\"embedding\")).stem.split(\"_\")[:-1]),\n",
    "    model_name=\"Sahajtomar/German-semantic\",\n",
    "    storage_method=(\"vector_store\", {},),\n",
    "    vectorstore_normalizeEmbeddings=False,\n",
    "    vectorstore_annParameters={\n",
    "        \"spaceType\": \"dotproduct\", #prenormalized-angular(default)\n",
    "        \"parameters\": {\n",
    "            \"efConstruction\": 1024,\n",
    "            \"m\": 16\n",
    "        }\n",
    "    }\n",
    ")"
   ],
   "id": "b2d11faaeffbfaa1",
   "outputs": [
    {
     "name": "stderr",
     "output_type": "stream",
     "text": [
      "INFO:root:Creating Sentence Embedding with 'None'\n",
      "INFO:sentence_transformers.SentenceTransformer:Use pytorch device_name: cpu\n",
      "INFO:sentence_transformers.SentenceTransformer:Load pretrained SentenceTransformer: Sahajtomar/German-semantic\n",
      "Batches: 100%|██████████| 28/28 [00:11<00:00,  2.34it/s]\n",
      "2025-05-19 11:01:23,425 logger:'marqo' WARNING Your Marqo Python client requires a minimum Marqo version of 2.18.0 to function properly, but your Marqo version is 2.16.1. Please upgrade your Marqo instance to avoid potential errors. If you have already changed your Marqo instance but still get this warning, please restart your Python interpreter.\n",
      "WARNING:marqo:Your Marqo Python client requires a minimum Marqo version of 2.18.0 to function properly, but your Marqo version is 2.16.1. Please upgrade your Marqo instance to avoid potential errors. If you have already changed your Marqo instance but still get this warning, please restart your Python interpreter.\n",
      "2025-05-19 11:01:26,185 logger:'marqo' INFO     add_documents batch 0: took 2.520s for Marqo to process & index 128 docs. Roundtrip time: 2.711s.\n",
      "INFO:marqo:    add_documents batch 0: took 2.520s for Marqo to process & index 128 docs. Roundtrip time: 2.711s.\n",
      "2025-05-19 11:01:27,065 logger:'marqo' INFO     add_documents batch 1: took 0.690s for Marqo to process & index 128 docs. Roundtrip time: 0.874s.\n",
      "INFO:marqo:    add_documents batch 1: took 0.690s for Marqo to process & index 128 docs. Roundtrip time: 0.874s.\n",
      "2025-05-19 11:01:28,085 logger:'marqo' INFO     add_documents batch 2: took 0.841s for Marqo to process & index 128 docs. Roundtrip time: 1.026s.\n",
      "INFO:marqo:    add_documents batch 2: took 0.841s for Marqo to process & index 128 docs. Roundtrip time: 1.026s.\n",
      "2025-05-19 11:01:28,965 logger:'marqo' INFO     add_documents batch 3: took 0.675s for Marqo to process & index 128 docs. Roundtrip time: 0.870s.\n",
      "INFO:marqo:    add_documents batch 3: took 0.675s for Marqo to process & index 128 docs. Roundtrip time: 0.870s.\n",
      "2025-05-19 11:01:29,796 logger:'marqo' INFO     add_documents batch 4: took 0.643s for Marqo to process & index 128 docs. Roundtrip time: 0.830s.\n",
      "INFO:marqo:    add_documents batch 4: took 0.643s for Marqo to process & index 128 docs. Roundtrip time: 0.830s.\n",
      "2025-05-19 11:01:30,615 logger:'marqo' INFO     add_documents batch 5: took 0.634s for Marqo to process & index 128 docs. Roundtrip time: 0.821s.\n",
      "INFO:marqo:    add_documents batch 5: took 0.634s for Marqo to process & index 128 docs. Roundtrip time: 0.821s.\n",
      "2025-05-19 11:01:31,345 logger:'marqo' INFO     add_documents batch 6: took 0.557s for Marqo to process & index 109 docs. Roundtrip time: 0.720s.\n",
      "INFO:marqo:    add_documents batch 6: took 0.557s for Marqo to process & index 109 docs. Roundtrip time: 0.720s.\n"
     ]
    },
    {
     "name": "stdout",
     "output_type": "stream",
     "text": [
      "Saved under: C:\\Users\\fra3066mat\\PycharmProjects\\concept-graphs\\tmp\\grascco_lokal_test\\grascco_lokal_test.pickle\n"
     ]
    }
   ],
   "execution_count": 6
  },
  {
   "metadata": {
    "ExecuteTime": {
     "end_time": "2025-05-19T07:53:50.968629Z",
     "start_time": "2025-05-19T07:53:37.108332Z"
    }
   },
   "cell_type": "code",
   "source": [
    "grascco_embedding_from_vec = embedding_functions.SentenceEmbeddingsFactory.load(\n",
    "    data_obj_path=path_name(\"data\"),\n",
    "    embeddings_path=path_name(\"vec\"),\n",
    "    storage_method=(\"vector_store\", {},),\n",
    ")"
   ],
   "id": "f66152fb2f6b013c",
   "outputs": [
    {
     "name": "stderr",
     "output_type": "stream",
     "text": [
      "2025-05-19 09:53:37,858 logger:'marqo' WARNING Your Marqo Python client requires a minimum Marqo version of 2.18.0 to function properly, but your Marqo version is 2.16.1. Please upgrade your Marqo instance to avoid potential errors. If you have already changed your Marqo instance but still get this warning, please restart your Python interpreter.\n",
      "WARNING:marqo:Your Marqo Python client requires a minimum Marqo version of 2.18.0 to function properly, but your Marqo version is 2.16.1. Please upgrade your Marqo instance to avoid potential errors. If you have already changed your Marqo instance but still get this warning, please restart your Python interpreter.\n",
      "INFO:sentence_transformers.SentenceTransformer:Use pytorch device_name: cpu\n",
      "INFO:sentence_transformers.SentenceTransformer:Load pretrained SentenceTransformer: Sahajtomar/German-semantic\n"
     ]
    }
   ],
   "execution_count": 6
  },
  {
   "metadata": {
    "ExecuteTime": {
     "end_time": "2025-05-19T08:00:00.679776Z",
     "start_time": "2025-05-19T08:00:00.641281Z"
    }
   },
   "cell_type": "code",
   "source": [
    "grascco_clustering = cluster_functions.PhraseClusterFactory.load(\n",
    "    data_obj_path=path_name(\"clustering\"),\n",
    ")"
   ],
   "id": "d1f596b41e08cd79",
   "outputs": [],
   "execution_count": 8
  },
  {
   "metadata": {
    "ExecuteTime": {
     "end_time": "2025-05-19T09:04:24.363972Z",
     "start_time": "2025-05-19T09:04:24.346822Z"
    }
   },
   "cell_type": "code",
   "source": [
    "grascco_graph = pickle.load(\n",
    "    open(path_name(\"graph\"), 'rb')\n",
    ")"
   ],
   "id": "be08437d9cec5492",
   "outputs": [],
   "execution_count": 10
  },
  {
   "metadata": {},
   "cell_type": "markdown",
   "source": "---",
   "id": "ad59c97082830e6e"
  },
  {
   "metadata": {
    "ExecuteTime": {
     "end_time": "2025-05-20T10:26:41.275426Z",
     "start_time": "2025-05-20T10:26:41.243826Z"
    }
   },
   "cell_type": "code",
   "source": "mqs = MarqoEmbeddingStore(\"http://localhost:8882\", \"grascco_lokal_test\")",
   "id": "e4565cde6c5380ae",
   "outputs": [
    {
     "name": "stderr",
     "output_type": "stream",
     "text": [
      "2025-05-20 12:26:41,257 logger:'marqo' WARNING Your Marqo Python client requires a minimum Marqo version of 2.18.0 to function properly, but your Marqo version is 2.16.1. Please upgrade your Marqo instance to avoid potential errors. If you have already changed your Marqo instance but still get this warning, please restart your Python interpreter.\n",
      "WARNING:marqo:Your Marqo Python client requires a minimum Marqo version of 2.18.0 to function properly, but your Marqo version is 2.16.1. Please upgrade your Marqo instance to avoid potential errors. If you have already changed your Marqo instance but still get this warning, please restart your Python interpreter.\n"
     ]
    }
   ],
   "execution_count": 5
  },
  {
   "metadata": {
    "ExecuteTime": {
     "end_time": "2025-05-20T10:26:41.377478Z",
     "start_time": "2025-05-20T10:26:41.297020Z"
    }
   },
   "cell_type": "code",
   "source": "list(mqs.best_hits_for_field(\"51\"))",
   "id": "a53a12aa7ec4ae11",
   "outputs": [
    {
     "data": {
      "text/plain": [
       "[('2', 15.57719053316666)]"
      ]
     },
     "execution_count": 6,
     "metadata": {},
     "output_type": "execute_result"
    }
   ],
   "execution_count": 6
  },
  {
   "metadata": {
    "ExecuteTime": {
     "end_time": "2025-05-20T10:27:10.783864Z",
     "start_time": "2025-05-20T10:27:10.660985Z"
    }
   },
   "cell_type": "code",
   "source": "list(mqs.best_hits_for_field([0.3]*1024))",
   "id": "69f54fdc6616e257",
   "outputs": [
    {
     "name": "stderr",
     "output_type": "stream",
     "text": [
      "2025-05-20 12:27:10,727 logger:'marqo' INFO     add_documents batch 0: took 0.019s for Marqo to process & index 1 docs. Roundtrip time: 0.031s.\n",
      "INFO:marqo:    add_documents batch 0: took 0.019s for Marqo to process & index 1 docs. Roundtrip time: 0.031s.\n"
     ]
    },
    {
     "data": {
      "text/plain": [
       "[('1', 5.395548584233482)]"
      ]
     },
     "execution_count": 7,
     "metadata": {},
     "output_type": "execute_result"
    }
   ],
   "execution_count": 7
  },
  {
   "metadata": {
    "ExecuteTime": {
     "end_time": "2025-05-20T10:28:19.347613Z",
     "start_time": "2025-05-20T10:28:19.317742Z"
    }
   },
   "cell_type": "code",
   "source": "mqs.get_embedding(\"877\")",
   "id": "9ef80e0edbef3c2a",
   "outputs": [
    {
     "data": {
      "text/plain": [
       "array([0.30000001, 0.30000001, 0.30000001, ..., 0.30000001, 0.30000001,\n",
       "       0.30000001])"
      ]
     },
     "execution_count": 11,
     "metadata": {},
     "output_type": "execute_result"
    }
   ],
   "execution_count": 11
  },
  {
   "metadata": {
    "ExecuteTime": {
     "end_time": "2025-05-20T10:29:17.807499Z",
     "start_time": "2025-05-20T10:29:17.747547Z"
    }
   },
   "cell_type": "code",
   "source": "mqs.marqo_index.delete_documents([\"877\"])",
   "id": "fac3832abbd98881",
   "outputs": [
    {
     "data": {
      "text/plain": [
       "{'index_name': 'grascco_lokal_test',\n",
       " 'status': 'succeeded',\n",
       " 'type': 'documentDeletion',\n",
       " 'items': [{'_id': '877', 'status': 200, 'result': 'deleted'}],\n",
       " 'details': {'receivedDocumentIds': 1, 'deletedDocuments': 1},\n",
       " 'duration': 'PT0.020884S',\n",
       " 'startedAt': '2025-05-20T10:29:17.772041Z',\n",
       " 'finishedAt': '2025-05-20T10:29:17.792925Z'}"
      ]
     },
     "execution_count": 12,
     "metadata": {},
     "output_type": "execute_result"
    }
   ],
   "execution_count": 12
  },
  {
   "metadata": {
    "ExecuteTime": {
     "end_time": "2025-05-19T09:05:07.996915Z",
     "start_time": "2025-05-19T09:05:07.537075Z"
    }
   },
   "cell_type": "code",
   "source": [
    "for i, g in enumerate(grascco_graph):\n",
    "    doc_list = []\n",
    "    for n, d in g.nodes(True):\n",
    "        doc_list.append(\n",
    "            {\n",
    "                \"_id\": str(n),\n",
    "                \"graph_cluster\": [str(i)]\n",
    "            }\n",
    "        )\n",
    "    _res = mq.index(\"grascco_lokal_test\").update_documents(\n",
    "        documents=doc_list,\n",
    "        # client_batch_size=128,\n",
    "        # use_existing_tensors=True\n",
    "    )"
   ],
   "id": "5b5c589ca6f18afe",
   "outputs": [],
   "execution_count": 12
  },
  {
   "metadata": {
    "ExecuteTime": {
     "end_time": "2025-05-19T09:07:05.627234Z",
     "start_time": "2025-05-19T09:07:05.617142Z"
    }
   },
   "cell_type": "code",
   "source": "doc_list",
   "id": "267f36cdf5cc467f",
   "outputs": [
    {
     "data": {
      "text/plain": [
       "[{'_id': '128', 'graph_cluster': ['4']},\n",
       " {'_id': '147', 'graph_cluster': ['4']},\n",
       " {'_id': '153', 'graph_cluster': ['4']},\n",
       " {'_id': '160', 'graph_cluster': ['4']},\n",
       " {'_id': '161', 'graph_cluster': ['4']},\n",
       " {'_id': '164', 'graph_cluster': ['4']},\n",
       " {'_id': '187', 'graph_cluster': ['4']},\n",
       " {'_id': '202', 'graph_cluster': ['4']},\n",
       " {'_id': '203', 'graph_cluster': ['4']},\n",
       " {'_id': '204', 'graph_cluster': ['4']},\n",
       " {'_id': '206', 'graph_cluster': ['4']},\n",
       " {'_id': '212', 'graph_cluster': ['4']},\n",
       " {'_id': '483', 'graph_cluster': ['4']},\n",
       " {'_id': '487', 'graph_cluster': ['4']},\n",
       " {'_id': '758', 'graph_cluster': ['4']}]"
      ]
     },
     "execution_count": 16,
     "metadata": {},
     "output_type": "execute_result"
    }
   ],
   "execution_count": 16
  },
  {
   "metadata": {},
   "cell_type": "markdown",
   "source": "---",
   "id": "cbcb44f268af51c5"
  },
  {
   "metadata": {},
   "cell_type": "code",
   "source": "grascco_embedding.data_processing_obj.data_chunk_sets[1]",
   "id": "a517ef68a1da844e",
   "outputs": [],
   "execution_count": null
  },
  {
   "metadata": {},
   "cell_type": "code",
   "source": [
    "vector_name = \"phrase_vector\"\n",
    "def create_index_document(sentence_embedding_obj: 'embedding_functions.SentenceEmbeddingsFactory.SentenceEmbeddings'):\n",
    "    for i, embedding in enumerate(sentence_embedding_obj.sentence_embeddings):\n",
    "        _chunk_obj = sentence_embedding_obj.data_processing_obj.data_chunk_sets[i]\n",
    "        yield {\n",
    "            \"_id\": str(i),\n",
    "            \"documents\": [str(d['id']) for d in _chunk_obj['doc']],\n",
    "            #\"phrase\": _chunk_obj['text'],\n",
    "            vector_name: {\n",
    "                \"content\": _chunk_obj['text'],\n",
    "                \"vector\": [float(f) for f in embedding]\n",
    "            }\n",
    "        }"
   ],
   "id": "99c11e371224b36a",
   "outputs": [],
   "execution_count": null
  },
  {
   "metadata": {},
   "cell_type": "code",
   "source": "mq = marqo.Client(url=\"http://localhost:8882\")",
   "id": "5dc38ca5eb150fe9",
   "outputs": [],
   "execution_count": null
  },
  {
   "metadata": {},
   "cell_type": "code",
   "source": [
    "index_name = \"grascco_index\"\n",
    "settings = {\n",
    "    \"treatUrlsAndPointersAsImages\": False,\n",
    "    \"model\": \"no_model\",\n",
    "    \"modelProperties\": {\n",
    "        \"dimensions\": 1024,\n",
    "        \"type\": \"no_model\",\n",
    "    },\n",
    "    \"annParameters\": {\n",
    "        \"spaceType\": \"dotproduct\", #prenormalized-angular(default)\n",
    "        \"parameters\": {\n",
    "            \"efConstruction\": 1024,\n",
    "            \"m\": 16\n",
    "        }\n",
    "    }\n",
    "}\n",
    "try:\n",
    "    mq.create_index(\n",
    "        index_name=index_name,\n",
    "        settings_dict=settings,\n",
    "    )\n",
    "except:\n",
    "    mq.delete_index(index_name)\n",
    "    mq.create_index(\n",
    "        index_name=index_name,\n",
    "        settings_dict=settings,\n",
    "    )"
   ],
   "id": "da5044d355758c8d",
   "outputs": [],
   "execution_count": null
  },
  {
   "metadata": {},
   "cell_type": "code",
   "source": [
    "mq.index(index_name).add_documents(\n",
    "    list(create_index_document(grascco_embedding)),\n",
    "    client_batch_size=128,\n",
    "    tensor_fields=[vector_name],\n",
    "    mappings={\n",
    "        vector_name: {\n",
    "            \"type\": \"custom_vector\"\n",
    "        }\n",
    "    },\n",
    ")"
   ],
   "id": "8e0e6427bbefbe4f",
   "outputs": [],
   "execution_count": null
  },
  {
   "metadata": {},
   "cell_type": "code",
   "source": "mq.index(\"grascco_lokal_test\").get_document(\"100\", expose_facets=True)",
   "id": "5af361b50820de12",
   "outputs": [],
   "execution_count": null
  },
  {
   "metadata": {
    "ExecuteTime": {
     "end_time": "2025-05-20T08:27:24.600663Z",
     "start_time": "2025-05-20T08:27:24.540334Z"
    }
   },
   "cell_type": "code",
   "source": "mq.index(\"grascco_lokal_test\").get_documents([\"10\", \"11\"])",
   "id": "c498561753a61ed0",
   "outputs": [
    {
     "data": {
      "text/plain": [
       "{'errors': False,\n",
       " 'results': [{'_found': True,\n",
       "   'graph_cluster': ['2'],\n",
       "   '_id': '10',\n",
       "   'phrase': 'handamputation'},\n",
       "  {'_found': True, '_id': '11', 'phrase': 'li'}]}"
      ]
     },
     "execution_count": 35,
     "metadata": {},
     "output_type": "execute_result"
    }
   ],
   "execution_count": 35
  },
  {
   "metadata": {
    "ExecuteTime": {
     "end_time": "2025-05-20T08:32:34.293495Z",
     "start_time": "2025-05-20T08:32:34.203420Z"
    }
   },
   "cell_type": "code",
   "source": [
    "mq.index(\"grascco_lokal_test\").recommend(\n",
    "    documents=['10'],\n",
    "    tensor_fields=[\"phrase_vector\"],\n",
    "    limit=50,\n",
    ").get(\"hits\")"
   ],
   "id": "4256d77ebe3504f3",
   "outputs": [
    {
     "data": {
      "text/plain": [
       "[{'graph_cluster': ['2'],\n",
       "  '_id': '238',\n",
       "  'phrase': 'handchirurgen',\n",
       "  '_highlights': [{'phrase_vector': ''}],\n",
       "  '_score': 359.72576904296875},\n",
       " {'_id': '51',\n",
       "  'phrase': 'abgetrennte hand',\n",
       "  '_highlights': [{'phrase_vector': ''}],\n",
       "  '_score': 345.06219482421875},\n",
       " {'_id': '55',\n",
       "  'phrase': 'komplette amputation',\n",
       "  '_highlights': [{'phrase_vector': ''}],\n",
       "  '_score': 344.34820556640625},\n",
       " {'graph_cluster': ['2'],\n",
       "  '_id': '20',\n",
       "  'phrase': 'handreplantaticm',\n",
       "  '_highlights': [{'phrase_vector': ''}],\n",
       "  '_score': 337.96893310546875},\n",
       " {'graph_cluster': ['2'],\n",
       "  '_id': '229',\n",
       "  'phrase': 'handchirurgischer sicht',\n",
       "  '_highlights': [{'phrase_vector': ''}],\n",
       "  '_score': 313.2591247558594},\n",
       " {'graph_cluster': ['2'],\n",
       "  '_id': '647',\n",
       "  'phrase': 'handgelenksfraktur',\n",
       "  '_highlights': [{'phrase_vector': ''}],\n",
       "  '_score': 310.511962890625},\n",
       " {'graph_cluster': ['2'],\n",
       "  '_id': '68',\n",
       "  'phrase': 'hand',\n",
       "  '_highlights': [{'phrase_vector': ''}],\n",
       "  '_score': 302.1364440917969},\n",
       " {'graph_cluster': ['2'],\n",
       "  '_id': '40',\n",
       "  'phrase': 'handrücken',\n",
       "  '_highlights': [{'phrase_vector': ''}],\n",
       "  '_score': 290.94708251953125},\n",
       " {'graph_cluster': ['2'],\n",
       "  '_id': '41',\n",
       "  'phrase': 'handgelenk',\n",
       "  '_highlights': [{'phrase_vector': ''}],\n",
       "  '_score': 285.189453125},\n",
       " {'_id': '607',\n",
       "  'phrase': 'hautverletzungen',\n",
       "  '_highlights': [{'phrase_vector': ''}],\n",
       "  '_score': 264.88665771484375},\n",
       " {'_id': '590',\n",
       "  'phrase': 'li hand',\n",
       "  '_highlights': [{'phrase_vector': ''}],\n",
       "  '_score': 263.29205322265625},\n",
       " {'graph_cluster': ['2'],\n",
       "  '_id': '218',\n",
       "  'phrase': 'fingergelenke',\n",
       "  '_highlights': [{'phrase_vector': ''}],\n",
       "  '_score': 262.18115234375},\n",
       " {'_id': '217',\n",
       "  'phrase': 'iinken hand',\n",
       "  '_highlights': [{'phrase_vector': ''}],\n",
       "  '_score': 256.06939697265625},\n",
       " {'_id': '560',\n",
       "  'phrase': 'hüftkopfepiphysenkonturgebung',\n",
       "  '_highlights': [{'phrase_vector': ''}],\n",
       "  '_score': 254.2484893798828},\n",
       " {'_id': '22',\n",
       "  'phrase': 'nekrosektomie',\n",
       "  '_highlights': [{'phrase_vector': ''}],\n",
       "  '_score': 253.35252380371094},\n",
       " {'_id': '510',\n",
       "  'phrase': 'halb dorsalen kunststofforthesen',\n",
       "  '_highlights': [{'phrase_vector': ''}],\n",
       "  '_score': 248.35208129882812},\n",
       " {'_id': '28',\n",
       "  'phrase': 'linke hand',\n",
       "  '_highlights': [{'phrase_vector': ''}],\n",
       "  '_score': 248.17813110351562},\n",
       " {'graph_cluster': ['2'],\n",
       "  '_id': '231',\n",
       "  'phrase': 'beispielsweise operative gelenklösungen',\n",
       "  '_highlights': [{'phrase_vector': ''}],\n",
       "  '_score': 245.29580688476562},\n",
       " {'_id': '27',\n",
       "  'phrase': 'linken hand',\n",
       "  '_highlights': [{'phrase_vector': ''}],\n",
       "  '_score': 240.83853149414062},\n",
       " {'_id': '831',\n",
       "  'phrase': 'scheidenrekonstruktion',\n",
       "  '_highlights': [{'phrase_vector': ''}],\n",
       "  '_score': 240.3625030517578},\n",
       " {'_id': '87',\n",
       "  'phrase': 'retroauriculären hals',\n",
       "  '_highlights': [{'phrase_vector': ''}],\n",
       "  '_score': 238.8850555419922},\n",
       " {'_id': '515',\n",
       "  'phrase': 'großbogige flexible thoracolumbale skoliose',\n",
       "  '_highlights': [{'phrase_vector': ''}],\n",
       "  '_score': 236.1702880859375},\n",
       " {'_id': '167',\n",
       "  'phrase': 'verletzungen',\n",
       "  '_highlights': [{'phrase_vector': ''}],\n",
       "  '_score': 233.6292266845703},\n",
       " {'_id': '779',\n",
       "  'phrase': 'lymphknotenpalpation',\n",
       "  '_highlights': [{'phrase_vector': ''}],\n",
       "  '_score': 233.43496704101562},\n",
       " {'_id': '724',\n",
       "  'phrase': 'operativen antiglaukomatösen möglichkeiten',\n",
       "  '_highlights': [{'phrase_vector': ''}],\n",
       "  '_score': 233.22540283203125},\n",
       " {'_id': '595',\n",
       "  'phrase': 'linken unterarm',\n",
       "  '_highlights': [{'phrase_vector': ''}],\n",
       "  '_score': 229.9833984375},\n",
       " {'_id': '614',\n",
       "  'phrase': 'voroperationen',\n",
       "  '_highlights': [{'phrase_vector': ''}],\n",
       "  '_score': 229.49560546875},\n",
       " {'graph_cluster': ['2'],\n",
       "  '_id': '558',\n",
       "  'phrase': 'gelenken',\n",
       "  '_highlights': [{'phrase_vector': ''}],\n",
       "  '_score': 229.29200744628906},\n",
       " {'_id': '64',\n",
       "  'phrase': 'linken vertebralis',\n",
       "  '_highlights': [{'phrase_vector': ''}],\n",
       "  '_score': 228.8074188232422},\n",
       " {'_id': '36',\n",
       "  'phrase': 'wechsel linke hand',\n",
       "  '_highlights': [{'phrase_vector': ''}],\n",
       "  '_score': 227.839111328125},\n",
       " {'_id': '67',\n",
       "  'phrase': 'mikrochirurgischen abteilung',\n",
       "  '_highlights': [{'phrase_vector': ''}],\n",
       "  '_score': 227.69454956054688},\n",
       " {'graph_cluster': ['2'],\n",
       "  '_id': '61',\n",
       "  'phrase': 'osteoplastischer trepanation',\n",
       "  '_highlights': [{'phrase_vector': ''}],\n",
       "  '_score': 226.5792236328125},\n",
       " {'_id': '489',\n",
       "  'phrase': 'katheter',\n",
       "  '_highlights': [{'phrase_vector': ''}],\n",
       "  '_score': 224.38226318359375},\n",
       " {'_id': '235',\n",
       "  'phrase': 'narben',\n",
       "  '_highlights': [{'phrase_vector': ''}],\n",
       "  '_score': 223.87857055664062},\n",
       " {'_id': '828',\n",
       "  'phrase': 'endständige sigmoideostomie',\n",
       "  '_highlights': [{'phrase_vector': ''}],\n",
       "  '_score': 223.5320587158203},\n",
       " {'_id': '205',\n",
       "  'phrase': 'schweren selbstverletzung',\n",
       "  '_highlights': [{'phrase_vector': ''}],\n",
       "  '_score': 220.63485717773438},\n",
       " {'_id': '527',\n",
       "  'phrase': 'hackenfußdeformitation',\n",
       "  '_highlights': [{'phrase_vector': ''}],\n",
       "  '_score': 219.77996826171875},\n",
       " {'_id': '84',\n",
       "  'phrase': 'linken überschenkel',\n",
       "  '_highlights': [{'phrase_vector': ''}],\n",
       "  '_score': 218.9005126953125},\n",
       " {'_id': '514',\n",
       "  'phrase': 'reizlose verschlussnarbe',\n",
       "  '_highlights': [{'phrase_vector': ''}],\n",
       "  '_score': 217.84710693359375},\n",
       " {'_id': '829',\n",
       "  'phrase': 'rektumamputation',\n",
       "  '_highlights': [{'phrase_vector': ''}],\n",
       "  '_score': 214.08021545410156},\n",
       " {'_id': '158',\n",
       "  'phrase': 'selbstverletzung',\n",
       "  '_highlights': [{'phrase_vector': ''}],\n",
       "  '_score': 213.85232543945312},\n",
       " {'_id': '222',\n",
       "  'phrase': 'transplantat',\n",
       "  '_highlights': [{'phrase_vector': ''}],\n",
       "  '_score': 212.5835723876953},\n",
       " {'_id': '814',\n",
       "  'phrase': 'implantation',\n",
       "  '_highlights': [{'phrase_vector': ''}],\n",
       "  '_score': 212.27487182617188},\n",
       " {'_id': '82',\n",
       "  'phrase': 'sauberen wunden',\n",
       "  '_highlights': [{'phrase_vector': ''}],\n",
       "  '_score': 211.89833068847656},\n",
       " {'_id': '566',\n",
       "  'phrase': 'lähmungsniveau',\n",
       "  '_highlights': [{'phrase_vector': ''}],\n",
       "  '_score': 211.60154724121094},\n",
       " {'_id': '488',\n",
       "  'phrase': 'narbigen stenose',\n",
       "  '_highlights': [{'phrase_vector': ''}],\n",
       "  '_score': 211.49891662597656},\n",
       " {'_id': '362',\n",
       "  'phrase': 'unterschenkel',\n",
       "  '_highlights': [{'phrase_vector': ''}],\n",
       "  '_score': 211.45355224609375},\n",
       " {'_id': '215',\n",
       "  'phrase': 'teils flexible orthese',\n",
       "  '_highlights': [{'phrase_vector': ''}],\n",
       "  '_score': 210.6480712890625},\n",
       " {'_id': '277',\n",
       "  'phrase': 'klappenersatz',\n",
       "  '_highlights': [{'phrase_vector': ''}],\n",
       "  '_score': 210.37466430664062},\n",
       " {'_id': '97',\n",
       "  'phrase': 'ergotherapeutische behandlung',\n",
       "  '_highlights': [{'phrase_vector': ''}],\n",
       "  '_score': 209.9406280517578}]"
      ]
     },
     "execution_count": 37,
     "metadata": {},
     "output_type": "execute_result"
    }
   ],
   "execution_count": 37
  },
  {
   "metadata": {},
   "cell_type": "code",
   "source": [
    "ex_doc = mq.index(\"grascco_lokal_test\").get_document(\"10\", expose_facets=True)\n",
    "ex_doc"
   ],
   "id": "972655a6321bd7be",
   "outputs": [],
   "execution_count": null
  },
  {
   "metadata": {},
   "cell_type": "code",
   "source": [
    "mq.index(\"grascco_lokal_test\").search(\n",
    "    q={\n",
    "        \"customVector\" : {\n",
    "            \"vector\": ex_doc[\"_tensor_facets\"][0][\"_embedding\"],\n",
    "            \"content\": ex_doc[\"phrase\"],\n",
    "        }\n",
    "    },\n",
    "    search_method=\"HYBRID\"\n",
    ")"
   ],
   "id": "df26920c6bd2b99a",
   "outputs": [],
   "execution_count": null
  },
  {
   "metadata": {},
   "cell_type": "code",
   "source": [
    "_ids = [str(i) for i in range(6)]\n",
    "np.asarray([\n",
    "    _res[\"_tensor_facets\"][0][\"_embedding\"]\n",
    "    for _res in\n",
    "    mq.index(index_name).get_documents(_ids, expose_facets=True)[\"results\"]\n",
    "]).tolist()"
   ],
   "id": "514495558e301d98",
   "outputs": [],
   "execution_count": null
  },
  {
   "metadata": {},
   "cell_type": "code",
   "source": "mq.index(index_name).get_stats()[\"numberOfDocuments\"]",
   "id": "fa9d7683a3bf296c",
   "outputs": [],
   "execution_count": null
  },
  {
   "metadata": {},
   "cell_type": "code",
   "source": "mq.index(index_name).get_document(\"5180\")",
   "id": "fb421baee1866768",
   "outputs": [],
   "execution_count": null
  },
  {
   "metadata": {},
   "cell_type": "code",
   "source": [
    "marqo_store = MarqoEmbeddingExternal(\n",
    "    client_url=\"http://localhost:8882\",\n",
    "    index_name=\"grascco_lokal_test\"\n",
    ")"
   ],
   "id": "4a03f5463b255b1d",
   "outputs": [],
   "execution_count": null
  },
  {
   "metadata": {},
   "cell_type": "code",
   "source": [
    "mq.index(\"grascco_lokal_test\").search(\n",
    "    q='psychose',\n",
    "    search_method=\"LEXICAL\",\n",
    ")"
   ],
   "id": "18fe13f7006431ee",
   "outputs": [],
   "execution_count": null
  }
 ],
 "metadata": {
  "kernelspec": {
   "display_name": "Python 3",
   "language": "python",
   "name": "python3"
  },
  "language_info": {
   "codemirror_mode": {
    "name": "ipython",
    "version": 2
   },
   "file_extension": ".py",
   "mimetype": "text/x-python",
   "name": "python",
   "nbconvert_exporter": "python",
   "pygments_lexer": "ipython2",
   "version": "2.7.6"
  }
 },
 "nbformat": 4,
 "nbformat_minor": 5
}
