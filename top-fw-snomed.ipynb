{
 "cells": [
  {
   "metadata": {},
   "cell_type": "code",
   "source": "%matplotlib inline",
   "id": "43d23cc1483a0041",
   "outputs": [],
   "execution_count": null
  },
  {
   "metadata": {},
   "cell_type": "markdown",
   "source": "### Parse and store SNOMED taxonomy",
   "id": "7d009551343be4df"
  },
  {
   "metadata": {},
   "cell_type": "code",
   "source": [
    "from rdflib.extras.external_graph_libs import *\n",
    "from rdflib import Graph\n",
    "import networkx as nx\n",
    "import pathlib"
   ],
   "id": "1b910e9bb8120c8e",
   "outputs": [],
   "execution_count": null
  },
  {
   "metadata": {},
   "cell_type": "code",
   "source": [
    "def node_to_id(node):\n",
    "    return node.split('/')[-1]"
   ],
   "id": "547f163aa3b9a45c",
   "outputs": [],
   "execution_count": null
  },
  {
   "metadata": {},
   "cell_type": "code",
   "source": [
    "path = pathlib.Path(\"./data/snomed_taxonomy.rdf\")\n",
    "\n",
    "# every node with 'http://snomed.info/id/SNOMED_ID' is child of 'http://www.w3.org/2002/07/owl#Class'\n",
    "# 'http://snomed.info/id/138875005' is top node --> SNOMED CT Concept (SNOMED RT+CTV3)\n",
    "# graph is directed in top direction (that is, a neighbor is/are only the direct parent(s))\n",
    "\n",
    "graph = Graph()\n",
    "graph.parse(path, format=\"application/rdf+xml\")\n",
    "nx_graph = rdflib_to_networkx_multidigraph(graph)\n",
    "\n",
    "id_node_mapping = {}\n",
    "for n in list(nx_graph.nodes()):\n",
    "    _id = node_to_id(n)\n",
    "    # Remove meta nodes (e.g. 'owl#Class') and top level node 'SNOMED CT Concept (SNOMED RT+CTV3)'\n",
    "    if (not _id.isnumeric()) or (node_to_id(n) == \"138875005\"):\n",
    "        nx_graph.remove_node(n)\n",
    "        continue\n",
    "    id_node_mapping[_id] = n"
   ],
   "id": "316bcb624612b973",
   "outputs": [],
   "execution_count": null
  },
  {
   "metadata": {},
   "cell_type": "code",
   "source": [
    "def id_to_node(snomed_id: str, mapping_dict: dict = id_node_mapping):\n",
    "    node = mapping_dict.get(snomed_id, None)\n",
    "    return node"
   ],
   "id": "ab56a32328a79324",
   "outputs": [],
   "execution_count": null
  },
  {
   "metadata": {},
   "cell_type": "code",
   "source": [
    "def parents_of_id(snomed_id: str, mapping_dict: dict = id_node_mapping):\n",
    "    for neighbor in nx_graph.neighbors(id_to_node(snomed_id, mapping_dict)):\n",
    "        _id = node_to_id(neighbor)\n",
    "        if not _id.isnumeric():\n",
    "            continue\n",
    "        yield _id"
   ],
   "id": "a27c3e4f69332914",
   "outputs": [],
   "execution_count": null
  },
  {
   "metadata": {},
   "cell_type": "code",
   "source": [
    "def children_of_id(snomed_id: str, mapping_dict: dict = id_node_mapping):\n",
    "    for predecessor in nx_graph.predecessors(id_to_node(snomed_id, mapping_dict)):\n",
    "        _id = node_to_id(predecessor)\n",
    "        if not _id.isnumeric():\n",
    "            continue\n",
    "        yield _id"
   ],
   "id": "76c404a89ba1f175",
   "outputs": [],
   "execution_count": null
  },
  {
   "metadata": {},
   "cell_type": "markdown",
   "source": [
    "---\n",
    "### Read SNOMED Interface Terminology"
   ],
   "id": "f45880b2dadc3141"
  },
  {
   "metadata": {},
   "cell_type": "code",
   "source": "import collections",
   "id": "edadd6e79c380b3e",
   "outputs": [],
   "execution_count": null
  },
  {
   "metadata": {},
   "cell_type": "code",
   "source": [
    "interface_terminology_path = pathlib.Path(\"./data/SCT-GIT_de_drugs_nlp.dat\")\n",
    "interface_terminology = collections.defaultdict(list)\n",
    "\n",
    "for line in interface_terminology_path.open('r', encoding='utf-8').readlines():\n",
    "    # first name in the resulting list for each entry is the preferred name\n",
    "    snomed_id, internal_id, concept_name, interface_name = line.strip().split(\"\\t\")\n",
    "    interface_terminology[snomed_id].append(interface_name)\n",
    "first_level_concepts = [node_to_id(n) for n in nx_graph.nodes() if\n",
    "                        nx_graph.out_degree(n) == 0 and node_to_id(n) in interface_terminology]"
   ],
   "id": "50abfa8fdde38e3e",
   "outputs": [],
   "execution_count": null
  },
  {
   "metadata": {},
   "cell_type": "code",
   "source": "len(interface_terminology)",
   "id": "96d0c21dd359828",
   "outputs": [],
   "execution_count": null
  },
  {
   "metadata": {},
   "cell_type": "code",
   "source": "len(id_node_mapping)",
   "id": "8995396379d6d41f",
   "outputs": [],
   "execution_count": null
  },
  {
   "metadata": {},
   "cell_type": "code",
   "source": "len(first_level_concepts)",
   "id": "7e05a5609fd86063",
   "outputs": [],
   "execution_count": null
  },
  {
   "metadata": {},
   "cell_type": "markdown",
   "source": [
    "---\n",
    "### Create/upload concepts to TOP FW"
   ],
   "id": "b424305c0a94105e"
  },
  {
   "metadata": {},
   "cell_type": "code",
   "source": [
    "import requests\n",
    "import uuid\n",
    "import pickle\n",
    "from tqdm.autonotebook import tqdm"
   ],
   "id": "2c360d5ed83e00e6",
   "outputs": [],
   "execution_count": null
  },
  {
   "metadata": {},
   "cell_type": "code",
   "source": [
    "def create_top_fw_concept(concept_id: str, concept_id_store: dict, top_id_store: dict, parent_id: str = None):\n",
    "    if concept_id not in top_id_store:\n",
    "        _id = str(uuid.uuid4())\n",
    "        top_id_store[concept_id] = _id\n",
    "    else:\n",
    "        _id = top_id_store[concept_id]\n",
    "        \n",
    "    _data = {\n",
    "        \"entityType\": \"single_concept\",\n",
    "        \"id\": _id,\n",
    "        \"titles\": [\n",
    "            {\n",
    "                \"lang\": \"de\",\n",
    "                \"text\": concept_id_store[concept_id][0]\n",
    "            }\n",
    "        ],\n",
    "        \"codes\": [\n",
    "            {\n",
    "                \"uri\": f\"http://snomed.info/id/{concept_id}\",\n",
    "                \"codeSystem\": {\n",
    "                    \"uri\": \"http://snomed.info/id\",\n",
    "                    \"shortName\": \"SNOMED CT\"\n",
    "                },\n",
    "                \"code\": concept_id,\n",
    "            }\n",
    "        ] \n",
    "    }\n",
    "    \n",
    "    if len(concept_id_store[concept_id]) > 1:\n",
    "        _data[\"synonyms\"] = [\n",
    "            {\n",
    "                \"lang\": \"de\",\n",
    "                \"text\": syn\n",
    "            } for syn in concept_id_store[concept_id][1:]\n",
    "        ]\n",
    "        \n",
    "    if parent_id is not None and parent_id in concept_id_store and parent_id in top_id_store:\n",
    "        _data[\"superConcepts\"] = [\n",
    "            {\n",
    "                \"entityType\": \"single_concept\",\n",
    "                \"id\":top_id_store[parent_id] \n",
    "            }\n",
    "        ]\n",
    "    \n",
    "    return _data"
   ],
   "id": "67a3ab74f762bdae",
   "outputs": [],
   "execution_count": null
  },
  {
   "metadata": {},
   "cell_type": "code",
   "outputs": [],
   "execution_count": null,
   "source": [
    "def post_to_top_fw(post_data: list, post_api_token: str, organisation: str = \"imise\", repository: str = \"snomed_interface_terminology\"):\n",
    "    request = requests.post(\n",
    "        url=f\"https://top.imise.uni-leipzig.de/api/{organisation}/{repository}/entity/bulk\",\n",
    "        headers={\"Authorization\": \"Bearer \" + post_api_token},\n",
    "        json=post_data\n",
    "    )\n",
    "    return request.json()"
   ],
   "id": "1b7682b75818cd5d"
  },
  {
   "metadata": {},
   "cell_type": "code",
   "source": [
    "username = input(\"Please give your TOP FW username: \")\n",
    "password = input(\"Please give your TOP FW password: \")\n",
    "api_token = requests.post(\n",
    "    url = \"https://top.imise.uni-leipzig.de/auth/realms/top-realm/protocol/openid-connect/token\",\n",
    "    data = {\n",
    "        \"client_id\": \"top-frontend\",\n",
    "        \"username\": username,\n",
    "        \"password\": password,\n",
    "        \"grant_type\": \"password\"\n",
    "    }\n",
    ")"
   ],
   "id": "e0865744a08a472d",
   "outputs": [],
   "execution_count": null
  },
  {
   "metadata": {
    "ExecuteTime": {
     "end_time": "2024-11-14T09:46:35.564070Z",
     "start_time": "2024-11-14T09:46:26.647673Z"
    }
   },
   "cell_type": "code",
   "source": [
    "pickle_path = \"./data/snomed_concept_to_top_id.pickle\"\n",
    "post_array = []\n",
    "snomed_concept_to_top_id = pickle.load(pathlib.Path(pickle_path).open('rb')) if pathlib.Path(pickle_path).exists() else {}\n",
    "\n",
    "# Create Top Level Concepts\n",
    "# for concept in tqdm(first_level_concepts):\n",
    "#     if concept in interface_terminology:\n",
    "#         post_array.append(\n",
    "#             create_top_fw_concept(concept, interface_terminology, snomed_concept_to_top_id)\n",
    "#         )\n",
    "\n",
    "for first_level_concept in first_level_concepts:\n",
    "    for source_node, successors_list in nx.bfs_successors(nx_graph.reverse(copy=True), id_to_node(first_level_concept)):\n",
    "        _source_node_concept = node_to_id(source_node)\n",
    "        if _source_node_concept not in interface_terminology:\n",
    "            continue\n",
    "            \n",
    "        if _source_node_concept not in snomed_concept_to_top_id:\n",
    "            post_array.append(\n",
    "                create_top_fw_concept(_source_node_concept, interface_terminology, snomed_concept_to_top_id)\n",
    "            )\n",
    "        \n",
    "        for node in successors_list:\n",
    "            _child_node_concept = node_to_id(node)\n",
    "            if _child_node_concept not in interface_terminology:\n",
    "                continue\n",
    "                \n",
    "            post_array.append(\n",
    "                create_top_fw_concept(_child_node_concept, interface_terminology, snomed_concept_to_top_id, _source_node_concept)\n",
    "            )\n",
    "            \n",
    "            # Post batch of 100\n",
    "            if len(post_array) == 100:\n",
    "                post_to_top_fw(post_array, api_token.json()['access_token'])\n",
    "                post_array.clear()\n",
    "#pickle.dump(snomed_concept_to_top_id, pathlib.Path(pickle_path).open('wb'))"
   ],
   "id": "dd45bde3a4c17293",
   "outputs": [],
   "execution_count": 40
  },
  {
   "metadata": {},
   "cell_type": "code",
   "source": "",
   "id": "b0cd933020d79f30",
   "outputs": [],
   "execution_count": null
  }
 ],
 "metadata": {
  "kernelspec": {
   "display_name": "Python 3",
   "language": "python",
   "name": "python3"
  },
  "language_info": {
   "codemirror_mode": {
    "name": "ipython",
    "version": 2
   },
   "file_extension": ".py",
   "mimetype": "text/x-python",
   "name": "python",
   "nbconvert_exporter": "python",
   "pygments_lexer": "ipython2",
   "version": "2.7.6"
  }
 },
 "nbformat": 4,
 "nbformat_minor": 5
}
