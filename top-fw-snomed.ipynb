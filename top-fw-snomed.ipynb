{
 "cells": [
  {
   "metadata": {},
   "cell_type": "code",
   "source": "%matplotlib inline",
   "id": "43d23cc1483a0041",
   "outputs": [],
   "execution_count": null
  },
  {
   "metadata": {},
   "cell_type": "markdown",
   "source": "### Parse and store SNOMED taxonomy",
   "id": "7d009551343be4df"
  },
  {
   "metadata": {},
   "cell_type": "code",
   "source": [
    "from rdflib.extras.external_graph_libs import *\n",
    "from rdflib import Graph\n",
    "import networkx as nx\n",
    "import pathlib"
   ],
   "id": "1b910e9bb8120c8e",
   "outputs": [],
   "execution_count": null
  },
  {
   "metadata": {},
   "cell_type": "code",
   "source": [
    "def node_to_id(node):\n",
    "    return node.split('/')[-1]"
   ],
   "id": "547f163aa3b9a45c",
   "outputs": [],
   "execution_count": null
  },
  {
   "metadata": {},
   "cell_type": "code",
   "source": [
    "path = pathlib.Path(\"./data/snomed_taxonomy.rdf\")\n",
    "\n",
    "# every node with 'http://snomed.info/id/SNOMED_ID' is child of 'http://www.w3.org/2002/07/owl#Class'\n",
    "# 'http://snomed.info/id/138875005' is top node --> SNOMED CT Concept (SNOMED RT+CTV3)\n",
    "# graph is directed in top direction (that is, a neighbor is/are only the direct parent(s))\n",
    "\n",
    "graph = Graph()\n",
    "graph.parse(path, format=\"application/rdf+xml\")\n",
    "nx_graph = rdflib_to_networkx_multidigraph(graph)\n",
    "\n",
    "id_node_mapping = {}\n",
    "for n in list(nx_graph.nodes()):\n",
    "    _id = node_to_id(n)\n",
    "    # Remove meta nodes (e.g. 'owl#Class') and top level node 'SNOMED CT Concept (SNOMED RT+CTV3)'\n",
    "    if (not _id.isnumeric()) or (node_to_id(n) == \"138875005\"):\n",
    "        nx_graph.remove_node(n)\n",
    "        continue\n",
    "    id_node_mapping[_id] = n"
   ],
   "id": "316bcb624612b973",
   "outputs": [],
   "execution_count": null
  },
  {
   "metadata": {},
   "cell_type": "code",
   "source": [
    "def id_to_node(snomed_id: str, mapping_dict: dict = id_node_mapping):\n",
    "    node = mapping_dict.get(snomed_id, None)\n",
    "    return node"
   ],
   "id": "ab56a32328a79324",
   "outputs": [],
   "execution_count": null
  },
  {
   "metadata": {},
   "cell_type": "code",
   "source": [
    "def parents_of_id(snomed_id: str, mapping_dict: dict = id_node_mapping):\n",
    "    for neighbor in nx_graph.neighbors(id_to_node(snomed_id, mapping_dict)):\n",
    "        _id = node_to_id(neighbor)\n",
    "        if not _id.isnumeric():\n",
    "            continue\n",
    "        yield _id"
   ],
   "id": "a27c3e4f69332914",
   "outputs": [],
   "execution_count": null
  },
  {
   "metadata": {},
   "cell_type": "code",
   "source": [
    "def children_of_id(snomed_id: str, mapping_dict: dict = id_node_mapping):\n",
    "    for predecessor in nx_graph.predecessors(id_to_node(snomed_id, mapping_dict)):\n",
    "        _id = node_to_id(predecessor)\n",
    "        if not _id.isnumeric():\n",
    "            continue\n",
    "        yield _id"
   ],
   "id": "76c404a89ba1f175",
   "outputs": [],
   "execution_count": null
  },
  {
   "metadata": {},
   "cell_type": "markdown",
   "source": [
    "---\n",
    "### Read SNOMED Interface Terminology"
   ],
   "id": "f45880b2dadc3141"
  },
  {
   "metadata": {},
   "cell_type": "code",
   "source": "import collections",
   "id": "edadd6e79c380b3e",
   "outputs": [],
   "execution_count": null
  },
  {
   "metadata": {},
   "cell_type": "code",
   "source": [
    "interface_terminology_path = pathlib.Path(\"./data/SCT-GIT_de_drugs_nlp.dat\")\n",
    "interface_terminology = collections.defaultdict(list)\n",
    "\n",
    "for line in interface_terminology_path.open('r', encoding='utf-8').readlines():\n",
    "    # first name in the resulting list for each entry is the preferred name\n",
    "    snomed_id, internal_id, concept_name, interface_name = line.strip().split(\"\\t\")\n",
    "    interface_terminology[snomed_id].append(interface_name)\n",
    "first_level_concepts = [node_to_id(n) for n in nx_graph.nodes() if\n",
    "                        nx_graph.out_degree(n) == 0 and node_to_id(n) in interface_terminology]"
   ],
   "id": "50abfa8fdde38e3e",
   "outputs": [],
   "execution_count": null
  },
  {
   "metadata": {},
   "cell_type": "code",
   "source": "len(interface_terminology)",
   "id": "96d0c21dd359828",
   "outputs": [],
   "execution_count": null
  },
  {
   "metadata": {},
   "cell_type": "code",
   "source": "len(id_node_mapping)",
   "id": "8995396379d6d41f",
   "outputs": [],
   "execution_count": null
  },
  {
   "metadata": {},
   "cell_type": "code",
   "source": "len(first_level_concepts)",
   "id": "7e05a5609fd86063",
   "outputs": [],
   "execution_count": null
  },
  {
   "metadata": {},
   "cell_type": "markdown",
   "source": [
    "---\n",
    "### Create/upload concepts to TOP FW"
   ],
   "id": "b424305c0a94105e"
  },
  {
   "metadata": {},
   "cell_type": "code",
   "source": [
    "import requests\n",
    "import uuid\n",
    "import json\n",
    "from  owlready2 import *\n",
    "from typing import Union\n",
    "from tqdm.autonotebook import tqdm"
   ],
   "id": "2c360d5ed83e00e6",
   "outputs": [],
   "execution_count": null
  },
  {
   "metadata": {},
   "cell_type": "code",
   "source": [
    "snomed_ontology_path = pathlib.Path(\"./data/snomed_ontology.owx\")\n",
    "snomed_ontology_graph = get_ontology(f\"file://{snomed_ontology_path}\").load()"
   ],
   "id": "b80d916f18cf3aa2",
   "outputs": [],
   "execution_count": null
  },
  {
   "metadata": {},
   "cell_type": "markdown",
   "source": [
    "#### Get Preferred Label by id:\n",
    "`labels = snomed_ontology_graph.search_one(iri = \"*40949007\").prefLabel`  \n",
    "Answer (e.g.):  \n",
    "`[locstr('Kingdom Fungi macroconidium', 'en'),`  \n",
    "` locstr('Makroconidium des Reichs Fungi', 'de')]`  \n",
    "\n",
    "Language:  \n",
    "`labels[0].lang`  \n",
    "String Form:  \n",
    "`str(labels[0])`"
   ],
   "id": "bbb5d0143f26a2d7"
  },
  {
   "metadata": {},
   "cell_type": "code",
   "source": [
    "def batched(iterable, n, *, strict=False):\n",
    "    # batched('ABCDEFG', 3) → ABC DEF G\n",
    "    if n < 1:\n",
    "        raise ValueError('n must be at least one')\n",
    "    iterator = iter(iterable)\n",
    "    while batch := tuple(itertools.islice(iterator, n)):\n",
    "        if strict and len(batch) != n:\n",
    "            raise ValueError('batched(): incomplete batch')\n",
    "        yield batch"
   ],
   "id": "764488c3fd07a5a5",
   "outputs": [],
   "execution_count": null
  },
  {
   "metadata": {},
   "cell_type": "code",
   "source": [
    "def get_fallback_entry(\n",
    "        id: str,\n",
    "        creation_dump: dict,\n",
    "        snomed_ontology: owlready2.Ontology,\n",
    "):\n",
    "    titles = snomed_ontology.search_one(iri=f\"*{id}\").prefLabel\n",
    "    creation_dump[\"missing_german_interface_terms\"].append(id)\n",
    "    return [\n",
    "        {\n",
    "            \"lang\": label.lang,\n",
    "            \"text\": str(label)\n",
    "        } for label in titles\n",
    "    ]"
   ],
   "id": "9ce71985d511139f",
   "outputs": [],
   "execution_count": null
  },
  {
   "metadata": {},
   "cell_type": "code",
   "source": [
    "def create_top_fw_concept(\n",
    "        concept_id: str,\n",
    "        concept_id_store: dict,\n",
    "        creation_dump: dict,\n",
    "        parent_id: Union[str, list] = None,\n",
    "        title_dict: dict = None,\n",
    "):\n",
    "    if concept_id not in creation_dump[\"top_id_store\"]:\n",
    "        _id = str(uuid.uuid4())\n",
    "        creation_dump[\"top_id_store\"][concept_id] = _id\n",
    "    else:\n",
    "        _id = creation_dump[\"top_id_store\"][concept_id]\n",
    "    \n",
    "    _is_interface_term = concept_id in concept_id_store\n",
    "    _data = {\n",
    "        \"entityType\": \"single_concept\",\n",
    "        \"id\": _id,\n",
    "        \"titles\": [\n",
    "            {\n",
    "                \"lang\": \"de\" if _is_interface_term else \"en\",\n",
    "                \"text\": concept_id_store[concept_id][0] if _is_interface_term else f\"No interface term: '{concept_id}'\",\n",
    "            }\n",
    "        ] if title_dict is None else title_dict,\n",
    "        \"codes\": [\n",
    "            {\n",
    "                \"uri\": f\"http://snomed.info/id/{concept_id}\",\n",
    "                \"codeSystem\": {\n",
    "                    \"uri\": \"http://snomed.info/id\",\n",
    "                    \"shortName\": \"SNOMED CT\"\n",
    "                },\n",
    "                \"code\": concept_id,\n",
    "            }\n",
    "        ] \n",
    "    }\n",
    "    \n",
    "    if _is_interface_term and len(concept_id_store[concept_id]) > 1:\n",
    "        _data[\"synonyms\"] = [\n",
    "            {\n",
    "                \"lang\": \"de\",\n",
    "                \"text\": syn\n",
    "            } for syn in concept_id_store[concept_id][1:]\n",
    "        ]\n",
    "        \n",
    "    if parent_id is not None:\n",
    "        parent_id = [parent_id] if isinstance(parent_id, str) else parent_id\n",
    "        add_list = []\n",
    "        for pid in parent_id:\n",
    "            add_list.append(\n",
    "                {\n",
    "                    \"entityType\": \"single_concept\",\n",
    "                    \"id\": creation_dump[\"top_id_store\"].get(pid)\n",
    "                }\n",
    "            )\n",
    "        if len(add_list) > 0:\n",
    "            _data[\"superConcepts\"] = add_list\n",
    "    \n",
    "    return _data"
   ],
   "id": "67a3ab74f762bdae",
   "outputs": [],
   "execution_count": null
  },
  {
   "metadata": {},
   "cell_type": "code",
   "source": [
    "def post_to_top_fw(post_data: Union[list, dict], post_api_token: str, organisation: str = \"imise\", repository: str = \"snomed_interface_terminology\"):\n",
    "    _endpoint_suffix = \"\" if isinstance(post_data, dict) else \"/bulk\"\n",
    "    request = requests.post(\n",
    "        url=f\"https://top.imise.uni-leipzig.de/api/{organisation}/{repository}/entity{_endpoint_suffix}\",\n",
    "        headers={\"Authorization\": \"Bearer \" + post_api_token},\n",
    "        json=post_data\n",
    "    )\n",
    "    return request"
   ],
   "id": "1b7682b75818cd5d",
   "outputs": [],
   "execution_count": null
  },
  {
   "metadata": {},
   "cell_type": "code",
   "source": [
    "username = input(\"Please give your TOP FW username: \")\n",
    "password = input(\"Please give your TOP FW password: \")\n",
    "api_token = requests.post(\n",
    "    url = \"https://top.imise.uni-leipzig.de/auth/realms/top-realm/protocol/openid-connect/token\",\n",
    "    data = {\n",
    "        \"client_id\": \"top-frontend\",\n",
    "        \"username\": username,\n",
    "        \"password\": password,\n",
    "        \"grant_type\": \"password\"\n",
    "    }\n",
    ")"
   ],
   "id": "e0865744a08a472d",
   "outputs": [],
   "execution_count": null
  },
  {
   "metadata": {},
   "cell_type": "code",
   "source": [
    "info_dump_path = \"./data/creation_dump_info.json\"\n",
    "post_array_path = \"./data/post_array.json\"\n",
    "\n",
    "creation_dump_info = json.load(pathlib.Path(info_dump_path).open('rb')) if pathlib.Path(info_dump_path).exists() else {\n",
    "    \"top_id_store\": {},\n",
    "    \"missing_german_interface_terms\": []\n",
    "}\n",
    "post_array = json.load(pathlib.Path(post_array_path).open('rb')) if pathlib.Path(post_array_path).exists() else collections.defaultdict(list)"
   ],
   "id": "d9ab9a5f5f132a67",
   "outputs": [],
   "execution_count": null
  },
  {
   "metadata": {},
   "cell_type": "code",
   "source": [
    "with tqdm(total=len(nx_graph)) as pbar:\n",
    "    for i, stratum in enumerate(nx.topological_generations(nx_graph.reverse(copy=True))):\n",
    "        pbar.set_description_str(f\"Stratum {str(i).zfill(2)}: \")\n",
    "        for node in stratum:\n",
    "            pbar.update(1)\n",
    "            _node_concept_id = node_to_id(node)\n",
    "            _snomed_pref_label = None\n",
    "            if _node_concept_id not in interface_terminology:\n",
    "                _snomed_pref_label = get_fallback_entry(id=_node_concept_id, creation_dump=creation_dump_info, snomed_ontology=snomed_ontology_graph)\n",
    "            _parents = None\n",
    "            if i > 0:\n",
    "                _parents = [node_to_id(x) for x in nx_graph[node]]\n",
    "            post_array[i].append(\n",
    "                create_top_fw_concept(_node_concept_id, interface_terminology, creation_dump_info, _parents, title_dict=_snomed_pref_label)\n",
    "            )\n",
    "json.dump(creation_dump_info, pathlib.Path(info_dump_path).open('w', encoding='utf-8'), ensure_ascii=False)\n",
    "json.dump(post_array, pathlib.Path(post_array_path).open('w', encoding='utf-8'), ensure_ascii=False)"
   ],
   "id": "7d0280ae1ab8c011",
   "outputs": [],
   "execution_count": null
  },
  {
   "metadata": {},
   "cell_type": "code",
   "source": "[p for p in post_array[3] if p.get(\"codes\", [{}])[0].get(\"code\") in creation_dump_info[\"missing_german_interface_terms\"]][:20]",
   "id": "6795284174fb740b",
   "outputs": [],
   "execution_count": null
  },
  {
   "metadata": {},
   "cell_type": "code",
   "source": "[p for p in post_array[3] if (p.get(\"titles\", [{}])[0].get(\"lang\") == \"de\") and (p.get(\"codes\", [{}])[0].get(\"code\") in creation_dump_info[\"missing_german_interface_terms\"])][:20]",
   "id": "6308d98487e38c55",
   "outputs": [],
   "execution_count": null
  },
  {
   "metadata": {},
   "cell_type": "code",
   "source": [
    "stratum = 1\n",
    "batch_size = 100\n",
    "with tqdm(total=len(post_array[stratum])) as pbar:\n",
    "    for batch in batched(post_array[stratum], batch_size):\n",
    "        response = post_to_top_fw(list(batch), api_token.json()['access_token'], repository=\"snomed_interface_terminology_mix\")\n",
    "        pbar.update(batch_size)\n",
    "        break"
   ],
   "id": "df987c5f9b1405bf",
   "outputs": [],
   "execution_count": null
  },
  {
   "metadata": {},
   "cell_type": "code",
   "source": "response.json()",
   "id": "b68558b12e6dd87a",
   "outputs": [],
   "execution_count": null
  },
  {
   "metadata": {},
   "cell_type": "code",
   "source": [
    "for stratum_n in range(1, 2):\n",
    "    print(f\"-- Stratum {stratum_n} --\")\n",
    "    for entity in tqdm(post_array[stratum_n]):\n",
    "        post_to_top_fw(entity, api_token.json()['access_token'], repository=\"snomed_interface_terminology_mix\")"
   ],
   "id": "561731087ce56550",
   "outputs": [],
   "execution_count": null
  },
  {
   "metadata": {},
   "cell_type": "markdown",
   "source": [
    "Enthält die SNOMED Interface Terminology (313.548 Konzepte) von Stefan Schulz.\n",
    "Contact: Stefan Schulz - stefan.schulz@medunigraz.at"
   ],
   "id": "a8cab568aad750ec"
  },
  {
   "metadata": {},
   "cell_type": "code",
   "source": "",
   "id": "dc944c7b01ca18fe",
   "outputs": [],
   "execution_count": null
  }
 ],
 "metadata": {
  "kernelspec": {
   "display_name": "Python 3",
   "language": "python",
   "name": "python3"
  },
  "language_info": {
   "codemirror_mode": {
    "name": "ipython",
    "version": 2
   },
   "file_extension": ".py",
   "mimetype": "text/x-python",
   "name": "python",
   "nbconvert_exporter": "python",
   "pygments_lexer": "ipython2",
   "version": "2.7.6"
  }
 },
 "nbformat": 4,
 "nbformat_minor": 5
}
