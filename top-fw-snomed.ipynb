{
 "cells": [
  {
   "metadata": {},
   "cell_type": "code",
   "source": [
    "from spacy.matcher.dependencymatcher import defaultdict\n",
    "%matplotlib inline"
   ],
   "id": "43d23cc1483a0041",
   "outputs": [],
   "execution_count": null
  },
  {
   "metadata": {},
   "cell_type": "markdown",
   "source": "### Parse and store SNOMED taxonomy",
   "id": "7d009551343be4df"
  },
  {
   "metadata": {},
   "cell_type": "code",
   "source": [
    "from rdflib.extras.external_graph_libs import *\n",
    "from rdflib import Graph\n",
    "import networkx as nx\n",
    "import pathlib"
   ],
   "id": "1b910e9bb8120c8e",
   "outputs": [],
   "execution_count": null
  },
  {
   "metadata": {},
   "cell_type": "code",
   "source": [
    "def node_to_id(node):\n",
    "    return node.split('/')[-1]"
   ],
   "id": "547f163aa3b9a45c",
   "outputs": [],
   "execution_count": null
  },
  {
   "metadata": {},
   "cell_type": "code",
   "source": [
    "path = pathlib.Path(\"./data/snomed_taxonomy.rdf\")\n",
    "\n",
    "# every node with 'http://snomed.info/id/SNOMED_ID' is child of 'http://www.w3.org/2002/07/owl#Class'\n",
    "# 'http://snomed.info/id/138875005' is top node --> SNOMED CT Concept (SNOMED RT+CTV3)\n",
    "# graph is directed in top direction (that is, a neighbor is/are only the direct parent(s))\n",
    "\n",
    "graph = Graph()\n",
    "graph.parse(path, format=\"application/rdf+xml\")\n",
    "nx_graph = rdflib_to_networkx_multidigraph(graph)\n",
    "\n",
    "id_node_mapping = {}\n",
    "for n in list(nx_graph.nodes()):\n",
    "    _id = node_to_id(n)\n",
    "    # Remove meta nodes (e.g. 'owl#Class') and top level node 'SNOMED CT Concept (SNOMED RT+CTV3)'\n",
    "    if (not _id.isnumeric()) or (node_to_id(n) == \"138875005\"):\n",
    "        nx_graph.remove_node(n)\n",
    "        continue\n",
    "    id_node_mapping[_id] = n"
   ],
   "id": "316bcb624612b973",
   "outputs": [],
   "execution_count": null
  },
  {
   "metadata": {},
   "cell_type": "code",
   "source": [
    "def id_to_node(snomed_id: str, mapping_dict: dict = id_node_mapping):\n",
    "    node = mapping_dict.get(snomed_id, None)\n",
    "    return node"
   ],
   "id": "ab56a32328a79324",
   "outputs": [],
   "execution_count": null
  },
  {
   "metadata": {},
   "cell_type": "code",
   "source": [
    "def parents_of_id(snomed_id: str, mapping_dict: dict = id_node_mapping):\n",
    "    for neighbor in nx_graph.neighbors(id_to_node(snomed_id, mapping_dict)):\n",
    "        _id = node_to_id(neighbor)\n",
    "        if not _id.isnumeric():\n",
    "            continue\n",
    "        yield _id"
   ],
   "id": "a27c3e4f69332914",
   "outputs": [],
   "execution_count": null
  },
  {
   "metadata": {},
   "cell_type": "code",
   "source": [
    "def children_of_id(snomed_id: str, mapping_dict: dict = id_node_mapping):\n",
    "    for predecessor in nx_graph.predecessors(id_to_node(snomed_id, mapping_dict)):\n",
    "        _id = node_to_id(predecessor)\n",
    "        if not _id.isnumeric():\n",
    "            continue\n",
    "        yield _id"
   ],
   "id": "76c404a89ba1f175",
   "outputs": [],
   "execution_count": null
  },
  {
   "metadata": {},
   "cell_type": "markdown",
   "source": [
    "---\n",
    "### Read SNOMED Interface Terminology"
   ],
   "id": "f45880b2dadc3141"
  },
  {
   "metadata": {},
   "cell_type": "code",
   "source": "import collections",
   "id": "edadd6e79c380b3e",
   "outputs": [],
   "execution_count": null
  },
  {
   "metadata": {},
   "cell_type": "code",
   "source": [
    "interface_terminology_path = pathlib.Path(\"./data/SCT-GIT_de_drugs_nlp.dat\")\n",
    "interface_terminology = collections.defaultdict(list)\n",
    "\n",
    "for line in interface_terminology_path.open('r', encoding='utf-8').readlines():\n",
    "    # first name in the resulting list for each entry is the preferred name\n",
    "    snomed_id, internal_id, concept_name, interface_name = line.strip().split(\"\\t\")\n",
    "    interface_terminology[snomed_id].append(interface_name)\n",
    "first_level_concepts = [node_to_id(n) for n in nx_graph.nodes() if\n",
    "                        nx_graph.out_degree(n) == 0 and node_to_id(n) in interface_terminology]"
   ],
   "id": "50abfa8fdde38e3e",
   "outputs": [],
   "execution_count": null
  },
  {
   "metadata": {},
   "cell_type": "code",
   "source": "len(interface_terminology)",
   "id": "96d0c21dd359828",
   "outputs": [],
   "execution_count": null
  },
  {
   "metadata": {},
   "cell_type": "code",
   "source": "len(id_node_mapping)",
   "id": "8995396379d6d41f",
   "outputs": [],
   "execution_count": null
  },
  {
   "metadata": {},
   "cell_type": "code",
   "source": "len(first_level_concepts)",
   "id": "7e05a5609fd86063",
   "outputs": [],
   "execution_count": null
  },
  {
   "metadata": {},
   "cell_type": "markdown",
   "source": [
    "---\n",
    "### Create/upload concepts to TOP FW"
   ],
   "id": "b424305c0a94105e"
  },
  {
   "metadata": {},
   "cell_type": "code",
   "source": [
    "import requests\n",
    "import uuid\n",
    "import pickle\n",
    "import itertools\n",
    "from typing import Union\n",
    "from tqdm.autonotebook import tqdm"
   ],
   "id": "2c360d5ed83e00e6",
   "outputs": [],
   "execution_count": null
  },
  {
   "metadata": {},
   "cell_type": "code",
   "source": [
    "def batched(iterable, n, *, strict=False):\n",
    "    # batched('ABCDEFG', 3) → ABC DEF G\n",
    "    if n < 1:\n",
    "        raise ValueError('n must be at least one')\n",
    "    iterator = iter(iterable)\n",
    "    while batch := tuple(itertools.islice(iterator, n)):\n",
    "        if strict and len(batch) != n:\n",
    "            raise ValueError('batched(): incomplete batch')\n",
    "        yield batch"
   ],
   "id": "764488c3fd07a5a5",
   "outputs": [],
   "execution_count": null
  },
  {
   "metadata": {
    "ExecuteTime": {
     "end_time": "2024-11-15T08:59:19.935243Z",
     "start_time": "2024-11-15T08:59:19.903994Z"
    }
   },
   "cell_type": "code",
   "source": [
    "dummy_parent_ids = {}\n",
    "def create_dummy_parent(stratum: int, dummy_ids: dict):\n",
    "    # We need categories for each stratum that can contain concepts which have a parent that isn't represented in the interface terminology\n",
    "    if stratum not in dummy_ids:\n",
    "        _id = str(uuid.uuid4())\n",
    "        dummy_ids[stratum] = _id\n",
    "    else:\n",
    "        _id = dummy_ids[stratum]\n",
    "        \n",
    "    return_dict = {\n",
    "        \"entityType\": \"single_concept\",\n",
    "        \"id\": dummy_ids[stratum],\n",
    "        \"titles\": [\n",
    "            {\n",
    "                \"lang\": \"de\",\n",
    "                \"text\": f\"Dummy Category for Stratum {stratum}\"\n",
    "            }\n",
    "        ],\n",
    "    }\n",
    "    if stratum > 0:\n",
    "        return_dict[\"superConcepts\"] = [\n",
    "            {\n",
    "                \"entityType\": \"single_concept\",\n",
    "                \"id\": dummy_ids.get(stratum - 1)\n",
    "            }\n",
    "        ]\n",
    "    return return_dict\n",
    "\n",
    "def create_top_fw_concept(\n",
    "        concept_id: str,\n",
    "        concept_id_store: dict,\n",
    "        top_id_store: dict,\n",
    "        dummy_ids: dict,\n",
    "        stratum: int,\n",
    "        parent_id: Union[str, list] = None\n",
    "):\n",
    "    if concept_id not in top_id_store:\n",
    "        _id = str(uuid.uuid4())\n",
    "        top_id_store[concept_id] = _id\n",
    "    else:\n",
    "        _id = top_id_store[concept_id]\n",
    "        \n",
    "    _data = {\n",
    "        \"entityType\": \"single_concept\",\n",
    "        \"id\": _id,\n",
    "        \"titles\": [\n",
    "            {\n",
    "                \"lang\": \"de\",\n",
    "                \"text\": concept_id_store[concept_id][0]\n",
    "            }\n",
    "        ],\n",
    "        \"codes\": [\n",
    "            {\n",
    "                \"uri\": f\"http://snomed.info/id/{concept_id}\",\n",
    "                \"codeSystem\": {\n",
    "                    \"uri\": \"http://snomed.info/id\",\n",
    "                    \"shortName\": \"SNOMED CT\"\n",
    "                },\n",
    "                \"code\": concept_id,\n",
    "            }\n",
    "        ] \n",
    "    }\n",
    "    \n",
    "    if len(concept_id_store[concept_id]) > 1:\n",
    "        _data[\"synonyms\"] = [\n",
    "            {\n",
    "                \"lang\": \"de\",\n",
    "                \"text\": syn\n",
    "            } for syn in concept_id_store[concept_id][1:]\n",
    "        ]\n",
    "        \n",
    "    if parent_id is not None:\n",
    "        parent_id = [parent_id] if isinstance(parent_id, str) else parent_id\n",
    "        add_list = []\n",
    "        for pid in parent_id:\n",
    "            if not (pid in concept_id_store and pid in top_id_store):\n",
    "                continue\n",
    "            add_list.append(\n",
    "                {\n",
    "                    \"entityType\": \"single_concept\",\n",
    "                    \"id\": top_id_store.get(pid)\n",
    "                }\n",
    "            )\n",
    "        if len(add_list) > 0:\n",
    "            _data[\"superConcepts\"] = add_list\n",
    "        else:\n",
    "            _data[\"superConcepts\"] = [\n",
    "                {\n",
    "                    \"entityType\": \"single_concept\",\n",
    "                    \"id\": dummy_ids.get(stratum - 1)\n",
    "                }\n",
    "            ]\n",
    "    \n",
    "    return _data"
   ],
   "id": "67a3ab74f762bdae",
   "outputs": [],
   "execution_count": 58
  },
  {
   "metadata": {},
   "cell_type": "code",
   "source": [
    "def post_to_top_fw(post_data: Union[list, dict], post_api_token: str, organisation: str = \"imise\", repository: str = \"snomed_interface_terminology\"):\n",
    "    _endpoint_suffix = \"\" if isinstance(post_data, dict) else \"/bulk\"\n",
    "    request = requests.post(\n",
    "        url=f\"https://top.imise.uni-leipzig.de/api/{organisation}/{repository}/entity{_endpoint_suffix}\",\n",
    "        headers={\"Authorization\": \"Bearer \" + post_api_token},\n",
    "        json=post_data\n",
    "    )\n",
    "    return request"
   ],
   "id": "1b7682b75818cd5d",
   "outputs": [],
   "execution_count": null
  },
  {
   "metadata": {},
   "cell_type": "code",
   "source": [
    "username = input(\"Please give your TOP FW username: \")\n",
    "password = input(\"Please give your TOP FW password: \")\n",
    "api_token = requests.post(\n",
    "    url = \"https://top.imise.uni-leipzig.de/auth/realms/top-realm/protocol/openid-connect/token\",\n",
    "    data = {\n",
    "        \"client_id\": \"top-frontend\",\n",
    "        \"username\": username,\n",
    "        \"password\": password,\n",
    "        \"grant_type\": \"password\"\n",
    "    }\n",
    ")"
   ],
   "id": "e0865744a08a472d",
   "outputs": [],
   "execution_count": null
  },
  {
   "metadata": {
    "ExecuteTime": {
     "end_time": "2024-11-15T08:59:34.254663Z",
     "start_time": "2024-11-15T08:59:34.205902Z"
    }
   },
   "cell_type": "code",
   "source": [
    "pickle_path = \"./data/snomed_concept_to_top_id.pickle\"\n",
    "snomed_concept_to_top_id = pickle.load(pathlib.Path(pickle_path).open('rb')) if pathlib.Path(pickle_path).exists() else {}"
   ],
   "id": "d9ab9a5f5f132a67",
   "outputs": [],
   "execution_count": 59
  },
  {
   "metadata": {
    "ExecuteTime": {
     "end_time": "2024-11-15T09:00:29.115553Z",
     "start_time": "2024-11-15T08:59:45.557803Z"
    }
   },
   "cell_type": "code",
   "source": [
    "post_array = defaultdict(list)\n",
    "with tqdm(total=len(nx_graph)) as pbar:\n",
    "    for i, stratum in enumerate(nx.topological_generations(nx_graph.reverse(copy=True))):\n",
    "        pbar.set_description_str(f\"Strata {str(i).zfill(2)}: \")\n",
    "        post_array[i].append(create_dummy_parent(i, dummy_parent_ids))\n",
    "        for node in stratum:\n",
    "            pbar.update(1)\n",
    "            _node_concept_id = node_to_id(node)\n",
    "            if _node_concept_id not in interface_terminology:\n",
    "                continue\n",
    "            _parents = None\n",
    "            if i > 0:\n",
    "                _parents = [node_to_id(x) for x in nx_graph[node]]\n",
    "            post_array[i].append(\n",
    "                create_top_fw_concept(_node_concept_id, interface_terminology, snomed_concept_to_top_id, dummy_parent_ids, i, _parents)\n",
    "            )\n",
    "#pickle.dump(snomed_concept_to_top_id, pathlib.Path(pickle_path).open('wb'))"
   ],
   "id": "7d0280ae1ab8c011",
   "outputs": [
    {
     "data": {
      "text/plain": [
       "  0%|          | 0/366789 [00:00<?, ?it/s]"
      ],
      "application/vnd.jupyter.widget-view+json": {
       "version_major": 2,
       "version_minor": 0,
       "model_id": "bfe78ce1421b486fa5113cdf240e1df6"
      }
     },
     "metadata": {},
     "output_type": "display_data"
    }
   ],
   "execution_count": 60
  },
  {
   "metadata": {
    "ExecuteTime": {
     "end_time": "2024-11-15T09:01:29.253677Z",
     "start_time": "2024-11-15T09:01:29.191687Z"
    }
   },
   "cell_type": "code",
   "source": "[x for x in post_array[1] if \"Dummy\" in x[\"titles\"][0][\"text\"]]",
   "id": "53c4b47d07f10008",
   "outputs": [
    {
     "data": {
      "text/plain": [
       "[{'entityType': 'single_concept',\n",
       "  'id': '58d3c952-f8bb-415f-9441-5abacda26b82',\n",
       "  'titles': [{'lang': 'de', 'text': 'Dummy Category for Stratum 1'}],\n",
       "  'superConcepts': [{'entityType': 'single_concept',\n",
       "    'id': 'f333aa6f-8de3-4a95-942f-f4e1a885307f'}]}]"
      ]
     },
     "execution_count": 61,
     "metadata": {},
     "output_type": "execute_result"
    }
   ],
   "execution_count": 61
  },
  {
   "metadata": {
    "ExecuteTime": {
     "end_time": "2024-11-15T09:02:12.587230Z",
     "start_time": "2024-11-15T09:02:12.560064Z"
    }
   },
   "cell_type": "code",
   "source": "[x for x in post_array[0] if \"f333aa6f-8de3-4a95-942f-f4e1a885307f\" in x[\"id\"]]",
   "id": "d2084c83538ae708",
   "outputs": [
    {
     "data": {
      "text/plain": [
       "[{'entityType': 'single_concept',\n",
       "  'id': 'f333aa6f-8de3-4a95-942f-f4e1a885307f',\n",
       "  'titles': [{'lang': 'de', 'text': 'Dummy Category for Stratum 0'}]}]"
      ]
     },
     "execution_count": 62,
     "metadata": {},
     "output_type": "execute_result"
    }
   ],
   "execution_count": 62
  },
  {
   "metadata": {},
   "cell_type": "code",
   "source": [
    "stratum = 1\n",
    "batch_size = 100\n",
    "with tqdm(total=len(post_array[stratum])) as pbar:\n",
    "    for batch in batched(post_array[stratum], batch_size):\n",
    "        post_to_top_fw(list(batch), api_token.json()['access_token'])\n",
    "        pbar.update(batch_size)"
   ],
   "id": "df987c5f9b1405bf",
   "outputs": [],
   "execution_count": null
  },
  {
   "metadata": {
    "jupyter": {
     "is_executing": true
    },
    "ExecuteTime": {
     "start_time": "2024-11-15T09:55:57.166335Z"
    }
   },
   "cell_type": "code",
   "source": [
    "for stratum_n in range(5, len(post_array)):\n",
    "    print(f\"-- Stratum {stratum_n} --\")\n",
    "    for entity in tqdm(post_array[stratum_n]):\n",
    "        post_to_top_fw(entity, api_token.json()['access_token'])"
   ],
   "id": "561731087ce56550",
   "outputs": [
    {
     "name": "stdout",
     "output_type": "stream",
     "text": [
      "-- Stratum 5 --\n"
     ]
    },
    {
     "data": {
      "text/plain": [
       "  0%|          | 0/29739 [00:00<?, ?it/s]"
      ],
      "application/vnd.jupyter.widget-view+json": {
       "version_major": 2,
       "version_minor": 0,
       "model_id": "bcfb968c30ca4e93aad02c2a2386bf28"
      }
     },
     "metadata": {},
     "output_type": "display_data"
    }
   ],
   "execution_count": null
  }
 ],
 "metadata": {
  "kernelspec": {
   "display_name": "Python 3",
   "language": "python",
   "name": "python3"
  },
  "language_info": {
   "codemirror_mode": {
    "name": "ipython",
    "version": 2
   },
   "file_extension": ".py",
   "mimetype": "text/x-python",
   "name": "python",
   "nbconvert_exporter": "python",
   "pygments_lexer": "ipython2",
   "version": "2.7.6"
  }
 },
 "nbformat": 4,
 "nbformat_minor": 5
}
