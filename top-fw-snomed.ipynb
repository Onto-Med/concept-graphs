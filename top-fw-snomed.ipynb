{
 "cells": [
  {
   "metadata": {},
   "cell_type": "code",
   "outputs": [],
   "execution_count": null,
   "source": "%matplotlib inline",
   "id": "43d23cc1483a0041"
  },
  {
   "metadata": {},
   "cell_type": "markdown",
   "source": "### Parse and store SNOMED taxonomy",
   "id": "7d009551343be4df"
  },
  {
   "metadata": {
    "ExecuteTime": {
     "end_time": "2024-11-12T14:38:17.074833Z",
     "start_time": "2024-11-12T14:38:17.067850Z"
    }
   },
   "cell_type": "code",
   "source": [
    "from rdflib.extras.external_graph_libs import *\n",
    "from rdflib import Graph, URIRef, Literal\n",
    "import networkx as nx\n",
    "import pathlib"
   ],
   "id": "1b910e9bb8120c8e",
   "outputs": [],
   "execution_count": 35
  },
  {
   "metadata": {
    "ExecuteTime": {
     "end_time": "2024-11-12T15:49:29.124777Z",
     "start_time": "2024-11-12T15:49:29.109214Z"
    }
   },
   "cell_type": "code",
   "source": [
    "def node_to_id(node):\n",
    "    return node.split('/')[-1]"
   ],
   "id": "547f163aa3b9a45c",
   "outputs": [],
   "execution_count": 68
  },
  {
   "metadata": {
    "ExecuteTime": {
     "end_time": "2024-11-12T15:27:11.203446Z",
     "start_time": "2024-11-12T15:25:32.649398Z"
    }
   },
   "cell_type": "code",
   "source": [
    "path = pathlib.Path(\"./data/snomed_taxonomy.rdf\")\n",
    "\n",
    "# every node with 'http://snomed.info/id/SNOMED_ID' is child of 'http://www.w3.org/2002/07/owl#Class'\n",
    "# 'http://snomed.info/id/138875005' is top node --> SNOMED CT Concept (SNOMED RT+CTV3)\n",
    "# graph is directed in top direction (that is, a neighbor is/are only the direct parent(s))\n",
    "\n",
    "graph = Graph()\n",
    "graph.parse(path, format=\"application/rdf+xml\")\n",
    "nx_graph = rdflib_to_networkx_multidigraph(graph)\n",
    "\n",
    "id_node_mapping = {}\n",
    "for n in list(nx_graph.nodes()):\n",
    "    _id = node_to_id(n)\n",
    "    if not _id.isnumeric():\n",
    "        continue\n",
    "    id_node_mapping[_id] = n"
   ],
   "id": "316bcb624612b973",
   "outputs": [],
   "execution_count": 52
  },
  {
   "metadata": {
    "ExecuteTime": {
     "end_time": "2024-11-12T15:45:50.011151Z",
     "start_time": "2024-11-12T15:45:49.989260Z"
    }
   },
   "cell_type": "code",
   "source": [
    "def id_to_node(snomed_id: str, mapping_dict: dict = id_node_mapping):\n",
    "    node = mapping_dict.get(snomed_id, None)\n",
    "    return node"
   ],
   "id": "ab56a32328a79324",
   "outputs": [],
   "execution_count": 67
  },
  {
   "metadata": {
    "ExecuteTime": {
     "end_time": "2024-11-12T15:51:20.295360Z",
     "start_time": "2024-11-12T15:51:20.286007Z"
    }
   },
   "cell_type": "code",
   "source": [
    "def parents_of_id(snomed_id: str, mapping_dict: dict = id_node_mapping):\n",
    "    for neighbor in nx_graph.neighbors(id_to_node(snomed_id, mapping_dict)):\n",
    "        _id = node_to_id(neighbor)\n",
    "        if not _id.isnumeric():\n",
    "            continue\n",
    "        yield _id    "
   ],
   "id": "a27c3e4f69332914",
   "outputs": [],
   "execution_count": 71
  },
  {
   "metadata": {},
   "cell_type": "markdown",
   "source": [
    "---\n",
    "### Read SNOMED Interface Terminology"
   ],
   "id": "f45880b2dadc3141"
  },
  {
   "metadata": {
    "ExecuteTime": {
     "end_time": "2024-11-12T16:00:47.224672Z",
     "start_time": "2024-11-12T16:00:47.206358Z"
    }
   },
   "cell_type": "code",
   "source": "import collections",
   "id": "edadd6e79c380b3e",
   "outputs": [],
   "execution_count": 73
  },
  {
   "metadata": {
    "ExecuteTime": {
     "end_time": "2024-11-12T16:03:47.245767Z",
     "start_time": "2024-11-12T16:03:30.250642Z"
    }
   },
   "cell_type": "code",
   "source": [
    "interface_terminology_path = pathlib.Path(\"./data/SCT-GIT_de_drugs_nlp.dat\")\n",
    "interface_terminology = collections.defaultdict(list)\n",
    "\n",
    "for line in interface_terminology_path.open('r', encoding='utf-8').readlines():\n",
    "    # first name in the resulting list for each entry is the preferred name\n",
    "    snomed_id, internal_id, concept_name, interface_name = line.strip().split(\"\\t\")\n",
    "    interface_terminology[snomed_id].append(interface_name)"
   ],
   "id": "50abfa8fdde38e3e",
   "outputs": [],
   "execution_count": 78
  },
  {
   "metadata": {
    "ExecuteTime": {
     "end_time": "2024-11-12T16:09:46.107056Z",
     "start_time": "2024-11-12T16:09:46.085797Z"
    }
   },
   "cell_type": "code",
   "source": "len(interface_terminology)",
   "id": "96d0c21dd359828",
   "outputs": [
    {
     "data": {
      "text/plain": [
       "313548"
      ]
     },
     "execution_count": 81,
     "metadata": {},
     "output_type": "execute_result"
    }
   ],
   "execution_count": 81
  },
  {
   "metadata": {
    "ExecuteTime": {
     "end_time": "2024-11-12T16:10:07.762855Z",
     "start_time": "2024-11-12T16:10:07.743717Z"
    }
   },
   "cell_type": "code",
   "source": "len(id_node_mapping)",
   "id": "8995396379d6d41f",
   "outputs": [
    {
     "data": {
      "text/plain": [
       "366790"
      ]
     },
     "execution_count": 82,
     "metadata": {},
     "output_type": "execute_result"
    }
   ],
   "execution_count": 82
  },
  {
   "metadata": {
    "ExecuteTime": {
     "end_time": "2024-11-12T16:14:32.731676Z",
     "start_time": "2024-11-12T16:14:32.709512Z"
    }
   },
   "cell_type": "code",
   "source": "interface_terminology[\"764084004\"]",
   "id": "1855246653de3437",
   "outputs": [
    {
     "data": {
      "text/plain": [
       "['genetically modifizierte T-Zelle',\n",
       " 'genetically modifizierter T-Lymphozyt',\n",
       " 'genetically geänderte T-Zelle',\n",
       " 'genetically geänderter T-Lymphozyt']"
      ]
     },
     "execution_count": 85,
     "metadata": {},
     "output_type": "execute_result"
    }
   ],
   "execution_count": 85
  },
  {
   "metadata": {
    "ExecuteTime": {
     "end_time": "2024-11-12T16:16:57.075997Z",
     "start_time": "2024-11-12T16:16:57.068904Z"
    }
   },
   "cell_type": "code",
   "source": [
    "concept = \"764084004\"\n",
    "print(interface_terminology.get(concept))\n",
    "for i in parents_of_id(concept):\n",
    "    print(interface_terminology.get(i))"
   ],
   "id": "a1898648ba3ffc61",
   "outputs": [
    {
     "name": "stdout",
     "output_type": "stream",
     "text": [
      "['genetically modifizierte T-Zelle', 'genetically modifizierter T-Lymphozyt', 'genetically geänderte T-Zelle', 'genetically geänderter T-Lymphozyt']\n",
      "['immunologische Substanz']\n",
      "['Medikament', 'Arzneimittel', 'Arznei', 'Wirkstoff oder Arzneimittel', 'pharmakologische Substanz']\n"
     ]
    }
   ],
   "execution_count": 91
  },
  {
   "metadata": {},
   "cell_type": "markdown",
   "source": [
    "---\n",
    "### Create/upload concepts to TOP FW"
   ],
   "id": "b424305c0a94105e"
  },
  {
   "metadata": {},
   "cell_type": "code",
   "outputs": [],
   "execution_count": null,
   "source": [
    "# Entity Model to be uploaded to TOP FW\n",
    "{\n",
    "    \"entityType\": \"single_concept\",\n",
    "    \"id\": \"SNOMED_ID?\",\n",
    "    \"titles\": [\n",
    "        {\n",
    "            \"language\": \"de\",\n",
    "            \"text\": \"INTERFACE_NAME_PREFERRED\"\n",
    "        }\n",
    "    ],\n",
    "    \"synonyms\": [\n",
    "        {\n",
    "            \"language\": \"de\",\n",
    "            \"text\": \"INTERFACE_NAME_next\"\n",
    "        },\n",
    "        ...\n",
    "    ],\n",
    "    \"codes\": [\n",
    "        {\n",
    "            \"codeSystem\": {\n",
    "                \"uri\": \"http://snomed.info/id\"\n",
    "            },\n",
    "            \"code\": \"SNOMED_ID\",\n",
    "        }\n",
    "    ],\n",
    "    \"superConcepts\": [\n",
    "        \n",
    "    ]\n",
    "}"
   ],
   "id": "645f1849de269f69"
  }
 ],
 "metadata": {
  "kernelspec": {
   "display_name": "Python 3",
   "language": "python",
   "name": "python3"
  },
  "language_info": {
   "codemirror_mode": {
    "name": "ipython",
    "version": 2
   },
   "file_extension": ".py",
   "mimetype": "text/x-python",
   "name": "python",
   "nbconvert_exporter": "python",
   "pygments_lexer": "ipython2",
   "version": "2.7.6"
  }
 },
 "nbformat": 4,
 "nbformat_minor": 5
}
