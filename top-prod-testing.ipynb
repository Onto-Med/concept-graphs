{
 "cells": [
  {
   "cell_type": "code",
   "id": "initial_id",
   "metadata": {
    "collapsed": true,
    "ExecuteTime": {
     "end_time": "2025-04-28T07:47:49.288368Z",
     "start_time": "2025-04-28T07:47:46.949184Z"
    }
   },
   "source": [
    "import sys\n",
    "import pathlib\n",
    "import pickle\n",
    "from sklearn.cluster import MiniBatchKMeans, KMeans"
   ],
   "outputs": [],
   "execution_count": 1
  },
  {
   "metadata": {
    "ExecuteTime": {
     "end_time": "2025-04-28T07:48:14.808737Z",
     "start_time": "2025-04-28T07:47:49.602637Z"
    }
   },
   "cell_type": "code",
   "source": [
    "sys.path.insert(0, \"src\")\n",
    "import data_functions\n",
    "import embedding_functions\n",
    "import cluster_functions\n",
    "import graph_functions\n",
    "import util_functions"
   ],
   "id": "5bf5902f14902fb8",
   "outputs": [
    {
     "name": "stderr",
     "output_type": "stream",
     "text": [
      "C:\\Users\\fra3066mat\\PycharmProjects\\concept-graphs\\src\\data_functions.py:14: TqdmWarning: IProgress not found. Please update jupyter and ipywidgets. See https://ipywidgets.readthedocs.io/en/stable/user_install.html\n",
      "  from tqdm.autonotebook import tqdm\n"
     ]
    },
    {
     "name": "stdout",
     "output_type": "stream",
     "text": [
      "WARNING:tensorflow:From C:\\Users\\fra3066mat\\.conda\\envs\\concept-graphs\\lib\\site-packages\\keras\\src\\losses.py:2976: The name tf.losses.sparse_softmax_cross_entropy is deprecated. Please use tf.compat.v1.losses.sparse_softmax_cross_entropy instead.\n",
      "\n"
     ]
    }
   ],
   "execution_count": 2
  },
  {
   "metadata": {
    "ExecuteTime": {
     "end_time": "2025-04-28T07:48:14.839277Z",
     "start_time": "2025-04-28T07:48:14.826067Z"
    }
   },
   "cell_type": "code",
   "source": "path_name = lambda x: f\"./tmp/grascco_lokal/grascco_lokal_{x}.pickle\"",
   "id": "5ad22e94561c46a8",
   "outputs": [],
   "execution_count": 3
  },
  {
   "metadata": {},
   "cell_type": "code",
   "source": [
    "grascco_data = data_functions.DataProcessingFactory.load(\n",
    "    pathlib.Path(path_name(\"data\"))\n",
    ")"
   ],
   "id": "5d081649f0da57de",
   "outputs": [],
   "execution_count": null
  },
  {
   "metadata": {
    "ExecuteTime": {
     "end_time": "2025-04-28T07:54:38.626012Z",
     "start_time": "2025-04-28T07:54:32.447011Z"
    }
   },
   "cell_type": "code",
   "source": [
    "grascco_embedding = embedding_functions.SentenceEmbeddingsFactory.load(\n",
    "    pathlib.Path(path_name(\"data\")),\n",
    "    pathlib.Path(path_name(\"embedding\"))\n",
    ")"
   ],
   "id": "7c4f0091319a736b",
   "outputs": [],
   "execution_count": 5
  },
  {
   "metadata": {
    "ExecuteTime": {
     "end_time": "2025-04-28T07:48:18.107926Z",
     "start_time": "2025-04-28T07:48:14.856477Z"
    }
   },
   "cell_type": "code",
   "source": [
    "grascco_cluster = cluster_functions.PhraseClusterFactory.load(\n",
    "    pathlib.Path(path_name(\"clustering\")),\n",
    ")"
   ],
   "id": "e4c6cf74cdfd998e",
   "outputs": [],
   "execution_count": 4
  },
  {
   "metadata": {},
   "cell_type": "code",
   "source": [
    "#_clustering_cache = pathlib.Path(\"./tmp/test_grascco_cluster_cache.pickle\")\n",
    "# grascco_cluster = cluster_functions.PhraseClusterFactory.create(\n",
    "#     sentence_embeddings=grascco_embedding,\n",
    "#     cache_path=_clustering_cache,\n",
    "#     cache_name=\"grascco\",\n",
    "#     cluster_algorithm=\"kmeans\",\n",
    "#     # kelbow_metric=\"silhouette\",\n",
    "#     kelbow_k=(10,50),\n",
    "#     kelbow_estimator=\"kmeans-mb\",\n",
    "# )"
   ],
   "id": "7f84ed3ed2a39866",
   "outputs": [],
   "execution_count": null
  },
  {
   "metadata": {},
   "cell_type": "markdown",
   "source": "---",
   "id": "affe6067cc05b4ca"
  },
  {
   "metadata": {},
   "cell_type": "code",
   "source": [
    "import matplotlib.pyplot as plt\n",
    "import numpy as np\n",
    "from sklearn.preprocessing import MinMaxScaler, PolynomialFeatures\n",
    "from sklearn.utils.random import sample_without_replacement\n",
    "from sklearn.linear_model import LinearRegression\n",
    "from umap import UMAP\n",
    "from yellowbrick.cluster import kelbow_visualizer"
   ],
   "id": "e03e89d2a7b05459",
   "outputs": [],
   "execution_count": null
  },
  {
   "metadata": {},
   "cell_type": "code",
   "source": [
    "def fit_regression(x_reg, y_reg, degree=3, k_min=2):\n",
    "    poly = PolynomialFeatures(degree=degree)\n",
    "    x_poly = poly.fit_transform(np.asarray(x_reg).reshape(-1,1))\n",
    "\n",
    "    model = LinearRegression()\n",
    "    model.fit(x_poly, np.asarray(y_reg))\n",
    "    \n",
    "    x_lin = np.linspace(np.asarray(x_reg).min(), np.asarray(x_reg).max(), 100)\n",
    "    x_out = poly.transform(x_lin.reshape(-1,1))\n",
    "    y_out = model.predict(x_out)\n",
    "    x_reg = list(range(k_min)) + x_reg\n",
    "    max_reg = np.asarray(x_reg)[np.argmax(y_out)]\n",
    "    \n",
    "    return x_lin, y_out, max_reg"
   ],
   "id": "df7aa0522236b7d7",
   "outputs": [],
   "execution_count": null
  },
  {
   "metadata": {},
   "cell_type": "code",
   "source": [
    "_umap_params = {'n_neighbors': 50, 'metric':'cosine', 'min_dist':0.0,}\n",
    "umap = UMAP(n_components=2, **_umap_params)\n",
    "projection_umap_vis = umap.fit_transform(grascco_embedding.sentence_embeddings)\n",
    "umap = UMAP(n_components=100, **_umap_params)\n",
    "projection_umap_calc = umap.fit_transform(grascco_embedding.sentence_embeddings)"
   ],
   "id": "5168b2902655614c",
   "outputs": [],
   "execution_count": null
  },
  {
   "metadata": {},
   "cell_type": "code",
   "source": "projection_umap_calc",
   "id": "28f099b3c54262d2",
   "outputs": [],
   "execution_count": null
  },
  {
   "metadata": {},
   "cell_type": "code",
   "source": [
    "n_samples = 15\n",
    "sample_fraction = 25\n",
    "samples = []\n",
    "for i in range(n_samples):\n",
    "    samples.append(sample_without_replacement(projection_umap_vis.shape[0], int(projection_umap_vis.shape[0]/sample_fraction)))\n",
    "mms = MinMaxScaler().fit(projection_umap_vis)"
   ],
   "id": "9422edfef12b206c",
   "outputs": [],
   "execution_count": null
  },
  {
   "metadata": {},
   "cell_type": "code",
   "source": [
    "i = 0\n",
    "_, axs = plt.subplots(3,5, sharex=True, sharey=True)\n",
    "for _c in np.random.rand(n_samples,3):\n",
    "    x = i%3\n",
    "    y = i%5\n",
    "    axs[x,y].scatter(*mms.transform(projection_umap_vis[samples[i]]).T, s=5, color=_c)\n",
    "    i += 1\n",
    "plt.show()"
   ],
   "id": "1a636dcd31541e53",
   "outputs": [],
   "execution_count": null
  },
  {
   "metadata": {},
   "cell_type": "code",
   "source": [
    "k_min = 2\n",
    "kelbow = []\n",
    "for _sample in samples:\n",
    "    _kelbow = kelbow_visualizer(\n",
    "        model=MiniBatchKMeans(n_init='auto'),\n",
    "        X=projection_umap_calc[_sample],\n",
    "        show=False,\n",
    "        k=(k_min,100),\n",
    "        metric='silhouette'\n",
    "    )\n",
    "    kelbow.append(_kelbow)\n"
   ],
   "id": "cf5c865179fd9242",
   "outputs": [],
   "execution_count": null
  },
  {
   "metadata": {},
   "cell_type": "code",
   "source": [
    "kelbow_val = kelbow[2]\n",
    "\n",
    "x_vals, y_regression, max_regression = fit_regression(kelbow_val.k_values_, kelbow_val.k_scores_, 5)\n",
    "plt.scatter(np.asarray(kelbow_val.k_values_).reshape(-1,1), np.asarray(kelbow_val.k_scores_), color='blue')\n",
    "plt.plot(x_vals, y_regression, color='red')\n",
    "plt.title(f\"Maximum: {max_regression}\")\n",
    "plt.show()"
   ],
   "id": "981c89f3a689f83a",
   "outputs": [],
   "execution_count": null
  },
  {
   "metadata": {},
   "cell_type": "code",
   "source": [
    "_elbow_max = []\n",
    "for _kelbow in kelbow:\n",
    "    x_vals, y_regression, max_regression = fit_regression(_kelbow.k_values_, _kelbow.k_scores_, 5, k_min)\n",
    "    _elbow_max.append(max_regression)"
   ],
   "id": "47eff370247d1646",
   "outputs": [],
   "execution_count": null
  },
  {
   "metadata": {},
   "cell_type": "code",
   "source": "np.median(np.asarray(_elbow_max))",
   "id": "5ccca5ef4e005f29",
   "outputs": [],
   "execution_count": null
  },
  {
   "metadata": {},
   "cell_type": "code",
   "source": "np.average(np.asarray(_elbow_max))",
   "id": "1e2d730d63f6088b",
   "outputs": [],
   "execution_count": null
  },
  {
   "metadata": {},
   "cell_type": "code",
   "source": "np.mean(np.asarray(_elbow_max))",
   "id": "32387c56f7e15bd6",
   "outputs": [],
   "execution_count": null
  },
  {
   "metadata": {},
   "cell_type": "code",
   "source": [
    "_clustering_cache = pathlib.Path(\"./tmp/grascco_lokal\")\n",
    "grascco_cluster = cluster_functions.PhraseClusterFactory.create(\n",
    "    sentence_embeddings=grascco_embedding,\n",
    "    cache_path=_clustering_cache,\n",
    "    cache_name=\"grascco_lokal\",\n",
    "    cluster_by_down_scale=False,\n",
    "    cluster_algorithm=\"kmeans\",\n",
    "    cluster_n_clusters=int(np.average(_elbow_max)),\n",
    "    scaling_n_neighbors=50,\n",
    "    scaling_metric='cosine',\n",
    "    scaling_n_components=100,\n",
    "    scaling_min_dist=0.0,\n",
    "    kelbow_estimator=None\n",
    ")"
   ],
   "id": "4688d6c0c16b222a",
   "outputs": [],
   "execution_count": null
  },
  {
   "metadata": {},
   "cell_type": "code",
   "source": "grascco_embedding.sentence_embeddings.shape",
   "id": "d3908cdd8f262edd",
   "outputs": [],
   "execution_count": null
  },
  {
   "metadata": {},
   "cell_type": "code",
   "source": [
    "list(embedding_functions.show_top_k_for_concepts(\n",
    "    grascco_cluster.concept_cluster,\n",
    "    grascco_embedding\n",
    "))"
   ],
   "id": "e746e56f5fa39177",
   "outputs": [],
   "execution_count": null
  },
  {
   "metadata": {
    "ExecuteTime": {
     "end_time": "2025-04-28T07:54:48.295916Z",
     "start_time": "2025-04-28T07:54:48.276851Z"
    }
   },
   "cell_type": "code",
   "source": [
    "grascco_graph = cluster_functions.WordEmbeddingClustering(\n",
    "    sentence_embedding_obj=grascco_embedding,\n",
    "    cluster_obj=grascco_cluster\n",
    ")"
   ],
   "id": "c44d721442933e1",
   "outputs": [],
   "execution_count": 6
  },
  {
   "metadata": {
    "ExecuteTime": {
     "end_time": "2025-04-28T07:54:50.202454Z",
     "start_time": "2025-04-28T07:54:50.189204Z"
    }
   },
   "cell_type": "code",
   "source": "graph_build_obj = grascco_graph.create_concept_graph_clustering()",
   "id": "777647b72ecdeedd",
   "outputs": [],
   "execution_count": 7
  },
  {
   "metadata": {
    "ExecuteTime": {
     "end_time": "2025-04-28T07:56:49.367696Z",
     "start_time": "2025-04-28T07:56:46.009395Z"
    }
   },
   "cell_type": "code",
   "source": [
    "graphs = graph_build_obj.build_concept_graphs(\n",
    "    graph_simplify_alg=\"significance\",\n",
    "    graph_unroll=False,\n",
    "    graph_merge_threshold=.9,\n",
    "    graph_weight_cut_off=.6,\n",
    "    restrict_to_cluster=True,\n",
    ")"
   ],
   "id": "2c87c557b1831d43",
   "outputs": [
    {
     "name": "stderr",
     "output_type": "stream",
     "text": [
      "INFO:root:Building Document Concept Matrix with following arguments:\n",
      "{'cluster_distance': 0.6, 'cluster_min_size': 1, 'cluster_exclusion_ids': None, 'graph_simplify': 0.5, 'graph_simplify_alg': 'significance', 'graph_unroll': False, 'graph_sub_clustering': False, 'connection_distance': 2, 'restrict_to_cluster': True, 'filter_min_df': 1, 'filter_max_df': 1.0, 'filter_stop': [], 'graph_cosine_weight': 0.5, 'graph_merge_threshold': None, 'graph_weight_cut_off': 0.6, 'self': <cluster_functions.WordEmbeddingClustering._ConceptGraphClustering object at 0x000001E27F10C100>}\n",
      "INFO:root:Building Concept Graphs... (exclusion_ids: [])\n",
      "\n",
      "\n",
      "\n",
      "  0%|          | 0/50 [00:00<?, ?it/s]\u001B[A\u001B[A\u001B[A\n",
      "\n",
      "\n",
      "  8%|▊         | 4/50 [00:00<00:02, 20.39it/s]\u001B[A\u001B[A\u001B[A\n",
      "\n",
      "\n",
      " 14%|█▍        | 7/50 [00:00<00:02, 19.00it/s]\u001B[A\u001B[A\u001B[A\n",
      "\n",
      "\n",
      " 22%|██▏       | 11/50 [00:00<00:01, 25.23it/s]\u001B[A\u001B[A\u001B[A\n",
      "\n",
      "\n",
      " 28%|██▊       | 14/50 [00:00<00:01, 23.07it/s]\u001B[A\u001B[A\u001B[A\n",
      "\n",
      "\n",
      " 36%|███▌      | 18/50 [00:00<00:01, 27.63it/s]\u001B[A\u001B[A\u001B[A\n",
      "\n",
      "\n",
      " 44%|████▍     | 22/50 [00:00<00:00, 31.04it/s]\u001B[A\u001B[A\u001B[A\n",
      "\n",
      "\n",
      " 52%|█████▏    | 26/50 [00:00<00:00, 27.64it/s]\u001B[A\u001B[A\u001B[A\n",
      "\n",
      "\n",
      " 64%|██████▍   | 32/50 [00:01<00:00, 28.39it/s]\u001B[A\u001B[A\u001B[A\n",
      "\n",
      "\n",
      " 74%|███████▍  | 37/50 [00:01<00:00, 32.83it/s]\u001B[A\u001B[A\u001B[A\n",
      "\n",
      "\n",
      " 82%|████████▏ | 41/50 [00:01<00:00, 30.65it/s]\u001B[A\u001B[A\u001B[A\n",
      "\n",
      "\n",
      " 90%|█████████ | 45/50 [00:01<00:00, 28.79it/s]\u001B[A\u001B[A\u001B[A\n",
      "\n",
      "\n",
      "100%|██████████| 50/50 [00:01<00:00, 28.59it/s]\u001B[A\u001B[A\u001B[A\n",
      "INFO:root:Cutting edges (significance)...\n",
      "\n",
      "\n",
      "\n",
      "  0%|          | 0/50 [00:00<?, ?it/s]\u001B[A\u001B[A\u001B[A\n",
      "\n",
      "\n",
      " 12%|█▏        | 6/50 [00:00<00:01, 25.40it/s]\u001B[A\u001B[A\u001B[AINFO:root:0 from total 1 will be removed. No point in doing.\n",
      "\n",
      "\n",
      "\n",
      " 20%|██        | 10/50 [00:00<00:01, 30.89it/s]\u001B[A\u001B[A\u001B[A\n",
      "\n",
      "\n",
      " 28%|██▊       | 14/50 [00:00<00:01, 31.63it/s]\u001B[A\u001B[A\u001B[A\n",
      "\n",
      "\n",
      " 40%|████      | 20/50 [00:00<00:00, 36.82it/s]\u001B[A\u001B[A\u001B[A\n",
      "\n",
      "\n",
      " 48%|████▊     | 24/50 [00:00<00:00, 35.67it/s]\u001B[A\u001B[A\u001B[AINFO:root:0 from total 1 will be removed. No point in doing.\n",
      "\n",
      "\n",
      "\n",
      " 56%|█████▌    | 28/50 [00:00<00:00, 31.58it/s]\u001B[A\u001B[A\u001B[A\n",
      "\n",
      "\n",
      " 64%|██████▍   | 32/50 [00:01<00:00, 27.67it/s]\u001B[A\u001B[A\u001B[A\n",
      "\n",
      "\n",
      " 76%|███████▌  | 38/50 [00:01<00:00, 32.84it/s]\u001B[A\u001B[A\u001B[A\n",
      "\n",
      "\n",
      " 98%|█████████▊| 49/50 [00:01<00:00, 30.91it/s]\u001B[A\u001B[A\u001B[A\n"
     ]
    }
   ],
   "execution_count": 12
  },
  {
   "metadata": {},
   "cell_type": "code",
   "source": [
    "with pathlib.Path(_clustering_cache / pathlib.Path(\"grascco_lokal_graph.pickle\")).open(\"wb\") as graphs_out:\n",
    "    pickle.dump(graphs, graphs_out)"
   ],
   "id": "ef4f8194934e4e34",
   "outputs": [],
   "execution_count": null
  },
  {
   "metadata": {},
   "cell_type": "code",
   "source": "graphs",
   "id": "31eec23f7653e00a",
   "outputs": [],
   "execution_count": null
  }
 ],
 "metadata": {
  "kernelspec": {
   "display_name": "Python 3",
   "language": "python",
   "name": "python3"
  },
  "language_info": {
   "codemirror_mode": {
    "name": "ipython",
    "version": 2
   },
   "file_extension": ".py",
   "mimetype": "text/x-python",
   "name": "python",
   "nbconvert_exporter": "python",
   "pygments_lexer": "ipython2",
   "version": "2.7.6"
  }
 },
 "nbformat": 4,
 "nbformat_minor": 5
}
