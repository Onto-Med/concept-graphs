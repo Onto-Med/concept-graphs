{
 "cells": [
  {
   "metadata": {},
   "cell_type": "code",
   "outputs": [],
   "execution_count": null,
   "source": [
    "import sys\n",
    "import pathlib\n",
    "import pickle\n",
    "import uuid\n",
    "from sklearn.cluster import MiniBatchKMeans, KMeans"
   ],
   "id": "97015c5714df2c82"
  },
  {
   "metadata": {},
   "cell_type": "code",
   "outputs": [],
   "execution_count": null,
   "source": [
    "sys.path.insert(0, \"src\")\n",
    "import data_functions\n",
    "import embedding_functions\n",
    "import cluster_functions\n",
    "import graph_functions\n",
    "import util_functions"
   ],
   "id": "2f4118bfdff5b796"
  },
  {
   "metadata": {},
   "cell_type": "code",
   "outputs": [],
   "execution_count": null,
   "source": "path_name = lambda x: f\"./tmp/grascco_lokal/grascco_lokal_{x}.pickle\"",
   "id": "55b38b3ae8b9d27f"
  },
  {
   "metadata": {},
   "cell_type": "code",
   "outputs": [],
   "execution_count": null,
   "source": [
    "grascco_data = data_functions.DataProcessingFactory.load(\n",
    "    pathlib.Path(path_name(\"data\"))\n",
    ")"
   ],
   "id": "325608ea25ee9b71"
  },
  {
   "metadata": {},
   "cell_type": "code",
   "outputs": [],
   "execution_count": null,
   "source": [
    "grascco_embedding = embedding_functions.SentenceEmbeddingsFactory.load(\n",
    "    pathlib.Path(path_name(\"data\")),\n",
    "    pathlib.Path(path_name(\"embedding\"))\n",
    ")"
   ],
   "id": "e0572b74f1bdd88e"
  },
  {
   "metadata": {},
   "cell_type": "code",
   "outputs": [],
   "execution_count": null,
   "source": [
    "grascco_cluster = cluster_functions.PhraseClusterFactory.load(\n",
    "    pathlib.Path(path_name(\"clustering\")),\n",
    ")"
   ],
   "id": "1981f5184f6712a9"
  },
  {
   "metadata": {},
   "cell_type": "code",
   "outputs": [],
   "execution_count": null,
   "source": [
    "#_clustering_cache = pathlib.Path(\"./tmp/test_grascco_cluster_cache.pickle\")\n",
    "# grascco_cluster = cluster_functions.PhraseClusterFactory.create(\n",
    "#     sentence_embeddings=grascco_embedding,\n",
    "#     cache_path=_clustering_cache,\n",
    "#     cache_name=\"grascco\",\n",
    "#     cluster_algorithm=\"kmeans\",\n",
    "#     # kelbow_metric=\"silhouette\",\n",
    "#     kelbow_k=(10,50),\n",
    "#     kelbow_estimator=\"kmeans-mb\",\n",
    "# )"
   ],
   "id": "87cf5ddc188f403c"
  },
  {
   "metadata": {},
   "cell_type": "markdown",
   "source": "---",
   "id": "6617a6f4ea3c05ae"
  },
  {
   "metadata": {},
   "cell_type": "code",
   "outputs": [],
   "execution_count": null,
   "source": [
    "import matplotlib.pyplot as plt\n",
    "import numpy as np\n",
    "from sklearn.preprocessing import MinMaxScaler, PolynomialFeatures\n",
    "from sklearn.utils.random import sample_without_replacement\n",
    "from sklearn.linear_model import LinearRegression\n",
    "from umap import UMAP\n",
    "from yellowbrick.cluster import kelbow_visualizer"
   ],
   "id": "43f9a4a828630bd0"
  },
  {
   "metadata": {},
   "cell_type": "code",
   "outputs": [],
   "execution_count": null,
   "source": [
    "def fit_regression(x_reg, y_reg, degree=3, k_min=2):\n",
    "    poly = PolynomialFeatures(degree=degree)\n",
    "    x_poly = poly.fit_transform(np.asarray(x_reg).reshape(-1,1))\n",
    "\n",
    "    model = LinearRegression()\n",
    "    model.fit(x_poly, np.asarray(y_reg))\n",
    "    \n",
    "    x_lin = np.linspace(np.asarray(x_reg).min(), np.asarray(x_reg).max(), 100)\n",
    "    x_out = poly.transform(x_lin.reshape(-1,1))\n",
    "    y_out = model.predict(x_out)\n",
    "    x_reg = list(range(k_min)) + x_reg\n",
    "    max_reg = np.asarray(x_reg)[np.argmax(y_out)]\n",
    "    \n",
    "    return x_lin, y_out, max_reg"
   ],
   "id": "53cf694a36a27e99"
  },
  {
   "metadata": {},
   "cell_type": "code",
   "outputs": [],
   "execution_count": null,
   "source": [
    "_umap_params = {'n_neighbors': 50, 'metric':'cosine', 'min_dist':0.0,}\n",
    "umap = UMAP(n_components=2, **_umap_params)\n",
    "projection_umap_vis = umap.fit_transform(grascco_embedding.sentence_embeddings)\n",
    "umap = UMAP(n_components=100, **_umap_params)\n",
    "projection_umap_calc = umap.fit_transform(grascco_embedding.sentence_embeddings)"
   ],
   "id": "ef094f99531915da"
  },
  {
   "metadata": {},
   "cell_type": "code",
   "outputs": [],
   "execution_count": null,
   "source": "projection_umap_calc",
   "id": "44cbe938f48bb234"
  },
  {
   "metadata": {},
   "cell_type": "code",
   "outputs": [],
   "execution_count": null,
   "source": [
    "n_samples = 15\n",
    "sample_fraction = 25\n",
    "samples = []\n",
    "for i in range(n_samples):\n",
    "    samples.append(sample_without_replacement(projection_umap_vis.shape[0], int(projection_umap_vis.shape[0]/sample_fraction)))\n",
    "mms = MinMaxScaler().fit(projection_umap_vis)"
   ],
   "id": "98334b1e74d98b26"
  },
  {
   "metadata": {},
   "cell_type": "code",
   "outputs": [],
   "execution_count": null,
   "source": [
    "i = 0\n",
    "_, axs = plt.subplots(3,5, sharex=True, sharey=True)\n",
    "for _c in np.random.rand(n_samples,3):\n",
    "    x = i%3\n",
    "    y = i%5\n",
    "    axs[x,y].scatter(*mms.transform(projection_umap_vis[samples[i]]).T, s=5, color=_c)\n",
    "    i += 1\n",
    "plt.show()"
   ],
   "id": "47344f139bc2d146"
  },
  {
   "metadata": {},
   "cell_type": "code",
   "outputs": [],
   "execution_count": null,
   "source": [
    "k_min = 2\n",
    "kelbow = []\n",
    "for _sample in samples:\n",
    "    _kelbow = kelbow_visualizer(\n",
    "        model=MiniBatchKMeans(n_init='auto'),\n",
    "        X=projection_umap_calc[_sample],\n",
    "        show=False,\n",
    "        k=(k_min,100),\n",
    "        metric='silhouette'\n",
    "    )\n",
    "    kelbow.append(_kelbow)\n"
   ],
   "id": "fe43be505ac89393"
  },
  {
   "metadata": {},
   "cell_type": "code",
   "outputs": [],
   "execution_count": null,
   "source": [
    "kelbow_val = kelbow[2]\n",
    "\n",
    "x_vals, y_regression, max_regression = fit_regression(kelbow_val.k_values_, kelbow_val.k_scores_, 5)\n",
    "plt.scatter(np.asarray(kelbow_val.k_values_).reshape(-1,1), np.asarray(kelbow_val.k_scores_), color='blue')\n",
    "plt.plot(x_vals, y_regression, color='red')\n",
    "plt.title(f\"Maximum: {max_regression}\")\n",
    "plt.show()"
   ],
   "id": "38ffd201f55b42fb"
  },
  {
   "metadata": {},
   "cell_type": "code",
   "outputs": [],
   "execution_count": null,
   "source": [
    "_elbow_max = []\n",
    "for _kelbow in kelbow:\n",
    "    x_vals, y_regression, max_regression = fit_regression(_kelbow.k_values_, _kelbow.k_scores_, 5, k_min)\n",
    "    _elbow_max.append(max_regression)"
   ],
   "id": "6da3f644f1b330b7"
  },
  {
   "metadata": {},
   "cell_type": "code",
   "outputs": [],
   "execution_count": null,
   "source": "np.median(np.asarray(_elbow_max))",
   "id": "19a93a24a5248145"
  },
  {
   "metadata": {},
   "cell_type": "code",
   "outputs": [],
   "execution_count": null,
   "source": "np.average(np.asarray(_elbow_max))",
   "id": "a5a2a95a47fcc671"
  },
  {
   "metadata": {},
   "cell_type": "code",
   "outputs": [],
   "execution_count": null,
   "source": "np.mean(np.asarray(_elbow_max))",
   "id": "5c38a300c3d301cc"
  },
  {
   "metadata": {},
   "cell_type": "code",
   "outputs": [],
   "execution_count": null,
   "source": [
    "_clustering_cache = pathlib.Path(\"./tmp/grascco_lokal\")\n",
    "grascco_cluster = cluster_functions.PhraseClusterFactory.create(\n",
    "    sentence_embeddings=grascco_embedding,\n",
    "    cache_path=_clustering_cache,\n",
    "    cache_name=\"grascco_lokal\",\n",
    "    cluster_by_down_scale=False,\n",
    "    cluster_algorithm=\"kmeans\",\n",
    "    cluster_n_clusters=int(np.average(_elbow_max)),\n",
    "    scaling_n_neighbors=50,\n",
    "    scaling_metric='cosine',\n",
    "    scaling_n_components=100,\n",
    "    scaling_min_dist=0.0,\n",
    "    kelbow_estimator=None\n",
    ")"
   ],
   "id": "5340af618fa9da6d"
  },
  {
   "metadata": {},
   "cell_type": "code",
   "outputs": [],
   "execution_count": null,
   "source": "grascco_embedding.sentence_embeddings.shape",
   "id": "e0baf2c9316d0ae5"
  },
  {
   "metadata": {},
   "cell_type": "code",
   "outputs": [],
   "execution_count": null,
   "source": [
    "list(embedding_functions.show_top_k_for_concepts(\n",
    "    grascco_cluster.concept_cluster,\n",
    "    grascco_embedding\n",
    "))"
   ],
   "id": "c356ea550f254c35"
  },
  {
   "metadata": {},
   "cell_type": "code",
   "outputs": [],
   "execution_count": null,
   "source": [
    "grascco_graph = cluster_functions.WordEmbeddingClustering(\n",
    "    sentence_embedding_obj=grascco_embedding,\n",
    "    cluster_obj=grascco_cluster\n",
    ")"
   ],
   "id": "a85fd63a733a5d61"
  },
  {
   "metadata": {},
   "cell_type": "code",
   "outputs": [],
   "execution_count": null,
   "source": "graph_build_obj = grascco_graph.create_concept_graph_clustering()",
   "id": "610a0361a00befe8"
  },
  {
   "metadata": {},
   "cell_type": "code",
   "outputs": [],
   "execution_count": null,
   "source": [
    "graphs = graph_build_obj.build_concept_graphs(\n",
    "    graph_simplify_alg=\"significance\",\n",
    "    graph_unroll=False,\n",
    "    graph_merge_threshold=.9,\n",
    "    graph_weight_cut_off=.6,\n",
    "    restrict_to_cluster=True,\n",
    ")"
   ],
   "id": "3a07eca22ba5237a"
  },
  {
   "metadata": {},
   "cell_type": "code",
   "outputs": [],
   "execution_count": null,
   "source": [
    "with pathlib.Path(_clustering_cache / pathlib.Path(\"grascco_lokal_graph.pickle\")).open(\"wb\") as graphs_out:\n",
    "    pickle.dump(graphs, graphs_out)"
   ],
   "id": "a2efa8312b199c14"
  },
  {
   "metadata": {},
   "cell_type": "code",
   "outputs": [],
   "execution_count": null,
   "source": "graphs",
   "id": "2337cd62f2d67c85"
  },
  {
   "metadata": {},
   "cell_type": "code",
   "outputs": [],
   "execution_count": null,
   "source": [
    "delim = ','\n",
    "header = [\"id\", \"source\", \"title\", \"abstract\", \"tags\"]\n",
    "with open('./grascco_dump.csv', 'w', encoding='utf-8') as out:\n",
    "    out.write(\",\".join(header) + \"\\n\")\n",
    "    for doc in grascco_data.processed_docs:\n",
    "        out.write(\",\".join(\n",
    "            [\n",
    "                str(uuid.uuid4()),\n",
    "                str(doc._.doc_id),\n",
    "                \"\",\n",
    "                str(doc),\n",
    "                str(doc._.doc_name)\n",
    "            ]\n",
    "        ) + \"\\n\")"
   ],
   "id": "be04efd477f58e13"
  }
 ],
 "metadata": {
  "kernelspec": {
   "display_name": "Python 3",
   "language": "python",
   "name": "python3"
  },
  "language_info": {
   "codemirror_mode": {
    "name": "ipython",
    "version": 2
   },
   "file_extension": ".py",
   "mimetype": "text/x-python",
   "name": "python",
   "nbconvert_exporter": "python",
   "pygments_lexer": "ipython2",
   "version": "2.7.6"
  }
 },
 "nbformat": 4,
 "nbformat_minor": 5
}
